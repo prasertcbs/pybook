{
 "cells": [
  {
   "cell_type": "markdown",
   "metadata": {},
   "source": [
    "# บทที่ 7. การวนซ้ำแบบลูป `while`\n",
    "- ตำรา: Python: ใคร ๆ ก็เขียนโปรแกรมได้\n",
    "- ผู้แต่ง: รศ.ดร. ประเสริฐ คณาวัฒนไชย"
   ]
  },
  {
   "cell_type": "markdown",
   "metadata": {},
   "source": [
    "## การใช้ลูป `while` เบื้องต้น\n"
   ]
  },
  {
   "cell_type": "code",
   "execution_count": 1,
   "metadata": {},
   "outputs": [
    {
     "name": "stdout",
     "output_type": "stream",
     "text": [
      "รอบที่ 1\n",
      "รอบที่ 2\n",
      "รอบที่ 3\n",
      "รอบที่ 4\n",
      "รอบที่ 5\n",
      "bye...\n"
     ]
    }
   ],
   "source": [
    "count = 1\n",
    "while count <= 5:\n",
    "    print(\"รอบที่\", count)\n",
    "    count += 1\n",
    "print(\"bye...\")\n"
   ]
  },
  {
   "cell_type": "markdown",
   "metadata": {},
   "source": [
    "## การนับถอยหลังทุก ๆ 1 วินาทีด้วยลูป `while`\n"
   ]
  },
  {
   "cell_type": "code",
   "execution_count": 2,
   "metadata": {},
   "outputs": [
    {
     "name": "stdout",
     "output_type": "stream",
     "text": [
      "5\n",
      "4\n",
      "3\n",
      "2\n",
      "1\n",
      "0\n",
      "take off\n"
     ]
    }
   ],
   "source": [
    "import time\n",
    "\n",
    "n = 5\n",
    "while n >= 0:\n",
    "    print(n)\n",
    "    n = n - 1\n",
    "    time.sleep(1) # รอ 1 วินาที\n",
    "print(\"take off\")    "
   ]
  },
  {
   "cell_type": "markdown",
   "metadata": {},
   "source": [
    "## การคำนวณหามูลค่าในอนาคตของเงินออม\n"
   ]
  },
  {
   "cell_type": "code",
   "execution_count": 3,
   "metadata": {},
   "outputs": [
    {
     "name": "stdout",
     "output_type": "stream",
     "text": [
      "เงินฝากจะมีค่า = 10,300.00 หลังจากออมไปได้ 1 ปี\n",
      "เงินฝากจะมีค่า = 10,609.00 หลังจากออมไปได้ 2 ปี\n",
      "เงินฝากจะมีค่า = 10,927.27 หลังจากออมไปได้ 3 ปี\n",
      "เงินฝากจะมีค่า = 11,255.09 หลังจากออมไปได้ 4 ปี\n",
      "เงินฝากจะมีค่า = 11,592.74 หลังจากออมไปได้ 5 ปี\n",
      "เงินฝากจะมีค่า = 11,940.52 หลังจากออมไปได้ 6 ปี\n",
      "เงินฝากจะมีค่า = 12,298.74 หลังจากออมไปได้ 7 ปี\n",
      "เงินฝากจะมีค่า = 12,667.70 หลังจากออมไปได้ 8 ปี\n",
      "เงินฝากจะมีค่า = 13,047.73 หลังจากออมไปได้ 9 ปี\n",
      "เงินฝากจะมีค่า = 13,439.16 หลังจากออมไปได้ 10 ปี\n",
      "เงินฝากจะมีค่า = 13,842.34 หลังจากออมไปได้ 11 ปี\n",
      "เงินฝากจะมีค่า = 14,257.61 หลังจากออมไปได้ 12 ปี\n",
      "เงินฝากจะมีค่า = 14,685.34 หลังจากออมไปได้ 13 ปี\n",
      "เงินฝากจะมีค่า = 15,125.90 หลังจากออมไปได้ 14 ปี\n",
      "ดังนั้นต้องใช้เวลา 14 ปี เพื่อให้ได้เงินตามเป้าหมายที่วางไว้\n"
     ]
    }
   ],
   "source": [
    "principal = 10000  # จำนวนเงินฝากเริ่มต้น\n",
    "interest_rate = .03  # อัตราดอกเบี้ยเงินฝากต่อปี\n",
    "target = 15000  # จำนวนเงินเป้าหมาย\n",
    "years = 0  # กำหนดค่าเริ่มต้นของจำนวนปีเป็น 0\n",
    "total_amount = principal  # กำหนดจำนวนเงินทั้งหมดเท่ากับจำนวนเงินฝากเริ่มต้น\n",
    "while total_amount < target:  # เข้าสู่ลูป while ในขณะที่จำนวนเงินทั้งหมดยังน้อยกว่าเป้าหมาย\n",
    "    interest = total_amount * interest_rate  # คำนวณเงินดอกเบี้ยที่ได้รับ\n",
    "    total_amount += interest  # เพิ่มจำนวนเงินดอกเบี้ยเข้าไปในจำนวนเงินทั้งหมด\n",
    "    years += 1  # เพิ่มจำนวนปีที่ใช้ไป 1 ปี\n",
    "    print(f\"เงินฝากจะมีค่า = {total_amount:,.2f} หลังจากออมไปได้ {years} ปี\")\n",
    "\n",
    "# แสดงผลลัพธ์ทางหน้าจอว่าจะใช้เวลากี่ปีในการทำซ้ำเพื่อให้ได้เงินครบตามเป้าหมาย\n",
    "print(f\"ดังนั้นต้องใช้เวลา {years} ปี เพื่อให้ได้เงินตามเป้าหมายที่วางไว้\")\n"
   ]
  },
  {
   "cell_type": "markdown",
   "metadata": {},
   "source": [
    "## การคำนวณหาค่าน้ำมันรถ ณ ระดับราคาน้ำมันต่าง ๆ\n"
   ]
  },
  {
   "cell_type": "code",
   "execution_count": 4,
   "metadata": {},
   "outputs": [
    {
     "name": "stdout",
     "output_type": "stream",
     "text": [
      "สมมติให้ความจุถังน้ำมันอยู่ที่ 50 ลิตร\n",
      "ราคาเบนซีนต่อลิตร = 40.00 บาท, เติมเต็มถัง = 2,000 บาท\n",
      "ราคาเบนซีนต่อลิตร = 40.50 บาท, เติมเต็มถัง = 2,025 บาท\n",
      "ราคาเบนซีนต่อลิตร = 41.00 บาท, เติมเต็มถัง = 2,050 บาท\n",
      "ราคาเบนซีนต่อลิตร = 41.50 บาท, เติมเต็มถัง = 2,075 บาท\n",
      "ราคาเบนซีนต่อลิตร = 42.00 บาท, เติมเต็มถัง = 2,100 บาท\n",
      "ราคาเบนซีนต่อลิตร = 42.50 บาท, เติมเต็มถัง = 2,125 บาท\n",
      "ราคาเบนซีนต่อลิตร = 43.00 บาท, เติมเต็มถัง = 2,150 บาท\n",
      "ราคาเบนซีนต่อลิตร = 43.50 บาท, เติมเต็มถัง = 2,175 บาท\n",
      "ราคาเบนซีนต่อลิตร = 44.00 บาท, เติมเต็มถัง = 2,200 บาท\n",
      "ราคาเบนซีนต่อลิตร = 44.50 บาท, เติมเต็มถัง = 2,225 บาท\n",
      "ราคาเบนซีนต่อลิตร = 45.00 บาท, เติมเต็มถัง = 2,250 บาท\n"
     ]
    }
   ],
   "source": [
    "tank_capacity = 50 # ความจุถังน้ำมันอยู่ที่ 50 ลิตร\n",
    "benzene_per_litre = 40\n",
    "amount = 0\n",
    "\n",
    "print(f\"สมมติให้ความจุถังน้ำมันอยู่ที่ {tank_capacity} ลิตร\")\n",
    "while benzene_per_litre <= 45:\n",
    "    amount = tank_capacity * benzene_per_litre\n",
    "    print(f\"ราคาเบนซีนต่อลิตร = {benzene_per_litre:.2f} บาท, เติมเต็มถัง = {amount:,.0f} บาท\")\n",
    "    benzene_per_litre += .5"
   ]
  },
  {
   "cell_type": "code",
   "execution_count": 5,
   "metadata": {},
   "outputs": [],
   "source": [
    "# แบบฝึกหัด\n"
   ]
  },
  {
   "cell_type": "markdown",
   "metadata": {},
   "source": [
    "1. เขียนลูป `while` เพื่อคำนวณหาค่าดัชนีมวลกาย โดยให้ผู้ใช้กำหนดค่าตัวแปรดังนี้\n",
    "```\n",
    "height = 1.7 # ส่วนสูง (เมตร)\n",
    "start_weight = 68 # น้ำหนัก (กก.) เริ่มต้น\n",
    "end_weight = 72 # น้ำหนัก (กก.) สิ้นสุด\n",
    "```\n",
    "ให้คำนวณหาค่าดัชนีมวลกายโดยให้เปลี่ยนค่าน้ำหนักเพิ่มขึ้นจากน้ำหนักเริ่มต้น (`start_weight`) ทีละ 0.5 กก.\n"
   ]
  },
  {
   "cell_type": "code",
   "execution_count": 6,
   "metadata": {},
   "outputs": [
    {
     "name": "stdout",
     "output_type": "stream",
     "text": [
      "height = 1.7 m., weight = 68.0 kg., bmi = 23.53\n",
      "height = 1.7 m., weight = 68.5 kg., bmi = 23.70\n",
      "height = 1.7 m., weight = 69.0 kg., bmi = 23.88\n",
      "height = 1.7 m., weight = 69.5 kg., bmi = 24.05\n",
      "height = 1.7 m., weight = 70.0 kg., bmi = 24.22\n",
      "height = 1.7 m., weight = 70.5 kg., bmi = 24.39\n",
      "height = 1.7 m., weight = 71.0 kg., bmi = 24.57\n",
      "height = 1.7 m., weight = 71.5 kg., bmi = 24.74\n",
      "height = 1.7 m., weight = 72.0 kg., bmi = 24.91\n"
     ]
    }
   ],
   "source": [
    "height = 1.7\n",
    "start_weight = 68\n",
    "end_weight = 72\n",
    "weight = start_weight\n",
    "while start_weight <= weight <= end_weight:\n",
    "    bmi = weight / (height ** 2)\n",
    "    print(f\"height = {height} m., weight = {weight:.1f} kg., bmi = {bmi:.2f}\")\n",
    "    weight += .5\n"
   ]
  },
  {
   "cell_type": "markdown",
   "metadata": {},
   "source": [
    "2. หาตัวเลข 4 หลักที่ผลรวมของแต่ละหลักเท่ากับ 9 โดยให้แสดงเพียง 5 ตัวแรกที่เข้าเกณฑ์ที่กำหนด\n"
   ]
  },
  {
   "cell_type": "code",
   "execution_count": 7,
   "metadata": {},
   "outputs": [
    {
     "name": "stdout",
     "output_type": "stream",
     "text": [
      "1008 1017 1026 1035 1044 "
     ]
    }
   ],
   "source": [
    "count = 0\n",
    "number = 1000\n",
    "\n",
    "while (count < 5) and (number <= 9999):\n",
    "    thousands = number // 1000\n",
    "    hundreds = (number // 100) % 10\n",
    "    tens = (number // 10) % 10\n",
    "    ones = number % 10\n",
    "\n",
    "    if thousands + hundreds + tens + ones == 9:\n",
    "        count += 1\n",
    "        print(number, end = ' ')\n",
    "\n",
    "    number += 1\n"
   ]
  },
  {
   "cell_type": "markdown",
   "metadata": {},
   "source": [
    "3. ให้เขียนโปรแกรมเพื่อคำนวณค่าเฉลี่ยของตัวเลขที่ผู้ใช้ป้อนเข้ามา โดยรับตัวเลขจำนวนเต็มจากผู้ใช้ จนกว่าผู้ใช้จะป้อนค่า 0 และแสดงผลลัพธ์ออกทางหน้าจอ\n"
   ]
  },
  {
   "cell_type": "code",
   "execution_count": 8,
   "metadata": {},
   "outputs": [
    {
     "name": "stdout",
     "output_type": "stream",
     "text": [
      "ค่าเฉลี่ยของตัวเลขที่ป้อนคือ: 5.0\n"
     ]
    }
   ],
   "source": [
    "total = 0\n",
    "count = 0\n",
    "while True:\n",
    "    number = int(input(\"ป้อนตัวเลข (ป้อน 0 เพื่อหยุด): \"))\n",
    "    if number == 0:\n",
    "        break\n",
    "    total += number\n",
    "    count += 1\n",
    "average = total / count\n",
    "print(\"ค่าเฉลี่ยของตัวเลขที่ป้อนคือ:\", average)\n"
   ]
  },
  {
   "cell_type": "markdown",
   "metadata": {},
   "source": [
    "4. จาก Flowchart ที่ให้มา ให้เขียนโค้ดเพื่อหาตัวเลขจำนวนเต็ม 5 ตัวแรกที่หารด้วย 3 ลงตัว\n",
    "```{mermaid}\n",
    "%%{\n",
    "  init: {\n",
    "    \"theme\": \"base\",\n",
    "    \"themeVariables\": {\n",
    "      \"primaryColor\": \"#C2D9EC\",\n",
    "      \"primaryTextColor\": \"#0D1C29\",\n",
    "      \"primaryBorderColor\": \"#265176\",\n",
    "      \"lineColor\": \"#ffd343\",\n",
    "      \"secondaryColor\": \"#eeeeee\",\n",
    "      \"tertiaryColor\": \"#fff\"\n",
    "    }\n",
    "  }\n",
    "}%%\n",
    "graph TD\n",
    "    A([Start])\n",
    "    Y[count = 0]\n",
    "    Z[n = 1]\n",
    "    B{\"count #60; 5\"}\n",
    "    C{n % 3 == 0}\n",
    "    D[/\"print n\"/]\n",
    "    E[count = count + 1]\n",
    "    F[n = n + 1]\n",
    "    G[/\"print bye...\"/]\n",
    "    A --> Y\n",
    "    Y --> Z\n",
    "    Z --> B\n",
    "    B -- Yes --> C\n",
    "    B -- No --> G\n",
    "    C -- Yes --> D\n",
    "    C -- No --> F\n",
    "    D --> E\n",
    "    E --> B\n",
    "    F --> B\n",
    "    G --> H([End])\n",
    "```\n"
   ]
  },
  {
   "cell_type": "code",
   "execution_count": 9,
   "metadata": {},
   "outputs": [
    {
     "name": "stdout",
     "output_type": "stream",
     "text": [
      "3 6 9 12 15 bye...\n"
     ]
    }
   ],
   "source": [
    "count = 0\n",
    "n = 1\n",
    "while count < 5:\n",
    "    if n % 3 == 0:\n",
    "        print(n, end = ' ')\n",
    "        count += 1\n",
    "    n += 1\n",
    "print(\"bye...\")\n"
   ]
  },
  {
   "cell_type": "markdown",
   "metadata": {},
   "source": [
    "5. เขียนโปรแกรมเพื่อวางแผนเงินเกษียณ โดยให้มีตัวแปรดังนี้\n",
    "```python\n",
    "current_savings = 200000  # จำนวนเงินออมเริ่มต้น\n",
    "monthly_salary = 40000 # เงินเดือนต่อเดือน\n",
    "savings_rate = .25 # อัตราการออมเงินต่อเดือน\n",
    "interest_rate = .03 / 12 # อัตราดอกเบี้ยเงินฝากต่อเดือน\n",
    "retirement_goal = 1000000  # เป้าหมายเงินออมที่ต้องมีหลังเกษียณ\n",
    "```\n",
    "ให้ใช้ลูป `while` เพื่อทำงานจนกว่าจะเงินออมมีมูลค่าเท่ากับหรือมากกว่าเป้าหมายการเกษียณงานเงินที่กำหนดเอาไว้ โดยในแต่ละรอบของลูป `while` ให้เพิ่มจำนวนเงินออมโดยคูณเงินเดือนต่อเดือนด้วยอัตราการออมเงิน และเพิ่มจำนวนเดือนที่ใช้ในการเติบโตของเงินออม เมื่อเงินออมเก็บมีมูลค่าเท่ากับหรือมากกว่าเป้าหมายการเกษียณงานเงินที่กำหนดแล้ว ให้ลูป `while` หยุดทำงานและแสดงผลลัพธ์เกี่ยวกับจำนวนเดือนที่ใช้เพื่อให้ได้เงินตามเป้าหมายที่ต้องการใช้หลังเกษียณ และจำนวนเงินออม\n"
   ]
  },
  {
   "cell_type": "code",
   "execution_count": 10,
   "metadata": {},
   "outputs": [
    {
     "name": "stdout",
     "output_type": "stream",
     "text": [
      "คุณจะมีเงินออมตามเป้าหมายได้ในระยะเวลา 70 เดือน\n",
      "เมื่อครบ 5 ปี 10 เดือน คุณจะมีเงินออมทั้งสิ้น 1,004,051.45 บาท\n"
     ]
    }
   ],
   "source": [
    "current_savings = 200000  # จำนวนเงินออมเริ่มต้น\n",
    "monthly_salary = 40000 # เงินเดือนต่อเดือน\n",
    "savings_rate = .25 # อัตราการออมเงินต่อเดือน\n",
    "interest_rate = .03 / 12 # อัตราดอกเบี้ยเงินฝากต่อเดือน\n",
    "retirement_goal = 1000000  # เป้าหมายเงินออมที่ต้องมีหลังเกษียณ\n",
    "\n",
    "months = 0  # จำนวนเดือนที่ใช้ในการเติบโตของเงินออม\n",
    "\n",
    "while current_savings < retirement_goal:\n",
    "    current_savings = (current_savings + (monthly_salary * savings_rate)) * (1 + interest_rate)\n",
    "    months += 1\n",
    "\n",
    "n_years = months // 12\n",
    "n_months = months % 12\n",
    "print(f\"คุณจะมีเงินออมตามเป้าหมายได้ในระยะเวลา {months} เดือน\")\n",
    "print(f\"เมื่อครบ {n_years} ปี {n_months} เดือน คุณจะมีเงินออมทั้งสิ้น {current_savings:,.2f} บาท\")\n"
   ]
  },
  {
   "cell_type": "markdown",
   "metadata": {},
   "source": [
    "6. เขียนโปรแกรมจำลองการทำงานของรีโมทควบคุมเครื่องปรับอากาศ\n",
    "\n",
    "- กด [U] เพื่อเพิ่มอุณหภูมิขึ้นอีก 0.5 องศา\n",
    "- กด [D] เพื่อลดอุณหภูมิลงอีก 0.5 องศา\n",
    "- กด [Q] เพื่อออกจากโปรแกรม\n",
    "\n",
    "พร้อมแสดงอุณหภูมิ โดยสมมติให้อุณหภูมิเริ่มต้นอยู่ที่ 25 องศา\n"
   ]
  },
  {
   "cell_type": "code",
   "execution_count": 11,
   "metadata": {},
   "outputs": [
    {
     "name": "stdout",
     "output_type": "stream",
     "text": [
      "Current temperature: 25.0\n",
      "กด [U] เพื่อเพิ่มอุณหภูมิขึ้นอีก 0.5 องศา\n",
      "กด [D] เพื่อลดอุณหภูมิลงอีก 0.5 องศา\n",
      "กด [Q] เพื่อออกจากโปรแกรม\n",
      "\n",
      "Current temperature: 25.5\n",
      "กด [U] เพื่อเพิ่มอุณหภูมิขึ้นอีก 0.5 องศา\n",
      "กด [D] เพื่อลดอุณหภูมิลงอีก 0.5 องศา\n",
      "กด [Q] เพื่อออกจากโปรแกรม\n",
      "\n",
      "Current temperature: 26.0\n",
      "กด [U] เพื่อเพิ่มอุณหภูมิขึ้นอีก 0.5 องศา\n",
      "กด [D] เพื่อลดอุณหภูมิลงอีก 0.5 องศา\n",
      "กด [Q] เพื่อออกจากโปรแกรม\n",
      "\n",
      "Current temperature: 25.5\n",
      "กด [U] เพื่อเพิ่มอุณหภูมิขึ้นอีก 0.5 องศา\n",
      "กด [D] เพื่อลดอุณหภูมิลงอีก 0.5 องศา\n",
      "กด [Q] เพื่อออกจากโปรแกรม\n",
      "\n",
      "Current temperature: 26.0\n",
      "กด [U] เพื่อเพิ่มอุณหภูมิขึ้นอีก 0.5 องศา\n",
      "กด [D] เพื่อลดอุณหภูมิลงอีก 0.5 องศา\n",
      "กด [Q] เพื่อออกจากโปรแกรม\n",
      "\n",
      "Current temperature: 25.5\n",
      "กด [U] เพื่อเพิ่มอุณหภูมิขึ้นอีก 0.5 องศา\n",
      "กด [D] เพื่อลดอุณหภูมิลงอีก 0.5 องศา\n",
      "กด [Q] เพื่อออกจากโปรแกรม\n",
      "\n",
      "Current temperature: 25.0\n",
      "กด [U] เพื่อเพิ่มอุณหภูมิขึ้นอีก 0.5 องศา\n",
      "กด [D] เพื่อลดอุณหภูมิลงอีก 0.5 องศา\n",
      "กด [Q] เพื่อออกจากโปรแกรม\n",
      "ออกจากโปรแกรม\n"
     ]
    }
   ],
   "source": [
    "current_temperature = 25.0  # อุณหภูมิเริ่มต้น\n",
    "\n",
    "while True:\n",
    "    print(\"Current temperature:\", current_temperature)\n",
    "    print(\"กด [U] เพื่อเพิ่มอุณหภูมิขึ้นอีก 0.5 องศา\")\n",
    "    print(\"กด [D] เพื่อลดอุณหภูมิลงอีก 0.5 องศา\")\n",
    "    print(\"กด [Q] เพื่อออกจากโปรแกรม\")\n",
    "    \n",
    "    option = input(\"เลือกคำสั่ง: \").upper()\n",
    "    \n",
    "    if option == 'U':\n",
    "        current_temperature += .5\n",
    "    elif option == 'D':\n",
    "        current_temperature -= .5\n",
    "    elif option == 'Q':\n",
    "        print(\"ออกจากโปรแกรม\")\n",
    "        break\n",
    "    else:\n",
    "        print(\"ไม่พบคำสั่ง\")\n",
    "    print()"
   ]
  }
 ],
 "metadata": {
  "kernelspec": {
   "display_name": "base",
   "language": "python",
   "name": "python3"
  },
  "language_info": {
   "codemirror_mode": {
    "name": "ipython",
    "version": 3
   },
   "file_extension": ".py",
   "mimetype": "text/x-python",
   "name": "python",
   "nbconvert_exporter": "python",
   "pygments_lexer": "ipython3",
   "version": "3.11.4"
  },
  "orig_nbformat": 4
 },
 "nbformat": 4,
 "nbformat_minor": 2
}
