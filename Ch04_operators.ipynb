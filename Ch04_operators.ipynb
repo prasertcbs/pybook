{
 "cells": [
  {
   "cell_type": "markdown",
   "metadata": {},
   "source": [
    "# บทที่ 4. ตัวดำเนินการ (operator)\n",
    "- ตำรา: Python: ใคร ๆ ก็เขียนโปรแกรมได้\n",
    "- ผู้แต่ง: รศ.ดร. ประเสริฐ คณาวัฒนไชย"
   ]
  },
  {
   "cell_type": "markdown",
   "metadata": {},
   "source": [
    "## การแปลงอุณหภูมิจากองศาฟาเรนไฮต์ให้เป็นเซลเซียส\n"
   ]
  },
  {
   "cell_type": "code",
   "execution_count": 23,
   "metadata": {},
   "outputs": [
    {
     "name": "stdout",
     "output_type": "stream",
     "text": [
      "30.0\n"
     ]
    }
   ],
   "source": [
    "f = 86\n",
    "c = ((f - 32) * 5) / 9\n",
    "print(c)"
   ]
  },
  {
   "cell_type": "markdown",
   "metadata": {},
   "source": [
    "## การใช้ตัวดำเนินการทางคณิตศาสตร์เพื่อหารายได้รวม\n"
   ]
  },
  {
   "cell_type": "code",
   "execution_count": 24,
   "metadata": {},
   "outputs": [
    {
     "name": "stdout",
     "output_type": "stream",
     "text": [
      "ราคารวมทั้งหมดคือ 5000 บาท\n"
     ]
    }
   ],
   "source": [
    "product_price = 1000  # ราคาสินค้า\n",
    "quantity = 5  # จำนวนสินค้า\n",
    "total_cost = product_price * quantity  # คำนวณราคารวม (ราคาสินค้า * จำนวนสินค้า)\n",
    "print(\"ราคารวมทั้งหมดคือ\", total_cost, \"บาท\")\n"
   ]
  },
  {
   "cell_type": "markdown",
   "metadata": {},
   "source": [
    "## การคำนวณอัตราการเผาผลาญพลังงาน (Basal Metabolic Rate: BMR)\n"
   ]
  },
  {
   "cell_type": "code",
   "execution_count": 25,
   "metadata": {},
   "outputs": [
    {
     "name": "stdout",
     "output_type": "stream",
     "text": [
      "male BMR   =  1193.6\n",
      "female BMR =  1182.4\n"
     ]
    }
   ],
   "source": [
    "weight_kg = 48\n",
    "height_cm = 162\n",
    "age_year = 50\n",
    "\n",
    "bmr_male = 66 + (13.7 * weight_kg) + (5 * height_cm) - (6.8 * age_year)\n",
    "bmr_female = 665 + (9.6 * weight_kg) + (1.8 * height_cm) - (4.7 * age_year)\n",
    "\n",
    "print(\"male BMR   = \", bmr_male)\n",
    "print(\"female BMR = \", bmr_female)\n"
   ]
  },
  {
   "cell_type": "markdown",
   "metadata": {},
   "source": [
    "## การใช้ตัวดำเนินการหารเอาส่วน `//`\n"
   ]
  },
  {
   "cell_type": "code",
   "execution_count": 26,
   "metadata": {},
   "outputs": [
    {
     "name": "stdout",
     "output_type": "stream",
     "text": [
      "52 hours =  2 day(s) and 4 hour(s)\n"
     ]
    }
   ],
   "source": [
    "total_hours = 52\n",
    "days = total_hours // 24\n",
    "hours = 52 - (days * 24)\n",
    "print(total_hours, \"hours = \", days, \"day(s) and\", hours, \"hour(s)\")\n"
   ]
  },
  {
   "cell_type": "markdown",
   "metadata": {},
   "source": [
    "## การใช้ตัวดำเนินการหารเอาเศษ (`%`) เพื่อหาปีอธิกสุรทิน\n"
   ]
  },
  {
   "cell_type": "code",
   "execution_count": 27,
   "metadata": {},
   "outputs": [
    {
     "name": "stdout",
     "output_type": "stream",
     "text": [
      "2024 True\n"
     ]
    }
   ],
   "source": [
    "year = 2024\n",
    "is_leap_year = (year % 4 == 0)\n",
    "print(year, is_leap_year)\n"
   ]
  },
  {
   "cell_type": "markdown",
   "metadata": {},
   "source": [
    "## การใช้ตัวดำเนินการเท่ากัน `==` เพื่อเปรียบเทียบค่า\n"
   ]
  },
  {
   "cell_type": "code",
   "execution_count": 28,
   "metadata": {},
   "outputs": [
    {
     "name": "stdout",
     "output_type": "stream",
     "text": [
      "ชำระเงินถูกต้อง\n"
     ]
    }
   ],
   "source": [
    "amount_due = 100\n",
    "customer_payment = 100\n",
    "if customer_payment == amount_due:\n",
    "    print(\"ชำระเงินถูกต้อง\")\n",
    "else:\n",
    "    print(\"ชำระเงินไม่ถูกต้อง\")\n"
   ]
  },
  {
   "cell_type": "markdown",
   "metadata": {},
   "source": [
    "## การใช้ตัวดำเนินการมากกว่า `>` เพื่อเปรียบเทียบค่า\n"
   ]
  },
  {
   "cell_type": "code",
   "execution_count": 29,
   "metadata": {},
   "outputs": [
    {
     "name": "stdout",
     "output_type": "stream",
     "text": [
      "ร้านเต็มแล้ว\n"
     ]
    }
   ],
   "source": [
    "guest_count = 23\n",
    "capacity_limit = 20\n",
    "if guest_count > capacity_limit:\n",
    "    print(\"ร้านเต็มแล้ว\")\n",
    "else:\n",
    "    print(\"ยังมีที่ว่างในร้าน\")\n"
   ]
  },
  {
   "cell_type": "markdown",
   "metadata": {},
   "source": [
    "## การใช้ตัวดำเนินการน้อยกว่าเท่ากับ `<=` เพื่อเปรียบเทียบค่า\n"
   ]
  },
  {
   "cell_type": "code",
   "execution_count": 30,
   "metadata": {},
   "outputs": [
    {
     "name": "stdout",
     "output_type": "stream",
     "text": [
      "มีสินค้าเพียงพอ\n"
     ]
    }
   ],
   "source": [
    "order_quantity = 3\n",
    "stock_quantity = 5\n",
    "if order_quantity <= stock_quantity:\n",
    "    print(\"มีสินค้าเพียงพอ\")\n",
    "else:\n",
    "    print(\"สินค้าไม่เพียงพอ\")\n"
   ]
  },
  {
   "cell_type": "markdown",
   "metadata": {},
   "source": [
    "## การใช้ตัวดำเนินการไม่เท่ากับ (`!=`)\n"
   ]
  },
  {
   "cell_type": "code",
   "execution_count": 31,
   "metadata": {},
   "outputs": [
    {
     "name": "stdout",
     "output_type": "stream",
     "text": [
      "อายุไม่ถูกต้อง\n"
     ]
    }
   ],
   "source": [
    "customer_age = 18\n",
    "if customer_age != 20:\n",
    "    print(\"อายุไม่ถูกต้อง\")\n",
    "else:\n",
    "    print(\"อายุถูกต้อง\")\n"
   ]
  },
  {
   "cell_type": "markdown",
   "metadata": {},
   "source": [
    "## การใช้ตัวดำเนินการทางเปรียบเทียบโดยเก็บผลลัพธ์ไว้ในตัวแปร\n"
   ]
  },
  {
   "cell_type": "code",
   "execution_count": 32,
   "metadata": {},
   "outputs": [
    {
     "name": "stdout",
     "output_type": "stream",
     "text": [
      "ยังไม่บรรลุเป้าหมายการขาย\n",
      "ทำได้ต่ำกว่าเป้า -2000\n"
     ]
    }
   ],
   "source": [
    "current_sales = 10000  # ยอดขายปัจจุบัน\n",
    "target_sales = 12000  # ยอดขายเป้าหมาย\n",
    "is_target_achieved = current_sales >= target_sales  # ตรวจสอบว่าได้รับเป้าหมายขายหรือไม่ (ยอดขายปัจจุบัน >= ยอดขายเป้าหมาย)\n",
    "if is_target_achieved:\n",
    "    print(\"บรรลุเป้าหมายการขาย\")\n",
    "    print(\"ทำได้เกินเป้าไปทั้งสิ้น\", target_sales - current_sales)\n",
    "else:\n",
    "    print(\"ยังไม่บรรลุเป้าหมายการขาย\")\n",
    "    print(\"ทำได้ต่ำกว่าเป้า\", current_sales - target_sales)\n"
   ]
  },
  {
   "cell_type": "markdown",
   "metadata": {},
   "source": [
    "## การใช้ตัวดำเนินการ `and` ตรวจสอบช่วงตัวเลข\n"
   ]
  },
  {
   "cell_type": "code",
   "execution_count": 33,
   "metadata": {},
   "outputs": [
    {
     "name": "stdout",
     "output_type": "stream",
     "text": [
      "True\n"
     ]
    }
   ],
   "source": [
    "born_year = 2004\n",
    "is_gen_z = (born_year >= 1997) and (born_year <= 2013)\n",
    "print(is_gen_z)\n"
   ]
  },
  {
   "cell_type": "markdown",
   "metadata": {},
   "source": [
    "## การใช้ตัวดำเนินการทางตรรกะแบบเบื้องต้น\n"
   ]
  },
  {
   "cell_type": "code",
   "execution_count": 34,
   "metadata": {},
   "outputs": [
    {
     "name": "stdout",
     "output_type": "stream",
     "text": [
      "a and b =  False\n",
      "a or b  =  True\n",
      "not a   =  False\n",
      "not b   =  True\n"
     ]
    }
   ],
   "source": [
    "a = True\n",
    "b = False\n",
    "print(\"a and b = \", a and b)  # ผลลัพธ์: False\n",
    "print(\"a or b  = \", a or b)   # ผลลัพธ์: True\n",
    "print(\"not a   = \", not a)  # ผลลัพธ์: False\n",
    "print(\"not b   = \", not b)  # ผลลัพธ์: False\n"
   ]
  },
  {
   "cell_type": "markdown",
   "metadata": {},
   "source": [
    "## การใช้ตัวดำเนินการ `and`\n"
   ]
  },
  {
   "cell_type": "code",
   "execution_count": 35,
   "metadata": {},
   "outputs": [
    {
     "name": "stdout",
     "output_type": "stream",
     "text": [
      "ไม่ผ่านเกณฑ์\n"
     ]
    }
   ],
   "source": [
    "eng_score = 90\n",
    "excel_score = 78\n",
    "if (eng_score > 75) and (excel_score > 80):\n",
    "    print(\"ผ่านเกณฑ์\")\n",
    "else:\n",
    "    print(\"ไม่ผ่านเกณฑ์\")\n"
   ]
  },
  {
   "cell_type": "markdown",
   "metadata": {},
   "source": [
    "## การใช้ตัวดำเนินการ `or`\n"
   ]
  },
  {
   "cell_type": "code",
   "execution_count": 36,
   "metadata": {},
   "outputs": [
    {
     "name": "stdout",
     "output_type": "stream",
     "text": [
      "ผ่านเกณฑ์\n"
     ]
    }
   ],
   "source": [
    "eng_score = 90\n",
    "excel_score = 78\n",
    "if (eng_score > 75) or (excel_score > 80):\n",
    "    print(\"ผ่านเกณฑ์\")\n",
    "else:\n",
    "    print(\"ไม่ผ่านเกณฑ์\")\n"
   ]
  },
  {
   "cell_type": "markdown",
   "metadata": {},
   "source": [
    "## การใช้ตัวดำเนินการ `not`\n"
   ]
  },
  {
   "cell_type": "code",
   "execution_count": 37,
   "metadata": {},
   "outputs": [
    {
     "name": "stdout",
     "output_type": "stream",
     "text": [
      "ฟรีค่าเข้าชม\n"
     ]
    }
   ],
   "source": [
    "age = 65\n",
    "if not (10 <= age <= 60):\n",
    "    print(\"ฟรีค่าเข้าชม\")\n",
    "else:\n",
    "    print(\"เสียค่าเข้าชม 100 บาท\")\n"
   ]
  },
  {
   "cell_type": "markdown",
   "metadata": {},
   "source": [
    "## การใช้ตัวดำเนินการ `and`, `or`\n"
   ]
  },
  {
   "cell_type": "code",
   "execution_count": 38,
   "metadata": {},
   "outputs": [
    {
     "name": "stdout",
     "output_type": "stream",
     "text": [
      "สามารถเล่นรถไฟเหาะได้\n"
     ]
    }
   ],
   "source": [
    "age = 8\n",
    "height = 125\n",
    "has_heart_issue = False\n",
    "if ((age > 10) or (height > 120)) and (not has_heart_issue):\n",
    "    print(\"สามารถเล่นรถไฟเหาะได้\")\n",
    "else:    \n",
    "    print(\"ไม่สามารถเล่นรถไฟเหาะได้\")\n"
   ]
  },
  {
   "cell_type": "markdown",
   "metadata": {},
   "source": [
    "## การใช้ `in` เพื่อตรวจสอบว่ามีตัวอักษรอยู่ในสตริงหรือไม่\n"
   ]
  },
  {
   "cell_type": "code",
   "execution_count": 39,
   "metadata": {},
   "outputs": [
    {
     "name": "stdout",
     "output_type": "stream",
     "text": [
      "ชื่อมีตัวอักษร \"พ\"\n"
     ]
    }
   ],
   "source": [
    "name = \"แพร\"\n",
    "if \"พ\" in name:\n",
    "    print('ชื่อมีตัวอักษร \"พ\"')\n",
    "else:\n",
    "    print('ชื่อไม่มีตัวอักษร \"พ\"')\n"
   ]
  },
  {
   "cell_type": "markdown",
   "metadata": {},
   "source": [
    "## การใช้ `in` เพื่อตรวจสอบว่ามีสมาชิกนั้น ๆ อยู่ใน `list` หรือไม่\n"
   ]
  },
  {
   "cell_type": "code",
   "execution_count": 40,
   "metadata": {},
   "outputs": [
    {
     "name": "stdout",
     "output_type": "stream",
     "text": [
      "มีไก่ย่างอยู่ในเมนู\n"
     ]
    }
   ],
   "source": [
    "menus = [\"ส้มตำ\", \"ไก่ย่าง\", \"ลาบหมู\", \"เนื้อแดดเดียว\"]\n",
    "if \"ไก่ย่าง\" in menus:\n",
    "    print(\"มีไก่ย่างอยู่ในเมนู\")\n",
    "else:\n",
    "    print(\"ไม่มีไก่ย่างอยู่ในเมนู\")\n"
   ]
  },
  {
   "cell_type": "markdown",
   "metadata": {},
   "source": [
    "## การใช้งาน `not in`\n"
   ]
  },
  {
   "cell_type": "code",
   "execution_count": 41,
   "metadata": {},
   "outputs": [
    {
     "name": "stdout",
     "output_type": "stream",
     "text": [
      "ยังมีไข่ไก่อยู่ในสต๊อก\n"
     ]
    }
   ],
   "source": [
    "stocks = [\"แป้ง\", \"ไข่\", \"น้ำมันพืช\", \"น้ำตาล\"]\n",
    "if \"ไข่\" not in stocks:\n",
    "    print(\"สั่งไข่ไก่ 40 ฟอง\")\n",
    "else:\n",
    "    print(\"ยังมีไข่ไก่อยู่ในสต๊อก\")\n"
   ]
  },
  {
   "cell_type": "markdown",
   "metadata": {},
   "source": [
    "## การใช้ตัวดำเนินการ `+` เชื่อมต่อสตริงเข้าด้วยกัน\n"
   ]
  },
  {
   "cell_type": "code",
   "execution_count": 42,
   "metadata": {},
   "outputs": [
    {
     "name": "stdout",
     "output_type": "stream",
     "text": [
      "สวัสดีคุณ แพร ยินดีต้อนรับสู่ร้านของเรา!\n"
     ]
    }
   ],
   "source": [
    "customer_name = \"แพร\"\n",
    "greeting = \"สวัสดีคุณ \" + customer_name + \" ยินดีต้อนรับสู่ร้านของเรา!\"  # สร้างข้อความทักทายลูกค้า (\"สวัสดีคุณ \" + ชื่อลูกค้า + \" ยินดีต้อนรับสู่ร้านของเรา!\")\n",
    "print(greeting)\n"
   ]
  },
  {
   "cell_type": "markdown",
   "metadata": {},
   "source": [
    "## การใช้ตัวดำเนินการ `*` เพื่อทำซ้ำสตริง\n"
   ]
  },
  {
   "cell_type": "code",
   "execution_count": 43,
   "metadata": {},
   "outputs": [
    {
     "name": "stdout",
     "output_type": "stream",
     "text": [
      "practice practice practice practice practice \n",
      "ฝึกฝน ฝึกฝน ฝึกฝน ฝึกฝน ฝึกฝน \n",
      "--------------------\n",
      "😀😀😀😀😀😀😀😀\n",
      "😐😐😐😐😐\n",
      "😖😖\n"
     ]
    }
   ],
   "source": [
    "print('practice ' * 5)\n",
    "print('ฝึกฝน ' * 5)\n",
    "print('-' * 20)\n",
    "print('😀' * 8)\n",
    "print('😐' * 5)\n",
    "print('😖' * 2)"
   ]
  },
  {
   "cell_type": "markdown",
   "metadata": {},
   "source": [
    "# แบบฝึกหัด\n"
   ]
  },
  {
   "cell_type": "markdown",
   "metadata": {},
   "source": [
    "1. เขียนโค้ดเพื่อตรวจสอบว่าตัวเลขที่กำหนดมีค่ามากกว่า 10 และน้อยกว่า 20 หรือไม่\n"
   ]
  },
  {
   "cell_type": "code",
   "execution_count": 44,
   "metadata": {},
   "outputs": [
    {
     "name": "stdout",
     "output_type": "stream",
     "text": [
      "15 อยู่ระหว่าง 10 และ 20\n"
     ]
    }
   ],
   "source": [
    "number = 15\n",
    "if 10 < number < 20:\n",
    "    print(number, \"อยู่ระหว่าง 10 และ 20\")\n",
    "else:\n",
    "    print(number, \"ไม่อยู่ระหว่าง 10 และ 20\")"
   ]
  },
  {
   "cell_type": "markdown",
   "metadata": {},
   "source": [
    "2. เขียนโค้ดเพื่อตรวจสอบว่าจำนวนเต็มที่กำหนดเป็นเลขคู่หรือเลขคี่\n"
   ]
  },
  {
   "cell_type": "code",
   "execution_count": 45,
   "metadata": {},
   "outputs": [
    {
     "name": "stdout",
     "output_type": "stream",
     "text": [
      "17 เป็นเลขคี่\n"
     ]
    }
   ],
   "source": [
    "number = 17\n",
    "if number % 2 == 0:\n",
    "    print(number, \"เป็นเลขคู่\")\n",
    "else:\n",
    "    print(number, \"เป็นเลขคี่\")\n"
   ]
  },
  {
   "cell_type": "markdown",
   "metadata": {},
   "source": [
    "3. เขียนโค้ดเพื่อตรวจสอบว่าค่าในตัวแปร `age` น้อยกว่า 10 หรือมากกว่าหรือเท่ากับ 60 หรือไม่ ถ้าใช่ให้ส่วนลด 20 บาท\n"
   ]
  },
  {
   "cell_type": "code",
   "execution_count": 46,
   "metadata": {},
   "outputs": [
    {
     "name": "stdout",
     "output_type": "stream",
     "text": [
      "คุณได้ส่วนลด 20 บาท\n"
     ]
    }
   ],
   "source": [
    "age = 61\n",
    "if age < 10 or age >= 60:\n",
    "    discount = 20\n",
    "else:\n",
    "    discount = 0\n",
    "print(f\"คุณได้ส่วนลด {discount} บาท\")\n"
   ]
  },
  {
   "cell_type": "markdown",
   "metadata": {},
   "source": [
    "4. เขียนโค้ดเพื่อตรวจสอบว่าลูกค้าจะได้สิทธิฟรีค่าจัดส่งหรือไม่ โดยมีเงื่อนไขว่าต้องมียอดสั่งซื้อเกิน 200 บาท และเป็นสมาชิกกับทางร้าน\n"
   ]
  },
  {
   "cell_type": "code",
   "execution_count": 47,
   "metadata": {},
   "outputs": [
    {
     "name": "stdout",
     "output_type": "stream",
     "text": [
      "ฟรีค่าจัดส่ง\n"
     ]
    }
   ],
   "source": [
    "spending = 250\n",
    "is_member = True\n",
    "if spending >= 200 and is_member:\n",
    "    print(\"ฟรีค่าจัดส่ง\")\n",
    "else:\n",
    "    print(\"เสียค่าจัดส่ง 30 บาท\")\n"
   ]
  },
  {
   "cell_type": "markdown",
   "metadata": {},
   "source": [
    "5. เขียนโค้ดเพื่อแปลงส่วนสูงที่มีหน่วยเป็นเซนติเมตรให้อยู่ในรูป ฟุต'นิ้ว\"\n"
   ]
  },
  {
   "cell_type": "code",
   "execution_count": 48,
   "metadata": {},
   "outputs": [
    {
     "name": "stdout",
     "output_type": "stream",
     "text": [
      "170 cm =  5'6.929133858267714\"\n"
     ]
    }
   ],
   "source": [
    "height_cm = 170\n",
    "inch_cm = 2.54\n",
    "feet = height_cm // (12 * inch_cm)\n",
    "inch = (height_cm - (feet * 12 * inch_cm)) / inch_cm\n",
    "height_fi = str(int(feet)) + \"'\" + str(inch) + '\"'\n",
    "# height_fi = f'{feet:.0f}\\'{inch:.1f}\"' # ใช้ f-string ช่วยในการจัดรูปแบบ\n",
    "print(height_cm, \"cm = \", height_fi)"
   ]
  }
 ],
 "metadata": {
  "kernelspec": {
   "display_name": "base",
   "language": "python",
   "name": "python3"
  },
  "language_info": {
   "codemirror_mode": {
    "name": "ipython",
    "version": 3
   },
   "file_extension": ".py",
   "mimetype": "text/x-python",
   "name": "python",
   "nbconvert_exporter": "python",
   "pygments_lexer": "ipython3",
   "version": "3.11.4"
  },
  "orig_nbformat": 4
 },
 "nbformat": 4,
 "nbformat_minor": 2
}
