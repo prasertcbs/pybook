{
 "cells": [
  {
   "cell_type": "markdown",
   "metadata": {},
   "source": [
    "# บทที่ 2. รู้จักภาษาไพทอน Python\n",
    "- ตำรา: Python: ใคร ๆ ก็เขียนโปรแกรมได้\n",
    "- ผู้แต่ง: รศ.ดร. ประเสริฐ คณาวัฒนไชย"
   ]
  },
  {
   "cell_type": "markdown",
   "metadata": {},
   "source": [
    "## การใช้ `indentation` พื่อกำหนดขอบเขตของโค้ดบล็อก\n"
   ]
  },
  {
   "cell_type": "code",
   "execution_count": 1,
   "metadata": {},
   "outputs": [
    {
     "name": "stdout",
     "output_type": "stream",
     "text": [
      "young\n"
     ]
    }
   ],
   "source": [
    "def rectangle_area(w, h):\n",
    "    area = w * h              # 1️⃣\n",
    "    return area               # 1️⃣\n",
    "\n",
    "def citizen(age):\n",
    "    if age > 60:              # 2️⃣\n",
    "        print(\"senior\")       # 2️⃣\n",
    "        print(\"50% discount\") # 2️⃣\n",
    "    else:                     # 2️⃣\n",
    "        print(\"young\")        # 2️⃣\n",
    "\n",
    "your_age = 28                 # 3️⃣\n",
    "citizen(your_age)             # 3️⃣\n"
   ]
  },
  {
   "cell_type": "markdown",
   "metadata": {},
   "source": [
    "## การใช้คำสั่ง `print()` เบื้องต้น\n"
   ]
  },
  {
   "cell_type": "code",
   "execution_count": 2,
   "metadata": {},
   "outputs": [
    {
     "name": "stdout",
     "output_type": "stream",
     "text": [
      "Hello, World!\n",
      "mocha latte espresso\n",
      "one>two>three\n",
      "area =  50 sq.m.\n",
      "coconut mangoPOMELO\n",
      "watermelon\n"
     ]
    }
   ],
   "source": [
    "print(\"Hello, World!\")\n",
    "print(\"mocha\", \"latte\", \"espresso\")\n",
    "print(\"one\", \"two\", \"three\", sep=\">\")\n",
    "print(\"area = \", 5 * 10, \"sq.m.\")\n",
    "print(\"coconut\", \"mango\", sep=\" \", end=\"\")\n",
    "print(\"POMELO\")\n",
    "print(\"watermelon\")\n"
   ]
  },
  {
   "cell_type": "markdown",
   "metadata": {},
   "source": [
    "## การคำนวณหาพื้นที่สี่เหลี่ยมผืนผ้า\n"
   ]
  },
  {
   "cell_type": "code",
   "execution_count": 3,
   "metadata": {},
   "outputs": [
    {
     "name": "stdout",
     "output_type": "stream",
     "text": [
      "80\n"
     ]
    }
   ],
   "source": [
    "width = 10\n",
    "height = 8\n",
    "area = width * height\n",
    "print(area)"
   ]
  },
  {
   "cell_type": "markdown",
   "metadata": {},
   "source": [
    "## โปรแกรมแบ่งระดับลูกค้าตามยอดใช้จ่าย\n"
   ]
  },
  {
   "cell_type": "code",
   "execution_count": 4,
   "metadata": {},
   "outputs": [
    {
     "name": "stdout",
     "output_type": "stream",
     "text": [
      "platinum\n"
     ]
    }
   ],
   "source": [
    "spending = 60000\n",
    "if spending > 50000:\n",
    "    level = 'platinum'\n",
    "else:\n",
    "    level = 'regular'\n",
    "print(level)\n"
   ]
  },
  {
   "cell_type": "markdown",
   "metadata": {},
   "source": [
    "## การหาผลรวมของเลข 1 ถึง 10\n"
   ]
  },
  {
   "cell_type": "code",
   "execution_count": 5,
   "metadata": {},
   "outputs": [
    {
     "name": "stdout",
     "output_type": "stream",
     "text": [
      "55\n"
     ]
    }
   ],
   "source": [
    "total = 0\n",
    "for count in range(1, 11):\n",
    "    total = total + count\n",
    "print(total)\n"
   ]
  },
  {
   "cell_type": "markdown",
   "metadata": {},
   "source": [
    "## การแสดงอุณหภูมิที่อยู่ในรูปองศาเซลเซียสและฟาเรนไฮต์\n"
   ]
  },
  {
   "cell_type": "code",
   "execution_count": 6,
   "metadata": {},
   "outputs": [
    {
     "name": "stdout",
     "output_type": "stream",
     "text": [
      "  0C =  32.0F\n",
      " 10C =  50.0F\n",
      " 20C =  68.0F\n",
      " 30C =  86.0F\n",
      " 40C = 104.0F\n",
      " 50C = 122.0F\n",
      " 60C = 140.0F\n",
      " 70C = 158.0F\n",
      " 80C = 176.0F\n",
      " 90C = 194.0F\n",
      "100C = 212.0F\n"
     ]
    }
   ],
   "source": [
    "for celsius in range(0, 101, 10):\n",
    "    fahrenheit = celsius * 9 / 5 + 32\n",
    "    print(f'{celsius:3}C = {fahrenheit:5.1f}F')"
   ]
  },
  {
   "cell_type": "markdown",
   "metadata": {},
   "source": [
    "# แบบฝึกหัด\n"
   ]
  },
  {
   "cell_type": "markdown",
   "metadata": {},
   "source": [
    "2. เขียนโปรแกรมแปลงน้ำหนักที่มีหน่วยเป็นกิโลกรัมให้เป็นปอนด์ (1 กิโลกรัม เท่ากับ 2.205 ปอนด์)"
   ]
  },
  {
   "cell_type": "code",
   "execution_count": 7,
   "metadata": {},
   "outputs": [
    {
     "name": "stdout",
     "output_type": "stream",
     "text": [
      "weight  70 kg.  =  154.35 lbs.\n"
     ]
    }
   ],
   "source": [
    "weight_kg = 70\n",
    "lbs = weight_kg * 2.205\n",
    "print(\"weight \", weight_kg, \"kg.  = \", lbs, \"lbs.\")"
   ]
  }
 ],
 "metadata": {
  "kernelspec": {
   "display_name": "base",
   "language": "python",
   "name": "python3"
  },
  "language_info": {
   "codemirror_mode": {
    "name": "ipython",
    "version": 3
   },
   "file_extension": ".py",
   "mimetype": "text/x-python",
   "name": "python",
   "nbconvert_exporter": "python",
   "pygments_lexer": "ipython3",
   "version": "3.11.4"
  },
  "orig_nbformat": 4
 },
 "nbformat": 4,
 "nbformat_minor": 2
}
