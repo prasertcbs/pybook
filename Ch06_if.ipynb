{
 "cells": [
  {
   "cell_type": "markdown",
   "metadata": {},
   "source": [
    "# บทที่ 6. การตรวจสอบเงื่อนไขด้วย `if`\n",
    "- ตำรา: Python: ใคร ๆ ก็เขียนโปรแกรมได้\n",
    "- ผู้แต่ง: รศ.ดร. ประเสริฐ คณาวัฒนไชย"
   ]
  },
  {
   "cell_type": "markdown",
   "metadata": {},
   "source": [
    "## การตรวจสอบอายุของผู้มีสิทธิออกเสียงเลือกตั้ง โดยต้องมีอายุ 18 ปีบริบูรณ์ขึ้นไป\n"
   ]
  },
  {
   "cell_type": "code",
   "execution_count": 1,
   "metadata": {},
   "outputs": [
    {
     "name": "stdout",
     "output_type": "stream",
     "text": [
      "คุณมีสิทธิออกเสียงเลือกตั้ง\n"
     ]
    }
   ],
   "source": [
    "age = 25\n",
    "if age >= 18:\n",
    "    print(\"คุณมีสิทธิออกเสียงเลือกตั้ง\")\n",
    "else:\n",
    "    print(\"คุณยังไม่มีสิทธิออกเสียงเลือกตั้ง\")\n"
   ]
  },
  {
   "cell_type": "markdown",
   "metadata": {},
   "source": [
    "## การคัดกรองอีเมลอย่างง่าย\n"
   ]
  },
  {
   "cell_type": "code",
   "execution_count": 2,
   "metadata": {},
   "outputs": [
    {
     "name": "stdout",
     "output_type": "stream",
     "text": [
      "อีเมลไม่ถูกต้อง\n"
     ]
    }
   ],
   "source": [
    "email = \"demo@examplecom\"\n",
    "if (\"@\" in email) and (\".\" in email):\n",
    "    print(\"อีเมลถูกต้อง\")\n",
    "else:\n",
    "    print(\"อีเมลไม่ถูกต้อง\")\n"
   ]
  },
  {
   "cell_type": "markdown",
   "metadata": {},
   "source": [
    "## การใช้ `code block` ของ `if`\n"
   ]
  },
  {
   "cell_type": "code",
   "execution_count": 3,
   "metadata": {},
   "outputs": [
    {
     "name": "stdout",
     "output_type": "stream",
     "text": [
      "คุณได้ส่วนลด 15%\n",
      "คุณได้คะแนนสะสม x 3\n",
      "ขอบคุณที่มาใช้บริการ\n"
     ]
    }
   ],
   "source": [
    "orders = 12\n",
    "if (orders > 10):\n",
    "    print(\"คุณได้ส่วนลด 15%\")\n",
    "    print(\"คุณได้คะแนนสะสม x 3\")\n",
    "else:\n",
    "    print(\"คุณไม่ได้รับส่วนลด\")\n",
    "    print(\"คุณได้คะแนนสะสม x 1\")\n",
    "print(\"ขอบคุณที่มาใช้บริการ\")\n"
   ]
  },
  {
   "cell_type": "markdown",
   "metadata": {},
   "source": [
    "## การใช้ `if` รูปแบบสั้น\n"
   ]
  },
  {
   "cell_type": "code",
   "execution_count": 4,
   "metadata": {},
   "outputs": [
    {
     "name": "stdout",
     "output_type": "stream",
     "text": [
      "สภาพอากาศ: ร้อน\n"
     ]
    }
   ],
   "source": [
    "temperature = 28\n",
    "status = \"ร้อน\" if temperature > 26 else \"เย็นสบาย\"\n",
    "print(\"สภาพอากาศ:\", status)\n"
   ]
  },
  {
   "cell_type": "markdown",
   "metadata": {},
   "source": [
    "## การใช้ `if` รูปแบบสั้นร่วมกับตัวดำเนินการ `and`\n"
   ]
  },
  {
   "cell_type": "code",
   "execution_count": 5,
   "metadata": {},
   "outputs": [
    {
     "name": "stdout",
     "output_type": "stream",
     "text": [
      "False\n"
     ]
    }
   ],
   "source": [
    "total_spending = 1200 # ยอดการสั่งซื้อ (บาท)\n",
    "items = 4 # จำนวนรายการสั่งซื้อ\n",
    "free_delivery = True if (total_spending > 1000) and (items > 5) else False\n",
    "print(free_delivery)\n"
   ]
  },
  {
   "cell_type": "markdown",
   "metadata": {},
   "source": [
    "## การใช้ `nested if-else`\n"
   ]
  },
  {
   "cell_type": "code",
   "execution_count": 6,
   "metadata": {},
   "outputs": [
    {
     "name": "stdout",
     "output_type": "stream",
     "text": [
      "แบตเตอรี่เหลือน้อยกว่า 50%\n"
     ]
    }
   ],
   "source": [
    "battery_level = 30\n",
    "if battery_level < 20:\n",
    "    print(\"กรุณาชาร์จแบตเตอรี่\")\n",
    "else:\n",
    "    if battery_level < 50:\n",
    "        print(\"แบตเตอรี่เหลือน้อยกว่า 50%\")\n",
    "    else:\n",
    "        print(\"แบตเตอรี่พร้อมใช้งาน\")\n"
   ]
  },
  {
   "cell_type": "markdown",
   "metadata": {},
   "source": [
    "## การใช้ `nested if-elif-else`\n"
   ]
  },
  {
   "cell_type": "code",
   "execution_count": 7,
   "metadata": {},
   "outputs": [
    {
     "name": "stdout",
     "output_type": "stream",
     "text": [
      "แบตเตอรี่เหลือน้อย\n"
     ]
    }
   ],
   "source": [
    "# 1. เช็คสถานะแบตเตอรี่มือถือ:\n",
    "battery_level = 30\n",
    "if battery_level < 20:\n",
    "    print(\"กรุณาชาร์จแบตเตอรี่\")\n",
    "elif battery_level < 50:\n",
    "    print(\"แบตเตอรี่เหลือน้อย\")\n",
    "else:\n",
    "    print(\"แบตเตอรี่พร้อมใช้งาน\")\n"
   ]
  },
  {
   "cell_type": "markdown",
   "metadata": {},
   "source": [
    "## การใช้ `nested if-else` เพื่อหาว่าเกิดใน generation ใด\n"
   ]
  },
  {
   "cell_type": "code",
   "execution_count": 8,
   "metadata": {},
   "outputs": [
    {
     "name": "stdout",
     "output_type": "stream",
     "text": [
      "Gen. Z\n"
     ]
    }
   ],
   "source": [
    "born_year = 2550\n",
    "\n",
    "if born_year <= 2489:\n",
    "    gen = \"Builders\"\n",
    "elif 2490 <= born_year <= 2507:\n",
    "    gen = \"Baby Boomers\"\n",
    "elif 2508 <= born_year <= 2524:\n",
    "    gen = \"Gen. X\"\n",
    "elif 2425 <= born_year <= 2538:\n",
    "    gen = \"Gen. Y\"\n",
    "elif 2539 <= born_year <= 2552:\n",
    "    gen = \"Gen. Z\"\n",
    "else:\n",
    "    gen = \"Gen. Alpha\"\n",
    "\n",
    "print(gen)\n"
   ]
  },
  {
   "cell_type": "markdown",
   "metadata": {},
   "source": [
    "## การใช้ `if-elif-else` เพื่อหาว่าเกิดใน generation ใด\n"
   ]
  },
  {
   "cell_type": "code",
   "execution_count": 9,
   "metadata": {},
   "outputs": [
    {
     "name": "stdout",
     "output_type": "stream",
     "text": [
      "Gen. Z\n"
     ]
    }
   ],
   "source": [
    "born_year = 2550\n",
    "\n",
    "if born_year <= 2489:\n",
    "    gen = \"Builders\"\n",
    "elif born_year <= 2507:\n",
    "    gen = \"Baby Boomers\"\n",
    "elif born_year <= 2524:\n",
    "    gen = \"Gen. X\"\n",
    "elif born_year <= 2538:\n",
    "    gen = \"Gen. Y\"\n",
    "elif born_year <= 2552:\n",
    "    gen = \"Gen. Z\"\n",
    "else:\n",
    "    gen = \"Gen. Alpha\"\n",
    "\n",
    "print(gen)"
   ]
  },
  {
   "cell_type": "markdown",
   "metadata": {},
   "source": [
    "# แบบฝึกหัด\n"
   ]
  },
  {
   "cell_type": "markdown",
   "metadata": {},
   "source": [
    "1. สมมติว่าคุณเป็นผู้พัฒนาโปรแกรมให้ร้านค้าออนไลน์ที่ขายเสื้อผ้าและรองเท้ากีฬา คุณต้องการเขียนโค้ดที่ตรวจสอบว่าสินค้าที่ลูกค้าเลือกมีในสต็อกหรือไม่ หากมีให้แสดงข้อความ `\"สินค้าพร้อมจัดส่ง\"` ถ้าไม่มีให้แสดงข้อความ `\"สินค้าหมด\"`\n"
   ]
  },
  {
   "cell_type": "code",
   "execution_count": 10,
   "metadata": {},
   "outputs": [
    {
     "name": "stdout",
     "output_type": "stream",
     "text": [
      "สินค้าพร้อมจัดส่ง\n"
     ]
    }
   ],
   "source": [
    "stock = 10\n",
    "customer_order = 8\n",
    "if customer_order <= stock:\n",
    "    print(\"สินค้าพร้อมจัดส่ง\")\n",
    "else:\n",
    "    print(\"สินค้าหมด\")"
   ]
  },
  {
   "cell_type": "markdown",
   "metadata": {},
   "source": [
    "2. คุณเป็นเจ้าของร้านกาแฟและต้องการเขียนโค้ดเพื่อตรวจสอบว่าลูกค้าสั่งเครื่องดื่มที่มีน้ำตาลเพิ่มเติมหรือไม่ ถ้าใช่ให้แสดงข้อความ `\"เครื่องดื่มมีน้ำตาลเพิ่มเติม\"` ถ้าไม่ใช่ให้แสดงข้อความ `\"เครื่องดื่มปกติ\"`\n"
   ]
  },
  {
   "cell_type": "code",
   "execution_count": 11,
   "metadata": {},
   "outputs": [
    {
     "name": "stdout",
     "output_type": "stream",
     "text": [
      "เครื่องดื่มมีน้ำตาลเพิ่มเติม\n"
     ]
    }
   ],
   "source": [
    "sugar = True\n",
    "if sugar:\n",
    "    print(\"เครื่องดื่มมีน้ำตาลเพิ่มเติม\")\n",
    "else:\n",
    "    print(\"เครื่องดื่มปกติ\")\n"
   ]
  },
  {
   "cell_type": "markdown",
   "metadata": {},
   "source": [
    "3. เขียนโปรแกรมคำนวณอัตราค่าผ่านทางพิเศษของรถยนต์แต่ละชนิดตามข้อมูลในตารางที่ให้มา\n",
    "\n",
    "| ประเภทรถ   | ค่าผ่านทาง |\n",
    "|----------:|-----------:|\n",
    "| 4 ล้อ      | 50         |\n",
    "| 6 - 10 ล้อ | 75         |\n",
    "| > 10 ล้อ   | 110       |\n"
   ]
  },
  {
   "cell_type": "code",
   "execution_count": 12,
   "metadata": {},
   "outputs": [
    {
     "name": "stdout",
     "output_type": "stream",
     "text": [
      "ค่าผ่านทาง = 75 บาท\n"
     ]
    }
   ],
   "source": [
    "no_wheels = 8\n",
    "\n",
    "toll_fee = 0\n",
    "if no_wheels > 10:\n",
    "    toll_fee = 110\n",
    "elif no_wheels >=6:\n",
    "    toll_fee = 75\n",
    "else:\n",
    "    toll_fee = 50\n",
    "print(f\"ค่าผ่านทาง = {toll_fee} บาท\")\n"
   ]
  },
  {
   "cell_type": "markdown",
   "metadata": {},
   "source": [
    "4. เขียนโปรแกรมตรวจสอบได้รับการยกเว้นค่าโดยสารรถไฟฟ้า โดยมีเงื่อนไขดังนี้\n",
    "\n",
    "   - ค่าโดยสารเป็นอัตราเดียวตลอดเส้นทางอยู่ที่ 20 บาท\n",
    "   - เด็กที่มีความสูงไม่เกิน 90 เซนติเมตร และอายุไม่เกิน 14 ปี ได้รับการยกเว้นค่าโดยสาร\n",
    "   - เด็กที่มีความสูงตั้งแต่ 91-120 เซนติเมตร และอายุไม่เกิน 14 ปี ได้รับส่วนลดค่าโดยสาร 50%\n"
   ]
  },
  {
   "cell_type": "code",
   "execution_count": 13,
   "metadata": {},
   "outputs": [
    {
     "name": "stdout",
     "output_type": "stream",
     "text": [
      "ค่าโดยสารที่ต้องชำระ 10.0 บาท\n"
     ]
    }
   ],
   "source": [
    "age = 10\n",
    "height = 100\n",
    "normal_fare = 20 # ค่าโดยสารปกติ\n",
    "fare = 0\n",
    "if (height < 90) and (age < 14):\n",
    "    fare = 0\n",
    "elif (91 <= height <= 120) and (age < 14):\n",
    "    fare = normal_fare * .5 # ได้ส่วนลด 50%\n",
    "else:\n",
    "    fare = normal_fare\n",
    "\n",
    "print(f\"ค่าโดยสารที่ต้องชำระ {fare} บาท\")    \n"
   ]
  },
  {
   "cell_type": "markdown",
   "metadata": {},
   "source": [
    "5. เขียนโปรแกรมตรวจสอบว่าสินค้านำเข้าจากต่างประเทศต้องเสียภาษีนำเข้าหรือไม่ โดยสมมติให้มีเงื่อนไขว่าหากสินค้าน้ำหนักไม่เกิน 150 กรัม หรือมีมูลค่าไม่เกิน 1,000 บาท ไม่ต้องเสียภาษีนำเข้า"
   ]
  },
  {
   "cell_type": "code",
   "execution_count": 14,
   "metadata": {},
   "outputs": [
    {
     "name": "stdout",
     "output_type": "stream",
     "text": [
      "ไม่ต้องชำระภาษีนำเข้า สามารถรับของกลับได้เลย\n"
     ]
    }
   ],
   "source": [
    "weight = 100 # กรัม\n",
    "value = 1200\n",
    "if (weight < 150) or (value < 1000):\n",
    "    print(\"ไม่ต้องชำระภาษีนำเข้า สามารถรับของกลับได้เลย\")\n",
    "else:\n",
    "    print(\"ต้องชำระภาษีนำเข้า กรุณาติดต่อเจ้าพนักงาน\")\n"
   ]
  },
  {
   "cell_type": "markdown",
   "metadata": {},
   "source": [
    "6. ปรับแก้โปรแกรมตัดเกรดที่ให้มาให้กระชับขึ้น\n",
    "```\n",
    "score = 80\n",
    "if score >= 90:\n",
    "    print(\"คุณได้เกรด A\")\n",
    "else:\n",
    "    if score >= 80:\n",
    "        print(\"คุณได้เกรด B\")\n",
    "    else:\n",
    "        if score >= 70:\n",
    "            print(\"คุณได้เกรด C\")\n",
    "        else:\n",
    "            if score >= 60:\n",
    "                print(\"คุณได้เกรด D\")\n",
    "            else:\n",
    "                print(\"คุณได้เกรด F\")\n",
    "```"
   ]
  },
  {
   "cell_type": "code",
   "execution_count": 15,
   "metadata": {},
   "outputs": [
    {
     "name": "stdout",
     "output_type": "stream",
     "text": [
      "คุณได้เกรด B\n"
     ]
    }
   ],
   "source": [
    "score = 80\n",
    "if score >= 90:\n",
    "    print(\"คุณได้เกรด A\")\n",
    "elif score >= 80:\n",
    "    print(\"คุณได้เกรด B\")\n",
    "elif score >= 70:\n",
    "    print(\"คุณได้เกรด C\")\n",
    "elif score >= 60:\n",
    "    print(\"คุณได้เกรด D\")\n",
    "else:\n",
    "    print(\"คุณได้เกรด F\")"
   ]
  }
 ],
 "metadata": {
  "kernelspec": {
   "display_name": "base",
   "language": "python",
   "name": "python3"
  },
  "language_info": {
   "codemirror_mode": {
    "name": "ipython",
    "version": 3
   },
   "file_extension": ".py",
   "mimetype": "text/x-python",
   "name": "python",
   "nbconvert_exporter": "python",
   "pygments_lexer": "ipython3",
   "version": "3.11.4"
  },
  "orig_nbformat": 4
 },
 "nbformat": 4,
 "nbformat_minor": 2
}
