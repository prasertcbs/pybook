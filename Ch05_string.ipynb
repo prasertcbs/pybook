{
 "cells": [
  {
   "cell_type": "markdown",
   "metadata": {},
   "source": [
    "# บทที่ 5. สตริง (string)\n",
    "- ตำรา: Python: ใคร ๆ ก็เขียนโปรแกรมได้\n",
    "- ผู้แต่ง: รศ.ดร. ประเสริฐ คณาวัฒนไชย"
   ]
  },
  {
   "cell_type": "markdown",
   "metadata": {},
   "source": [
    "## การเชื่อมต่อสตริง (concatenation) ด้วยตัวดำเนินการ `+`\n"
   ]
  },
  {
   "cell_type": "code",
   "execution_count": 1,
   "metadata": {},
   "outputs": [
    {
     "name": "stdout",
     "output_type": "stream",
     "text": [
      "over the rainbow (1939)\n"
     ]
    }
   ],
   "source": [
    "s1 = \"over\"\n",
    "s2 = \"the\"\n",
    "s3 = \"rainbow\"\n",
    "s = s1 + \" \" + s2 + \" \" + s3 + \" (1939)\"\n",
    "print(s)  # แสดงผล: over the rainbow (1939)\n"
   ]
  },
  {
   "cell_type": "markdown",
   "metadata": {},
   "source": [
    "## การทำซ้ำสตริง (repeat) ด้วยตัวดำเนินการ `*`\n"
   ]
  },
  {
   "cell_type": "code",
   "execution_count": 2,
   "metadata": {},
   "outputs": [
    {
     "name": "stdout",
     "output_type": "stream",
     "text": [
      "--------------------\n",
      "><><><><><><><><><><\n"
     ]
    }
   ],
   "source": [
    "dash = '-' * 20 # พิมพ์ '-' 20 ตัว\n",
    "print(dash)\n",
    "dash2 = '><' * 10\n",
    "print(dash2)\n"
   ]
  },
  {
   "cell_type": "markdown",
   "metadata": {},
   "source": [
    "## การแสดงค่าของ googol (`'1'` ตามด้วย 0 อีก 100 ตัว)\n"
   ]
  },
  {
   "cell_type": "code",
   "execution_count": 3,
   "metadata": {},
   "outputs": [
    {
     "name": "stdout",
     "output_type": "stream",
     "text": [
      "10000000000000000000000000000000000000000000000000000000000000000000000000000000000000000000000000000\n"
     ]
    }
   ],
   "source": [
    "googol = '1' + ('0' * 100) # `'1'` ตามด้วย 0 อีก 100 ตัว\n",
    "print(googol) \n"
   ]
  },
  {
   "cell_type": "markdown",
   "metadata": {},
   "source": [
    "## การหาความยาวของสตริง\n"
   ]
  },
  {
   "cell_type": "code",
   "execution_count": 4,
   "metadata": {},
   "outputs": [
    {
     "name": "stdout",
     "output_type": "stream",
     "text": [
      "5\n"
     ]
    }
   ],
   "source": [
    "message = \"hello\"\n",
    "length = len(message)\n",
    "print(length)  # แสดงผลลัพธ์: 5\n"
   ]
  },
  {
   "cell_type": "markdown",
   "metadata": {},
   "source": [
    "## การตรวจสอบว่าเป็นสตริงว่างหรือไม่\n"
   ]
  },
  {
   "cell_type": "code",
   "execution_count": 5,
   "metadata": {},
   "outputs": [
    {
     "name": "stdout",
     "output_type": "stream",
     "text": [
      "string ว่าง\n"
     ]
    }
   ],
   "source": [
    "string = \"\"\n",
    "if len(string) == 0: # ตรวจสอบว่า string ว่างหรือไม่\n",
    "    print(\"string ว่าง\")\n",
    "else:\n",
    "    print(\"string มีค่า\")\n"
   ]
  },
  {
   "cell_type": "markdown",
   "metadata": {},
   "source": [
    "## การเปรียบเทียบสตริงว่าเท่ากันหรือไม่ด้วย `==`\n"
   ]
  },
  {
   "cell_type": "code",
   "execution_count": 6,
   "metadata": {},
   "outputs": [
    {
     "name": "stdout",
     "output_type": "stream",
     "text": [
      "Access granted\n"
     ]
    }
   ],
   "source": [
    "password = \"sesame\"\n",
    "user_input = input(\"Enter password: \")\n",
    "if user_input == password:\n",
    "    print(\"Access granted\")\n",
    "else:\n",
    "    print(\"Access denied\")\n"
   ]
  },
  {
   "cell_type": "markdown",
   "metadata": {},
   "source": [
    "## การแปลงสตริงเป็นตัวพิมพ์ใหญ่/พิมพ์เล็ก\n"
   ]
  },
  {
   "cell_type": "code",
   "execution_count": 7,
   "metadata": {},
   "outputs": [
    {
     "name": "stdout",
     "output_type": "stream",
     "text": [
      "text              = over the RAINBOW\n",
      "text.upper()      = OVER THE RAINBOW\n",
      "text.lower()      = over the rainbow\n",
      "text.capitalize() = Over the rainbow\n",
      "text.title()      = Over The Rainbow\n",
      "len(text)         = 16\n"
     ]
    }
   ],
   "source": [
    "text = \"over the RAINBOW\"\n",
    "print(f\"text              = {text}\")\n",
    "print(f\"text.upper()      = {text.upper()}\")  # แสดงผล: OVER THE RAINBOW\n",
    "print(f\"text.lower()      = {text.lower()}\")  # แสดงผล: over the rainbow\n",
    "print(f\"text.capitalize() = {text.capitalize()}\")  # แสดงผล: Over the rainbow\n",
    "print(f\"text.title()      = {text.title()}\")  # แสดงผล: Over The Rainbow\n",
    "print(f\"len(text)         = {len(text)}\")  # แสดงผล: 16\n"
   ]
  },
  {
   "cell_type": "markdown",
   "metadata": {},
   "source": [
    "## การเปรียบเทียบลำดับของสตริง\n"
   ]
  },
  {
   "cell_type": "code",
   "execution_count": 8,
   "metadata": {},
   "outputs": [
    {
     "name": "stdout",
     "output_type": "stream",
     "text": [
      "True\n",
      "False\n"
     ]
    }
   ],
   "source": [
    "s1 = \"มะนาว\"\n",
    "s2 = \"มะพร้าว\"\n",
    "print(s1 < s2)\n",
    "print(s1 > s2)\n"
   ]
  },
  {
   "cell_type": "markdown",
   "metadata": {},
   "source": [
    "## การเปรียบเทียบลำดับของสตริงภาษาอังกฤษที่มีตัวพิมพ์ใหญ่และเล็ก\n"
   ]
  },
  {
   "cell_type": "code",
   "execution_count": 9,
   "metadata": {},
   "outputs": [
    {
     "name": "stdout",
     "output_type": "stream",
     "text": [
      "False\n",
      "True\n"
     ]
    }
   ],
   "source": [
    "s1 = \"coconut\"\n",
    "s2 = \"Durian\" # สังเกตว่าใช้ตัว D ใหญ่\n",
    "print(s1 < s2)\n",
    "print(s1 > s2)\n"
   ]
  },
  {
   "cell_type": "markdown",
   "metadata": {},
   "source": [
    "## การเปรียบเทียบลำดับของสตริงภาษาอังกฤษที่มีตัวพิมพ์ใหญ่และเล็ก\n"
   ]
  },
  {
   "cell_type": "code",
   "execution_count": 10,
   "metadata": {},
   "outputs": [
    {
     "name": "stdout",
     "output_type": "stream",
     "text": [
      "True\n",
      "False\n"
     ]
    }
   ],
   "source": [
    "s1 = \"coconut\"\n",
    "s2 = \"Durian\" # สังเกตว่าใช้ตัว D ใหญ่\n",
    "print(s1.upper() < s2.upper())\n",
    "print(s1.lower() > s2.lower())\n"
   ]
  },
  {
   "cell_type": "markdown",
   "metadata": {},
   "source": [
    "## การแยกข้อความในสตริงด้วยตัวคั่น (separator)"
   ]
  },
  {
   "cell_type": "code",
   "execution_count": 11,
   "metadata": {},
   "outputs": [
    {
     "name": "stdout",
     "output_type": "stream",
     "text": [
      "menu = กาแฟ,ชา,น้ำผลไม้,น้ำเปล่า\n",
      "menu_list = ['กาแฟ', 'ชา', 'น้ำผลไม้', 'น้ำเปล่า']\n"
     ]
    }
   ],
   "source": [
    "menu = \"กาแฟ,ชา,น้ำผลไม้,น้ำเปล่า\"\n",
    "print(f\"menu = {menu}\")\n",
    "menu_list = menu.split(\",\") # แยกข้อความออกจากกันโดยใช้ , เป็นตัวแบ่ง\n",
    "print(f\"menu_list = {menu_list}\")\n"
   ]
  },
  {
   "cell_type": "markdown",
   "metadata": {},
   "source": [
    "## การแทนที่ข้อความด้วยข้อความอื่น\n"
   ]
  },
  {
   "cell_type": "code",
   "execution_count": 12,
   "metadata": {},
   "outputs": [
    {
     "name": "stdout",
     "output_type": "stream",
     "text": [
      "menu     = กาแฟ,ชา,น้ำผลไม้,น้ำเปล่า\n",
      "new_menu = กาแฟ,ชา,ลาเต้,น้ำเปล่า\n"
     ]
    }
   ],
   "source": [
    "menu = \"กาแฟ,ชา,น้ำผลไม้,น้ำเปล่า\"\n",
    "print(f\"menu     = {menu}\")\n",
    "\n",
    "new_menu = menu.replace(\"น้ำผลไม้\", \"ลาเต้\")\n",
    "print(f\"new_menu = {new_menu}\")\n"
   ]
  },
  {
   "cell_type": "markdown",
   "metadata": {},
   "source": [
    "## การลบช่องว่างที่อยู่ด้านหน้าและด้านหลังของข้อความ\n"
   ]
  },
  {
   "cell_type": "code",
   "execution_count": 13,
   "metadata": {},
   "outputs": [
    {
     "name": "stdout",
     "output_type": "stream",
     "text": [
      "message          = '   heart, brain, courage   '\n",
      "stripped_message = 'heart, brain, courage'\n"
     ]
    }
   ],
   "source": [
    "message = \"   heart, brain, courage   \"\n",
    "print(f\"message          = '{message}'\")\n",
    "stripped_message = message.strip()\n",
    "print(f\"stripped_message = '{stripped_message}'\") # แสดงผล: heart, brain, courage\n"
   ]
  },
  {
   "cell_type": "markdown",
   "metadata": {},
   "source": [
    "## การค้นหาตำแหน่งแรกที่พบข้อความที่กำหนด\n"
   ]
  },
  {
   "cell_type": "code",
   "execution_count": 14,
   "metadata": {},
   "outputs": [
    {
     "name": "stdout",
     "output_type": "stream",
     "text": [
      "position = 5\n"
     ]
    }
   ],
   "source": [
    "sentence = \"เพราะแสวงหา มิใช่เพราะรอคอย\"\n",
    "position = sentence.find(\"แสวง\") # แสดงผล: 5\n",
    "print(f\"position = {position}\")  \n"
   ]
  },
  {
   "cell_type": "markdown",
   "metadata": {},
   "source": [
    "## การหาตำแหน่งแรกของข้อความที่ต้องการ\n"
   ]
  },
  {
   "cell_type": "code",
   "execution_count": 15,
   "metadata": {},
   "outputs": [
    {
     "name": "stdout",
     "output_type": "stream",
     "text": [
      "position = 6\n"
     ]
    }
   ],
   "source": [
    "sentence = \"เพราะเชี่ยวชาญ มิใช่เพราะโอกาส\"\n",
    "position = sentence.find(\"ช\") # แสดงผล: 6\n",
    "print(f\"position = {position}\")\n"
   ]
  },
  {
   "cell_type": "markdown",
   "metadata": {},
   "source": [
    "## การหาทุกตำแหน่งข้อความที่ต้องการ\n"
   ]
  },
  {
   "cell_type": "code",
   "execution_count": 16,
   "metadata": {},
   "outputs": [
    {
     "name": "stdout",
     "output_type": "stream",
     "text": [
      "positions: [6, 11, 18]\n"
     ]
    }
   ],
   "source": [
    "sentence = \"เพราะเชี่ยวชาญ มิใช่เพราะโอกาส\"\n",
    "search_word = \"ช\"\n",
    "\n",
    "positions = []\n",
    "\n",
    "start_index = 0\n",
    "while True:\n",
    "    index = sentence.find(search_word, start_index)\n",
    "    if index == -1:\n",
    "        break\n",
    "    positions.append(index)\n",
    "    start_index = index + 1\n",
    "\n",
    "print(f\"positions: {positions}\")\n"
   ]
  },
  {
   "cell_type": "markdown",
   "metadata": {},
   "source": [
    "## การค้นหาตำแหน่งข้อความที่กำหนด ในกรณีไม่พบข้อความที่ต้องการหา\n"
   ]
  },
  {
   "cell_type": "code",
   "execution_count": 17,
   "metadata": {},
   "outputs": [
    {
     "name": "stdout",
     "output_type": "stream",
     "text": [
      "position = -1\n"
     ]
    }
   ],
   "source": [
    "sentence = \"เพราะสามารถ มิใช่เพราะโชคช่วย\"\n",
    "position = sentence.find(\"ฟ้า\") # แสดงผล: 0\n",
    "print(f\"position = {position}\")\n"
   ]
  },
  {
   "cell_type": "markdown",
   "metadata": {},
   "source": [
    "## การนับว่ามีข้อความที่ระบุปรากฏอยู่กี่ครั้ง\n"
   ]
  },
  {
   "cell_type": "code",
   "execution_count": 18,
   "metadata": {},
   "outputs": [
    {
     "name": "stdout",
     "output_type": "stream",
     "text": [
      "2\n"
     ]
    }
   ],
   "source": [
    "rai_ngan_wah = \"10-2-70\" # 10 ไร่ 2 งาน 70 ตารางวา\n",
    "print(rai_ngan_wah.count(\"-\")) # ผลลัพธ์: 2 เพราะมี `-` อยู่ 2 ที่ในข้อความ\n"
   ]
  },
  {
   "cell_type": "markdown",
   "metadata": {},
   "source": [
    "## การตรวจสอบว่าตัวอักษรทุกตัวในสตริงเป็นตัวเลขหรือไม่\n"
   ]
  },
  {
   "cell_type": "code",
   "execution_count": 19,
   "metadata": {},
   "outputs": [
    {
     "name": "stdout",
     "output_type": "stream",
     "text": [
      "0899124711 ->   True\n",
      "089-912-4711 -> False\n"
     ]
    }
   ],
   "source": [
    "phone_number = \"0899124711\"\n",
    "print(f\"{phone_number} ->   {phone_number.isdigit()}\") # True\n",
    "\n",
    "phone_number = \"089-912-4711\"\n",
    "print(f\"{phone_number} -> {phone_number.isdigit()}\") # False\n"
   ]
  },
  {
   "cell_type": "markdown",
   "metadata": {},
   "source": [
    "## การตรวจสอบว่าตัวอักษรทุกตัวในสตริงเป็นตัวอักษร `A-Z`, `a-z` หรือไม่\n"
   ]
  },
  {
   "cell_type": "code",
   "execution_count": 20,
   "metadata": {},
   "outputs": [
    {
     "name": "stdout",
     "output_type": "stream",
     "text": [
      "hello: True\n",
      "สวัสดี: False\n"
     ]
    }
   ],
   "source": [
    "s = \"hello\"\n",
    "print(f\"{s}: {s.isalpha()}\")\n",
    "\n",
    "s = \"สวัสดี\"\n",
    "print(f\"{s}: {s.isalpha()}\")\n"
   ]
  },
  {
   "cell_type": "markdown",
   "metadata": {},
   "source": [
    "## การตรวจสอบว่าตัวอักษรทุกตัวในสตริงเป็นตัวอักษรภาษาไทย (รวมช่องว่าง)\n"
   ]
  },
  {
   "cell_type": "code",
   "execution_count": 21,
   "metadata": {},
   "outputs": [
    {
     "name": "stdout",
     "output_type": "stream",
     "text": [
      "isthai(s) = True\n"
     ]
    }
   ],
   "source": [
    "def isthai(s: str) -> bool:\n",
    "    # ฟังก์ชัน `isthai()` ใช้สำหรับตรวจสอบว่าสตริงนั้นมีเฉพาะตัวอักษรภาษาไทยรวมถึงช่องว่างหรือไม่\n",
    "    # Thai unicode: https://en.wikipedia.org/wiki/Thai_(Unicode_block)\n",
    "    for c in s:\n",
    "        if (not (0x0E01 <= ord(c) <= 0x0E5B)) and (c != \" \"):\n",
    "            return False\n",
    "    return True\n",
    "\n",
    "# ตัวอย่างการใช้งาน\n",
    "s = \"สวัสดี ไพทอน\"\n",
    "print(f\"isthai(s) = {isthai(s)}\")\n"
   ]
  },
  {
   "cell_type": "markdown",
   "metadata": {},
   "source": [
    "## การใช้ `f-string` เบื้องต้น\n"
   ]
  },
  {
   "cell_type": "code",
   "execution_count": 22,
   "metadata": {},
   "outputs": [
    {
     "name": "stdout",
     "output_type": "stream",
     "text": [
      "คุณสั่ง พิซซ่า ราคา 299 บาท ได้รับส่วนลด 10 บาท ราคาหลังหักส่วนลดเหลือ 289 บาท\n"
     ]
    }
   ],
   "source": [
    "food_name = \"พิซซ่า\"\n",
    "price = 299\n",
    "discount = 10\n",
    "order_message = f\"คุณสั่ง {food_name} ราคา {price} บาท ได้รับส่วนลด {discount} บาท ราคาหลังหักส่วนลดเหลือ {price - discount} บาท\"\n",
    "print(order_message)  # แสดงผล: คุณสั่ง พิซซ่า ราคา 299 บาท ได้รับส่วนลด 10 บาท ราคาหลังหักส่วนลดเหลือ 289 บาท\n"
   ]
  },
  {
   "cell_type": "markdown",
   "metadata": {},
   "source": [
    "## การใช้ `f-string` ในการกำหนดจำนวนทศนิยมที่ต้องการแสดง\n"
   ]
  },
  {
   "cell_type": "code",
   "execution_count": 23,
   "metadata": {},
   "outputs": [
    {
     "name": "stdout",
     "output_type": "stream",
     "text": [
      "ราคาสินค้า: 47.50 บาท\n"
     ]
    }
   ],
   "source": [
    "price = 47.5\n",
    "message = f\"ราคาสินค้า: {price:.2f} บาท\"\n",
    "print(message)  # แสดงผล: ราคาสินค้า: 47.50 บาท\n"
   ]
  },
  {
   "cell_type": "markdown",
   "metadata": {},
   "source": [
    "## การใช้ `f-string` ในการกำหนดความยาวของจำนวนเลขทั้งหมดและจำนวนเลขในส่วนทศนิยม\n"
   ]
  },
  {
   "cell_type": "code",
   "execution_count": 24,
   "metadata": {},
   "outputs": [
    {
     "name": "stdout",
     "output_type": "stream",
     "text": [
      "|1270.52|\n",
      "|1270.52|\n",
      "|   1270.52|\n",
      "|        1270.52|\n"
     ]
    }
   ],
   "source": [
    "amount = 1270.518\n",
    "print(f\"|{amount:.2f}|\") # ระบุเฉพาะจำนวนทศนิยมที่ต้องการแสดง\n",
    "print(f\"|{amount:3.2f}|\") # กรณีความยาวที่กำหนด 3.2f น้อยกว่าค่าที่จะแสดง\n",
    "print(f\"|{amount:10.2f}|\") # ความยาวทั้งหมด 10 ตัวอักษร โดยรวม `.` และตัวเลขหลังจุดทศนิยมด้วย\n",
    "print(f\"|{amount:15.2f}|\")\n"
   ]
  },
  {
   "cell_type": "markdown",
   "metadata": {},
   "source": [
    "## การใช้ `f-string` ในการกำหนดตัวเลขให้แสดงเป็นเปอร์เซ็นต์\n"
   ]
  },
  {
   "cell_type": "code",
   "execution_count": 25,
   "metadata": {},
   "outputs": [
    {
     "name": "stdout",
     "output_type": "stream",
     "text": [
      "อัตราความสำเร็จ: 90.250000%\n",
      "อัตราความสำเร็จ: 90.2%\n",
      "อัตราความสำเร็จ: 90.25%\n"
     ]
    }
   ],
   "source": [
    "success_rate = 0.9025\n",
    "print(f\"อัตราความสำเร็จ: {success_rate:%}\")  # แสดงผล: อัตราความสำเร็จ: 90.250000%\n",
    "print(f\"อัตราความสำเร็จ: {success_rate:.1%}\")  # แสดงผล: อัตราความสำเร็จ: 90.2%\n",
    "print(f\"อัตราความสำเร็จ: {success_rate:.2%}\")  # แสดงผล: อัตราความสำเร็จ: 90.25%\n"
   ]
  },
  {
   "cell_type": "markdown",
   "metadata": {},
   "source": [
    "## การใช้ `f-string` ในการกำหนดรูปแบบตัวเลขแบบมี `,` คั่นทุก ๆ 3 หลัก\n"
   ]
  },
  {
   "cell_type": "code",
   "execution_count": 26,
   "metadata": {},
   "outputs": [
    {
     "name": "stdout",
     "output_type": "stream",
     "text": [
      "amount = 1,275,000.758\n",
      "amount = 1,275,001\n",
      "amount = 1,275,000.8\n",
      "amount = 1,275,000.76\n",
      "amount =    1,275,000.76\n"
     ]
    }
   ],
   "source": [
    "amt = 1275000.758\n",
    "print(f\"amount = {amt:,}\")\n",
    "print(f\"amount = {amt:,.0f}\")\n",
    "print(f\"amount = {amt:,.1f}\")\n",
    "print(f\"amount = {amt:,.2f}\")\n",
    "print(f\"amount = {amt:15,.2f}\")\n"
   ]
  },
  {
   "cell_type": "markdown",
   "metadata": {},
   "source": [
    "## การกำหนดรูปแบบให้ชิดซ้าย ตรงกลาง หรือชิดขวา\n"
   ]
  },
  {
   "cell_type": "code",
   "execution_count": 27,
   "metadata": {},
   "outputs": [
    {
     "name": "stdout",
     "output_type": "stream",
     "text": [
      "|4,672.25|\n",
      "|          4,672.2532|\n",
      "|4,672.25            |\n",
      "|      4,672.25      |\n",
      "|            4,672.25|\n",
      "|Coding|\n",
      "|Coding              |\n",
      "|Coding              |\n",
      "|       Coding       |\n",
      "|              Coding|\n"
     ]
    }
   ],
   "source": [
    "v = 4672.2532\n",
    "print(f\"|{v:,.2f}|\")\n",
    "print(f\"|{v:20,}|\")\n",
    "print(f\"|{v:<20,.2f}|\") # ความยาวรวมเท่ากับ 20 ให้ชิดขอบซ้าย\n",
    "print(f\"|{v:^20,.2f}|\") # ความยาวรวมเท่ากับ 20 ให้อยู่ตรงกลาง\n",
    "print(f\"|{v:>20,.2f}|\") # ความยาวรวมเท่ากับ 20 ให้ชิดขอบขวา\n",
    "\n",
    "v = \"Coding\"\n",
    "print(f\"|{v:}|\")\n",
    "print(f\"|{v:20}|\")\n",
    "print(f\"|{v:<20}|\") # ความยาวรวมเท่ากับ 20 ให้ชิดขอบซ้าย\n",
    "print(f\"|{v:^20}|\") # ความยาวรวมเท่ากับ 20 ให้อยู่ตรงกลาง\n",
    "print(f\"|{v:>20}|\") # ความยาวรวมเท่ากับ 20 ให้ชิดขอบขวา\n"
   ]
  },
  {
   "cell_type": "markdown",
   "metadata": {},
   "source": [
    "## การใช้ `f-string` ในการการ pad ตัวเลข\n"
   ]
  },
  {
   "cell_type": "code",
   "execution_count": 28,
   "metadata": {},
   "outputs": [
    {
     "name": "stdout",
     "output_type": "stream",
     "text": [
      "|4,672.2532|\n",
      "|          4,672.2532|\n",
      "|4,672.2532          |\n",
      "|     4,672.2532     |\n",
      "|          4,672.2532|\n",
      "|4,672.2532++++++++++|\n",
      "|4,672.2532----------|\n",
      "|4,672.2532**********|\n",
      "|+++++4,672.2532+++++|\n",
      "|-----4,672.2532-----|\n",
      "|*****4,672.2532*****|\n",
      "|++++++++++4,672.2532|\n",
      "|----------4,672.2532|\n",
      "|**********4,672.2532|\n"
     ]
    }
   ],
   "source": [
    "v = 4672.2532\n",
    "print(f\"|{v:,}|\")\n",
    "print(f\"|{v:20,}|\")\n",
    "print(f\"|{v:<20,}|\")\n",
    "print(f\"|{v:^20,}|\")\n",
    "print(f\"|{v:>20,}|\")\n",
    "print(f\"|{v:+<20,}|\")\n",
    "print(f\"|{v:-<20,}|\")\n",
    "print(f\"|{v:*<20,}|\")\n",
    "print(f\"|{v:+^20,}|\")\n",
    "print(f\"|{v:-^20,}|\")\n",
    "print(f\"|{v:*^20,}|\")\n",
    "print(f\"|{v:+>20,}|\")\n",
    "print(f\"|{v:->20,}|\")\n",
    "print(f\"|{v:*>20,}|\")\n"
   ]
  },
  {
   "cell_type": "markdown",
   "metadata": {},
   "source": [
    "## การใช้ `f-string` ในการการ pad ตัวอักษร\n"
   ]
  },
  {
   "cell_type": "code",
   "execution_count": 29,
   "metadata": {},
   "outputs": [
    {
     "name": "stdout",
     "output_type": "stream",
     "text": [
      "|Coding|\n",
      "|Coding              |\n",
      "|       Coding       |\n",
      "|              Coding|\n",
      "|Coding              |\n",
      "|Coding++++++++++++++|\n",
      "|Coding--------------|\n",
      "|Coding**************|\n",
      "|+++++++Coding+++++++|\n",
      "|-------Coding-------|\n",
      "|*******Coding*******|\n",
      "|++++++++++++++Coding|\n",
      "|--------------Coding|\n",
      "|**************Coding|\n"
     ]
    }
   ],
   "source": [
    "v = \"Coding\"\n",
    "print(f\"|{v:}|\")\n",
    "print(f\"|{v:20}|\")\n",
    "print(f\"|{v:^20}|\")\n",
    "print(f\"|{v:>20}|\")\n",
    "print(f\"|{v:<20}|\")\n",
    "print(f\"|{v:+<20}|\")\n",
    "print(f\"|{v:-<20}|\")\n",
    "print(f\"|{v:*<20}|\")\n",
    "print(f\"|{v:+^20}|\")\n",
    "print(f\"|{v:-^20}|\")\n",
    "print(f\"|{v:*^20}|\")\n",
    "print(f\"|{v:+>20}|\")\n",
    "print(f\"|{v:->20}|\")\n",
    "print(f\"|{v:*>20}|\")\n"
   ]
  },
  {
   "cell_type": "markdown",
   "metadata": {},
   "source": [
    "## การใส่ศูนย์ (`0`) นำหน้าตัวเลขเพื่อให้สตริงมีความยาวตามที่ต้องการ\n"
   ]
  },
  {
   "cell_type": "code",
   "execution_count": 30,
   "metadata": {},
   "outputs": [
    {
     "name": "stdout",
     "output_type": "stream",
     "text": [
      "025\n",
      "00025\n",
      "007\n"
     ]
    }
   ],
   "source": [
    "invoice_num = 25\n",
    "print(f\"{invoice_num:03}\")\n",
    "print(f\"{invoice_num:05}\")\n",
    "print(f\"{7:03}\")\n"
   ]
  },
  {
   "cell_type": "markdown",
   "metadata": {},
   "source": [
    "## การใช้ `\\n` เพื่อต้องการให้มีการขึ้นบรรทัดใหม่ในสตริง\n"
   ]
  },
  {
   "cell_type": "code",
   "execution_count": 31,
   "metadata": {},
   "outputs": [
    {
     "name": "stdout",
     "output_type": "stream",
     "text": [
      "ต้มยำ\n",
      "กุ้งไข่เจียว\n",
      "หมูแดดเดียว\n",
      "ไก่ย่าง\n"
     ]
    }
   ],
   "source": [
    "menus=\"ต้มยำ\\nกุ้งไข่เจียว\\nหมูแดดเดียว\\nไก่ย่าง\"\n",
    "print(menus)\n"
   ]
  },
  {
   "cell_type": "markdown",
   "metadata": {},
   "source": [
    "## การใช้งาน `raw string` กับตำแหน่งที่ตั้งของไฟล์\n"
   ]
  },
  {
   "cell_type": "code",
   "execution_count": 32,
   "metadata": {},
   "outputs": [
    {
     "name": "stdout",
     "output_type": "stream",
     "text": [
      "string1 = C:\\north\\thai\\2563\\filename.txt\n",
      "string2 = C:\\north\\thai\\2563\\filename.txt\n"
     ]
    }
   ],
   "source": [
    "# สตริงปกติ\n",
    "string1 = \"C:\\\\north\\\\thai\\\\2563\\\\filename.txt\"\n",
    "print(f\"string1 = {string1}\") # ผลลัพธ์: C:\\north\\thai\\2563\\filename.txt\n",
    "\n",
    "# Raw string เพื่ออ้างถึงไฟล์บน Windows ที่ใช้ \\ เป็นตัวแบ่ง folder\n",
    "string2 = r\"C:\\north\\thai\\2563\\filename.txt\" # จงใจให้มี \\n, \\t และ \\f อยู่ในสตริง\n",
    "print(f\"string2 = {string2}\") # ผลลัพธ์: C:\\north\\thai\\2563\\filename.txt\n"
   ]
  },
  {
   "cell_type": "markdown",
   "metadata": {},
   "source": [
    "## การใช้งาน `raw string` กับ `\\n`\n"
   ]
  },
  {
   "cell_type": "code",
   "execution_count": 33,
   "metadata": {},
   "outputs": [
    {
     "name": "stdout",
     "output_type": "stream",
     "text": [
      "------------------------------\n",
      "Hello\n",
      "World\n",
      "------------------------------\n",
      "Hello\\nWorld\n",
      "------------------------------\n",
      "Hello\\nWorld\n"
     ]
    }
   ],
   "source": [
    "# ใช้ในการแสดงผลพิเศษ\n",
    "print('-' * 30)\n",
    "print(\"Hello\\nWorld\")\n",
    "print('-' * 30)\n",
    "\n",
    "print(\"Hello\\\\nWorld\") # ใช้ \\ นำหน้า \\n อีกทีนึง\n",
    "print('-' * 30)\n",
    "\n",
    "print(r\"Hello\\nWorld\") # \\n ถูกมองเป็นตัวอักษรปกติมิใช่ newline\n"
   ]
  },
  {
   "cell_type": "markdown",
   "metadata": {},
   "source": [
    "## การใช้งาน `raw string` กับ `\\t`\n"
   ]
  },
  {
   "cell_type": "code",
   "execution_count": 34,
   "metadata": {},
   "outputs": [
    {
     "name": "stdout",
     "output_type": "stream",
     "text": [
      "pc\ttablet\tnotebook\n",
      "pc\\ttablet\\tnotebook\n"
     ]
    }
   ],
   "source": [
    "print(\"pc\\ttablet\\tnotebook\") # \\t คือ tab character\n",
    "print(r\"pc\\ttablet\\tnotebook\") # \\t ถูกมองเป็นตัวอักษรปกติมิใช่ tab\n"
   ]
  },
  {
   "cell_type": "markdown",
   "metadata": {},
   "source": [
    "## การดึงส่วนของสตริงด้วย slicing\n"
   ]
  },
  {
   "cell_type": "code",
   "execution_count": 35,
   "metadata": {},
   "outputs": [
    {
     "name": "stdout",
     "output_type": "stream",
     "text": [
      "text[0]     -> r\n",
      "text[1]     -> a\n",
      "text[-1]    -> w\n",
      "text[0:4]   -> rain\n",
      "text[4:]    -> bow\n",
      "text[-3:]   -> bow\n",
      "text[::2]   -> ribw\n",
      "text[1:5:2] -> an\n",
      "text[::-1]  -> wobniar\n"
     ]
    }
   ],
   "source": [
    "text = \"rainbow\"\n",
    "print(f\"text[0]     -> {text[0]}\")  # แสดงผล: r\n",
    "print(f\"text[1]     -> {text[1]}\")  # แสดงผล: a\n",
    "print(f\"text[-1]    -> {text[-1]}\")  # แสดงผล: w\n",
    "print(f\"text[0:4]   -> {text[0:4]}\")  # แสดงผล: rain\n",
    "print(f\"text[4:]    -> {text[4:]}\")  # แสดงผล: bow (ดึงตั้งแต่ตัวที่ 4 ไปจนสุดสตริง)\n",
    "print(f\"text[-3:]   -> {text[-3:]}\")  # แสดงผล: bow  (ดึง 3 ตัวอักษรสุดท้าย)\n",
    "print(f\"text[::2]   -> {text[::2]}\")  # แสดงผล: ribw (ดึงตัวเว้นตัว)\n",
    "print(f\"text[1:5:2] -> {text[1:5:2]}\")  # แสดงผล: an\n",
    "print(f\"text[::-1]  -> {text[::-1]}\")  # แสดงผล: wobniar\n"
   ]
  },
  {
   "cell_type": "markdown",
   "metadata": {},
   "source": [
    "## การดึงส่วนของสตริงที่เก็บวันที่แบบ `yyyy-mm-dd`\n"
   ]
  },
  {
   "cell_type": "code",
   "execution_count": 36,
   "metadata": {},
   "outputs": [
    {
     "name": "stdout",
     "output_type": "stream",
     "text": [
      "2022 01 15\n"
     ]
    }
   ],
   "source": [
    "date = \"2022-01-15\"\n",
    "year = date[:4]\n",
    "month = date[5:7]\n",
    "day = date[8:]\n",
    "print(year, month, day)  # แสดงผล: 2022 01 15\n"
   ]
  },
  {
   "cell_type": "markdown",
   "metadata": {},
   "source": [
    "## การซ่อนบางส่วนของหมายเลขโทรศัพท์\n"
   ]
  },
  {
   "cell_type": "code",
   "execution_count": 37,
   "metadata": {},
   "outputs": [
    {
     "name": "stdout",
     "output_type": "stream",
     "text": [
      "08*****890\n"
     ]
    }
   ],
   "source": [
    "phone_number = \"0894567890\"\n",
    "print(f\"{phone_number[:2]}{'*' * 5}{phone_number[-3:]}\")\n"
   ]
  },
  {
   "cell_type": "markdown",
   "metadata": {},
   "source": [
    "## การแปลงตัวอักษรเป็นรหัส ASCII และแปลงรหัส ASCII เป็นตัวอักษร\n"
   ]
  },
  {
   "cell_type": "code",
   "execution_count": 38,
   "metadata": {},
   "outputs": [
    {
     "name": "stdout",
     "output_type": "stream",
     "text": [
      "A 65\n",
      "a 97\n"
     ]
    }
   ],
   "source": [
    "# แปลงตัวอักษรเป็นรหัส ASCII\n",
    "char = 'A'\n",
    "ascii_code = ord(char)\n",
    "print(char, ascii_code)  # ผลลัพธ์: A 65\n",
    "\n",
    "# แปลงรหัส ASCII เป็นตัวอักษร\n",
    "ascii_code = 97\n",
    "char = chr(ascii_code)\n",
    "print(char, ascii_code)  # ผลลัพธ์: a 97\n"
   ]
  },
  {
   "cell_type": "markdown",
   "metadata": {},
   "source": [
    "## การสร้างตาราง ASCII เริ่มจากรหัส 32-127\n"
   ]
  },
  {
   "cell_type": "code",
   "execution_count": 39,
   "metadata": {},
   "outputs": [
    {
     "name": "stdout",
     "output_type": "stream",
     "text": [
      " 32 0X20    |  33 0X21  ! |  34 0X22  \" |  35 0X23  # |  36 0X24  $ |  37 0X25  % |  38 0X26  & |  39 0X27  ' | \n",
      " 40 0X28  ( |  41 0X29  ) |  42 0X2A  * |  43 0X2B  + |  44 0X2C  , |  45 0X2D  - |  46 0X2E  . |  47 0X2F  / | \n",
      " 48 0X30  0 |  49 0X31  1 |  50 0X32  2 |  51 0X33  3 |  52 0X34  4 |  53 0X35  5 |  54 0X36  6 |  55 0X37  7 | \n",
      " 56 0X38  8 |  57 0X39  9 |  58 0X3A  : |  59 0X3B  ; |  60 0X3C  < |  61 0X3D  = |  62 0X3E  > |  63 0X3F  ? | \n",
      " 64 0X40  @ |  65 0X41  A |  66 0X42  B |  67 0X43  C |  68 0X44  D |  69 0X45  E |  70 0X46  F |  71 0X47  G | \n",
      " 72 0X48  H |  73 0X49  I |  74 0X4A  J |  75 0X4B  K |  76 0X4C  L |  77 0X4D  M |  78 0X4E  N |  79 0X4F  O | \n",
      " 80 0X50  P |  81 0X51  Q |  82 0X52  R |  83 0X53  S |  84 0X54  T |  85 0X55  U |  86 0X56  V |  87 0X57  W | \n",
      " 88 0X58  X |  89 0X59  Y |  90 0X5A  Z |  91 0X5B  [ |  92 0X5C  \\ |  93 0X5D  ] |  94 0X5E  ^ |  95 0X5F  _ | \n",
      " 96 0X60  ` |  97 0X61  a |  98 0X62  b |  99 0X63  c | 100 0X64  d | 101 0X65  e | 102 0X66  f | 103 0X67  g | \n",
      "104 0X68  h | 105 0X69  i | 106 0X6A  j | 107 0X6B  k | 108 0X6C  l | 109 0X6D  m | 110 0X6E  n | 111 0X6F  o | \n",
      "112 0X70  p | 113 0X71  q | 114 0X72  r | 115 0X73  s | 116 0X74  t | 117 0X75  u | 118 0X76  v | 119 0X77  w | \n",
      "120 0X78  x | 121 0X79  y | 122 0X7A  z | 123 0X7B  { | 124 0X7C  | | 125 0X7D  } | 126 0X7E  ~ | 127 0X7F   | \n"
     ]
    }
   ],
   "source": [
    "for i in range(32, 128, 8):\n",
    "    for j in range(8):\n",
    "        ascii_code = i + j\n",
    "        char = chr(ascii_code)\n",
    "        print(f\"{ascii_code:3} 0X{ascii_code:2X}  {char} |\", end = ' ')\n",
    "    print()\n"
   ]
  },
  {
   "cell_type": "markdown",
   "metadata": {},
   "source": [
    "## การแสดงรหัส Unicode ของตัวอักษร `ก` ถึง `ค`\n"
   ]
  },
  {
   "cell_type": "code",
   "execution_count": 40,
   "metadata": {},
   "outputs": [
    {
     "name": "stdout",
     "output_type": "stream",
     "text": [
      "|  dec  |  hex | value |\n",
      "|------:|-----:|:-----:|\n",
      "|  3585 | 0xE01|   ก   |\n",
      "|  3586 | 0xE02|   ข   |\n",
      "|  3587 | 0xE03|   ฃ   |\n",
      "|  3588 | 0xE04|   ค   |\n"
     ]
    }
   ],
   "source": [
    "print(\"|  dec  |  hex | value |\")\n",
    "print(\"|------:|-----:|:-----:|\")\n",
    "for unicode_code in range(ord('ก'), ord('ค') + 1):\n",
    "    c = chr(unicode_code)\n",
    "    print(f\"| {unicode_code:5} | 0x{unicode_code:3X}| {c:^5} |\")\n"
   ]
  },
  {
   "cell_type": "markdown",
   "metadata": {},
   "source": [
    "## การแสดง Unicode ของอักขระภาษาไทย\n"
   ]
  },
  {
   "cell_type": "code",
   "execution_count": 41,
   "metadata": {},
   "outputs": [
    {
     "name": "stdout",
     "output_type": "stream",
     "text": [
      "0E00   |  0E01 ก |  0E02 ข |  0E03 ฃ |  0E04 ค |  0E05 ฅ |  0E06 ฆ |  0E07 ง |  \n",
      "0E08 จ |  0E09 ฉ |  0E0A ช |  0E0B ซ |  0E0C ฌ |  0E0D ญ |  0E0E ฎ |  0E0F ฏ |  \n",
      "0E10 ฐ |  0E11 ฑ |  0E12 ฒ |  0E13 ณ |  0E14 ด |  0E15 ต |  0E16 ถ |  0E17 ท |  \n",
      "0E18 ธ |  0E19 น |  0E1A บ |  0E1B ป |  0E1C ผ |  0E1D ฝ |  0E1E พ |  0E1F ฟ |  \n",
      "0E20 ภ |  0E21 ม |  0E22 ย |  0E23 ร |  0E24 ฤ |  0E25 ล |  0E26 ฦ |  0E27 ว |  \n",
      "0E28 ศ |  0E29 ษ |  0E2A ส |  0E2B ห |  0E2C ฬ |  0E2D อ |  0E2E ฮ |  0E2F ฯ |  \n",
      "0E30 ะ |  0E31 ั |  0E32 า |  0E33 ำ |  0E34 ิ |  0E35 ี |  0E36 ึ |  0E37 ื |  \n",
      "0E38 ุ |  0E39 ู |  0E3A ฺ |  0E3B   |  0E3C   |  0E3D   |  0E3E   |  0E3F ฿ |  \n",
      "0E40 เ |  0E41 แ |  0E42 โ |  0E43 ใ |  0E44 ไ |  0E45 ๅ |  0E46 ๆ |  0E47 ็ |  \n",
      "0E48 ่ |  0E49 ้ |  0E4A ๊ |  0E4B ๋ |  0E4C ์ |  0E4D ํ |  0E4E ๎ |  0E4F ๏ |  \n",
      "0E50 ๐ |  0E51 ๑ |  0E52 ๒ |  0E53 ๓ |  0E54 ๔ |  0E55 ๕ |  0E56 ๖ |  0E57 ๗ |  \n",
      "0E58 ๘ |  0E59 ๙ |  0E5A ๚ |  0E5B ๛ |  \n"
     ]
    }
   ],
   "source": [
    "for i in range(0x0e00, 0x0e5c, 8):\n",
    "    for j in range(8):\n",
    "        unicode_code = i + j\n",
    "        if unicode_code > 0x0e5b:\n",
    "            break\n",
    "        char = chr(unicode_code) if chr(unicode_code).isprintable() else ' '\n",
    "        print(f\"{unicode_code:04X} {char} | \", end = ' ')\n",
    "    print()\n"
   ]
  },
  {
   "cell_type": "markdown",
   "metadata": {},
   "source": [
    "## การใช้ Unicode แบบ 16 และ 32 บิท\n"
   ]
  },
  {
   "cell_type": "code",
   "execution_count": 42,
   "metadata": {},
   "outputs": [
    {
     "name": "stdout",
     "output_type": "stream",
     "text": [
      "A A\n",
      "😃 😃\n",
      "🎈 🎈\n",
      "A 65: 41 A\n",
      "ก 3585: E01 ก\n",
      "😃 128515: 1F603 😃\n",
      "🙈 128584: 1F648 🙈\n",
      "🙉 128585: 1F649 🙉\n",
      "🙊 128586: 1F64A 🙊\n"
     ]
    }
   ],
   "source": [
    "print(chr(65), '\\u0041')  # ผลลัพธ์: A A\n",
    "print(chr(128515), '\\U0001F603')  # ผลลัพธ์: 😃 😃\n",
    "print(chr(127880), '\\U0001F388')  # ผลลัพธ์: 🎈 🎈\n",
    "\n",
    "print(f\"A {ord('A')}: {ord('A'):X}\", chr(ord('A')))  \n",
    "print(f\"ก {ord('ก')}: {ord('ก'):X}\", chr(ord('ก')))  \n",
    "print(f\"😃 {ord('😃')}: {ord('😃'):X}\", chr(ord('😃')))\n",
    "print(f\"🙈 {ord('🙈')}: {ord('🙈'):X}\", chr(ord('🙈')))\n",
    "print(f\"🙉 {ord('🙉')}: {ord('🙉'):X}\", chr(ord('🙉')))\n",
    "print(f\"🙊 {ord('🙊')}: {ord('🙊'):X}\", chr(ord('🙊')))\n"
   ]
  },
  {
   "cell_type": "markdown",
   "metadata": {},
   "source": [
    "## การแสดง emotional faces ต่าง ๆ ด้วยลูป `for` ด้วยเลขฐาน 10 และ 16\n"
   ]
  },
  {
   "cell_type": "code",
   "execution_count": 43,
   "metadata": {},
   "outputs": [
    {
     "name": "stdout",
     "output_type": "stream",
     "text": [
      "😃 😄 😅 😆 😇 😈 😉 😊 😋 😌 😍 😎 😏 😐 😑 😒 😓 😔 😕 😖 \n",
      "😃 😄 😅 😆 😇 😈 😉 😊 😋 😌 😍 😎 😏 😐 😑 😒 😓 😔 😕 😖 \n",
      "😃 😄 😅 😆 😇 😈 😉 😊 😋 😌 😍 😎 😏 😐 😑 😒 😓 😔 😕 😖 "
     ]
    }
   ],
   "source": [
    "for ucode in range(128515, 128535): # ใช้เลขฐาน 10\n",
    "    print(chr(ucode), end=' ')\n",
    "print()\n",
    "for ucode in range(0x1F603, 0x1F617): # ใช้เลขฐาน 16 (นำหน้าด้วย 0x)\n",
    "    print(chr(ucode), end=' ')\n",
    "print()\n",
    "for ucode in range(ord('😃'), ord('😖') + 1): # แปลงให้เป็น unicode ด้วย ord()\n",
    "    print(chr(ucode), end=' ')\n"
   ]
  },
  {
   "cell_type": "markdown",
   "metadata": {},
   "source": [
    "## สุ่มเพื่อแสดง emotional face\n"
   ]
  },
  {
   "cell_type": "code",
   "execution_count": 44,
   "metadata": {},
   "outputs": [
    {
     "name": "stdout",
     "output_type": "stream",
     "text": [
      "I'm feeling 😌.\n"
     ]
    }
   ],
   "source": [
    "import random\n",
    "r = random.randrange(128515, 128535)\n",
    "print(f\"I'm feeling {chr(r)}.\")"
   ]
  },
  {
   "cell_type": "markdown",
   "metadata": {},
   "source": [
    "# แบบฝึกหัด"
   ]
  },
  {
   "cell_type": "markdown",
   "metadata": {},
   "source": [
    "1. เขียนโค้ดเพื่อสร้างรหัสสถานีรถไฟฟ้าสายสีม่วงจำนวน 16 สถานี เริ่มจาก 'PP01' - 'PP16'\n"
   ]
  },
  {
   "cell_type": "code",
   "execution_count": 45,
   "metadata": {},
   "outputs": [
    {
     "name": "stdout",
     "output_type": "stream",
     "text": [
      "PP01 PP02 PP03 PP04 PP05 PP06 PP07 PP08 PP09 PP10 PP11 PP12 PP13 PP14 PP15 PP16 "
     ]
    }
   ],
   "source": [
    "for station_no in range(1, 17):\n",
    "    print(f\"PP{station_no:02}\", end=' ')\n"
   ]
  },
  {
   "cell_type": "markdown",
   "metadata": {},
   "source": [
    "2. เขียนโค้ดเพื่อแยกส่วนของรหัสนิสิตที่อยู่ในรูปแบบ\n",
    "\n",
    "`yyznnnncff` โดยที่\n",
    "\n",
    "- `yy` = ปี\n",
    "- `z` = สายวิชา\n",
    "- `nnnn` = เลขรหัส\n",
    "- `c` = ตัวเลขตรวจสอบ\n",
    "- `ff` = รหัสคณะ\n"
   ]
  },
  {
   "cell_type": "code",
   "execution_count": 46,
   "metadata": {},
   "outputs": [
    {
     "name": "stdout",
     "output_type": "stream",
     "text": [
      "66 2 1357 0 26\n"
     ]
    }
   ],
   "source": [
    "student_id = \"6621357026\"\n",
    "yy = student_id[:2]\n",
    "z = student_id[2:3]\n",
    "nnnn = student_id[3:7]\n",
    "c = student_id[7:8]\n",
    "ff = student_id[-2:]\n",
    "print(yy, z, nnnn, c, ff)\n"
   ]
  },
  {
   "cell_type": "markdown",
   "metadata": {},
   "source": [
    "3. เขียนโค้ดเพื่อลบตัวอักษรที่ไม่ใช่ตัวเลขออกจากสตริง\n"
   ]
  },
  {
   "cell_type": "code",
   "execution_count": 47,
   "metadata": {},
   "outputs": [
    {
     "name": "stdout",
     "output_type": "stream",
     "text": [
      "0891234711\n"
     ]
    }
   ],
   "source": [
    "string = \"(089) 123-4711\"\n",
    "result = \"\"\n",
    "for char in string:\n",
    "    if char.isdigit():\n",
    "        result += char\n",
    "print(result)\n"
   ]
  },
  {
   "cell_type": "markdown",
   "metadata": {},
   "source": [
    "4. เขียนโค้ดเพื่อแปลงตัวเลขอารบิกให้เป็นเลขไทย\n"
   ]
  },
  {
   "cell_type": "code",
   "execution_count": 48,
   "metadata": {},
   "outputs": [
    {
     "name": "stdout",
     "output_type": "stream",
     "text": [
      "mobile: (๐๘๙) ๑๒๓-๔๗๑๑\n"
     ]
    }
   ],
   "source": [
    "string = \"mobile: (089) 123-4711\"\n",
    "result = \"\"\n",
    "for char in string:\n",
    "    if char.isdigit():\n",
    "        result += chr(int(char) + ord(\"๐\"))\n",
    "    else:\n",
    "        result += char\n",
    "print(result)\n"
   ]
  }
 ],
 "metadata": {
  "kernelspec": {
   "display_name": "base",
   "language": "python",
   "name": "python3"
  },
  "language_info": {
   "codemirror_mode": {
    "name": "ipython",
    "version": 3
   },
   "file_extension": ".py",
   "mimetype": "text/x-python",
   "name": "python",
   "nbconvert_exporter": "python",
   "pygments_lexer": "ipython3",
   "version": "3.11.4"
  },
  "orig_nbformat": 4
 },
 "nbformat": 4,
 "nbformat_minor": 2
}
