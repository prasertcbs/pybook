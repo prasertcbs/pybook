{
 "cells": [
  {
   "cell_type": "markdown",
   "metadata": {},
   "source": [
    "# บทที่ 11. ดิกชันนารี (`dict`)\n",
    "- ตำรา: Python: ใคร ๆ ก็เขียนโปรแกรมได้\n",
    "- ผู้แต่ง: รศ.ดร. ประเสริฐ คณาวัฒนไชย"
   ]
  },
  {
   "cell_type": "markdown",
   "metadata": {},
   "source": [
    "## การสร้างพจนานุกรมอังกฤษ-ไทยอย่างง่าย\n"
   ]
  },
  {
   "cell_type": "code",
   "execution_count": 1,
   "metadata": {},
   "outputs": [
    {
     "name": "stdout",
     "output_type": "stream",
     "text": [
      "vocabulary[\"Hello\"] = สวัสดี\n",
      "vocabulary[\"Food\"] = อาหาร\n"
     ]
    }
   ],
   "source": [
    "vocabulary = {\n",
    "    \"Hello\": \"สวัสดี\",\n",
    "    \"Thank you\": \"ขอบคุณ\",\n",
    "    \"Excuse me\": \"ขอโทษ\",\n",
    "    \"Sorry\": \"ขอโทษ\",\n",
    "    \"Goodbye\": \"ลาก่อน\",\n",
    "    \"Yes\": \"ใช่\",\n",
    "    \"No\": \"ไม่\",\n",
    "    \"Please\": \"กรุณา\",\n",
    "    \"Help\": \"ช่วยด้วย\",\n",
    "    \"How much\": \"เท่าไหร่\",\n",
    "    \"I need\": \"ฉันต้องการ\",\n",
    "    \"Food\": \"อาหาร\",\n",
    "    \"Water\": \"น้ำ\",\n",
    "    \"Hotel\": \"โรงแรม\",\n",
    "    \"Hospital\": \"โรงพยาบาล\",\n",
    "}\n",
    "\n",
    "# ตัวอย่างการเข้าถึงค่าในพจนานุกรม\n",
    "print(f'vocabulary[\"Hello\"] = {vocabulary[\"Hello\"]}')  # สวัสดี\n",
    "print(f'vocabulary[\"Food\"] = {vocabulary[\"Food\"]}')  # อาหาร\n"
   ]
  },
  {
   "cell_type": "markdown",
   "metadata": {},
   "source": [
    "## การสร้างพจนานุกรมอังกฤษ-ไทยอย่างง่าย พร้อมการอ่านออกเสียง\n"
   ]
  },
  {
   "cell_type": "code",
   "execution_count": 2,
   "metadata": {},
   "outputs": [
    {
     "name": "stdout",
     "output_type": "stream",
     "text": [
      "vocabulary['Hello'] = {'meaning': 'สวัสดี', 'pronunciation': 'sawatdee'}\n",
      "vocabulary['Hello']['meaning'] = สวัสดี\n",
      "vocabulary['Hello']['pronunciation'] = sawatdee\n"
     ]
    }
   ],
   "source": [
    "vocabulary = {\n",
    "    'Hello': {'meaning': 'สวัสดี', 'pronunciation': 'sawatdee'},\n",
    "    'Thank you': {'meaning': 'ขอบคุณ', 'pronunciation': 'khop khun'},\n",
    "    'Excuse me': {'meaning': 'ขอโทษ', 'pronunciation': 'khor thot'},\n",
    "    'Sorry': {'meaning': 'ขอโทษ', 'pronunciation': 'khor thot'},\n",
    "    'Goodbye': {'meaning': 'ลาก่อน', 'pronunciation': 'laa gon'},\n",
    "    'Yes': {'meaning': 'ใช่', 'pronunciation': 'chai'},\n",
    "    'No': {'meaning': 'ไม่', 'pronunciation': 'mai'},\n",
    "    'Please': {'meaning': 'กรุณา', 'pronunciation': 'ga-root-na'},\n",
    "    'Help': {'meaning': 'ช่วยด้วย', 'pronunciation': 'chuay duay'},\n",
    "    'How much': {'meaning': 'เท่าไหร่', 'pronunciation': 'tao rai'},\n",
    "    'I need': {'meaning': 'ฉันต้องการ', 'pronunciation': 'chan dtawng gaan'},\n",
    "    'Food': {'meaning': 'อาหาร', 'pronunciation': 'a-han'},\n",
    "    'Water': {'meaning': 'น้ำ', 'pronunciation': 'nam'},\n",
    "    'Hotel': {'meaning': 'โรงแรม', 'pronunciation': 'rong raem'},\n",
    "    'Hospital': {'meaning': 'โรงพยาบาล', 'pronunciation': 'rong-pa-ya-baan'}\n",
    "}\n",
    "\n",
    "# ตัวอย่างการเข้าถึงค่าในพจนานุกรม\n",
    "print(f\"vocabulary['Hello'] = {vocabulary['Hello']}\")  # {'meaning': 'สวัสดี', 'pronunciation': 'sawatdee'}\n",
    "print(f\"vocabulary['Hello']['meaning'] = {vocabulary['Hello']['meaning']}\")  # สวัสดี\n",
    "print(f\"vocabulary['Hello']['pronunciation'] = {vocabulary['Hello']['pronunciation']}\")  # sawatdee\n"
   ]
  },
  {
   "cell_type": "markdown",
   "metadata": {},
   "source": [
    "## การสร้างพจนานุกรมอังกฤษ-ไทย ที่คำหนึ่งคำมีหลายความหมาย\n"
   ]
  },
  {
   "cell_type": "code",
   "execution_count": 3,
   "metadata": {},
   "outputs": [
    {
     "name": "stdout",
     "output_type": "stream",
     "text": [
      "vocabulary[\"will\"] = ['จะ', 'ความตั้งใจ', 'พินัยกรรม']\n"
     ]
    }
   ],
   "source": [
    "vocabulary = {\n",
    "    \"will\": [\"จะ\", \"ความตั้งใจ\", \"พินัยกรรม\"],\n",
    "    \"right\": [\"ขวา\", \"เหมาะสม\", \"สิทธิ์\"],\n",
    "    \"patient\": [\"ผู้ป่วย\", \"อดทน\"]\n",
    "}\n",
    "print(f'vocabulary[\"will\"] = {vocabulary[\"will\"]}')\n"
   ]
  },
  {
   "cell_type": "markdown",
   "metadata": {},
   "source": [
    "## การสร้าง `dict`\n"
   ]
  },
  {
   "cell_type": "code",
   "execution_count": 4,
   "metadata": {},
   "outputs": [
    {
     "name": "stdout",
     "output_type": "stream",
     "text": [
      "my_dict = {'key1': 'value1', 'key2': 'value2', 'key3': 'value3'}\n",
      "vocabulary = {'Hello': 'สวัสดี', 'Thank you': 'ขอบคุณ'}\n",
      "num_text = {0: 'zero', 1: 'one', 2: 'two'}\n"
     ]
    }
   ],
   "source": [
    "my_dict = {\"key1\": \"value1\", \"key2\": \"value2\", \"key3\": \"value3\"}\n",
    "print(f'my_dict = {my_dict}')\n",
    "vocabulary = {'Hello': 'สวัสดี', 'Thank you': 'ขอบคุณ'}\n",
    "print(f'vocabulary = {vocabulary}')\n",
    "num_text = {0: 'zero', 1: 'one', 2: 'two'} # key ที่เป็นตัวเลข\n",
    "print(f'num_text = {num_text}')\n"
   ]
  },
  {
   "cell_type": "markdown",
   "metadata": {},
   "source": [
    "## การเข้าถึงค่า (value) ใน `dict`\n"
   ]
  },
  {
   "cell_type": "code",
   "execution_count": 5,
   "metadata": {},
   "outputs": [
    {
     "name": "stdout",
     "output_type": "stream",
     "text": [
      "value = 50\n"
     ]
    }
   ],
   "source": [
    "my_dict = {'mocha': 40, 'latte': 50, 'espresso': 30}\n",
    "value = my_dict[\"latte\"]\n",
    "print(f'value = {value}')\n"
   ]
  },
  {
   "cell_type": "markdown",
   "metadata": {},
   "source": [
    "## การเพิ่มสมาชิกใหม่และแก้ไขค่า (value) ใน `dict`\n"
   ]
  },
  {
   "cell_type": "code",
   "execution_count": 6,
   "metadata": {},
   "outputs": [
    {
     "name": "stdout",
     "output_type": "stream",
     "text": [
      "my_dict = {'mocha': 40, 'latte': 50, 'espresso': 30}\n",
      "my_dict (after adding americano) = {'mocha': 40, 'latte': 50, 'espresso': 30, 'americano': 25}\n",
      "my_dict (after updating latte)   = {'mocha': 40, 'latte': 69, 'espresso': 30, 'americano': 25}\n"
     ]
    }
   ],
   "source": [
    "my_dict = {'mocha': 40, 'latte': 50, 'espresso': 30}\n",
    "print(f'my_dict = {my_dict}')\n",
    "\n",
    "my_dict[\"americano\"] = 25 # americano ยังไม่มีอยู่ก่อนหน้า จึงถือเป็นการเพิ่ม 'americano': 25 เข้าไป\n",
    "print(f'my_dict (after adding americano) = {my_dict}')\n",
    "\n",
    "my_dict[\"latte\"] = 69 # latte มีอยู่ก่อนหน้า จึงเป็นการปรับค่าจาก 50 เป็น 69\n",
    "print(f'my_dict (after updating latte)   = {my_dict}')\n"
   ]
  },
  {
   "cell_type": "markdown",
   "metadata": {},
   "source": [
    "## การลบ key-value pair\n"
   ]
  },
  {
   "cell_type": "code",
   "execution_count": 7,
   "metadata": {},
   "outputs": [
    {
     "name": "stdout",
     "output_type": "stream",
     "text": [
      "my_dict = {'mocha': 40, 'latte': 50, 'espresso': 30}\n",
      "my_dict (after delete latte) = {'mocha': 40, 'espresso': 30}\n"
     ]
    }
   ],
   "source": [
    "my_dict = {'mocha': 40, 'latte': 50, 'espresso': 30}\n",
    "print(f'my_dict = {my_dict}')\n",
    "key = \"latte\"\n",
    "del my_dict[key]\n",
    "print(f'my_dict (after delete latte) = {my_dict}')\n"
   ]
  },
  {
   "cell_type": "markdown",
   "metadata": {},
   "source": [
    "## การตรวจสอบความมีอยู่ของ `key`\n"
   ]
  },
  {
   "cell_type": "code",
   "execution_count": 8,
   "metadata": {},
   "outputs": [
    {
     "name": "stdout",
     "output_type": "stream",
     "text": [
      "value my_dict[\"latte\"] is 50\n"
     ]
    }
   ],
   "source": [
    "my_dict = {'mocha': 40, 'latte': 50, 'espresso': 30}\n",
    "key = \"latte\"\n",
    "if key in my_dict.keys():\n",
    "    print(f'value my_dict[\"{key}\"] is {my_dict[key]}')\n"
   ]
  },
  {
   "cell_type": "markdown",
   "metadata": {},
   "source": [
    "## การเปรียบเทียบว่าตัวแปร `dict` เหมือนกันหรือไม่\n"
   ]
  },
  {
   "cell_type": "code",
   "execution_count": 9,
   "metadata": {},
   "outputs": [
    {
     "name": "stdout",
     "output_type": "stream",
     "text": [
      "dict_a = {'mocha': 40, 'latte': 50, 'espresso': 30}\n",
      "dict_b = {'espresso': 30, 'latte': 50, 'mocha': 40}\n",
      "dict_a == dict_b: True\n"
     ]
    }
   ],
   "source": [
    "dict_a = {'mocha': 40, 'latte': 50, 'espresso': 30}\n",
    "dict_b = {'espresso': 30, 'latte': 50, 'mocha': 40}\n",
    "print(f'dict_a = {dict_a}')\n",
    "print(f'dict_b = {dict_b}')\n",
    "print(f'dict_a == dict_b: {dict_a == dict_b}')\n"
   ]
  },
  {
   "cell_type": "markdown",
   "metadata": {},
   "source": [
    "## การเข้าถึง key-value ด้วยลูป `for`\n"
   ]
  },
  {
   "cell_type": "code",
   "execution_count": 10,
   "metadata": {},
   "outputs": [
    {
     "name": "stdout",
     "output_type": "stream",
     "text": [
      "coconut 10\n",
      "pomelo 4\n",
      "watermelon 8\n"
     ]
    }
   ],
   "source": [
    "fruits = {\"coconut\": 10, \"pomelo\": 4, \"watermelon\": 8}\n",
    "for key, value in fruits.items():\n",
    "    print(key, value)\n"
   ]
  },
  {
   "cell_type": "markdown",
   "metadata": {},
   "source": [
    "## การเข้าถึงทุกคีย์ของ `dict` ด้วยลูป `for`\n"
   ]
  },
  {
   "cell_type": "code",
   "execution_count": 11,
   "metadata": {},
   "outputs": [
    {
     "name": "stdout",
     "output_type": "stream",
     "text": [
      "coconut 10\n",
      "pomelo 4\n",
      "watermelon 8\n"
     ]
    }
   ],
   "source": [
    "fruits = {\"coconut\": 10, \"pomelo\": 4, \"watermelon\": 8}\n",
    "for key in fruits.keys():\n",
    "    value = fruits[key]\n",
    "    print(key, value)\n"
   ]
  },
  {
   "cell_type": "markdown",
   "metadata": {},
   "source": [
    "## การเข้าถึงทุกค่าของ `dict` ด้วยลูป `for`\n"
   ]
  },
  {
   "cell_type": "code",
   "execution_count": 12,
   "metadata": {},
   "outputs": [
    {
     "name": "stdout",
     "output_type": "stream",
     "text": [
      "10\n",
      "4\n",
      "8\n",
      "total_inventory = 22\n"
     ]
    }
   ],
   "source": [
    "fruits = {\"coconut\": 10, \"pomelo\": 4, \"watermelon\": 8}\n",
    "total_inventory = 0\n",
    "for value in fruits.values():\n",
    "    print(value)\n",
    "    total_inventory += value\n",
    "print(f'total_inventory = {total_inventory}')\n"
   ]
  },
  {
   "cell_type": "markdown",
   "metadata": {},
   "source": [
    "## การเก็บรายชื่อผู้ติดต่อและเบอร์โทรศัพท์ด้วย `dict`\n"
   ]
  },
  {
   "cell_type": "code",
   "execution_count": 13,
   "metadata": {},
   "outputs": [
    {
     "name": "stdout",
     "output_type": "stream",
     "text": [
      "contacts[\"แพร\"] = 0951234567\n"
     ]
    }
   ],
   "source": [
    "contacts = {\n",
    "    \"แพร\": \"0951234567\", # key = \"แพร\", value = \"0951234567\"\n",
    "    \"ไหม\": \"0923334444\",\n",
    "    \"ปราง\": \"0896667788\"\n",
    "}\n",
    "\n",
    "print(f'contacts[\"แพร\"] = {contacts[\"แพร\"]}') \n"
   ]
  },
  {
   "cell_type": "markdown",
   "metadata": {},
   "source": [
    "## การเก็บรายการสินค้าและราคา `dict`\n"
   ]
  },
  {
   "cell_type": "code",
   "execution_count": 14,
   "metadata": {},
   "outputs": [
    {
     "name": "stdout",
     "output_type": "stream",
     "text": [
      "fruits[\"pomelo\"] = 90\n"
     ]
    }
   ],
   "source": [
    "fruits = {\n",
    "    \"coconut\": 30,\n",
    "    \"pomelo\": 90,\n",
    "    \"watermelon\": 75\n",
    "}\n",
    "print(f'fruits[\"pomelo\"] = {fruits[\"pomelo\"]}')  # ผลลัพธ์: 90\n"
   ]
  },
  {
   "cell_type": "markdown",
   "metadata": {},
   "source": [
    "## การเก็บเมนูอาหารและวัตถุดิบด้วย `dict`\n"
   ]
  },
  {
   "cell_type": "code",
   "execution_count": 15,
   "metadata": {},
   "outputs": [
    {
     "name": "stdout",
     "output_type": "stream",
     "text": [
      "ingredient = {'ไข่เจียวหมูสับ': ['ไข่', 'หมู'], 'ต้มยำกุ้ง': ['กุ้ง', 'ตะไคร้', 'เห็ดฟาง', 'พริกขี้หนู', 'ใบมะกรูด'], 'กะเพราไก่': ['ไก่', 'ใบกะเพรา', 'กระเทียม', 'หัวหอมใหญ่', 'พริก']}\n",
      "ingredient[\"ต้มยำกุ้ง\"] = ['กุ้ง', 'ตะไคร้', 'เห็ดฟาง', 'พริกขี้หนู', 'ใบมะกรูด']\n",
      "ingredient[\"ต้มยำกุ้ง\"][:3] = ['กุ้ง', 'ตะไคร้', 'เห็ดฟาง']\n"
     ]
    }
   ],
   "source": [
    "ingredient = {\n",
    "        \"ไข่เจียวหมูสับ\": [\"ไข่\", \"หมู\"],\n",
    "        \"ต้มยำกุ้ง\": [\"กุ้ง\", \"ตะไคร้\", \"เห็ดฟาง\", \"พริกขี้หนู\", \"ใบมะกรูด\"],\n",
    "        \"กะเพราไก่\": [\"ไก่\", \"ใบกะเพรา\", \"กระเทียม\", \"หัวหอมใหญ่\", \"พริก\"],\n",
    "    }\n",
    "\n",
    "print(f\"ingredient = {ingredient}\")\n",
    "print(f'ingredient[\"ต้มยำกุ้ง\"] = {ingredient[\"ต้มยำกุ้ง\"]}')\n",
    "print(f'ingredient[\"ต้มยำกุ้ง\"][:3] = {ingredient[\"ต้มยำกุ้ง\"][:3]}')\n"
   ]
  },
  {
   "cell_type": "markdown",
   "metadata": {},
   "source": [
    "## การเก็บเมนูอาหารและวัตถุดิบและปริมาณด้วย `dict`\n"
   ]
  },
  {
   "cell_type": "code",
   "execution_count": 16,
   "metadata": {},
   "outputs": [
    {
     "name": "stdout",
     "output_type": "stream",
     "text": [
      "ingredient = {'ไข่เจียวหมูสับ': [('ไข่', 3), ('หมู', 200)], 'ต้มยำกุ้ง': [('กุ้ง', 7), ('ตะไคร้', 2), ('เห็ดฟาง', 5), ('พริกขี้หนู', 3), ('ใบมะกรูด', 4)], 'กะเพราไก่': [('ไก่', 100), ('ใบกะเพรา', 7), ('กระเทียม', 4), ('หัวหอมใหญ่', 1), ('พริก', 3)]}\n",
      "ingredient[\"ต้มยำกุ้ง\"] = [('กุ้ง', 7), ('ตะไคร้', 2), ('เห็ดฟาง', 5), ('พริกขี้หนู', 3), ('ใบมะกรูด', 4)]\n",
      "ingredient[\"ต้มยำกุ้ง\"][:3] = [('กุ้ง', 7), ('ตะไคร้', 2), ('เห็ดฟาง', 5)]\n"
     ]
    }
   ],
   "source": [
    "ingredient = {\n",
    "    \"ไข่เจียวหมูสับ\": [(\"ไข่\", 3), (\"หมู\", 200)],\n",
    "    \"ต้มยำกุ้ง\": [\n",
    "        (\"กุ้ง\", 7),\n",
    "        (\"ตะไคร้\", 2),\n",
    "        (\"เห็ดฟาง\", 5),\n",
    "        (\"พริกขี้หนู\", 3),\n",
    "        (\"ใบมะกรูด\", 4),\n",
    "    ],\n",
    "    \"กะเพราไก่\": [\n",
    "        (\"ไก่\", 100),\n",
    "        (\"ใบกะเพรา\", 7),\n",
    "        (\"กระเทียม\", 4),\n",
    "        (\"หัวหอมใหญ่\", 1),\n",
    "        (\"พริก\", 3),\n",
    "    ],\n",
    "}\n",
    "\n",
    "print(f\"ingredient = {ingredient}\")\n",
    "print(f'ingredient[\"ต้มยำกุ้ง\"] = {ingredient[\"ต้มยำกุ้ง\"]}')\n",
    "print(f'ingredient[\"ต้มยำกุ้ง\"][:3] = {ingredient[\"ต้มยำกุ้ง\"][:3]}')\n"
   ]
  },
  {
   "cell_type": "markdown",
   "metadata": {},
   "source": [
    "## การเก็บสถานที่พร้อมที่ตั้งทางภูมิศาสตร์ด้วย `dict`\n"
   ]
  },
  {
   "cell_type": "code",
   "execution_count": 17,
   "metadata": {},
   "outputs": [],
   "source": [
    "places = {\n",
    "    \"วัดพระแก้ว\": {\n",
    "        \"geo\": {\n",
    "            \"latitude\": 13.7517,\n",
    "            \"longitude\": 100.4924\n",
    "        }\n",
    "    },\n",
    "    \"วัดอรุณราชวราราม\": {\n",
    "        \"geo\": {\n",
    "            \"latitude\": 13.7519,\n",
    "            \"longitude\": 100.4921\n",
    "        }\n",
    "    },\n",
    "    \"วัดโพธิ์\": {\n",
    "        \"geo\": {\n",
    "            \"latitude\": 13.7593,\n",
    "            \"longitude\": 100.4928\n",
    "        }\n",
    "    },\n",
    "    \"สวนลุมพินี\": {\n",
    "        \"geo\": {\n",
    "            \"latitude\": 13.7205,\n",
    "            \"longitude\": 100.5167\n",
    "        }\n",
    "    }\n",
    "}\n"
   ]
  },
  {
   "cell_type": "markdown",
   "metadata": {},
   "source": [
    "## การเก็บข้อมูลยอดขายของเครื่องดื่ม แยกตามวันและสาขาด้วย `dict`\n"
   ]
  },
  {
   "cell_type": "code",
   "execution_count": 18,
   "metadata": {},
   "outputs": [],
   "source": [
    "sales_data = {\n",
    "    \"20230711\": {\n",
    "        \"Branch A\": 5000,\n",
    "        \"Branch B\": 3000,\n",
    "        \"Branch C\": 7000\n",
    "    },\n",
    "    \"20230712\": {\n",
    "        \"Branch A\": 4000,\n",
    "        \"Branch B\": 2000,\n",
    "        \"Branch C\": 6000\n",
    "    },\n",
    "    \"20230713\": {\n",
    "        \"Branch A\": 4500,\n",
    "        \"Branch B\": 2500,\n",
    "        \"Branch C\": 6500\n",
    "    },\n",
    "    # เพิ่มข้อมูลของวันอื่น ๆ ตามต้องการ\n",
    "}\n"
   ]
  },
  {
   "cell_type": "markdown",
   "metadata": {},
   "source": [
    "## การเก็บรายชื่อเครื่องดื่ม ราคา และวัตถุดิบด้วย `dict`\n"
   ]
  },
  {
   "cell_type": "code",
   "execution_count": 19,
   "metadata": {},
   "outputs": [],
   "source": [
    "beverages = {\n",
    "    \"ชาเขียว\": {\"ราคา\": 30, \"วัตถุดิบ\": [\"ใบชาเขียว\", \"น้ำร้อน\", \"น้ำตาล\"]},\n",
    "    \"กาแฟเย็น\": {\"ราคา\": 45, \"วัตถุดิบ\": [\"เมล็ดกาแฟ\", \"น้ำแข็ง\", \"น้ำตาล\"]},\n",
    "    \"น้ำผลไม้\": {\"ราคา\": 25, \"วัตถุดิบ\": [\"ผลไม้สด\", \"น้ำแข็ง\", \"น้ำตาล\"]},\n",
    "    \"โกโก้ร้อน\": {\"ราคา\": 40, \"วัตถุดิบ\": [\"โกโก้ผง\", \"น้ำร้อน\", \"น้ำตาล\"]},\n",
    "    \"น้ำเปล่า\": {\"ราคา\": 10, \"วัตถุดิบ\": [\"น้ำ\"]},\n",
    "}\n"
   ]
  },
  {
   "cell_type": "markdown",
   "metadata": {},
   "source": [
    "## การเก็บรายชื่อเครื่องดื่ม ขนาด ราคา และวัตถุดิบด้วย `dict`\n"
   ]
  },
  {
   "cell_type": "code",
   "execution_count": 20,
   "metadata": {},
   "outputs": [],
   "source": [
    "beverages = {\n",
    "    \"ชาเขียว\": {\n",
    "        \"ราคา\": {\"S\": 20, \"M\": 30, \"L\": 40},\n",
    "        \"วัตถุดิบ\": [\"ใบชาเขียว\", \"น้ำร้อน\", \"น้ำตาล\"],\n",
    "    },\n",
    "    \"กาแฟเย็น\": {\n",
    "        \"ราคา\": {\"S\": 25, \"M\": 35, \"L\": 45},\n",
    "        \"วัตถุดิบ\": [\"เมล็ดกาแฟ\", \"น้ำแข็ง\", \"น้ำตาล\"]\n",
    "    },\n",
    "    \"น้ำผลไม้\": {\n",
    "        \"ราคา\": {\"S\": 15, \"M\": 25, \"L\": 35},\n",
    "        \"วัตถุดิบ\": [\"ผลไม้สด\", \"น้ำแข็ง\", \"น้ำตาล\"]\n",
    "    },\n",
    "    \"โกโก้ร้อน\": {\n",
    "        \"ราคา\": {\"S\": 30, \"M\": 40, \"L\": 50},\n",
    "        \"วัตถุดิบ\": [\"โกโก้ผง\", \"น้ำร้อน\", \"น้ำตาล\"]\n",
    "    },\n",
    "    \"น้ำเปล่า\": {\n",
    "        \"ราคา\": {\"S\": 10, \"M\": 15, \"L\": 20}, \n",
    "        \"วัตถุดิบ\": [\"น้ำ\"]},\n",
    "}\n"
   ]
  },
  {
   "cell_type": "markdown",
   "metadata": {},
   "source": [
    "## การเก็บรายชื่อเครื่องดื่มหลายภาษา ขนาด ราคา และวัตถุดิบด้วย `dict`\n"
   ]
  },
  {
   "cell_type": "code",
   "execution_count": 21,
   "metadata": {},
   "outputs": [],
   "source": [
    "beverages = {\n",
    "    \"ชาเขียว\": {\n",
    "        \"th_name\": \"ชาเขียว\",\n",
    "        \"en_name\": \"Green Tea\",\n",
    "        \"chinese_name\": \"绿茶\",\n",
    "        \"Price\": { \"S\": 20, \"M\": 30, \"L\": 40 },\n",
    "        \"Ingredients\": [\"ใบชาเขียว\", \"น้ำร้อน\", \"น้ำตาล\"]\n",
    "    },\n",
    "    \"กาแฟเย็น\": {\n",
    "        \"th_name\": \"กาแฟเย็น\",\n",
    "        \"en_name\": \"Iced Coffee\",\n",
    "        \"chinese_name\": \"冰咖啡\",\n",
    "        \"Price\": { \"S\": 25, \"M\": 35, \"L\": 45 },\n",
    "        \"Ingredients\": [\"เมล็ดกาแฟ\", \"น้ำแข็ง\", \"น้ำตาล\"]\n",
    "    },\n",
    "    \"น้ำผลไม้\": {\n",
    "        \"th_name\": \"น้ำผลไม้\",\n",
    "        \"en_name\": \"Fruit Juice\",\n",
    "        \"chinese_name\": \"果汁\",\n",
    "        \"Price\": { \"S\": 15, \"M\": 25, \"L\": 35 },\n",
    "        \"Ingredients\": [\"ผลไม้สด\", \"น้ำแข็ง\", \"น้ำตาล\"]\n",
    "    },\n",
    "    \"โกโก้ร้อน\": {\n",
    "        \"th_name\": \"โกโก้ร้อน\",\n",
    "        \"en_name\": \"Hot Chocolate\",\n",
    "        \"chinese_name\": \"热巧克力\",\n",
    "        \"Price\": { \"S\": 30, \"M\": 40, \"L\": 50 },\n",
    "        \"Ingredients\": [\"โกโก้ผง\", \"น้ำร้อน\", \"น้ำตาล\"]\n",
    "    },\n",
    "    \"น้ำเปล่า\": {\n",
    "        \"th_name\": \"น้ำเปล่า\",\n",
    "        \"en_name\": \"Plain Water\",\n",
    "        \"chinese_name\": \"白开水\",\n",
    "        \"Price\": { \"S\": 10, \"M\": 15, \"L\": 20 },\n",
    "        \"Ingredients\": [\"น้ำ\"]\n",
    "    }\n",
    "}\n"
   ]
  },
  {
   "cell_type": "markdown",
   "metadata": {},
   "source": [
    "## การตรวจสอบเงื่อนไขของค่าด้วย `dictionary comprehension`\n"
   ]
  },
  {
   "cell_type": "code",
   "execution_count": 22,
   "metadata": {},
   "outputs": [
    {
     "name": "stdout",
     "output_type": "stream",
     "text": [
      "budget_drinks = {'Coke': 18, 'Sprite': 18, 'Fanta': 16, 'Water': 10}\n"
     ]
    }
   ],
   "source": [
    "# รายการเครื่องดื่มและราคา\n",
    "drinks = {'Coke': 18, 'Sprite': 18, 'Fanta': 16, 'Water': 10, 'Tea': 25, 'Coffee': 35}\n",
    "\n",
    "# สร้างพจนานุกรมที่มีเครื่องดื่มราคาไม่เกิน 20 บาท\n",
    "budget_drinks = {drink: price for drink, price in drinks.items() if price < 20}\n",
    "\n",
    "print(f'budget_drinks = {budget_drinks}')\n"
   ]
  },
  {
   "cell_type": "markdown",
   "metadata": {},
   "source": [
    "## การตรวจสอบเงื่อนไขของคีย์ด้วย `dictionary comprehension`\n"
   ]
  },
  {
   "cell_type": "code",
   "execution_count": 23,
   "metadata": {},
   "outputs": [
    {
     "name": "stdout",
     "output_type": "stream",
     "text": [
      "rice_menus = {'ข้าวผัด': 50, 'ข้าวมันไก่': 60}\n"
     ]
    }
   ],
   "source": [
    "menus = {\"ข้าวผัด\": 50, \"ผัดซีอิ้ว\": 70, \"ข้าวมันไก่\": 60, \"ต้มยำกุ้ง\": 80}\n",
    "rice_menus = {menu: price for menu, price in menus.items() if \"ข้าว\" in menu}\n",
    "print(f'rice_menus = {rice_menus}')\n"
   ]
  },
  {
   "cell_type": "markdown",
   "metadata": {},
   "source": [
    "## การใช้ `dictionary comprehension` เพื่อสร้าง `dict`  เก็บวันและสีประจำวัน\n"
   ]
  },
  {
   "cell_type": "code",
   "execution_count": 24,
   "metadata": {},
   "outputs": [
    {
     "name": "stdout",
     "output_type": "stream",
     "text": [
      "{'Sun': 'RED', 'Mon': 'YELLOW', 'Tue': 'PINK', 'Wed': 'GREEN', 'Thu': 'ORANGE', 'Fri': 'BLUE', 'Sat': 'PURPLE'}\n"
     ]
    }
   ],
   "source": [
    "weekdays = [\"sun\", \"mon\", \"tue\", \"wed\", \"thu\", \"fri\", \"sat\"]\n",
    "weekcolors = [\"red\", \"yellow\", \"pink\", \"green\", \"orange\", \"blue\", \"purple\"]\n",
    "t = zip(weekdays, weekcolors)  # generators\n",
    "d1 = {k.capitalize(): v.upper() for k, v in t}  # dictionary comprehensions\n",
    "print(d1)\n"
   ]
  },
  {
   "cell_type": "markdown",
   "metadata": {},
   "source": [
    "## การใช้ `dictionary comprehension` เพื่อสร้าง `dict` สำหรับจัดเก็บ NATO Phonetic Alphabet\n"
   ]
  },
  {
   "cell_type": "code",
   "execution_count": 25,
   "metadata": {},
   "outputs": [
    {
     "name": "stdout",
     "output_type": "stream",
     "text": [
      "['Alpha', 'Bravo', 'Charlie', 'Delta', 'Echo', 'Foxtrot', 'Golf', 'Hotel', 'India', 'Juliet', 'Kilo', 'Lima', 'Mike', 'November', 'Oscar', 'Papa', 'Quebec', 'Romeo', 'Sierra', 'Tango', 'Uniform', 'Victor', 'Whiskey', 'X-ray', 'Yankee', 'Zulu']\n",
      "d = {'A': 'Alpha', 'B': 'Bravo', 'C': 'Charlie', 'D': 'Delta', 'E': 'Echo', 'F': 'Foxtrot', 'G': 'Golf', 'H': 'Hotel', 'I': 'India', 'J': 'Juliet', 'K': 'Kilo', 'L': 'Lima', 'M': 'Mike', 'N': 'November', 'O': 'Oscar', 'P': 'Papa', 'Q': 'Quebec', 'R': 'Romeo', 'S': 'Sierra', 'T': 'Tango', 'U': 'Uniform', 'V': 'Victor', 'W': 'Whiskey', 'X': 'X-ray', 'Y': 'Yankee', 'Z': 'Zulu'}\n",
      "d[\"P\"] = Papa\n"
     ]
    }
   ],
   "source": [
    "s = \"Alpha, Bravo, Charlie, Delta, Echo, Foxtrot, Golf, Hotel, India, Juliet, Kilo, Lima, Mike, November, Oscar, Papa, Quebec, Romeo, Sierra, Tango, Uniform, Victor, Whiskey, X-ray, Yankee, Zulu\".split( \", \" )\n",
    "print(s)\n",
    "d = {e[0]: e for e in s}\n",
    "print(f'd = {d}')\n",
    "print(f'd[\"P\"] = {d[\"P\"]}')"
   ]
  },
  {
   "cell_type": "markdown",
   "metadata": {},
   "source": [
    "# แบบฝึกหัด\n"
   ]
  },
  {
   "cell_type": "markdown",
   "metadata": {},
   "source": [
    "1. จากข้อมูลหมวดหมู่อาหารและเมนูในแต่หมวด \n",
    "```python\n",
    "food_menu = {\n",
    "    \"appetizers\": [\"Salad\", \"Spring Rolls\"],\n",
    "    \"main courses\": [\"Steak\", \"Pasta\", \"Fish and Chips\"],\n",
    "    \"desserts\": [\"Ice Cream\", \"Cheesecake\", \"Tiramisu\"]\n",
    "}\n",
    "```\n",
    "\n",
    "เขียนโค้ดเพื่อการพิมพ์เมนูอาหารที่อยู่ในแต่ละหมวดหมู่เพื่อให้ได้ผลลัพธ์ดังนี้\n",
    "```\n",
    "Appetizers:\n",
    "- Salad\n",
    "- Spring Rolls\n",
    "\n",
    "Main courses:\n",
    "- Steak\n",
    "- Pasta\n",
    "- Fish and Chips\n",
    "\n",
    "Desserts:\n",
    "- Ice Cream\n",
    "- Cheesecake\n",
    "- Tiramisu\n",
    "```\n"
   ]
  },
  {
   "cell_type": "code",
   "execution_count": 26,
   "metadata": {},
   "outputs": [
    {
     "name": "stdout",
     "output_type": "stream",
     "text": [
      "Appetizers:\n",
      "- Salad\n",
      "- Spring Rolls\n",
      "\n",
      "Main courses:\n",
      "- Steak\n",
      "- Pasta\n",
      "- Fish and Chips\n",
      "\n",
      "Desserts:\n",
      "- Ice Cream\n",
      "- Cheesecake\n",
      "- Tiramisu\n",
      "\n"
     ]
    }
   ],
   "source": [
    "food_menu = {\n",
    "    \"appetizers\": [\"Salad\", \"Spring Rolls\"],\n",
    "    \"main courses\": [\"Steak\", \"Pasta\", \"Fish and Chips\"],\n",
    "    \"desserts\": [\"Ice Cream\", \"Cheesecake\", \"Tiramisu\"]\n",
    "}\n",
    "\n",
    "# พิมพ์เมนูอาหารทั้งหมด\n",
    "for category, menu_items in food_menu.items():\n",
    "    print(f\"{category.capitalize()}:\")\n",
    "    for item in menu_items:\n",
    "        print(f\"- {item}\")\n",
    "    print()"
   ]
  },
  {
   "cell_type": "markdown",
   "metadata": {},
   "source": [
    "2. เขียนฟังก์ชัน เพื่อทายนิสัยจากดอกไม้ที่ชอบ โดยให้สมมติชื่อดอกไม้จำนวน 5 ดอกพร้อมความหมาย และจัดเก็บชื่อดอกไม้และความหมายด้วย `dict`\n"
   ]
  },
  {
   "cell_type": "code",
   "execution_count": 27,
   "metadata": {},
   "outputs": [
    {
     "name": "stdout",
     "output_type": "stream",
     "text": [
      "นิสัยของคุณคือ: มีความสงบและยอมรับอารมณ์ตนเอง\n"
     ]
    }
   ],
   "source": [
    "personalities = {\n",
    "    \"rose\": \"รักและความโรแมนติก\",\n",
    "    \"sunflower\": \"มีความสุขและมองโลกในแง่บวก\",\n",
    "    \"tulip\": \"มีความเฉลียวฉลาดและเป็นคนสนุกสนาน\",\n",
    "    \"lily\": \"มีความสงบและยอมรับอารมณ์ตนเอง\",\n",
    "    \"orchid\": \"มีความอ่อนโยนและเรียบง่าย\",\n",
    "}\n",
    "\n",
    "flower = input(\"กรุณากรอกดอกไม้ที่คุณชอบ: \").lower()\n",
    "if flower in personalities: # ตรวจสอบว่าดอกไม้ที่รับเข้ามาอยู่ในพจนานุกรมหรือไม่\n",
    "    print(\"นิสัยของคุณคือ:\", personalities[flower.lower()])\n",
    "else:\n",
    "    print(\"ไม่พบดอกไม้\")\n"
   ]
  },
  {
   "cell_type": "markdown",
   "metadata": {},
   "source": [
    "3. แปลง `tuple` ให้เป็น `dict` โดยใช้ชื่อภาษาอังกฤษเป็น key ส่วนชื่อภาษาไทยเป็น value\n",
    "```python\n",
    "fruits = ((\"มะพร้าว\", \"coconut\"), (\"ส้มโอ\", \"pomelo\"), (\"แตงโม\", \"watermelon\"))\n",
    "```\n"
   ]
  },
  {
   "cell_type": "code",
   "execution_count": 28,
   "metadata": {},
   "outputs": [
    {
     "name": "stdout",
     "output_type": "stream",
     "text": [
      "d = {'coconut': 'มะพร้าว', 'pomelo': 'ส้มโอ', 'watermelon': 'แตงโม'}\n",
      "d[\"pomelo\"] = ส้มโอ\n"
     ]
    }
   ],
   "source": [
    "fruits = ((\"มะพร้าว\", \"coconut\"), (\"ส้มโอ\", \"pomelo\"), (\"แตงโม\", \"watermelon\"))\n",
    "\n",
    "d = {en: th for th, en in fruits}\n",
    "print(f'd = {d}')\n",
    "print(f'd[\"pomelo\"] = {d[\"pomelo\"]}')\n"
   ]
  },
  {
   "cell_type": "markdown",
   "metadata": {},
   "source": [
    "4. จากตารางอัตราแลกเปลี่ยนเงินตราต่างประเทศที่ให้มา (อัตราแลกเปลี่ยนในโค้ดไม่ได้เป็นอัตราแลกเปลี่ยนที่แท้จริง เป็นเพียงค่าที่สมมติขึ้นเพื่อประกอบการทำงานของโค้ดเท่านั้น) ให้ออกแบบ `dict` เพื่อเก็บข้อมูลอัตราแลกเปลี่ยนอย่างเหมาะสม พร้อมแสดงผลลัพธ์ในรูปตาราง\n",
    "\n",
    "| currency |   buy  |   sell |\n",
    "|----------|-------:|-------:|\n",
    "| USD      |  33.33 |  33.50 |\n",
    "| EUR      |  37.50 |  37.75 |\n",
    "| GBP      |  45.00 |  45.25 |\n",
    "| JPY      |   0.27 |   0.28 |\n",
    "| CNY      |   5.20 |   5.25 |\n"
   ]
  },
  {
   "cell_type": "code",
   "execution_count": 29,
   "metadata": {},
   "outputs": [
    {
     "name": "stdout",
     "output_type": "stream",
     "text": [
      "Current exchange rate (THB as base rate)\n",
      "| currency |   buy  |   sell |\n",
      "|----------|-------:|-------:|\n",
      "| USD      |  33.33 |  33.50 |\n",
      "| EUR      |  37.50 |  37.75 |\n",
      "| GBP      |  45.00 |  45.25 |\n",
      "| JPY      |   0.27 |   0.28 |\n",
      "| CNY      |   5.20 |   5.25 |\n",
      "exchange_rate[EUR] = {'buy': 37.5, 'sell': 37.75}\n",
      "exchange_rate[EUR][\"buy\"]  = 37.5\n",
      "exchange_rate[EUR][\"sell\"] = 37.75\n"
     ]
    }
   ],
   "source": [
    "exchange_rate = {\n",
    "    \"USD\": {\"buy\": 33.33, \"sell\": 33.50},\n",
    "    \"EUR\": {\"buy\": 37.50, \"sell\": 37.75},\n",
    "    \"GBP\": {\"buy\": 45.00, \"sell\": 45.25},\n",
    "    \"JPY\": {\"buy\": 0.27, \"sell\": 0.28},\n",
    "    \"CNY\": {\"buy\": 5.20, \"sell\": 5.25}\n",
    "}\n",
    "\n",
    "def get_exchange_rate(currency):\n",
    "    if currency not in exchange_rate:\n",
    "        raise ValueError(f\"Currency {currency} is not supported.\")\n",
    "    return exchange_rate[currency][\"buy\"]\n",
    "\n",
    "print(f\"Current exchange rate (THB as base rate)\")\n",
    "print(f\"| currency |   buy  |   sell |\")\n",
    "print(f\"|----------|-------:|-------:|\")\n",
    "for currency, rate in exchange_rate.items():\n",
    "    print(f\"| {currency:8} | {rate['buy']:>6.2f} | {rate['sell']:>6.2f} |\")\n",
    "\n",
    "currency = \"EUR\"\n",
    "print(f'exchange_rate[{currency}] = {exchange_rate[currency]}')\n",
    "print(f'exchange_rate[{currency}][\"buy\"]  = {exchange_rate[currency][\"buy\"]}')\n",
    "print(f'exchange_rate[{currency}][\"sell\"] = {exchange_rate[currency][\"sell\"]}')\n"
   ]
  },
  {
   "cell_type": "markdown",
   "metadata": {},
   "source": [
    "5. จากข้อมูลเมนูอาหารที่ให้มา ให้เขียนโค้ดเพื่อจัดเก็บข้อมูลโดยใช้ `dict` พร้อมแสดงผลอย่างเหมาะสม พร้อมหาราคาเฉลี่ยของเมนู และหาว่าเมนูใดที่มีราคาสูงสุด\n",
    "\n",
    "|menu                 |     price|\n",
    "|---------------------|---------:|\n",
    "|Tom Yum              | 150 Baht |\n",
    "|Pad Thai             |  70 Baht |\n",
    "|Green Curry          |  90 Baht |\n",
    "|Mango Sticky Rice    |  60 Baht |\n"
   ]
  },
  {
   "cell_type": "code",
   "execution_count": 30,
   "metadata": {},
   "outputs": [
    {
     "name": "stdout",
     "output_type": "stream",
     "text": [
      "Menu:\n",
      "Tom Yum                  :  150 Baht\n",
      "Pad Thai                 :   70 Baht\n",
      "Green Curry              :   90 Baht\n",
      "Mango Sticky Rice        :   60 Baht\n",
      "Average Price: 92.5 Baht\n",
      "Most Expensive Menu: Tom Yum (150 Baht)\n"
     ]
    }
   ],
   "source": [
    "menu = {\n",
    "    \"Tom Yum\": 150,\n",
    "    \"Pad Thai\": 70,\n",
    "    \"Green Curry\": 90,\n",
    "    \"Mango Sticky Rice\": 60\n",
    "}\n",
    "# แสดงรายการอาหาร\n",
    "print(\"Menu:\")\n",
    "for item, price in menu.items():\n",
    "    print(f\"{item:25}: {price:>4} Baht\")\n",
    "\n",
    "# คำนวณราคารวมทั้งหมด และค่าเฉลี่ย\n",
    "total_price = 0\n",
    "for price in menu.values():\n",
    "    total_price += price\n",
    "print(f\"Average Price: {total_price / len(menu)} Baht\")\n",
    "\n",
    "# ค้นหาอาหารที่มีราคาสูงสุด\n",
    "max_price = 0\n",
    "max_item = \"\"\n",
    "for item, price in menu.items():\n",
    "    if price > max_price:\n",
    "        max_price = price\n",
    "        max_item = item\n",
    "print(f\"Most Expensive Menu: {max_item} ({max_price} Baht)\")\n"
   ]
  }
 ],
 "metadata": {
  "kernelspec": {
   "display_name": "base",
   "language": "python",
   "name": "python3"
  },
  "language_info": {
   "codemirror_mode": {
    "name": "ipython",
    "version": 3
   },
   "file_extension": ".py",
   "mimetype": "text/x-python",
   "name": "python",
   "nbconvert_exporter": "python",
   "pygments_lexer": "ipython3",
   "version": "3.11.4"
  },
  "orig_nbformat": 4
 },
 "nbformat": 4,
 "nbformat_minor": 2
}
