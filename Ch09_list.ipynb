{
 "cells": [
  {
   "cell_type": "markdown",
   "metadata": {},
   "source": [
    "# บทที่ 9. ลิสต์ (`list`)\n",
    "- ตำรา: Python: ใคร ๆ ก็เขียนโปรแกรมได้\n",
    "- ผู้แต่ง: รศ.ดร. ประเสริฐ คณาวัฒนไชย"
   ]
  },
  {
   "cell_type": "markdown",
   "metadata": {},
   "source": [
    "## การเก็บข้อมูลด้วย `list`\n"
   ]
  },
  {
   "cell_type": "code",
   "execution_count": 4,
   "metadata": {},
   "outputs": [
    {
     "name": "stdout",
     "output_type": "stream",
     "text": [
      "quarter_sales = [100, 150, 80, 120]\n",
      "quarter_sales[0] = 100\n",
      "quarter_sales[1] = 150\n",
      "quarter_sales[2] = 80\n",
      "quarter_sales[3] = 120\n"
     ]
    }
   ],
   "source": [
    "quarter_sales = [100, 150, 80, 120]\n",
    "print(f'quarter_sales = {quarter_sales}')  # ผลลัพธ์: [100, 150, 80, 120]\n",
    "print(f'quarter_sales[0] = {quarter_sales[0]}')  # แสดงสมาชิกตัวแรก -> ผลลัพธ์: 100\n",
    "print(f'quarter_sales[1] = {quarter_sales[1]}')  # แสดงสมาชิกตัวแรก -> ผลลัพธ์: 150\n",
    "print(f'quarter_sales[2] = {quarter_sales[2]}')  # แสดงสมาชิกที่อยู่ลำดับที่ 2 -> ผลลัพธ์: 80\n",
    "print(f'quarter_sales[3] = {quarter_sales[3]}')  # แสดงสมาชิกที่อยู่ลำดับที่ 2 -> ผลลัพธ์: 120\n"
   ]
  },
  {
   "cell_type": "markdown",
   "metadata": {},
   "source": [
    "## การหาผลรวมของสมาชิกทุกตัวใน `list` ด้วยดัชนี\n"
   ]
  },
  {
   "cell_type": "code",
   "execution_count": 5,
   "metadata": {},
   "outputs": [
    {
     "name": "stdout",
     "output_type": "stream",
     "text": [
      "total sales = 450\n"
     ]
    }
   ],
   "source": [
    "quarter_sales = [100, 150, 80, 120]\n",
    "total_sales = quarter_sales[0] + quarter_sales[1] + quarter_sales[2] + quarter_sales[3]\n",
    "print(f\"total sales = {total_sales}\")\n"
   ]
  },
  {
   "cell_type": "markdown",
   "metadata": {},
   "source": [
    "## การหาผลรวมของสมาชิกทุกตัวใน `list` ด้วยลูป `for`\n"
   ]
  },
  {
   "cell_type": "code",
   "execution_count": 6,
   "metadata": {},
   "outputs": [
    {
     "name": "stdout",
     "output_type": "stream",
     "text": [
      "total sales = 450\n"
     ]
    }
   ],
   "source": [
    "quarter_sales = [100, 150, 80, 120]\n",
    "total_sales = 0\n",
    "for q_sale in quarter_sales:\n",
    "    total_sales += q_sale\n",
    "print(f\"total sales = {total_sales}\")\n"
   ]
  },
  {
   "cell_type": "markdown",
   "metadata": {},
   "source": [
    "## การหาผลรวมของสมาชิกทุกตัวใน `list` ด้วยฟังก์ชัน `sum()`\n"
   ]
  },
  {
   "cell_type": "code",
   "execution_count": 7,
   "metadata": {},
   "outputs": [
    {
     "name": "stdout",
     "output_type": "stream",
     "text": [
      "total sales = 450\n"
     ]
    }
   ],
   "source": [
    "quarter_sales = [100, 150, 80, 120]\n",
    "total_sales = sum(quarter_sales)\n",
    "print(f\"total sales = {total_sales}\")\n"
   ]
  },
  {
   "cell_type": "markdown",
   "metadata": {},
   "source": [
    "## การหาค่าเฉลี่ยของสมาชิกทุกตัวใน `list`\n"
   ]
  },
  {
   "cell_type": "code",
   "execution_count": 8,
   "metadata": {},
   "outputs": [
    {
     "name": "stdout",
     "output_type": "stream",
     "text": [
      "avg_sales = 112.5\n"
     ]
    }
   ],
   "source": [
    "quarter_sales = [100, 150, 80, 120]\n",
    "avg_sales = sum(quarter_sales) / len(quarter_sales)\n",
    "print(f\"avg_sales = {avg_sales}\")"
   ]
  },
  {
   "cell_type": "markdown",
   "metadata": {},
   "source": [
    "## การสร้าง `list`"
   ]
  },
  {
   "cell_type": "code",
   "execution_count": 9,
   "metadata": {},
   "outputs": [],
   "source": [
    "empty_list = [] # สร้าง `list` ชื่อ empty_list ที่ไม่มีข้อมูลสมาชิก\n",
    "scores = [8, 7, 10, 6] # สร้าง `list` ชื่อ scores มีสมาชิก 4 ตัว\n",
    "skills = ['English', 'Excel', 'AI', 'Teamwork', 'Big Data']"
   ]
  },
  {
   "cell_type": "markdown",
   "metadata": {},
   "source": [
    "## การเก็บข้อมูลแบบผสมใน `list`"
   ]
  },
  {
   "cell_type": "code",
   "execution_count": 10,
   "metadata": {},
   "outputs": [
    {
     "name": "stdout",
     "output_type": "stream",
     "text": [
      "person_infos[0] = ปลายฟ้า\n",
      "person_infos[1] = 30\n",
      "person_infos[2] = True\n"
     ]
    }
   ],
   "source": [
    "person_infos = ['ปลายฟ้า', 30, True]\n",
    "print(f\"person_infos[0] = {person_infos[0]}\")  # ผลลัพธ์: ปลายฟ้า\n",
    "print(f\"person_infos[1] = {person_infos[1]}\")  # ผลลัพธ์: 30\n",
    "print(f\"person_infos[2] = {person_infos[2]}\")  # ผลลัพธ์: 30\n"
   ]
  },
  {
   "cell_type": "markdown",
   "metadata": {},
   "source": [
    "## การ unpacking ค่าใน `list`\n"
   ]
  },
  {
   "cell_type": "code",
   "execution_count": 11,
   "metadata": {},
   "outputs": [
    {
     "name": "stdout",
     "output_type": "stream",
     "text": [
      "name = ปลายฟ้า\n",
      "age = 30\n",
      "has_membership = True\n"
     ]
    }
   ],
   "source": [
    "person_infos = ['ปลายฟ้า', 30, True]\n",
    "name, age, has_membership = person_infos\n",
    "print(f'name = {name}')\n",
    "print(f'age = {age}')\n",
    "print(f'has_membership = {has_membership}')\n"
   ]
  },
  {
   "cell_type": "markdown",
   "metadata": {},
   "source": [
    "## การ unpacking ค่าใน `list` แค่บางส่วน\n"
   ]
  },
  {
   "cell_type": "code",
   "execution_count": 12,
   "metadata": {},
   "outputs": [
    {
     "name": "stdout",
     "output_type": "stream",
     "text": [
      "req1 = 'Excel'\n",
      "req2 = 'SQL'\n",
      "req3 = 'Python'\n",
      "rest = ['HTML', 'CSS', 'JavaScript']\n"
     ]
    }
   ],
   "source": [
    "skills = ['Excel', 'SQL', 'Python', 'HTML', 'CSS', 'JavaScript']\n",
    "req1, req2, req3, *rest = skills\n",
    "print(f'req1 = {req1!a}') # !a เพื่อให้แสดง ' หน้าและหลังค่าของสตริง\n",
    "print(f'req2 = {req2!a}')\n",
    "print(f'req3 = {req3!a}')\n",
    "print(f'rest = {rest}')\n"
   ]
  },
  {
   "cell_type": "markdown",
   "metadata": {},
   "source": [
    "## `list` ที่จัดเก็บข้อมูลสมาชิกเป็น `list` (nested list)\n"
   ]
  },
  {
   "cell_type": "code",
   "execution_count": 13,
   "metadata": {},
   "outputs": [
    {
     "name": "stdout",
     "output_type": "stream",
     "text": [
      "a[1]    = [15, 20, 30]\n",
      "a[1][0] = 15\n",
      "a[1][1] = 20\n",
      "a[1][2] = 30\n",
      "[1, 2, 3]\n",
      "[15, 20, 30]\n",
      "[-5, 7, 2]\n",
      "[1, 7, 0]\n"
     ]
    }
   ],
   "source": [
    "a = [\n",
    "    [1, 2, 3],\n",
    "    [15, 20, 30],\n",
    "    [-5, 7, 2],\n",
    "    [1, 7, 0],\n",
    "] # matrix แบบ 4 x 3\n",
    "\n",
    "print(f\"a[1]    = {a[1]}\")\n",
    "print(f\"a[1][0] = {a[1][0]}\")\n",
    "print(f\"a[1][1] = {a[1][1]}\")\n",
    "print(f\"a[1][2] = {a[1][2]}\")\n",
    "\n",
    "for e in a:\n",
    "    print(e)\n"
   ]
  },
  {
   "cell_type": "markdown",
   "metadata": {},
   "source": [
    "## การเก็บเมนูเครื่องดื่มและราคาด้วย `list`\n"
   ]
  },
  {
   "cell_type": "code",
   "execution_count": 14,
   "metadata": {},
   "outputs": [
    {
     "name": "stdout",
     "output_type": "stream",
     "text": [
      "menus = [['mocha', 50], ['latte', 60], ['espresso', 35]]\n",
      "menus[1]    = ['latte', 60]\n",
      "menus[1][0] = latte\n",
      "menus[1][1] = 60\n",
      "mocha ราคา 50\n",
      "latte ราคา 60\n",
      "espresso ราคา 35\n"
     ]
    }
   ],
   "source": [
    "menus = [\n",
    "    [\"mocha\", 50],\n",
    "    [\"latte\", 60],\n",
    "    [\"espresso\", 35]\n",
    "]\n",
    "print(f\"menus = {menus}\")\n",
    "print(f\"menus[1]    = {menus[1]}\")\n",
    "print(f\"menus[1][0] = {menus[1][0]}\")\n",
    "print(f\"menus[1][1] = {menus[1][1]}\")\n",
    "for item in menus:\n",
    "    menu, price = item\n",
    "    print(f\"{menu} ราคา {price}\")\n"
   ]
  },
  {
   "cell_type": "markdown",
   "metadata": {},
   "source": [
    "## `list` ที่มีสมาชิกภายในเป็น `tuple`\n"
   ]
  },
  {
   "cell_type": "code",
   "execution_count": 15,
   "metadata": {},
   "outputs": [
    {
     "name": "stdout",
     "output_type": "stream",
     "text": [
      "infos[1]    = (1.65, 60)\n",
      "infos[1][1] = 60\n",
      "height = 1.70, weight = 70, bmi = 24.22\n",
      "height = 1.65, weight = 60, bmi = 22.04\n",
      "height = 1.60, weight = 47, bmi = 18.36\n"
     ]
    }
   ],
   "source": [
    "infos = [\n",
    "    (1.7, 70), # สมมติว่าเป็นส่วนสูง (เมตร) และน้ำหนัก (กิโลกรัม)\n",
    "    (1.65, 60),\n",
    "    (1.60, 47),\n",
    "]\n",
    "\n",
    "print(f\"infos[1]    = {infos[1]}\")\n",
    "print(f\"infos[1][1] = {infos[1][1]}\")\n",
    "\n",
    "for info in infos:\n",
    "    height, weight = info\n",
    "    bmi = weight / (height ** 2)\n",
    "    print(f\"height = {height:.2f}, weight = {weight}, bmi = {bmi:.2f}\")\n"
   ]
  },
  {
   "cell_type": "markdown",
   "metadata": {},
   "source": [
    "## เทคนิคการ unpacking สมาชิกภายในของ `list`\n"
   ]
  },
  {
   "cell_type": "code",
   "execution_count": 16,
   "metadata": {},
   "outputs": [
    {
     "name": "stdout",
     "output_type": "stream",
     "text": [
      "infos[1]    = (1.65, 60)\n",
      "infos[1][1] = 60\n",
      "height = 1.70, weight = 70, bmi = 24.22\n",
      "height = 1.65, weight = 60, bmi = 22.04\n",
      "height = 1.60, weight = 47, bmi = 18.36\n"
     ]
    }
   ],
   "source": [
    "infos = [\n",
    "    (1.7, 70), # สมมติว่าเป็นส่วนสูง (เมตร) และน้ำหนัก (กิโลกรัม)\n",
    "    (1.65, 60),\n",
    "    (1.60, 47),\n",
    "]\n",
    "\n",
    "print(f\"infos[1]    = {infos[1]}\")\n",
    "print(f\"infos[1][1] = {infos[1][1]}\")\n",
    "\n",
    "for height, weight in infos: # มีการ unpacking ขณะที่ดึงค่าสมาชิกของ `infos`\n",
    "    bmi = weight / (height ** 2)\n",
    "    print(f\"height = {height:.2f}, weight = {weight}, bmi = {bmi:.2f}\")\n"
   ]
  },
  {
   "cell_type": "markdown",
   "metadata": {},
   "source": [
    "## `list` ที่มีสมาชิกภายในเป็น `dict`\n"
   ]
  },
  {
   "cell_type": "code",
   "execution_count": 17,
   "metadata": {},
   "outputs": [
    {
     "name": "stdout",
     "output_type": "stream",
     "text": [
      "countries[0]         = {'code': 'th', 'name': 'Thailand'}\n",
      "countries[0]['code'] = th\n",
      "countries[0]['name'] = Thailand\n",
      "item = {'code': 'th', 'name': 'Thailand'}\n",
      "item = {'code': 'jp', 'name': 'Japan'}\n",
      "item = {'code': 'kr', 'name': 'South Korea'}\n"
     ]
    }
   ],
   "source": [
    "countries = [\n",
    "    {\"code\": \"th\", \"name\": \"Thailand\"},\n",
    "    {\"code\": \"jp\", \"name\": \"Japan\"},\n",
    "    {\"code\": \"kr\", \"name\": \"South Korea\"},\n",
    "]\n",
    "\n",
    "print(f\"countries[0]         = {countries[0]}\")\n",
    "print(f\"countries[0]['code'] = {countries[0]['code']}\")\n",
    "print(f\"countries[0]['name'] = {countries[0]['name']}\")\n",
    "\n",
    "for item in countries:\n",
    "    print(f\"item = {item}\")\n"
   ]
  },
  {
   "cell_type": "markdown",
   "metadata": {},
   "source": [
    "## `list` ที่มีสมาชิกภายในเป็น `set`\n"
   ]
  },
  {
   "cell_type": "code",
   "execution_count": 18,
   "metadata": {},
   "outputs": [
    {
     "name": "stdout",
     "output_type": "stream",
     "text": [
      "orders[1] = {'latte', 'espresso', 'black tea', 'oolong tea'}\n",
      "orders[0] & orders[1] = {'latte', 'espresso'}\n"
     ]
    }
   ],
   "source": [
    "orders = [\n",
    "    {\"mocha\", \"latte\", \"coke\", \"espresso\"},\n",
    "    {\"latte\", \"black tea\", \"espresso\", \"oolong tea\"}\n",
    "]\n",
    "\n",
    "print(f\"orders[1] = {orders[1]}\")\n",
    "print(f\"orders[0] & orders[1] = {orders[0] & orders[1]}\")\n"
   ]
  },
  {
   "cell_type": "markdown",
   "metadata": {},
   "source": [
    "## `list` ที่มีสมาชิกภายในเป็น `dict`\n"
   ]
  },
  {
   "cell_type": "code",
   "execution_count": 19,
   "metadata": {},
   "outputs": [
    {
     "name": "stdout",
     "output_type": "stream",
     "text": [
      "all_menus[1] = {'category': 'tea', 'menu': ['green tea', 'black tea', 'white tea', 'oolong tea']}\n",
      "all_menus[1]['menu'] = ['green tea', 'black tea', 'white tea', 'oolong tea']\n",
      "all_menus[1]['menu'][2] = white tea\n"
     ]
    }
   ],
   "source": [
    "all_menus = [\n",
    "    {\"category\": \"coffee\", \"menu\": [\"mocha\", \"latte\", \"espresso\"]},\n",
    "    {\"category\": \"tea\", \"menu\": [\"green tea\", \"black tea\", \"white tea\", \"oolong tea\"]},\n",
    "    {\"category\": \"bakery\", \"menu\": [\"butter cake\", \"banana cake\", \"muffin\"]}\n",
    "]\n",
    "\n",
    "print(f\"all_menus[1] = {all_menus[1]}\")\n",
    "print(f\"all_menus[1]['menu'] = {all_menus[1]['menu']}\")\n",
    "print(f\"all_menus[1]['menu'][2] = {all_menus[1]['menu'][2]}\")\n"
   ]
  },
  {
   "cell_type": "markdown",
   "metadata": {},
   "source": [
    "## การเข้าถึงสมาชิกใน `list`\n"
   ]
  },
  {
   "cell_type": "code",
   "execution_count": 20,
   "metadata": {},
   "outputs": [
    {
     "name": "stdout",
     "output_type": "stream",
     "text": [
      "skills     = ['English', 'Excel', 'AI', 'Teamwork', 'Big Data']\n",
      "skills[0]  = English\n",
      "skills[2]  = AI\n",
      "skills[4]  = Big Data\n",
      "skills[-1] = Big Data\n",
      "skills[-2] = Teamwork\n"
     ]
    }
   ],
   "source": [
    "skills = ['English', 'Excel', 'AI', 'Teamwork', 'Big Data']\n",
    "print(f\"skills     = {skills}\") # แสดงสมาชิกทุกตัว\n",
    "print(f\"skills[0]  = {skills[0]}\") # แสดงสมาชิกตัวแรก -> ผลลัพธ์: English\n",
    "print(f\"skills[2]  = {skills[2]}\") # แสดงสมาชิกที่ลำดับดัชนีเป็น 2 -> ผลลัพธ์: AI\n",
    "print(f\"skills[4]  = {skills[4]}\") # แสดงสมาชิกที่ลำดับดัชนีเป็น 2 -> ผลลัพธ์: AI\n",
    "print(f\"skills[-1] = {skills[-1]}\") # แสดงสมาชิกตัวที่ 1 นับจากตัวท้ายสุด ผลลัพธ์: Big Data\n",
    "print(f\"skills[-2] = {skills[-2]}\") # แสดงสมาชิกตัวที่ 2 นับจากตัวท้ายสุด ผลลัพธ์: Teamwork\n"
   ]
  },
  {
   "cell_type": "markdown",
   "metadata": {},
   "source": [
    "## การใช้ slicing\n"
   ]
  },
  {
   "cell_type": "code",
   "execution_count": 21,
   "metadata": {},
   "outputs": [
    {
     "name": "stdout",
     "output_type": "stream",
     "text": [
      "skills[0:3]  -> ['English', 'Excel', 'AI']\n",
      "skills[:3]   -> ['English', 'Excel', 'AI']\n",
      "skills[3:]   -> ['Teamwork', 'Big Data']\n",
      "skills[2:4]  -> ['AI', 'Teamwork']\n",
      "skills[-1]   -> Big Data\n",
      "skills[-2:]  -> ['Teamwork', 'Big Data']\n",
      "skills[::2]  -> ['English', 'AI', 'Big Data']\n",
      "skills[::3]  -> ['English', 'Teamwork']\n",
      "skills[1:4:2]-> ['Excel', 'Teamwork']\n",
      "skills[::-1] -> ['Big Data', 'Teamwork', 'AI', 'Excel', 'English']\n"
     ]
    }
   ],
   "source": [
    "skills = ['English', 'Excel', 'AI', 'Teamwork', 'Big Data']\n",
    "print(f\"skills[0:3]  -> {skills[0:3]}\") # ดึงสมาชิก 3 ตัวแรก\n",
    "print(f\"skills[:3]   -> {skills[:3]}\") # ดึงสมาชิก 3 ตัวแรก หากไม่มีการกำหนด start จะถือว่าเป็น 0\n",
    "print(f\"skills[3:]   -> {skills[3:]}\") # ดึงสมาชิกนับจาก index ที่ 3 เป็นต้นไป\n",
    "print(f\"skills[2:4]  -> {skills[2:4]}\") # ดึงสมาชิกนับจาก index ที่ 2 ถึง (stop - 1)\n",
    "print(f\"skills[-1]   -> {skills[-1]}\") # กรณี start เป็นเครื่องหมายลบ จะเป็นการนับจากตัวสุดท้าย โดยตัวสุดท้ายจะถือว่ามี index เป็น -1\n",
    "print(f\"skills[-2:]  -> {skills[-2:]}\") # ดึงสมาชิก 2 ตัวสุดท้าย\n",
    "print(f\"skills[::2]  -> {skills[::2]}\") # ดึงแบบข้ามทีละ 2 อันดับไปเรื่อย ๆ (ในที่นี้คือตัวเว้นตัว)\n",
    "print(f\"skills[::3]  -> {skills[::3]}\") # ดึงแบบข้ามทีละ 3 อันดับไปเรื่อย ๆ\n",
    "print(f\"skills[1:4:2]-> {skills[1:4:2]}\")\n",
    "print(f\"skills[::-1] -> {skills[::-1]}\") # การกลับหน้าหลัง (reverse) ลำดับข้อมูลใน `list` \n"
   ]
  },
  {
   "cell_type": "markdown",
   "metadata": {},
   "source": [
    "## การเข้าถึงสมาชิกใน `list` ด้วยลูป `for`\n"
   ]
  },
  {
   "cell_type": "code",
   "execution_count": 22,
   "metadata": {},
   "outputs": [
    {
     "name": "stdout",
     "output_type": "stream",
     "text": [
      "ENGLISH\n",
      "EXCEL\n",
      "AI\n",
      "TEAMWORK\n",
      "BIG DATA\n"
     ]
    }
   ],
   "source": [
    "skills = ['English', 'Excel', 'AI', 'Teamwork', 'Big Data']\n",
    "for skill in skills:\n",
    "    print(skill.upper())\n"
   ]
  },
  {
   "cell_type": "markdown",
   "metadata": {},
   "source": [
    "## การกรองสมาชิกใน `list`\n"
   ]
  },
  {
   "cell_type": "code",
   "execution_count": 23,
   "metadata": {},
   "outputs": [
    {
     "name": "stdout",
     "output_type": "stream",
     "text": [
      "ไก่ย่าง\n",
      "ต้มข่าไก่\n",
      "ไก่แช่น้ำปลา\n"
     ]
    }
   ],
   "source": [
    "menus = ['ไก่ย่าง', 'ไข่เจียว', 'ต้มข่าไก่', 'ไข่ลูกเขย', 'หมูมะนาว', 'ไก่แช่น้ำปลา']\n",
    "for menu in menus:\n",
    "    if 'ไก่' in menu:\n",
    "        print(menu)\n"
   ]
  },
  {
   "cell_type": "markdown",
   "metadata": {},
   "source": [
    "## การใช้ `range()` ร่วมกับ `list`\n"
   ]
  },
  {
   "cell_type": "code",
   "execution_count": 24,
   "metadata": {},
   "outputs": [
    {
     "name": "stdout",
     "output_type": "stream",
     "text": [
      "0. English\n",
      "1. Excel\n",
      "2. AI\n"
     ]
    }
   ],
   "source": [
    "skills = ['English', 'Excel', 'AI', 'Teamwork', 'Big Data']\n",
    "for i in range(3):\n",
    "    print(f\"{i}. {skills[i]}\")\n"
   ]
  },
  {
   "cell_type": "markdown",
   "metadata": {},
   "source": [
    "## การใช้ `list slicing` ในลูป `for`\n"
   ]
  },
  {
   "cell_type": "code",
   "execution_count": 25,
   "metadata": {},
   "outputs": [
    {
     "name": "stdout",
     "output_type": "stream",
     "text": [
      "English\n",
      "Excel\n",
      "AI\n"
     ]
    }
   ],
   "source": [
    "skills = ['English', 'Excel', 'AI', 'Teamwork', 'Big Data']\n",
    "for skill in skills[:3]:\n",
    "    print(skill)\n"
   ]
  },
  {
   "cell_type": "markdown",
   "metadata": {},
   "source": [
    "## การใช้ `range()` ร่วมกับ `list`\n"
   ]
  },
  {
   "cell_type": "code",
   "execution_count": 26,
   "metadata": {},
   "outputs": [
    {
     "name": "stdout",
     "output_type": "stream",
     "text": [
      "0. English\n",
      "1. Excel\n",
      "2. AI\n"
     ]
    }
   ],
   "source": [
    "skills = ['English', 'Excel', 'AI', 'Teamwork', 'Big Data']\n",
    "for i, skill in enumerate(skills[:3]):\n",
    "    print(f\"{i}. {skill}\")"
   ]
  },
  {
   "cell_type": "markdown",
   "metadata": {},
   "source": [
    "## การใช้ `enumerate()` ร่วมกับ `list`\n"
   ]
  },
  {
   "cell_type": "code",
   "execution_count": 27,
   "metadata": {},
   "outputs": [
    {
     "name": "stdout",
     "output_type": "stream",
     "text": [
      "0. ไก่ย่าง\n",
      "1. ไข่เจียว\n",
      "2. ต้มข่าไก่\n",
      "3. เนื้อแดดเดียว\n",
      "4. หมูมะนาว\n"
     ]
    }
   ],
   "source": [
    "menus = ['ไก่ย่าง', 'ไข่เจียว', 'ต้มข่าไก่', 'เนื้อแดดเดียว', 'หมูมะนาว']\n",
    "for index, menu in enumerate(menus):\n",
    "    print(f\"{index}. {menu}\")\n"
   ]
  },
  {
   "cell_type": "markdown",
   "metadata": {},
   "source": [
    "## การใช้ `enumerate(list_var, start=1)` ร่วมกับ `list`\n"
   ]
  },
  {
   "cell_type": "code",
   "execution_count": 28,
   "metadata": {},
   "outputs": [
    {
     "name": "stdout",
     "output_type": "stream",
     "text": [
      "1. ไก่ย่าง\n",
      "2. ไข่เจียว\n",
      "3. ต้มข่าไก่\n",
      "4. เนื้อแดดเดียว\n",
      "5. หมูมะนาว\n"
     ]
    }
   ],
   "source": [
    "menus = ['ไก่ย่าง', 'ไข่เจียว', 'ต้มข่าไก่', 'เนื้อแดดเดียว', 'หมูมะนาว']\n",
    "for index, menu in enumerate(menus, start=1):\n",
    "    print(f\"{index}. {menu}\")\n"
   ]
  },
  {
   "cell_type": "markdown",
   "metadata": {},
   "source": [
    "## การใช้ `list` เก็บตารางเดินรถไฟ\n"
   ]
  },
  {
   "cell_type": "code",
   "execution_count": 29,
   "metadata": {},
   "outputs": [
    {
     "name": "stdout",
     "output_type": "stream",
     "text": [
      "เดินทางจาก Bangkok ไปยัง Chiang Mai\n",
      "ออกเวลา 08:00 ถึงเวลา 15:30\n",
      "\n",
      "เดินทางจาก Bangkok ไปยัง Phuket\n",
      "ออกเวลา 09:30 ถึงเวลา 16:45\n",
      "\n",
      "เดินทางจาก Bangkok ไปยัง Krabi\n",
      "ออกเวลา 10:15 ถึงเวลา 18:20\n",
      "\n",
      "เดินทางจาก Chiang Mai ไปยัง Bangkok\n",
      "ออกเวลา 08:30 ถึงเวลา 16:00\n",
      "\n",
      "เดินทางจาก Phuket ไปยัง Bangkok\n",
      "ออกเวลา 11:00 ถึงเวลา 18:15\n",
      "\n",
      "เดินทางจาก Krabi ไปยัง Bangkok\n",
      "ออกเวลา 12:45 ถึงเวลา 21:00\n",
      "\n"
     ]
    }
   ],
   "source": [
    "train_schedules = [\n",
    "    [\"Bangkok\", \"Chiang Mai\", \"08:00\", \"15:30\"],\n",
    "    [\"Bangkok\", \"Phuket\", \"09:30\", \"16:45\"],\n",
    "    [\"Bangkok\", \"Krabi\", \"10:15\", \"18:20\"],\n",
    "    [\"Chiang Mai\", \"Bangkok\", \"08:30\", \"16:00\"],\n",
    "    [\"Phuket\", \"Bangkok\", \"11:00\", \"18:15\"],\n",
    "    [\"Krabi\", \"Bangkok\", \"12:45\", \"21:00\"],\n",
    "]\n",
    "for schedule in train_schedules:\n",
    "    origin, destination, departure_time, arrival_time = schedule # unpacking list\n",
    "    print(f\"เดินทางจาก {origin} ไปยัง {destination}\")\n",
    "    print(f\"ออกเวลา {departure_time} ถึงเวลา {arrival_time}\")\n",
    "    print() # ขึ้นบรรทัดใหม่\n"
   ]
  },
  {
   "cell_type": "markdown",
   "metadata": {},
   "source": [
    "## การนับจำนวนสมาชิกใน `list`\n"
   ]
  },
  {
   "cell_type": "code",
   "execution_count": 30,
   "metadata": {},
   "outputs": [
    {
     "name": "stdout",
     "output_type": "stream",
     "text": [
      "['English', 'Excel', 'AI', 'Teamwork', 'Big Data']\n",
      "len(skills) = 5\n"
     ]
    }
   ],
   "source": [
    "skills = ['English', 'Excel', 'AI', 'Teamwork', 'Big Data']\n",
    "print(skills) # แสดงสมาชิกทุกตัว\n",
    "print(f'len(skills) = {len(skills)}') # แสดงจำนวนสมาชิก\n"
   ]
  },
  {
   "cell_type": "markdown",
   "metadata": {},
   "source": [
    "## การเปรียบเทียบว่า `list` สองตัวเหมือนกันหรือไม่\n"
   ]
  },
  {
   "cell_type": "code",
   "execution_count": 31,
   "metadata": {},
   "outputs": [
    {
     "name": "stdout",
     "output_type": "stream",
     "text": [
      "list_a = ['mocha', 'latte', 'espresso']\n",
      "list_b = ['espresso', 'latte', 'mocha']\n",
      "list_c = ['mocha', 'latte', 'espresso']\n",
      "list_a == list_b: False\n",
      "list_a == list_c: True\n"
     ]
    }
   ],
   "source": [
    "list_a = ['mocha', 'latte', 'espresso']\n",
    "list_b = ['espresso', 'latte', 'mocha']\n",
    "list_c = ['mocha', 'latte', 'espresso']\n",
    "print(f'list_a = {list_a}')\n",
    "print(f'list_b = {list_b}')\n",
    "print(f'list_c = {list_c}')\n",
    "print(f'list_a == list_b: {list_a == list_b}')\n",
    "print(f'list_a == list_c: {list_a == list_c}')\n"
   ]
  },
  {
   "cell_type": "markdown",
   "metadata": {},
   "source": [
    "## การเปลี่ยนแปลงค่าสมาชิกใน `list`\n"
   ]
  },
  {
   "cell_type": "code",
   "execution_count": 32,
   "metadata": {},
   "outputs": [
    {
     "name": "stdout",
     "output_type": "stream",
     "text": [
      "skills (before) = ['English', 'Excel', 'AI', 'Teamwork', 'Big Data']\n",
      "skills (after)  = ['English', 'Data Analytics', 'AI', 'Teamwork', 'Big Data']\n"
     ]
    }
   ],
   "source": [
    "skills = ['English', 'Excel', 'AI', 'Teamwork', 'Big Data']\n",
    "print(f'skills (before) = {skills}') # แสดงสมาชิกทุกตัว\n",
    "skills[1] = 'Data Analytics'\n",
    "print(f'skills (after)  = {skills}') # แสดงสมาชิกทุกตัว\n"
   ]
  },
  {
   "cell_type": "markdown",
   "metadata": {},
   "source": [
    "## การเปลี่ยนค่าตัวอักษรบางตัวในสตริง\n"
   ]
  },
  {
   "cell_type": "code",
   "execution_count": 33,
   "metadata": {},
   "outputs": [
    {
     "name": "stdout",
     "output_type": "stream",
     "text": [
      "s      = 'make'\n",
      "list_s = ['m', 'a', 'k', 'e']\n",
      "list_s = ['F', 'a', 'k', 'e']\n",
      "s      = 'Fake'\n"
     ]
    }
   ],
   "source": [
    "s = 'make'\n",
    "print(f\"s      = {s!a}\")\n",
    "list_s = list(s) # ได้ค่าเป็น ['m', 'a', 'k', 'e']\n",
    "print(f\"list_s = {list_s}\")\n",
    "list_s[0] = 'F'\n",
    "print(f\"list_s = {list_s}\")\n",
    "s = ''.join(list_s)\n",
    "print(f\"s      = {s!a}\")\n"
   ]
  },
  {
   "cell_type": "markdown",
   "metadata": {},
   "source": [
    "## การเพิ่มสมาชิกใน `list` ด้วย `append()`\n"
   ]
  },
  {
   "cell_type": "code",
   "execution_count": 34,
   "metadata": {},
   "outputs": [
    {
     "name": "stdout",
     "output_type": "stream",
     "text": [
      "ก่อนเพิ่ม: skills = ['English', 'Excel', 'AI', 'Teamwork', 'Big Data']\n",
      "หลังเพิ่ม: skills = ['English', 'Excel', 'AI', 'Teamwork', 'Big Data', 'Communication']\n"
     ]
    }
   ],
   "source": [
    "skills = ['English', 'Excel', 'AI', 'Teamwork', 'Big Data']\n",
    "print(f'ก่อนเพิ่ม: skills = {skills}') # แสดงสมาชิกทุกตัว\n",
    "skills.append('Communication')\n",
    "print(f'หลังเพิ่ม: skills = {skills}') # แสดงสมาชิกทุกตัว\n"
   ]
  },
  {
   "cell_type": "markdown",
   "metadata": {},
   "source": [
    "## การเพิ่มสมาชิกใน `list` ด้วย `+`\n"
   ]
  },
  {
   "cell_type": "code",
   "execution_count": 35,
   "metadata": {},
   "outputs": [
    {
     "name": "stdout",
     "output_type": "stream",
     "text": [
      "ก่อนเพิ่ม: skills = ['English', 'Excel', 'AI', 'Teamwork', 'Big Data']\n",
      "หลังเพิ่ม: skills = ['English', 'Excel', 'AI', 'Teamwork', 'Big Data', 'Python', 'R', 'Statistics']\n"
     ]
    }
   ],
   "source": [
    "skills = ['English', 'Excel', 'AI', 'Teamwork', 'Big Data']\n",
    "print(f'ก่อนเพิ่ม: skills = {skills}') # แสดงสมาชิกทุกตัว\n",
    "skills += ['Python', 'R', 'Statistics'] # ต้องการเพิ่มสมาชิกหลาย ๆ ตัว\n",
    "print(f'หลังเพิ่ม: skills = {skills}') # แสดงสมาชิกทุกตัว\n"
   ]
  },
  {
   "cell_type": "markdown",
   "metadata": {},
   "source": [
    "## การเพิ่มสมาชิกแบบ `list` เข้าใน `list`\n"
   ]
  },
  {
   "cell_type": "code",
   "execution_count": 36,
   "metadata": {},
   "outputs": [
    {
     "name": "stdout",
     "output_type": "stream",
     "text": [
      "menus = [['espresso', 40, 50, 60], ['mocha', 70, 90, 110], ['latte', 80, 100, 120]]\n",
      "หลังเพิ่ม new_menu: menus = [['espresso', 40, 50, 60], ['mocha', 70, 90, 110], ['latte', 80, 100, 120], ['americano', 20, 30, 35]]\n"
     ]
    }
   ],
   "source": [
    "menus = [\n",
    "    [\"espresso\", 40, 50, 60],\n",
    "    [\"mocha\", 70, 90, 110],\n",
    "    [\"latte\", 80, 100, 120],\n",
    "]\n",
    "print(f'menus = {menus}')\n",
    "new_menu = [\"americano\", 20, 30, 35]\n",
    "menus.append(new_menu)\n",
    "print(f'หลังเพิ่ม new_menu: menus = {menus}')\n"
   ]
  },
  {
   "cell_type": "markdown",
   "metadata": {},
   "source": [
    "## การค้นหาสมาชิกใน `list`\n"
   ]
  },
  {
   "cell_type": "code",
   "execution_count": 37,
   "metadata": {},
   "outputs": [
    {
     "name": "stdout",
     "output_type": "stream",
     "text": [
      "['English', 'Excel', 'AI', 'Teamwork', 'Big Data']\n",
      "skills.index('AI') = 2\n"
     ]
    }
   ],
   "source": [
    "skills = ['English', 'Excel', 'AI', 'Teamwork', 'Big Data']\n",
    "print(skills) # แสดงสมาชิกทุกตัว\n",
    "print(f\"skills.index('AI') = {skills.index('AI')}\") # แสดงตำแหน่งสมาชิก\n"
   ]
  },
  {
   "cell_type": "markdown",
   "metadata": {},
   "source": [
    "## การลบสมาชิกใน `list`\n"
   ]
  },
  {
   "cell_type": "code",
   "execution_count": 38,
   "metadata": {},
   "outputs": [
    {
     "name": "stdout",
     "output_type": "stream",
     "text": [
      "skills (ก่อนลบ) = ['English', 'Excel', 'AI', 'Teamwork', 'Big Data']\n",
      "skills (หลังลบ) = ['English', 'Excel', 'AI', 'Big Data']\n"
     ]
    }
   ],
   "source": [
    "skills = ['English', 'Excel', 'AI', 'Teamwork', 'Big Data']\n",
    "print(f'skills (ก่อนลบ) = {skills}') # แสดงสมาชิกทุกตัว\n",
    "skills.remove('Teamwork')\n",
    "print(f'skills (หลังลบ) = {skills}') # แสดงสมาชิกทุกตัว\n"
   ]
  },
  {
   "cell_type": "markdown",
   "metadata": {},
   "source": [
    "## การใช้คำสั่ง `del` เพื่อลบสมาชิกใน `list`\n"
   ]
  },
  {
   "cell_type": "code",
   "execution_count": 39,
   "metadata": {},
   "outputs": [
    {
     "name": "stdout",
     "output_type": "stream",
     "text": [
      "skills (ก่อนลบ) = ['English', 'Excel', 'AI', 'Teamwork', 'Big Data']\n",
      "skills (หลังลบ) = ['English', 'Excel', 'AI', 'Big Data']\n"
     ]
    }
   ],
   "source": [
    "skills = ['English', 'Excel', 'AI', 'Teamwork', 'Big Data']\n",
    "print(f'skills (ก่อนลบ) = {skills}') # แสดงสมาชิกทุกตัว\n",
    "del skills[3]\n",
    "print(f'skills (หลังลบ) = {skills}') # แสดงสมาชิกทุกตัว\n"
   ]
  },
  {
   "cell_type": "markdown",
   "metadata": {},
   "source": [
    "## การลบสมาชิกหลายตัวใน `list` ด้วย `del`\n"
   ]
  },
  {
   "cell_type": "code",
   "execution_count": 40,
   "metadata": {},
   "outputs": [
    {
     "name": "stdout",
     "output_type": "stream",
     "text": [
      "skills (ก่อนลบ) = ['English', 'Excel', 'AI', 'Teamwork', 'Big Data']\n",
      "skills (หลังลบ) = ['English', 'Teamwork', 'Big Data']\n"
     ]
    }
   ],
   "source": [
    "skills = ['English', 'Excel', 'AI', 'Teamwork', 'Big Data']\n",
    "print(f'skills (ก่อนลบ) = {skills}') # แสดงสมาชิกทุกตัว\n",
    "del skills[1:3]\n",
    "print(f'skills (หลังลบ) = {skills}') # แสดงสมาชิกทุกตัว\n"
   ]
  },
  {
   "cell_type": "markdown",
   "metadata": {},
   "source": [
    "## การเรียงลำดับสมาชิกใน `list` ด้วย `sort()`\n"
   ]
  },
  {
   "cell_type": "code",
   "execution_count": 41,
   "metadata": {},
   "outputs": [
    {
     "name": "stdout",
     "output_type": "stream",
     "text": [
      "ก่อนการเรียงลำดับ skills = ['English', 'Excel', 'AI', 'Teamwork', 'Big Data']\n",
      "หลังการเรียงลำดับ skills = ['AI', 'Big Data', 'English', 'Excel', 'Teamwork']\n"
     ]
    }
   ],
   "source": [
    "skills = ['English', 'Excel', 'AI', 'Teamwork', 'Big Data']\n",
    "print(f\"ก่อนการเรียงลำดับ skills = {skills}\") # แสดงสมาชิกทุกตัว\n",
    "\n",
    "skills.sort()\n",
    "print(f\"หลังการเรียงลำดับ skills = {skills}\") # แสดงสมาชิกทุกตัว\n"
   ]
  },
  {
   "cell_type": "markdown",
   "metadata": {},
   "source": [
    "## การเรียงลำดับสมาชิกใน `list` ด้วย `sorted()`\n"
   ]
  },
  {
   "cell_type": "code",
   "execution_count": 42,
   "metadata": {},
   "outputs": [
    {
     "name": "stdout",
     "output_type": "stream",
     "text": [
      "ก่อนการเรียงลำดับ skills = ['English', 'Excel', 'AI', 'Teamwork', 'Big Data']\n",
      "หลังการเรียงลำดับ skills = ['English', 'Excel', 'AI', 'Teamwork', 'Big Data']\n",
      "หลังการเรียงลำดับ sorted_skills = ['AI', 'Big Data', 'English', 'Excel', 'Teamwork']\n"
     ]
    }
   ],
   "source": [
    "skills = ['English', 'Excel', 'AI', 'Teamwork', 'Big Data']\n",
    "print(f\"ก่อนการเรียงลำดับ skills = {skills}\") # แสดงสมาชิกทุกตัว\n",
    "\n",
    "sorted_skills = sorted(skills)\n",
    "print(f\"หลังการเรียงลำดับ skills = {skills}\") # แสดงสมาชิกทุกตัว\n",
    "print(f\"หลังการเรียงลำดับ sorted_skills = {sorted_skills}\") # แสดงสมาชิกทุกตัว\n"
   ]
  },
  {
   "cell_type": "markdown",
   "metadata": {},
   "source": [
    "## การเรียงลำดับตัวเลขใน `list` จากน้อยไปมาก\n"
   ]
  },
  {
   "cell_type": "code",
   "execution_count": 43,
   "metadata": {},
   "outputs": [
    {
     "name": "stdout",
     "output_type": "stream",
     "text": [
      "ก่อนการเรียงลำดับ scores = [8, 7, 10, 6]\n",
      "หลังการเรียงลำดับ scores = [6, 7, 8, 10]\n"
     ]
    }
   ],
   "source": [
    "scores = [8, 7, 10, 6] # สร้าง `list` ชื่อ scores มีสมาชิก 4 ตัว\n",
    "print(f\"ก่อนการเรียงลำดับ scores = {scores}\") # แสดงสมาชิกทุกตัว\n",
    "scores.sort()\n",
    "print(f\"หลังการเรียงลำดับ scores = {scores}\") # แสดงสมาชิกทุกตัว\n"
   ]
  },
  {
   "cell_type": "markdown",
   "metadata": {},
   "source": [
    "## การเรียงลำดับตัวเลขใน `list` จากมากไปน้อย\n"
   ]
  },
  {
   "cell_type": "code",
   "execution_count": 44,
   "metadata": {},
   "outputs": [
    {
     "name": "stdout",
     "output_type": "stream",
     "text": [
      "ก่อนการเรียงลำดับ scores = [8, 7, 10, 6]\n",
      "หลังการเรียงลำดับ scores = [10, 8, 7, 6]\n"
     ]
    }
   ],
   "source": [
    "scores = [8, 7, 10, 6] # สร้าง `list` ชื่อ scores มีสมาชิก 4 ตัว\n",
    "print(f\"ก่อนการเรียงลำดับ scores = {scores}\") # แสดงสมาชิกทุกตัว\n",
    "scores.sort(reverse=True)\n",
    "print(f\"หลังการเรียงลำดับ scores = {scores}\") # แสดงสมาชิกทุกตัว\n"
   ]
  },
  {
   "cell_type": "markdown",
   "metadata": {},
   "source": [
    "## การนับจำนวนครั้งที่สมาชิกปรากฏใน `list`\n"
   ]
  },
  {
   "cell_type": "code",
   "execution_count": 45,
   "metadata": {},
   "outputs": [
    {
     "name": "stdout",
     "output_type": "stream",
     "text": [
      "3\n"
     ]
    }
   ],
   "source": [
    "grades = ['B', 'C', 'A', 'D', 'A', 'C', 'A', 'C', 'B', 'C']\n",
    "count_grade_A = grades.count('A')\n",
    "print(count_grade_A)  # ผลลัพธ์: 3\n"
   ]
  },
  {
   "cell_type": "markdown",
   "metadata": {},
   "source": [
    "## การนับจำนวนครั้งที่สมาชิกปรากฏใน `list`\n"
   ]
  },
  {
   "cell_type": "code",
   "execution_count": 46,
   "metadata": {},
   "outputs": [
    {
     "name": "stdout",
     "output_type": "stream",
     "text": [
      "2\n"
     ]
    }
   ],
   "source": [
    "orders = [1, 1, 2, 1, 3, 2, 5, 1, 3]\n",
    "three_orders = orders.count(3)\n",
    "print(three_orders)  # ผลลัพธ์: 2\n"
   ]
  },
  {
   "cell_type": "markdown",
   "metadata": {},
   "source": [
    "## การรวม `list` หลายตัวเข้าด้วยกัน\n"
   ]
  },
  {
   "cell_type": "code",
   "execution_count": 47,
   "metadata": {},
   "outputs": [
    {
     "name": "stdout",
     "output_type": "stream",
     "text": [
      "['ส้มตำ', 'ไก่ย่าง', 'ข้าวเหนียว', 'tea', 'coffee', 'บัวลอย', 'ลอดช่อง']\n"
     ]
    }
   ],
   "source": [
    "main_menus = ['ส้มตำ', 'ไก่ย่าง', 'ข้าวเหนียว']\n",
    "drinks = ['tea', 'coffee']\n",
    "desserts = ['บัวลอย', 'ลอดช่อง']\n",
    "all_menus= main_menus + drinks + desserts\n",
    "print(all_menus)\n"
   ]
  },
  {
   "cell_type": "markdown",
   "metadata": {},
   "source": [
    "## การแยกแต่ละตัวอักษรในสตริงมาสร้างเป็น `list`\n"
   ]
  },
  {
   "cell_type": "code",
   "execution_count": 48,
   "metadata": {},
   "outputs": [
    {
     "name": "stdout",
     "output_type": "stream",
     "text": [
      "['C', 'M', 'Y', 'K']\n"
     ]
    }
   ],
   "source": [
    "s = \"CMYK\"\n",
    "color_codes = list(s)\n",
    "print(color_codes)\n"
   ]
  },
  {
   "cell_type": "markdown",
   "metadata": {},
   "source": [
    "## การแปลงสตริงแบบมีตัวคั่นให้เป็น `list`\n"
   ]
  },
  {
   "cell_type": "code",
   "execution_count": 49,
   "metadata": {},
   "outputs": [
    {
     "name": "stdout",
     "output_type": "stream",
     "text": [
      "['ส้มตำ', 'ไก่ย่าง', 'หมูแดดเดียว', 'ข้าวเหนียว', 'หมูมะนาว']\n"
     ]
    }
   ],
   "source": [
    "s = \"ส้มตำ,ไก่ย่าง,หมูแดดเดียว,ข้าวเหนียว,หมูมะนาว\"\n",
    "menus = s.split(',')\n",
    "print(menus)\n"
   ]
  },
  {
   "cell_type": "markdown",
   "metadata": {},
   "source": [
    "## การรวมสมาชิกใน `list` ให้กลายเป็นสตริง\n"
   ]
  },
  {
   "cell_type": "code",
   "execution_count": 50,
   "metadata": {},
   "outputs": [
    {
     "name": "stdout",
     "output_type": "stream",
     "text": [
      "ส้มตำ ไก่ย่าง หมูแดดเดียว ข้าวเหนียว หมูมะนาว\n"
     ]
    }
   ],
   "source": [
    "menus = ['ส้มตำ', 'ไก่ย่าง', 'หมูแดดเดียว', 'ข้าวเหนียว', 'หมูมะนาว']\n",
    "s1 = \" \".join(menus)\n",
    "print(s1)\n"
   ]
  },
  {
   "cell_type": "markdown",
   "metadata": {},
   "source": [
    "## การรวมสมาชิกใน `list` ให้กลายเป็นสตริงโดยมี , เป็นตัวคั่น\n"
   ]
  },
  {
   "cell_type": "code",
   "execution_count": 51,
   "metadata": {},
   "outputs": [
    {
     "name": "stdout",
     "output_type": "stream",
     "text": [
      "ส้มตำ,ไก่ย่าง,หมูแดดเดียว,ข้าวเหนียว,หมูมะนาว\n"
     ]
    }
   ],
   "source": [
    "menus = ['ส้มตำ', 'ไก่ย่าง', 'หมูแดดเดียว', 'ข้าวเหนียว', 'หมูมะนาว']\n",
    "s1 = \",\".join(menus)\n",
    "print(s1)\n"
   ]
  },
  {
   "cell_type": "markdown",
   "metadata": {},
   "source": [
    "## การสลับตำแหน่งสมาชิกใน `list` แบบสุ่ม (shuffle)\n"
   ]
  },
  {
   "cell_type": "code",
   "execution_count": 52,
   "metadata": {},
   "outputs": [
    {
     "name": "stdout",
     "output_type": "stream",
     "text": [
      "before shuffle: ['ส้มตำ', 'ไก่ย่าง', 'หมูแดดเดียว', 'ข้าวเหนียว', 'หมูมะนาว']\n",
      "after shuffle:  ['ข้าวเหนียว', 'ไก่ย่าง', 'หมูมะนาว', 'หมูแดดเดียว', 'ส้มตำ']\n"
     ]
    }
   ],
   "source": [
    "import random\n",
    "\n",
    "menus = ['ส้มตำ', 'ไก่ย่าง', 'หมูแดดเดียว', 'ข้าวเหนียว', 'หมูมะนาว']\n",
    "print(f\"before shuffle: {menus}\") \n",
    "\n",
    "random.shuffle(menus) # shuffle แต่ละครั้งได้ผลลัพธ์ไม่เหมือนกัน\n",
    "\n",
    "print(f\"after shuffle:  {menus}\") \n"
   ]
  },
  {
   "cell_type": "markdown",
   "metadata": {},
   "source": [
    "## การทำซ้ำข้อมูลใน `list` ด้วยตัวดำเนินการ `*`\n"
   ]
  },
  {
   "cell_type": "code",
   "execution_count": 53,
   "metadata": {},
   "outputs": [
    {
     "name": "stdout",
     "output_type": "stream",
     "text": [
      "[1, 2, 3, 1, 2, 3, 1, 2, 3, 1, 2, 3]\n"
     ]
    }
   ],
   "source": [
    "x = [1, 2, 3] * 4\n",
    "print(x)\n"
   ]
  },
  {
   "cell_type": "markdown",
   "metadata": {},
   "source": [
    "## การใช้ `list` เพื่อเก็บข้อมูลยอดขายสินค้าในแต่ละวัน\n"
   ]
  },
  {
   "cell_type": "code",
   "execution_count": 54,
   "metadata": {},
   "outputs": [
    {
     "name": "stdout",
     "output_type": "stream",
     "text": [
      "ข้อมูลยอดขายในแต่ละวัน: [15000, 18000, 20000, 22000, 16000, 19000, 21000]\n",
      "ยอดขายรวม: 131,000\n",
      "ยอดขายเฉลี่ยต่อวัน: 18,714.29\n",
      "ยอดขายสูงสุด: 22,000\n",
      "ยอดขายต่ำสุด: 15,000\n",
      "ข้อมูลยอดขายที่เรียงลำดับ: [15000, 16000, 18000, 19000, 20000, 21000, 22000]\n",
      "ค่ามัธยฐานของยอดขาย: 19,000\n"
     ]
    }
   ],
   "source": [
    "sales = [15000, 18000, 20000, 22000, 16000, 19000, 21000]\n",
    "\n",
    "# แสดงข้อมูลยอดขายในแต่ละวัน\n",
    "print(f\"ข้อมูลยอดขายในแต่ละวัน: {sales}\")\n",
    "# คำนวณยอดขายรวม\n",
    "total_sales = sum(sales)\n",
    "print(f\"ยอดขายรวม: {total_sales:,}\")\n",
    "# คำนวณยอดขายเฉลี่ย\n",
    "average_sales = total_sales / len(sales)\n",
    "print(f\"ยอดขายเฉลี่ยต่อวัน: {average_sales:,.2f}\")\n",
    "# ค้นหายอดขายสูงสุดและต่ำสุด\n",
    "max_sales = max(sales)\n",
    "min_sales = min(sales)\n",
    "print(f\"ยอดขายสูงสุด: {max_sales:,}\")\n",
    "print(f\"ยอดขายต่ำสุด: {min_sales:,}\")\n",
    "# เรียงลำดับข้อมูลยอดขาย\n",
    "sorted_sales = sorted(sales)\n",
    "print(f\"ข้อมูลยอดขายที่เรียงลำดับ: {sorted_sales}\")\n",
    "# หาค่ามัธยฐานของยอดขาย\n",
    "if len(sales) % 2 == 0:\n",
    "    median = (sorted_sales[len(sales)//2 - 1] + sorted_sales[len(sales)//2]) / 2\n",
    "else:\n",
    "    median = sorted_sales[len(sales)//2]\n",
    "print(f\"ค่ามัธยฐานของยอดขาย: {median:,}\")\n"
   ]
  },
  {
   "cell_type": "markdown",
   "metadata": {},
   "source": [
    "## การประยุกต์ใช้ `list` เพื่อหาว่าปี พ.ศ. ที่ระบุตรงกับปีนักษัตรใด\n"
   ]
  },
  {
   "cell_type": "code",
   "execution_count": 55,
   "metadata": {},
   "outputs": [
    {
     "name": "stdout",
     "output_type": "stream",
     "text": [
      "ปี 2566 ตรงกับปีเถาะ\n"
     ]
    }
   ],
   "source": [
    "zodiacs=[\"มะเส็ง\", \"มะเมีย\", \"มะแม\", \"วอก\", \"ระกา\", \"จอ\", \"กุน\", \"ชวด\", \"ฉลู\", \"ขาล\", \"เถาะ\", \"มะโรง\"]\n",
    "year = 2566 # ต้องเป็นปี พ.ศ.\n",
    "print(f\"ปี {year} ตรงกับปี{zodiacs[year % 12]}\")\n"
   ]
  },
  {
   "cell_type": "markdown",
   "metadata": {},
   "source": [
    "## การประยุกต์ใช้ `if` เพื่อหาว่าปี พ.ศ. ที่ระบุตรงกับปีนักษัตรใด\n"
   ]
  },
  {
   "cell_type": "code",
   "execution_count": 56,
   "metadata": {},
   "outputs": [
    {
     "name": "stdout",
     "output_type": "stream",
     "text": [
      "ปี 2566 ตรงกับปีเถาะ\n"
     ]
    }
   ],
   "source": [
    "year = 2566\n",
    "z = year % 12 # เอาเศษที่ได้จากการหาร\n",
    "zodiac_year = ''\n",
    "if z == 0:\n",
    "    zodiac_year = 'มะเส็ง'\n",
    "elif z == 1:\n",
    "    zodiac_year = 'มะเมีย'\n",
    "elif z == 2:\n",
    "    zodiac_year = 'มะแม'\n",
    "elif z == 3:\n",
    "    zodiac_year = 'วอก'\n",
    "elif z == 4:\n",
    "    zodiac_year = 'ระกา'\n",
    "elif z == 5:\n",
    "    zodiac_year = 'จอ'\n",
    "elif z == 6:\n",
    "    zodiac_year = 'กุน'\n",
    "elif z == 7:\n",
    "    zodiac_year = 'ชวด'\n",
    "elif z == 8:\n",
    "    zodiac_year = 'ฉลู'\n",
    "elif z == 9:\n",
    "    zodiac_year = 'ขาล'\n",
    "elif z == 10:\n",
    "    zodiac_year = 'เถาะ'\n",
    "elif z == 11:\n",
    "    zodiac_year = 'มะโรง'\n",
    "\n",
    "print(f\"ปี {year} ตรงกับปี{zodiac_year}\")\n"
   ]
  },
  {
   "cell_type": "markdown",
   "metadata": {},
   "source": [
    "## การประยุกต์ใช้ `list` เก็บสถานีรถไฟฟ้า\n"
   ]
  },
  {
   "cell_type": "code",
   "execution_count": 57,
   "metadata": {},
   "outputs": [
    {
     "name": "stdout",
     "output_type": "stream",
     "text": [
      "สถานีทั้งหมด ['สนามกีฬาแห่งชาติ', 'สยาม', 'ราชดำริ', 'ศาลาแดง', 'ช่องนนทรี', 'เซนต์หลุยส์', 'สุรศักดิ์', 'สะพานตากสิน', 'กรุงธนบุรี', 'วงเวียนใหญ่', 'โพธิ์นิมิตร', 'ตลาดพลู', 'วุฒากาศ', 'บางหว้า']\n",
      "เส้นทางจาก ศาลาแดง->ช่องนนทรี->เซนต์หลุยส์->สุรศักดิ์ เสียค่าเดินทาง 3 สถานี\n"
     ]
    }
   ],
   "source": [
    "s = \"สนามกีฬาแห่งชาติ สยาม ราชดำริ ศาลาแดง ช่องนนทรี เซนต์หลุยส์ สุรศักดิ์ สะพานตากสิน กรุงธนบุรี วงเวียนใหญ่ โพธิ์นิมิตร ตลาดพลู วุฒากาศ บางหว้า\"\n",
    "stations = s.split(\" \")\n",
    "print(f\"สถานีทั้งหมด {stations}\")\n",
    "# from_station = \"ศาลาแดง\"\n",
    "# to_station = \"สุรศักดิ์\"\n",
    "\n",
    "from_station = \"สุรศักดิ์\"\n",
    "to_station = \"ศาลาแดง\"\n",
    "\n",
    "from_station_number = stations.index(from_station)\n",
    "to_station_number = stations.index(to_station)\n",
    "# print(abs(from_station_number - to_station_number))\n",
    "\n",
    "routes = stations[\n",
    "    min(from_station_number, to_station_number) : max(\n",
    "        from_station_number, to_station_number\n",
    "    )\n",
    "    + 1\n",
    "]\n",
    "\n",
    "if from_station_number < to_station_number:\n",
    "    routes = routes[::-1]\n",
    "\n",
    "print(f\"เส้นทางจาก {'->'.join(routes)} เสียค่าเดินทาง {abs(from_station_number - to_station_number)} สถานี\")\n"
   ]
  },
  {
   "cell_type": "markdown",
   "metadata": {},
   "source": [
    "## การสร้าง pictograph ด้วย emoji font\n"
   ]
  },
  {
   "cell_type": "code",
   "execution_count": 58,
   "metadata": {},
   "outputs": [
    {
     "name": "stdout",
     "output_type": "stream",
     "text": [
      "burger: 🍔🍔🍔🍔🍔🍔🍔🍔🍔🍔 (10)\n",
      "soda  : 🥤🥤🥤🥤🥤 (5)\n",
      "fries : 🍟🍟🍟🍟🍟🍟🍟🍟 (8)\n",
      "cake  : 🍰🍰🍰 (3)\n"
     ]
    }
   ],
   "source": [
    "menus = [['burger', 10, '🍔'], ['soda', 5, '🥤'], ['fries', 8, '🍟'], ['cake', 3, '🍰']]\n",
    "for menu, sales, icon in menus:\n",
    "    picto = icon * sales\n",
    "    print(f\"{menu:6}: {picto} ({sales})\")\n"
   ]
  },
  {
   "cell_type": "markdown",
   "metadata": {},
   "source": [
    "## การใช้ `list comprehension` ในการแปลงสมาชิกทุกตัวใน `list` ให้เป็นตัวพิมพ์ใหญ่\n"
   ]
  },
  {
   "cell_type": "code",
   "execution_count": 59,
   "metadata": {},
   "outputs": [
    {
     "name": "stdout",
     "output_type": "stream",
     "text": [
      "ucase_drinks = ['GREEN TEA', 'MOCHA', 'OOLONG TEA', 'WATER', 'MILK TEA', 'LATTE']\n"
     ]
    }
   ],
   "source": [
    "drinks = ['green tea', 'mocha', 'oolong tea', 'Water', 'milk tea', 'latte']\n",
    "ucase_drinks = [drink.upper() for drink in drinks] # แปลงสมาชิกทุกตัวเป็นตัวพิมพ์ใหญ่\n",
    "print(f\"ucase_drinks = {ucase_drinks}\")\n"
   ]
  },
  {
   "cell_type": "markdown",
   "metadata": {},
   "source": [
    "## การใช้เงื่อนไขกรองข้อมูลใน `list comprehension`\n"
   ]
  },
  {
   "cell_type": "code",
   "execution_count": 60,
   "metadata": {},
   "outputs": [
    {
     "name": "stdout",
     "output_type": "stream",
     "text": [
      "tea_drinks = ['green tea', 'oolong tea', 'milk tea']\n"
     ]
    }
   ],
   "source": [
    "# รายการเครื่องดื่ม\n",
    "drinks = ['green tea', 'mocha', 'oolong tea', 'Water', 'milk tea', 'latte']\n",
    "\n",
    "# สร้าง `list` เครื่องดื่มที่มีคำว่า \"tea\" อยู่ในชื่อ\n",
    "tea_drinks = [drink for drink in drinks if 'tea' in drink]\n",
    "\n",
    "print(f\"tea_drinks = {tea_drinks}\")\n"
   ]
  },
  {
   "cell_type": "markdown",
   "metadata": {},
   "source": [
    "## การใช้ `list comprehension` ในการสร้าง acronym\n"
   ]
  },
  {
   "cell_type": "code",
   "execution_count": 61,
   "metadata": {},
   "outputs": [
    {
     "name": "stdout",
     "output_type": "stream",
     "text": [
      "words = ['fear', 'of', 'missing', 'out']\n",
      "first_letters = ['F', 'O', 'M', 'O']\n",
      "acronym = FOMO\n"
     ]
    }
   ],
   "source": [
    "sentence = \"fear of missing out\"\n",
    "# sentence = \"buy now pay later\"\n",
    "words = sentence.split(' ')  # แยกคำในประโยคออกจากกันด้วยช่องว่าง\n",
    "print(f\"words = {words}\")\n",
    "first_letters = [word[0].upper() for word in words]  # ดึงตัวอักษรตัวแรกของแต่ละคำและแปลงเป็นตัวพิมพ์ใหญ่\n",
    "print(f\"first_letters = {first_letters}\")\n",
    "acronym = ''.join(first_letters)  # รวมตัวอักษรเป็นสตริงใหม่\n",
    "print(f'acronym = {acronym}')\n"
   ]
  },
  {
   "cell_type": "markdown",
   "metadata": {},
   "source": [
    "## การใช้ `list comprehension` แปลงตัวเลขให้ดูสวยงามขึ้นด้วย emoji font\n"
   ]
  },
  {
   "cell_type": "code",
   "execution_count": 62,
   "metadata": {},
   "outputs": [
    {
     "name": "stdout",
     "output_type": "stream",
     "text": [
      "1711 1️⃣7️⃣1️⃣1️⃣\n"
     ]
    }
   ],
   "source": [
    "p_nums = \"0️⃣ 1️⃣ 2️⃣ 3️⃣ 4️⃣ 5️⃣ 6️⃣ 7️⃣ 8️⃣ 9️⃣\".split(' ')\n",
    "\n",
    "num = 1711\n",
    "pretty_num = ''.join([p_nums[int(c)] for c in str(num)])\n",
    "print(num, pretty_num)"
   ]
  },
  {
   "cell_type": "markdown",
   "metadata": {},
   "source": [
    "# แบบฝึกหัด\n"
   ]
  },
  {
   "cell_type": "markdown",
   "metadata": {},
   "source": [
    "1. จากตัวแปร `menus` ที่เก็บรายชื่อเมนูอาหาร ให้เขียนโปรแกรมเพื่อแสดง 3 เมนูแรกที่มีคำว่า \"ไก่\" อยู่ในชื่อ\n",
    "```python\n",
    "menus = \"เนื้อผัดน้ำมันหอย ปลาเนื้ออ่อนทอดกระเทียมพริกไทย ก๋วยเตี๋ยวน้ำ ลาบไก่ ไก่ผัดขิง ไก่ต้มข่า แกงเขียวหวานไก่ ปลาดุกผัดเผ็ด ปูนิ่มผัดผงกะหรี่ ไข่เจียวหมูสับ ปลากะพงนึ่งมะนาว แกงจืดวุ้นเส้น เปาะเปียะทอด หมูกระเทียมพริกไทย ปลากะพงราดพริก ไก่ย่าง\"\n",
    "```\n"
   ]
  },
  {
   "cell_type": "code",
   "execution_count": 63,
   "metadata": {},
   "outputs": [
    {
     "name": "stdout",
     "output_type": "stream",
     "text": [
      "1. ลาบไก่\n",
      "2. ไก่ผัดขิง\n",
      "3. ไก่ต้มข่า\n"
     ]
    }
   ],
   "source": [
    "menus = \"เนื้อผัดน้ำมันหอย ปลาเนื้ออ่อนทอดกระเทียมพริกไทย ก๋วยเตี๋ยวน้ำ ลาบไก่ ไก่ผัดขิง ไก่ต้มข่า แกงเขียวหวานไก่ ปลาดุกผัดเผ็ด ปูนิ่มผัดผงกะหรี่ ไข่เจียวหมูสับ ปลากะพงนึ่งมะนาว แกงจืดวุ้นเส้น เปาะเปียะทอด หมูกระเทียมพริกไทย ปลากะพงราดพริก ไก่ย่าง\".split(\" \")\n",
    "\n",
    "target_menus = 3\n",
    "count = 0\n",
    "idx = 0\n",
    "while (count < target_menus) and (idx < len(menus)):\n",
    "    if \"ไก่\" in menus[idx]:\n",
    "        print(f\"{count + 1}. {menus[idx]}\")\n",
    "        count += 1\n",
    "    idx += 1\n"
   ]
  },
  {
   "cell_type": "markdown",
   "metadata": {},
   "source": [
    "หากเขียนโดยใช้ `list comprehension` จะเป็นดังนี้"
   ]
  },
  {
   "cell_type": "code",
   "execution_count": 64,
   "metadata": {},
   "outputs": [
    {
     "name": "stdout",
     "output_type": "stream",
     "text": [
      "1. ลาบไก่\n",
      "2. ไก่ผัดขิง\n",
      "3. ไก่ต้มข่า\n"
     ]
    }
   ],
   "source": [
    "menus = \"เนื้อผัดน้ำมันหอย ปลาเนื้ออ่อนทอดกระเทียมพริกไทย ก๋วยเตี๋ยวน้ำ ลาบไก่ ไก่ผัดขิง ไก่ต้มข่า แกงเขียวหวานไก่ ปลาดุกผัดเผ็ด ปูนิ่มผัดผงกะหรี่ ไข่เจียวหมูสับ ปลากะพงนึ่งมะนาว แกงจืดวุ้นเส้น เปาะเปียะทอด หมูกระเทียมพริกไทย ปลากะพงราดพริก ไก่ย่าง\".split(\" \")\n",
    "\n",
    "target_menus = 3\n",
    "_ = [print(f'{i}. {menu}') for i, menu in enumerate([menu for menu in menus if \"ไก่\" in menu][:target_menus], start=1)]\n"
   ]
  },
  {
   "cell_type": "markdown",
   "metadata": {},
   "source": [
    "2. จากโจทย์ข้อที่ 1 ให้แสดง 3 เมนูแรกที่มีคำว่า \"ปลา\" หรือ \"ปู\"\n"
   ]
  },
  {
   "cell_type": "code",
   "execution_count": 65,
   "metadata": {},
   "outputs": [
    {
     "name": "stdout",
     "output_type": "stream",
     "text": [
      "1. ปลาเนื้ออ่อนทอดกระเทียมพริกไทย\n",
      "2. ปลาดุกผัดเผ็ด\n",
      "3. ปูนิ่มผัดผงกะหรี่\n"
     ]
    }
   ],
   "source": [
    "menus = \"เนื้อผัดน้ำมันหอย ปลาเนื้ออ่อนทอดกระเทียมพริกไทย ก๋วยเตี๋ยวน้ำ ลาบไก่ ไก่ผัดขิง ไก่ต้มข่า แกงเขียวหวานไก่ ปลาดุกผัดเผ็ด ปูนิ่มผัดผงกะหรี่ ไข่เจียวหมูสับ ปลากะพงนึ่งมะนาว แกงจืดวุ้นเส้น เปาะเปียะทอด หมูกระเทียมพริกไทย ปลากะพงราดพริก ไก่ย่าง\".split(' ')\n",
    "\n",
    "count = 0\n",
    "target_menus = 3\n",
    "idx = 0\n",
    "while (count < target_menus) and (idx < len(menus)):\n",
    "    if (\"ปลา\" in menus[idx]) or (\"ปู\" in menus[idx]):\n",
    "        print(f\"{count + 1}. {menus[idx]}\")\n",
    "        count += 1\n",
    "    idx += 1\n"
   ]
  },
  {
   "cell_type": "markdown",
   "metadata": {},
   "source": [
    "3. แปลงโค้ดที่ให้มาโดยใช้ `list comprehension`\n",
    "\n",
    "```python\n",
    "s = \"RX-78-2\"\n",
    "encoded_s = \"\"\n",
    "for c in s:\n",
    "    encoded_s += chr(ord(c) + 1)\n",
    "print(encoded_s)\n",
    "```\n"
   ]
  },
  {
   "cell_type": "code",
   "execution_count": 66,
   "metadata": {},
   "outputs": [
    {
     "name": "stdout",
     "output_type": "stream",
     "text": [
      "SY.89.3\n"
     ]
    }
   ],
   "source": [
    "s = \"RX-78-2\"\n",
    "encoded_s = \"\".join([chr(ord(c) + 1) for c in s])\n",
    "print(encoded_s)\n"
   ]
  },
  {
   "cell_type": "markdown",
   "metadata": {},
   "source": [
    "4. แปลงโค้ดที่ให้มาโดยใช้ `list comprehension`\n",
    "\n",
    "โค้ดที่ให้มาจะทำการหาว่าตัวเลข 1000-1200 มีเลขใดบ้างที่ผลรวมแต่ละหลักรวมกันได้ 9 พร้อมแสดงว่ามีตัวเลขที่เข้าเงื่อนไขทั้งสิ้นกี่ตัว\n",
    "\n",
    "```python\n",
    "count = 0\n",
    "for i in range(1000, 1201):\n",
    "    total = 0\n",
    "    for c in str(i):\n",
    "        total = total + int(c)\n",
    "    if total == 9:\n",
    "        print(i, end = ' ')\n",
    "        count += 1\n",
    "print(f\"\\ncount = {count}\")        \n",
    "```\n"
   ]
  },
  {
   "cell_type": "code",
   "execution_count": 67,
   "metadata": {},
   "outputs": [
    {
     "name": "stdout",
     "output_type": "stream",
     "text": [
      "[1008, 1017, 1026, 1035, 1044, 1053, 1062, 1071, 1080, 1107, 1116, 1125, 1134, 1143, 1152, 1161, 1170]\n",
      "count = 17\n"
     ]
    }
   ],
   "source": [
    "count = 0\n",
    "nums = [i for i in range(1000, 1201) if sum([int(c) for c in str(i)]) == 9]\n",
    "print(nums)\n",
    "print(f\"count = {len(nums)}\")        \n"
   ]
  },
  {
   "cell_type": "markdown",
   "metadata": {},
   "source": [
    "5. ให้เขียนโปรแกรมเพื่อหาค่าสูงสุดและค่าต่ำสุดจากลิสต์ของตัวเลข โดยรับตัวเลขจากผู้ใช้เรื่อย ๆ กว่าผู้ใช้จะป้อนค่า -1\n",
    "และแสดงผลลัพธ์ออกทางหน้าจอ\n"
   ]
  },
  {
   "cell_type": "code",
   "execution_count": 68,
   "metadata": {},
   "outputs": [
    {
     "name": "stdout",
     "output_type": "stream",
     "text": [
      "ค่าสูงสุดคือ: 6\n",
      "ค่าต่ำสุดคือ: 3\n"
     ]
    }
   ],
   "source": [
    "numbers = []\n",
    "while True:\n",
    "    number = int(input(\"ป้อนตัวเลข (-1 เพื่อหยุด): \"))\n",
    "    if number == -1:\n",
    "        break\n",
    "    numbers.append(number)\n",
    "max_number = max(numbers)\n",
    "min_number = min(numbers)\n",
    "print(f\"ค่าสูงสุดคือ: {max_number}\")\n",
    "print(f\"ค่าต่ำสุดคือ: {min_number}\")\n"
   ]
  },
  {
   "cell_type": "markdown",
   "metadata": {},
   "source": [
    "6. จากข้อมูลสถานีรถไฟฟ้าที่ให้มา\n",
    "```python\n",
    "s = \"สนามกีฬาแห่งชาติ สยาม ราชดำริ ศาลาแดง ช่องนนทรี เซนต์หลุยส์ สุรศักดิ์ สะพานตากสิน กรุงธนบุรี วงเวียนใหญ่ โพธิ์นิมิตร ตลาดพลู วุฒากาศ บางหว้า\"\n",
    "```\n",
    "ให้เขียนโค้ดแสดงสถานีที่อยู่ก่อนและหลังสถานีที่เราอยู่ เช่น หากเราอยู่ที่สถานีศาลาแดง ผลลัพธ์ที่คาดหวังจะเป็นดังนี้\n",
    "```\n",
    "ราชดำริ<-[ศาลาแดง]->ช่องนนทรี\n",
    "```\n"
   ]
  },
  {
   "cell_type": "code",
   "execution_count": 69,
   "metadata": {},
   "outputs": [
    {
     "name": "stdout",
     "output_type": "stream",
     "text": [
      "ราชดำริ<-[ศาลาแดง]->ช่องนนทรี\n"
     ]
    }
   ],
   "source": [
    "s = \"สนามกีฬาแห่งชาติ สยาม ราชดำริ ศาลาแดง ช่องนนทรี เซนต์หลุยส์ สุรศักดิ์ สะพานตากสิน กรุงธนบุรี วงเวียนใหญ่ โพธิ์นิมิตร ตลาดพลู วุฒากาศ บางหว้า\"\n",
    "stations = s.split(\" \")\n",
    "\n",
    "here = 'ศาลาแดง'\n",
    "# here = 'สนามกีฬาแห่งชาติ'\n",
    "# here = 'บางหว้า'\n",
    "\n",
    "here_station_idx=stations.index(here)\n",
    "prev_station=stations[here_station_idx - 1] if here_station_idx > 0 else ''\n",
    "next_station='' if here_station_idx == (len(stations) - 1) else stations[here_station_idx + 1]\n",
    "info = f\"{prev_station}{'' if len(prev_station) ==0 else '<-'}[{stations[here_station_idx]}]{'' if len(next_station) == 0 else '->'}{next_station}\"\n",
    "print(info)\n"
   ]
  },
  {
   "cell_type": "markdown",
   "metadata": {},
   "source": [
    "7. ให้ใช้ `list comprehension` เพื่อสร้าง `list` เพื่อเก็บเมนูที่มีคำว่า \"กุ้ง\" โดยให้เปลี่ยนเป็น \"กุ้งแม่น้ำ\"\n",
    "```python\n",
    "menus = [\"ช้าวผัด\", \"ปลาทอด\", \"ต้มยำกุ้ง\", \"ไข่เจียว\", \"กุ้งทอดกระเทียม\", \"ไก่ย่าง\", \"กุ้งอบวุ้นเส้น\"]\n",
    "```\n"
   ]
  },
  {
   "cell_type": "code",
   "execution_count": 70,
   "metadata": {},
   "outputs": [
    {
     "name": "stdout",
     "output_type": "stream",
     "text": [
      "['ต้มยำกุ้งแม่น้ำ', 'กุ้งแม่น้ำทอดกระเทียม', 'กุ้งแม่น้ำอบวุ้นเส้น']\n"
     ]
    }
   ],
   "source": [
    "menus = [\"ช้าวผัด\", \"ปลาทอด\", \"ต้มยำกุ้ง\", \"ไข่เจียว\", \"กุ้งทอดกระเทียม\", \"ไก่ย่าง\", \"กุ้งอบวุ้นเส้น\"]\n",
    "shrimps = [menu.replace(\"กุ้ง\", \"กุ้งแม่น้ำ\") for menu in menus if \"กุ้ง\" in menu]\n",
    "print(shrimps)\n"
   ]
  },
  {
   "cell_type": "markdown",
   "metadata": {},
   "source": [
    "8. จากข้อมูลสรุปเหรียญการแข่งขันกีฬาที่ให้มา ให้เขียนโปรแกรมเพื่อคำนวณหาจำนวนเหรียญรวมที่แต่ละประเทศได้ \n",
    "\n",
    "| country code | gold | silver | bronze |\n",
    "|--------------|-----:|-------:|-------:|\n",
    "| th           |    3 |      5 |      2 |\n",
    "| sg           |    1 |      2 |      3 |\n",
    "| jp           |   10 |     20 |     30 |\n"
   ]
  },
  {
   "cell_type": "code",
   "execution_count": 71,
   "metadata": {},
   "outputs": [
    {
     "name": "stdout",
     "output_type": "stream",
     "text": [
      "[['th', 10], ['sg', 6], ['jp', 14]]\n"
     ]
    }
   ],
   "source": [
    "medals = [[\"th\", 3, 5, 2], [\"sg\", 1, 2, 3], [\"jp\", 7, 3, 4]]\n",
    "t = [[m[0], sum(m[1:])] for m in medals]\n",
    "# t = {m[0]: sum(m[1:]) for m in medals}\n",
    "print(t)"
   ]
  },
  {
   "cell_type": "markdown",
   "metadata": {},
   "source": [
    "9. จากข้อมูลยอดขายรายเดือนที่ให้มา\n",
    "\n",
    "| month | sales |\n",
    "|------:|------:|\n",
    "|      1|  1,000|\n",
    "|      2|  1,100|\n",
    "|      3|    980|\n",
    "|      4|  1,200|\n",
    "|      5|  1,500|\n",
    "|      6|  1,350|\n",
    "|      7|  1,777|\n",
    "|      8|  1,200|\n",
    "|      9|    835|\n",
    "|     10|  1,821|\n",
    "|     11|  1,975|\n",
    "|     12|  2,000|\n",
    "\n",
    "ให้เขียนโปรแกรมเพื่อเก็บข้อมูลยอดขายรายเดือนอย่างเหมาะสม พร้อมแสดงเฉพาะเดือนที่มียอดขายสูงกว่าค่าเฉลี่ย\n",
    "\n"
   ]
  },
  {
   "cell_type": "code",
   "execution_count": 72,
   "metadata": {},
   "outputs": [
    {
     "name": "stdout",
     "output_type": "stream",
     "text": [
      "| month | sales |\n",
      "|------:|------:|\n",
      "|      5|  1,500|\n",
      "|      7|  1,777|\n",
      "|     10|  1,821|\n",
      "|     11|  1,975|\n",
      "|     12|  2,000|\n"
     ]
    }
   ],
   "source": [
    "month_sales = [1000, 1100, 980, 1200, 1500, 1350, 1777, 1200, 835, 1821, 1975, 2000]\n",
    "\n",
    "avg_sales = sum(month_sales) / len(month_sales)\n",
    "\n",
    "# above_avg = [sale for sale in month_sales if sale > avg_sales]\n",
    "above_avg = [\n",
    "    (i, sale) for i, sale in enumerate(month_sales, start=1) if sale > avg_sales\n",
    "]\n",
    "\n",
    "# print(above_avg)\n",
    "\n",
    "print(\"| month | sales |\")\n",
    "print(\"|------:|------:|\")\n",
    "for i, sales in above_avg:\n",
    "    print(f\"|{i:7}|{sales:7,.0f}|\")\n",
    "\n"
   ]
  }
 ],
 "metadata": {
  "kernelspec": {
   "display_name": "base",
   "language": "python",
   "name": "python3"
  },
  "language_info": {
   "codemirror_mode": {
    "name": "ipython",
    "version": 3
   },
   "file_extension": ".py",
   "mimetype": "text/x-python",
   "name": "python",
   "nbconvert_exporter": "python",
   "pygments_lexer": "ipython3",
   "version": "3.11.4"
  },
  "orig_nbformat": 4
 },
 "nbformat": 4,
 "nbformat_minor": 2
}
