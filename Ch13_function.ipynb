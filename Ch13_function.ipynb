{
 "cells": [
  {
   "cell_type": "markdown",
   "metadata": {},
   "source": [
    "# บทที่ 13. ฟังก์ชัน (`function`)\n",
    "- ตำรา: Python: ใคร ๆ ก็เขียนโปรแกรมได้\n",
    "- ผู้แต่ง: รศ.ดร. ประเสริฐ คณาวัฒนไชย"
   ]
  },
  {
   "cell_type": "code",
   "execution_count": 1,
   "metadata": {},
   "outputs": [],
   "source": [
    "## การสร้างฟังก์ชันแบบไม่มีพารามิเตอร์\n"
   ]
  },
  {
   "cell_type": "code",
   "execution_count": 2,
   "metadata": {},
   "outputs": [
    {
     "name": "stdout",
     "output_type": "stream",
     "text": [
      "-------------------------\n"
     ]
    }
   ],
   "source": [
    "def dash25():\n",
    "    print(f\"-\" * 25)\n",
    "\n",
    "dash25()  "
   ]
  },
  {
   "cell_type": "code",
   "execution_count": null,
   "metadata": {},
   "outputs": [],
   "source": [
    "  \n"
   ]
  },
  {
   "cell_type": "code",
   "execution_count": 3,
   "metadata": {},
   "outputs": [],
   "source": [
    "## การสร้างฟังก์ชันแบบมีพารามิเตอร์\n"
   ]
  },
  {
   "cell_type": "code",
   "execution_count": 4,
   "metadata": {},
   "outputs": [
    {
     "name": "stdout",
     "output_type": "stream",
     "text": [
      "----------\n",
      "====================\n"
     ]
    }
   ],
   "source": [
    "def dash(dash_char, n_times):\n",
    "    print(dash_char * n_times)\n",
    "\n",
    "dash('-', 10) # ผ่าน '-' ให้ dash_char และ 10 ให้กับ n_times\n",
    "dash('=', 20) # ผ่าน '=' ให้ dash_char และ 20 ให้กับ n_times\n"
   ]
  },
  {
   "cell_type": "code",
   "execution_count": 5,
   "metadata": {},
   "outputs": [],
   "source": [
    "## การเขียนคำอธิบายฟังก์ชันด้วย `docstring`\n"
   ]
  },
  {
   "cell_type": "code",
   "execution_count": 6,
   "metadata": {},
   "outputs": [],
   "source": [
    "def gross_margin_pct(price: float, cost: float) -> float:\n",
    "    \"\"\"\n",
    "    Calculate the gross margin percentage.\n",
    "\n",
    "    Args:\n",
    "        price (float): The price of the product.\n",
    "        cost (float): The cost of the product.\n",
    "\n",
    "    Returns:\n",
    "        float: The gross margin percentage.\n",
    "    \"\"\"\n",
    "    return (price - cost) / price\n"
   ]
  },
  {
   "cell_type": "markdown",
   "metadata": {},
   "source": [
    "## การเขียนคำอธิบายฟังก์ชันด้วย docstring ภาษาไทย\n"
   ]
  },
  {
   "cell_type": "code",
   "execution_count": 7,
   "metadata": {},
   "outputs": [],
   "source": [
    "def gross_margin_pct(price: float, cost: float) -> float:\n",
    "    \"\"\"\n",
    "    ฟังก์ชันนี้ใช้สำหรับคำนวณเปอร์เซ็นต์ของกำไรขั้นต้น (gross margin) โดยตัวเลขที่รับเข้ามาจะเป็นราคาขาย (price) และต้นทุน (cost)\n",
    "\n",
    "    Args:\n",
    "        price (float): ราคาขาย\n",
    "        cost (float): ต้นทุน\n",
    "\n",
    "    Returns:\n",
    "        float: เปอร์เซ็นต์ของกำไรขั้นต้น\n",
    "    \"\"\"\n",
    "    return (price - cost) / price\n"
   ]
  },
  {
   "cell_type": "markdown",
   "metadata": {},
   "source": [
    "## การส่งคืนผลลัพธ์ (return statement) จากฟังก์ชัน\n"
   ]
  },
  {
   "cell_type": "code",
   "execution_count": 8,
   "metadata": {},
   "outputs": [
    {
     "name": "stdout",
     "output_type": "stream",
     "text": [
      "80\n",
      "80\n"
     ]
    }
   ],
   "source": [
    "def rectangle_area(w, h):\n",
    "    area = w * h\n",
    "    return area\n",
    "\n",
    "# ส่งค่าคืนกลับมายังตัวแปร\n",
    "condo_area = rectangle_area(10, 8)\n",
    "print(condo_area)\n",
    "\n",
    "# ใช้ print() พิมพ์ค่าที่ส่งคืนกลับมา\n",
    "print(rectangle_area(10, 8))"
   ]
  },
  {
   "cell_type": "markdown",
   "metadata": {},
   "source": [
    "## ฟังก์ชันแบบไม่มีคำสั่ง return statement\n"
   ]
  },
  {
   "cell_type": "code",
   "execution_count": 9,
   "metadata": {},
   "outputs": [
    {
     "name": "stdout",
     "output_type": "stream",
     "text": [
      "Hello, World!\n",
      "r = None\n"
     ]
    }
   ],
   "source": [
    "def hello():\n",
    "    print('Hello, World!')\n",
    "\n",
    "r = hello() # จงใจสร้างตัวแปร r มารับค่าที่ return จาก hello()\n",
    "print(f'r = {r}')"
   ]
  },
  {
   "cell_type": "markdown",
   "metadata": {},
   "source": [
    "## ฟังก์ชันที่ส่งคืนค่าแบบแห่งเดียว\n"
   ]
  },
  {
   "cell_type": "code",
   "execution_count": 10,
   "metadata": {},
   "outputs": [],
   "source": [
    "def triangle_area(w, h):\n",
    "    return .5 * w * h"
   ]
  },
  {
   "cell_type": "markdown",
   "metadata": {},
   "source": [
    "## ฟังก์ชันที่มีการใช้ `return` หลายจุด\n"
   ]
  },
  {
   "cell_type": "code",
   "execution_count": 11,
   "metadata": {},
   "outputs": [
    {
     "name": "stdout",
     "output_type": "stream",
     "text": [
      "customer_level(30000) = gold\n"
     ]
    }
   ],
   "source": [
    "def customer_level(spending: float) -> str:\n",
    "    if spending > 50000:\n",
    "        return 'platinum'\n",
    "    elif spending > 20000:\n",
    "        return 'gold'\n",
    "    elif spending > 7000:\n",
    "        return 'silver'\n",
    "    else:\n",
    "        return 'normal'\n",
    "\n",
    "print(f'customer_level(30000) = {customer_level(30000)}')"
   ]
  },
  {
   "cell_type": "markdown",
   "metadata": {},
   "source": [
    "## การเรียกใช้ฟังก์ชันที่มีพารามิเตอร์\n"
   ]
  },
  {
   "cell_type": "code",
   "execution_count": 12,
   "metadata": {},
   "outputs": [
    {
     "name": "stdout",
     "output_type": "stream",
     "text": [
      "Hello, Peter.\n",
      "Welcome to Thailand.\n"
     ]
    }
   ],
   "source": [
    "def greet(name):\n",
    "    print(f\"Hello, {name}.\")\n",
    "    print(\"Welcome to Thailand.\")\n",
    "\n",
    "greet(\"Peter\")"
   ]
  },
  {
   "cell_type": "markdown",
   "metadata": {},
   "source": [
    "## การเรียกใช้ฟังก์ชัน `add(a, b)`\n"
   ]
  },
  {
   "cell_type": "code",
   "execution_count": 13,
   "metadata": {},
   "outputs": [
    {
     "name": "stdout",
     "output_type": "stream",
     "text": [
      "17\n"
     ]
    }
   ],
   "source": [
    "def add(a, b):\n",
    "    return a + b\n",
    "\n",
    "sum_result = add(10, 7)\n",
    "print(sum_result)\n"
   ]
  },
  {
   "cell_type": "markdown",
   "metadata": {},
   "source": [
    "## ฟังก์ชัน `bmi()` สำหรับคำนวณดัชนีมวลกาย (BMI: Body Mass Index)\n"
   ]
  },
  {
   "cell_type": "code",
   "execution_count": 14,
   "metadata": {},
   "outputs": [],
   "source": [
    "def bmi(weight, height):\n",
    "    return weight / (height ** 2)\n"
   ]
  },
  {
   "cell_type": "markdown",
   "metadata": {},
   "source": [
    "## ฟังก์ชันที่ส่งค่ากลับมาผิดประเภท\n"
   ]
  },
  {
   "cell_type": "code",
   "execution_count": 15,
   "metadata": {},
   "outputs": [
    {
     "name": "stdout",
     "output_type": "stream",
     "text": [
      "price_usd = 1299.75\n",
      "price_usd * 35 = 1299.751299.751299.751299.751299.751299.751299.751299.751299.751299.751299.751299.751299.751299.751299.751299.751299.751299.751299.751299.751299.751299.751299.751299.751299.751299.751299.751299.751299.751299.751299.751299.751299.751299.751299.75\n"
     ]
    }
   ],
   "source": [
    "def remove_non_digit(s: str):\n",
    "    lst = [c for c in s if c in \"0123456789.\"]\n",
    "    return ''.join(lst)\n",
    "\n",
    "# ตัวอย่างการใช้งาน\n",
    "price_usd = remove_non_digit('USD1299.75')\n",
    "print(f'price_usd = {price_usd}')\n",
    "print(f'price_usd * 35 = {price_usd * 35}')"
   ]
  },
  {
   "cell_type": "markdown",
   "metadata": {},
   "source": [
    "## ฟังก์ชันสำหรับลบตัวอักษรที่ไม่ใช่ตัวเลขและจุด\n"
   ]
  },
  {
   "cell_type": "code",
   "execution_count": 16,
   "metadata": {},
   "outputs": [
    {
     "name": "stdout",
     "output_type": "stream",
     "text": [
      "price_usd = 1299.75\n",
      "price_usd * 35 = 45491.25\n"
     ]
    }
   ],
   "source": [
    "def remove_non_digit(s: str):\n",
    "    lst = [c for c in s if c in \"0123456789.\"]\n",
    "    return float(''.join(lst)) # ใช้ float() เพื่อแปลงสตริงเป็น float\n",
    "\n",
    "# ตัวอย่างการใช้งาน\n",
    "price_usd = remove_non_digit('USD1299.75')\n",
    "print(f'price_usd = {price_usd}')\n",
    "\n",
    "print(f'price_usd * 35 = {price_usd * 35}')"
   ]
  },
  {
   "cell_type": "markdown",
   "metadata": {},
   "source": [
    "## ฟังก์ชันที่มีการจัดการข้อผิดพลาดด้วย `try...except`\n"
   ]
  },
  {
   "cell_type": "code",
   "execution_count": 17,
   "metadata": {},
   "outputs": [
    {
     "name": "stdout",
     "output_type": "stream",
     "text": [
      "ไม่พบไฟล์ data.txt\n",
      "None\n"
     ]
    }
   ],
   "source": [
    "def read_text(file_name):\n",
    "    try:\n",
    "        with open(file_name, \"r\", encoding='utf-8') as f: # เปิดไฟล์สำหรับอ่าน\n",
    "            data = f.read()  # อ่านข้อมูลจากไฟล์\n",
    "        return data\n",
    "    except FileNotFoundError:\n",
    "        print(f\"ไม่พบไฟล์ {file_name}\")\n",
    "\n",
    "s = read_text('data.txt')\n",
    "print(s)"
   ]
  },
  {
   "cell_type": "markdown",
   "metadata": {},
   "source": [
    "## ฟังก์ชันที่ไม่มีการส่งคืนผลลัพธ์ (Void Function)\n"
   ]
  },
  {
   "cell_type": "code",
   "execution_count": 18,
   "metadata": {},
   "outputs": [
    {
     "name": "stdout",
     "output_type": "stream",
     "text": [
      "Hello, Jane\n"
     ]
    }
   ],
   "source": [
    "def greet(name):\n",
    "    print(f\"Hello, {name}\")\n",
    "\n",
    "greet(\"Jane\")"
   ]
  },
  {
   "cell_type": "markdown",
   "metadata": {},
   "source": [
    "## ฟังก์ชันที่มีการส่งคืนผลลัพธ์กลับมาค่าเดียว\n"
   ]
  },
  {
   "cell_type": "code",
   "execution_count": 19,
   "metadata": {},
   "outputs": [
    {
     "name": "stdout",
     "output_type": "stream",
     "text": [
      "8\n"
     ]
    }
   ],
   "source": [
    "def add(a, b):\n",
    "    return a + b\n",
    "\n",
    "result = add(5, 3)\n",
    "print(result)  # แสดงผลลัพธ์เป็น 8"
   ]
  },
  {
   "cell_type": "markdown",
   "metadata": {},
   "source": [
    "## ฟังก์ชันที่ส่งค่ากลับมาเป็น `list`\n"
   ]
  },
  {
   "cell_type": "code",
   "execution_count": 20,
   "metadata": {},
   "outputs": [
    {
     "name": "stdout",
     "output_type": "stream",
     "text": [
      "['over', 'the', 'rainbow']\n"
     ]
    }
   ],
   "source": [
    "def split_text(text):\n",
    "    return text.split(' ')\n",
    "\n",
    "text = 'over the rainbow'\n",
    "words = split_text(text)\n",
    "print(words)  # แสดงผลลัพธ์เป็น ['over', 'the', 'rainbow']"
   ]
  },
  {
   "cell_type": "markdown",
   "metadata": {},
   "source": [
    "## ฟังก์ชันที่ส่งค่ากลับมาเป็น `tuple`\n"
   ]
  },
  {
   "cell_type": "code",
   "execution_count": 21,
   "metadata": {},
   "outputs": [
    {
     "name": "stdout",
     "output_type": "stream",
     "text": [
      "(1920, 1080)\n"
     ]
    }
   ],
   "source": [
    "def image_size(text):\n",
    "    w, h = text.split('x')\n",
    "    w = int(w)\n",
    "    h = int(h)\n",
    "    return w, h\n",
    "\n",
    "text = '1920x1080'\n",
    "print(image_size(text))  # แสดงผลลัพธ์เป็น (1920, 1080)"
   ]
  },
  {
   "cell_type": "markdown",
   "metadata": {},
   "source": [
    "## การผ่านพารามิเตอร์แบบ `positional parameters`\n"
   ]
  },
  {
   "cell_type": "code",
   "execution_count": 22,
   "metadata": {},
   "outputs": [
    {
     "name": "stdout",
     "output_type": "stream",
     "text": [
      "Hello แพร!\n",
      "You are 25 years old.\n",
      "weight = 55 kg.\n",
      "height = 1.7 m\n"
     ]
    }
   ],
   "source": [
    "def greet(name, age, weight, height):\n",
    "    print(f\"Hello {name}!\")\n",
    "    print(f\"You are {age} years old.\")\n",
    "    print(f\"weight = {weight} kg.\")\n",
    "    print(f\"height = {height} m\")\n",
    "\n",
    "# ตัวอย่างการใช้งาน\n",
    "greet(\"แพร\", 25, 55, 1.70)"
   ]
  },
  {
   "cell_type": "markdown",
   "metadata": {},
   "source": [
    "## การผ่านพารามิเตอร์แบบ `named parameters`\n"
   ]
  },
  {
   "cell_type": "code",
   "execution_count": 23,
   "metadata": {},
   "outputs": [
    {
     "name": "stdout",
     "output_type": "stream",
     "text": [
      "Hello แพร!\n",
      "You are 25 years old.\n",
      "weight = 55 kg.\n",
      "height = 1.7 m\n"
     ]
    }
   ],
   "source": [
    "def greet(name, age, weight, height):\n",
    "    print(f\"Hello {name}!\")\n",
    "    print(f\"You are {age} years old.\")\n",
    "    print(f\"weight = {weight} kg.\")\n",
    "    print(f\"height = {height} m\")\n",
    "\n",
    "greet(age=25, weight=55, name=\"แพร\", height=1.7)"
   ]
  },
  {
   "cell_type": "markdown",
   "metadata": {},
   "source": [
    "## ฟังก์ชันที่มี `default/optional parameters`\n"
   ]
  },
  {
   "cell_type": "code",
   "execution_count": 24,
   "metadata": {},
   "outputs": [
    {
     "name": "stdout",
     "output_type": "stream",
     "text": [
      "Hello, John\n",
      "สวัสดี, แพร\n"
     ]
    }
   ],
   "source": [
    "def greet(name, greeting=\"Hello\"):\n",
    "    print(f'{greeting}, {name}')\n",
    "\n",
    "# ตัวอย่างการใช้งาน\n",
    "greet(\"John\") # ไม่มีการผ่านค่าให้กับพารามิเตอร์ greeting\n",
    "greet(\"แพร\", \"สวัสดี\") # มีการผ่านค่าให้กับพารามิเตอร์ greeting"
   ]
  },
  {
   "cell_type": "markdown",
   "metadata": {},
   "source": [
    "## ฟังก์ชันคำนวณภาษีมูลค่าเพิ่มที่มี `default/optional parameters`\n"
   ]
  },
  {
   "cell_type": "code",
   "execution_count": 25,
   "metadata": {},
   "outputs": [
    {
     "name": "stdout",
     "output_type": "stream",
     "text": [
      "vat = 35.0\n",
      "vat = 50.0\n"
     ]
    }
   ],
   "source": [
    "def calc_vat(price_before_vat, vat_rate=0.07):\n",
    "    return price_before_vat * vat_rate\n",
    "\n",
    "# ตัวอย่างที่ 1\n",
    "price_before_vat = 500\n",
    "vat = calc_vat(price_before_vat) # ไม่มีการผ่านค่าให้พารามิเตอร์ vat_rate\n",
    "print(f'vat = {vat}')\n",
    "\n",
    "# ตัวอย่างที่ 2\n",
    "vat = calc_vat(price_before_vat, .1) # มีการผ่านค่า .1 ให้พารามิเตอร์ vat_rate\n",
    "print(f'vat = {vat}')"
   ]
  },
  {
   "cell_type": "markdown",
   "metadata": {},
   "source": [
    "## การผ่าน `*args` เข้าในฟังก์ชัน\n"
   ]
  },
  {
   "cell_type": "code",
   "execution_count": 26,
   "metadata": {},
   "outputs": [
    {
     "name": "stdout",
     "output_type": "stream",
     "text": [
      "15\n",
      "60\n"
     ]
    }
   ],
   "source": [
    "def sum_values(*numbers):\n",
    "    # print(type(numbers))\n",
    "    total = 0\n",
    "    for num in numbers:\n",
    "        total += num\n",
    "    return total\n",
    "\n",
    "result = sum_values(1, 2, 3, 4, 5)\n",
    "print(result)  # แสดงผลลัพธ์เป็น 15\n",
    "\n",
    "result = sum_values(10, 20, 30)\n",
    "print(result)  # แสดงผลลัพธ์เป็น 60"
   ]
  },
  {
   "cell_type": "markdown",
   "metadata": {},
   "source": [
    "## การผ่าน `**kwargs` เข้าในฟังก์ชัน\n"
   ]
  },
  {
   "cell_type": "code",
   "execution_count": 27,
   "metadata": {},
   "outputs": [
    {
     "name": "stdout",
     "output_type": "stream",
     "text": [
      "kwargs['name']   = แพร\n",
      "kwargs['age']    = 33\n",
      "kwargs['weight'] = 49\n",
      "kwargs['height'] = 1.68\n",
      "name: แพร\n",
      "age: 33\n",
      "weight: 49\n",
      "height: 1.68\n",
      "BMI = 17.36\n"
     ]
    }
   ],
   "source": [
    "def print_values(**kwargs):\n",
    "    print(f\"kwargs['name']   = {kwargs['name']}\")\n",
    "    print(f\"kwargs['age']    = {kwargs['age']}\")\n",
    "    print(f\"kwargs['weight'] = {kwargs['weight']}\")\n",
    "    print(f\"kwargs['height'] = {kwargs['height']}\")\n",
    "    for key, value in kwargs.items():\n",
    "        print(f'{key}: {value}')\n",
    "    bmi = kwargs['weight'] / (kwargs['height'] ** 2)\n",
    "    print(f'BMI = {bmi:.2f}')\n",
    "\n",
    "# ตัวอย่างการใช้งาน    \n",
    "print_values(name=\"แพร\", age=33, weight=49, height=1.68)"
   ]
  },
  {
   "cell_type": "markdown",
   "metadata": {},
   "source": [
    "## โค้ดที่ไม่ได้แยกการทำงานออกเป็นฟังก์ชันย่อย ๆ\n"
   ]
  },
  {
   "cell_type": "code",
   "execution_count": 28,
   "metadata": {},
   "outputs": [
    {
     "name": "stdout",
     "output_type": "stream",
     "text": [
      "required_skills = {'SQL', 'Python'}\n",
      "qualified_applicants = [('แสงแดด', {'SQL', 'Excel', 'Python'}), ('ดาว', {'CSS', 'HTML', 'SQL', 'Python'})]\n",
      "แสงแดด: {'SQL', 'Excel', 'Python'}\n",
      "ดาว: {'CSS', 'HTML', 'SQL', 'Python'}\n"
     ]
    }
   ],
   "source": [
    "# ชื่อผู้สมัคร และทักษะต่าง ๆ ที่ผู้สมัครแต่ละคนมี\n",
    "applicants = {\n",
    "    \"ปลายฟ้า\": {\"Excel\", \"Python\", \"JavaScript\"},\n",
    "    \"สายลม\": {\"Excel\", \"PowerPoint\"},\n",
    "    \"แสงแดด\": {\"Excel\", \"Python\", \"SQL\"},\n",
    "    \"ต้นข้าว\": {\"R\", \"Python\"},\n",
    "    \"ดาว\": {\"SQL\", \"Python\", \"HTML\", \"CSS\"},\n",
    "}\n",
    "\n",
    "required_skills = {\"SQL\", \"Python\"} # ทักษะที่ผู้สมัครต้องมี\n",
    "print(f'required_skills = {required_skills}')\n",
    "# เพื่อให้การเปรียบเทียบโดยไม่สนใจตัวอักษรพิมพ์ใหญ่และพิมพ์เล็ก จึงทำการแปลง required skills ให้เป็นตัวพิมพ์เล็ก\n",
    "required_skills_lower = {e.lower() for e in required_skills}\n",
    "\n",
    "# หาว่าผู้สมัครคนใดมีทักษะตามที่ต้องการ\n",
    "qualified_applicants = [\n",
    "    (name, skills)\n",
    "    for name, skills in applicants.items()\n",
    "    if required_skills_lower.issubset({e.lower() for e in skills})\n",
    "]\n",
    "print(f'qualified_applicants = {qualified_applicants}')\n",
    "\n",
    "for applicant, skills in qualified_applicants:\n",
    "    print(f'{applicant}: {skills}')"
   ]
  },
  {
   "cell_type": "markdown",
   "metadata": {},
   "source": [
    "## โค้ดที่แยกการทำงานออกเป็นฟังก์ชันย่อย ๆ\n"
   ]
  },
  {
   "cell_type": "code",
   "execution_count": 29,
   "metadata": {},
   "outputs": [
    {
     "name": "stdout",
     "output_type": "stream",
     "text": [
      "required_skills = {'SQL', 'Python'}\n",
      "qualified_applicants = [('แสงแดด', {'SQL', 'Excel', 'Python'}), ('ดาว', {'CSS', 'HTML', 'SQL', 'Python'})]\n",
      "แสงแดด: {'SQL', 'Excel', 'Python'}\n",
      "ดาว: {'CSS', 'HTML', 'SQL', 'Python'}\n"
     ]
    }
   ],
   "source": [
    "def lowercase_set(s: set[str]) -> set[str]:\n",
    "    \"\"\"\n",
    "    ฟังก์ชันนี้ใช้สำหรับแปลงตัวอักษรในเซตให้เป็นตัวพิมพ์เล็กทั้งหมด\n",
    "\n",
    "    Args:\n",
    "        s (set[str]): เซตที่ประกอบด้วยสตริง\n",
    "\n",
    "    Returns:\n",
    "        set[str]: เซตที่ประกอบด้วยสตริงที่แปลงเป็นตัวพิมพ์เล็กทั้งหมด\n",
    "    \"\"\"\n",
    "    return {e.lower() for e in s}\n",
    "\n",
    "def issubset_ignorecase(set_a: set[str], set_b: set[str]) -> bool:\n",
    "    \"\"\"\n",
    "    ฟังก์ชันนี้ใช้สำหรับตรวจสอบว่าเซต set_a เป็น subset ของเซต set_b โดยไม่สนใจตัวอักษรพิมพ์ใหญ่-เล็ก\n",
    "    หากเซต set_a เป็น subset ของเซต set_b จะส่งค่าความจริง (True) กลับไป มิฉะนั้นจะส่งค่าเท็จ (False) กลับไป\n",
    "\n",
    "    Args:\n",
    "        set_a (set[str]): เซตที่ต้องการตรวจสอบว่าเป็น subset หรือไม่\n",
    "        set_b (set[str]): เซตที่ต้องการตรวจสอบว่าเป็น superset หรือไม่\n",
    "\n",
    "    Returns:\n",
    "        bool: สถานะที่บ่งชี้ว่า set_a เป็น subset ของ set_b (True) หรือไม่ (False)\n",
    "    \"\"\"\n",
    "    return lowercase_set(set_a).issubset(lowercase_set(set_b))\n",
    "\n",
    "applicants = {\n",
    "    \"ปลายฟ้า\": {\"Excel\", \"Python\", \"JavaScript\"},\n",
    "    \"สายลม\": {\"Excel\", \"PowerPoint\"},\n",
    "    \"แสงแดด\": {\"Excel\", \"Python\", \"SQL\"},\n",
    "    \"ต้นข้าว\": {\"R\", \"Python\"},\n",
    "    \"ดาว\": {\"SQL\", \"Python\", \"HTML\", \"CSS\"},\n",
    "}\n",
    "\n",
    "required_skills = {\"SQL\", \"Python\"}\n",
    "print(f'required_skills = {required_skills}')\n",
    "\n",
    "qualified_applicants = [\n",
    "    (name, skills)\n",
    "    for name, skills in applicants.items()\n",
    "    if issubset_ignorecase(required_skills, skills)\n",
    "]\n",
    "\n",
    "print(f'qualified_applicants = {qualified_applicants}')\n",
    "\n",
    "for applicant, skills in qualified_applicants:\n",
    "    print(f'{applicant}: {skills}')"
   ]
  },
  {
   "cell_type": "markdown",
   "metadata": {},
   "source": [
    "## ฟังก์ชันคำนวณตัวชี้วัดต่าง ๆ ทางธุรกิจ\n"
   ]
  },
  {
   "cell_type": "code",
   "execution_count": 30,
   "metadata": {},
   "outputs": [],
   "source": [
    "# หาอัตรากำไรเบื้องต้น\n",
    "def gross_margin_pct(price: float, cost: float) -> float:\n",
    "    return (price - cost) / price\n",
    "\n",
    "# หาเปอร์เซ็นต์ markup\n",
    "def markup(price: float, cost: float) -> float:\n",
    "    return (price - cost) / cost\n",
    "\n",
    "# หาอัตรากำไรสุทธิ\n",
    "def net_profit_margin(revenue: float, net_profit: float) -> float:\n",
    "    return net_profit / revenue\n",
    "\n",
    "# หา conversion rate ของ e-commerce โดยเอาจำนวนครั้งที่ซื้อหารจำนวนครั้งที่เยี่ยมชม\n",
    "def conversion_rate(n_visits: int, n_purchases: int) -> float:\n",
    "    return n_purchases / n_visits"
   ]
  },
  {
   "cell_type": "markdown",
   "metadata": {},
   "source": [
    "## ฟังก์ชันสำหรับตัดเกรดตามคะแนนในช่วงต่าง ๆ\n"
   ]
  },
  {
   "cell_type": "code",
   "execution_count": 31,
   "metadata": {},
   "outputs": [
    {
     "name": "stdout",
     "output_type": "stream",
     "text": [
      "[(80, 'B'), (75, 'B'), (90, 'A'), (65, 'C'), (48, 'F')]\n"
     ]
    }
   ],
   "source": [
    "def letter_grade(score) -> str:\n",
    "    \"\"\"\n",
    "    แปลงคะแนนให้เป็นเกรดแบบตัวอักษร\n",
    "    Args:\n",
    "        score (int or float): คะแนน 0-100\n",
    "    Returns:\n",
    "        str: เกรดแบบตัวอักษรจากคะแนนที่กำหนด\n",
    "    \"\"\"\n",
    "    if score >= 85:\n",
    "        return \"A\"\n",
    "    elif score >= 70:\n",
    "        return \"B\"\n",
    "    elif score >= 60:\n",
    "        return \"C\"\n",
    "    elif score >= 50:\n",
    "        return \"D\"\n",
    "    else:\n",
    "        return \"F\"\n",
    "\n",
    "\n",
    "# ตัวอย่างการใช้งาน\n",
    "scores = [80, 75, 90, 65, 48]\n",
    "grades = [(score, letter_grade(score)) for score in scores]\n",
    "print(grades)"
   ]
  },
  {
   "cell_type": "markdown",
   "metadata": {},
   "source": [
    "## ฟังก์ชันคำนวณหาค่าสูงสุดและต่ำสุด n อันดับแรก\n"
   ]
  },
  {
   "cell_type": "code",
   "execution_count": 32,
   "metadata": {},
   "outputs": [
    {
     "name": "stdout",
     "output_type": "stream",
     "text": [
      "top3    = [9.5, 9.53, 9.61]\n",
      "bottom3 = [10, 9.8, 9.74]\n"
     ]
    }
   ],
   "source": [
    "def top_n(values: list, ascending: bool = True, n: int = 3) -> list:\n",
    "    \"\"\"\n",
    "    คืนค่ารายการข้อมูลที่มีค่าสูงสุดหรือต่ำสุด n รายการ\n",
    "\n",
    "    Args:\n",
    "        values (list): รายการข้อมูลที่ต้องการค้นหาค่าสูงสุดหรือต่ำสุด\n",
    "        ascending (bool, optional): กำหนดให้เรียงลำดับเป็นน้อยไปหามากหรือไม่ (ค่าเริ่มต้นเป็น True)\n",
    "        n (int, optional): จำนวนรายการที่ต้องการคืนค่า (ค่าเริ่มต้นเป็น 3)\n",
    "\n",
    "    Returns:\n",
    "        list: รายการข้อมูลที่มีค่าสูงสุดหรือต่ำสุด n รายการ\n",
    "    \"\"\"\n",
    "    sorted_values = sorted(values, reverse=not ascending)\n",
    "    return sorted_values[:n]\n",
    "\n",
    "\n",
    "performances = [9.7, 9.5, 9.8, 10, 9.64, 9.53, 9.61, 9.74]  # สมมติเป็นเวลาในการวิ่ง 100 เมตร\n",
    "top3 = top_n(performances, True, 3)\n",
    "bottom3 = top_n(performances, False, 3)\n",
    "print(f\"top3    = {top3}\")\n",
    "print(f\"bottom3 = {bottom3}\")"
   ]
  },
  {
   "cell_type": "markdown",
   "metadata": {},
   "source": [
    "## ฟังก์ชันการโยนเหรียญหัวก้อย\n"
   ]
  },
  {
   "cell_type": "code",
   "execution_count": 33,
   "metadata": {},
   "outputs": [
    {
     "name": "stdout",
     "output_type": "stream",
     "text": [
      "T H H T H "
     ]
    }
   ],
   "source": [
    "import random\n",
    "\n",
    "def head_tail() -> str:\n",
    "    \"\"\"\n",
    "    ฟังก์ชันนี้ใช้สำหรับการสุ่มเลือกหัว (H) หรือก้อย (T)\n",
    "\n",
    "    Args:\n",
    "        None\n",
    "\n",
    "    Returns:\n",
    "        str: ผลลัพธ์ที่ได้จากการสุ่มเลือกหัว (H) หรือก้อย (T)\n",
    "    \"\"\"\n",
    "    r = random.randint(0, 1)\n",
    "    return 'H' if r == 0 else 'T'\n",
    "\n",
    "\n",
    "for _ in range(5):\n",
    "    print(head_tail(), end=' ')"
   ]
  },
  {
   "cell_type": "markdown",
   "metadata": {},
   "source": [
    "## ฟังก์ชันการทอยลูกเต๋า\n"
   ]
  },
  {
   "cell_type": "code",
   "execution_count": 34,
   "metadata": {},
   "outputs": [
    {
     "name": "stdout",
     "output_type": "stream",
     "text": [
      "5 6 1 6 3 4 5 6 5 4 "
     ]
    }
   ],
   "source": [
    "import random\n",
    "\n",
    "def roll_dice() -> int:\n",
    "    \"\"\"\n",
    "    ฟังก์ชันนี้ใช้สำหรับการสุ่มค่าที่ประกอบด้วยตัวเลข 1-6 แทนการทอยลูกเต๋า\n",
    "\n",
    "    Args:\n",
    "        None\n",
    "\n",
    "    Returns:\n",
    "        int: ผลลัพธ์ที่ได้จากการสุ่มค่าที่ประกอบด้วยตัวเลข 1-6\n",
    "    \"\"\"\n",
    "    return random.randint(1, 6)\n",
    "\n",
    "for _ in range(10):\n",
    "    print(roll_dice(), end=' ')"
   ]
  },
  {
   "cell_type": "markdown",
   "metadata": {},
   "source": [
    "## ฟังก์ชันสร้างรหัสเริ่มต้นของบัตร ATM\n"
   ]
  },
  {
   "cell_type": "code",
   "execution_count": 35,
   "metadata": {},
   "outputs": [
    {
     "name": "stdout",
     "output_type": "stream",
     "text": [
      "1113 4291 2403 5305 7864 9659 7273 7260 0505 1389 "
     ]
    }
   ],
   "source": [
    "import random\n",
    "\n",
    "def atm_pin(n_digits=6) -> str:\n",
    "    \"\"\"\n",
    "    สร้างหมายเลข PIN สำหรับเครื่อง ATM\n",
    "\n",
    "    Args:\n",
    "        n_digits (int, optional): จำนวนหลักของหมายเลข PIN (ค่าเริ่มต้นเป็น 6)\n",
    "\n",
    "    Returns:\n",
    "        str: หมายเลข PIN ที่สร้างขึ้น\n",
    "\n",
    "    \"\"\"\n",
    "    pin = f'{random.randrange(0, 10 ** n_digits):0{n_digits}}'\n",
    "    return pin\n",
    "\n",
    "for _ in range(10):\n",
    "    print(atm_pin(4), end=' ')"
   ]
  },
  {
   "cell_type": "markdown",
   "metadata": {},
   "source": [
    "## ฟังก์ชันสร้างรหัสผ่าน\n"
   ]
  },
  {
   "cell_type": "code",
   "execution_count": 36,
   "metadata": {},
   "outputs": [
    {
     "name": "stdout",
     "output_type": "stream",
     "text": [
      "d},DP,\n",
      "@G9;C'\n",
      "]k}KRB\n",
      ")`glG:\n",
      "zjqlEb\n"
     ]
    }
   ],
   "source": [
    "import random\n",
    "\n",
    "def password_gen(length=8) -> str:\n",
    "    \"\"\"\n",
    "    สร้างรหัสผ่านที่สุ่มตัวอักษรที่มีรหัส ASCII ตั้งแต่ 33-126 ตามความยาวที่กำหนด\n",
    "\n",
    "    Args:\n",
    "        length (int, optional): ความยาวของรหัสผ่าน (ค่าเริ่มต้นเป็น 8)\n",
    "\n",
    "    Returns:\n",
    "        str: รหัสผ่านที่สร้างขึ้น\n",
    "    \"\"\"\n",
    "    return ''.join([chr(random.randint(33, 126)) for i in range(length)])\n",
    "\n",
    "for _ in range(5):\n",
    "    print(password_gen(6))"
   ]
  },
  {
   "cell_type": "markdown",
   "metadata": {},
   "source": [
    "## การหาค่าเฉลี่ยของตัวเลขที่เก็บใน `list`\n"
   ]
  },
  {
   "cell_type": "code",
   "execution_count": 37,
   "metadata": {},
   "outputs": [
    {
     "name": "stdout",
     "output_type": "stream",
     "text": [
      "total_revenue = 110, avg_revenue = 15.714285714285714\n"
     ]
    }
   ],
   "source": [
    "weekly_revenues = [10, 8, 12, 15, 10, 25, 30]\n",
    "total_revenue = sum(weekly_revenues)\n",
    "avg_revenue = total_revenue / len(weekly_revenues)\n",
    "print(f\"total_revenue = {total_revenue}, avg_revenue = {avg_revenue}\")"
   ]
  },
  {
   "cell_type": "markdown",
   "metadata": {},
   "source": [
    "## ฟังก์ชันหาค่าเฉลี่ยของตัวเลขที่เก็บใน `list`\n"
   ]
  },
  {
   "cell_type": "code",
   "execution_count": 38,
   "metadata": {},
   "outputs": [
    {
     "name": "stdout",
     "output_type": "stream",
     "text": [
      "total_revenue = 110, avg_revenue = 15.714285714285714\n"
     ]
    }
   ],
   "source": [
    "def average(numbers: list) -> float:\n",
    "    return sum(numbers) / len(numbers)\n",
    "\n",
    "# วิธีการเรียกใช้งาน\n",
    "weekly_revenues = [10, 8, 12, 15, 10, 25, 30]\n",
    "avg_revenue = average(weekly_revenues)\n",
    "print(f\"total_revenue = {total_revenue}, avg_revenue = {avg_revenue}\")"
   ]
  },
  {
   "cell_type": "markdown",
   "metadata": {},
   "source": [
    "## ฟังก์ชันหาส่วนลดตามปริมาณการสั่งซื้อ\n"
   ]
  },
  {
   "cell_type": "code",
   "execution_count": 39,
   "metadata": {},
   "outputs": [
    {
     "name": "stdout",
     "output_type": "stream",
     "text": [
      "price_parts([100]) = (100, 0)\n",
      "price_parts([100, 150]) = (250, 50.0)\n",
      "price_parts([100, 150, 50]) = (300, 90.0)\n",
      "price_parts([100, 150, 50, 200]) = (500, 150.0)\n"
     ]
    }
   ],
   "source": [
    "def price_parts(prices: list[float]) -> float:\n",
    "    \"\"\"\n",
    "    คำนวณราคาสินค้าและส่วนลดที่ได้รับจากการซื้อสินค้าตามรายการที่กำหนด\n",
    "\n",
    "    Args:\n",
    "        prices (list[float]): รายการราคาสินค้า\n",
    "\n",
    "    Returns:\n",
    "        tuple[float, float]: ราคารวมของสินค้าและส่วนลดที่ได้รับ\n",
    "    \"\"\"\n",
    "    discount_pct = 0\n",
    "    n_items = len(prices)\n",
    "    if n_items >= 3:\n",
    "        discount_pct = 0.3\n",
    "    elif n_items == 2:\n",
    "        discount_pct = 0.2\n",
    "    return sum(prices), sum(prices) * discount_pct\n",
    "\n",
    "# ทดสอบการใช้งาน\n",
    "print(f'price_parts([100]) = {price_parts([100])}')\n",
    "print(f'price_parts([100, 150]) = {price_parts([100, 150])}')\n",
    "print(f'price_parts([100, 150, 50]) = {price_parts([100, 150, 50])}')\n",
    "print(f'price_parts([100, 150, 50, 200]) = {price_parts([100, 150, 50, 200])}')"
   ]
  },
  {
   "cell_type": "markdown",
   "metadata": {},
   "source": [
    "## ฟังก์ชันในการหาว่าตัวเลขจำนวนเต็มที่ระบุเป็นเลขคู่หรือเลขคี่\n"
   ]
  },
  {
   "cell_type": "code",
   "execution_count": 40,
   "metadata": {},
   "outputs": [
    {
     "name": "stdout",
     "output_type": "stream",
     "text": [
      "False\n",
      "True\n"
     ]
    }
   ],
   "source": [
    "def is_even(n: int) -> bool:\n",
    "    return True if n % 2 == 0 else False\n",
    "\n",
    "def is_odd(n: int) -> bool:\n",
    "    # return True if n % 2 == 1 else False\n",
    "    return not is_even(n)\n",
    "\n",
    "# ตัวอย่างการใช้งาน\n",
    "print(is_even(3))\n",
    "print(is_odd(3))"
   ]
  },
  {
   "cell_type": "markdown",
   "metadata": {},
   "source": [
    "## ฟังก์ชันในการแยกส่วนที่เป็นชื่อและนามสกุลออกจากกัน\n"
   ]
  },
  {
   "cell_type": "code",
   "execution_count": 41,
   "metadata": {},
   "outputs": [
    {
     "name": "stdout",
     "output_type": "stream",
     "text": [
      "full_name: แพร รักชาติ\n",
      "ชื่อ: แพร\n",
      "นามสกุล: รักชาติ\n"
     ]
    }
   ],
   "source": [
    "def split_name_part(full_name):\n",
    "    \"\"\"\n",
    "    แยกชื่อและนามสกุลออกจากชื่อเต็ม\n",
    "\n",
    "    Args:\n",
    "        full_name (str): ชื่อ-นามสกุลเต็มที่ต้องการแยก\n",
    "\n",
    "    Returns:\n",
    "        tuple: ชื่อ (first_name) และนามสกุล (last_name)\n",
    "    \"\"\"\n",
    "    names = full_name.split()\n",
    "    first_name = names[0]\n",
    "    last_name = names[-1]\n",
    "    return first_name, last_name\n",
    "\n",
    "# ตัวอย่างการใช้งาน\n",
    "full_name = \"แพร รักชาติ\"\n",
    "first, last = split_name_part(full_name) # unpacking\n",
    "print(f\"full_name: {full_name}\")\n",
    "print(f\"ชื่อ: {first}\")\n",
    "print(f\"นามสกุล: {last}\")"
   ]
  },
  {
   "cell_type": "markdown",
   "metadata": {},
   "source": [
    "## ฟังก์ชันในการแยกราคาสินค้าและภาษีจากราคารวมที่กำหนด\n"
   ]
  },
  {
   "cell_type": "code",
   "execution_count": 42,
   "metadata": {},
   "outputs": [
    {
     "name": "stdout",
     "output_type": "stream",
     "text": [
      "ราคาสินค้า: 1116.0 บาท\n",
      "ภาษีมูลค่าเพิ่ม: 84.00000000000001 บาท\n"
     ]
    }
   ],
   "source": [
    "def separate_price(total_price, vat_rate=.07):\n",
    "    \"\"\"\n",
    "    แยกราคาสินค้าและภาษีจากราคารวมที่กำหนด\n",
    "\n",
    "    Args:\n",
    "        total_price (float): ราคารวมทั้งหมดของสินค้า\n",
    "        vat_rate (float, optional): อัตราภาษี (ค่าเริ่มต้นเป็น 0.07)\n",
    "\n",
    "    Returns:\n",
    "        tuple: ราคาสินค้า (product_price) และจำนวนเงินภาษี (tax)\n",
    "    \"\"\"\n",
    "    tax = total_price * vat_rate\n",
    "    product_price = total_price - tax\n",
    "    return product_price, tax\n",
    "\n",
    "# ตัวอย่างการใช้งาน\n",
    "total_price = 1200\n",
    "vat_rate = 0.07\n",
    "\n",
    "product_price, tax = separate_price(total_price, vat_rate)\n",
    "print(f\"ราคาสินค้า: {product_price} บาท\")\n",
    "print(f\"ภาษีมูลค่าเพิ่ม: {tax} บาท\")"
   ]
  },
  {
   "cell_type": "markdown",
   "metadata": {},
   "source": [
    "## ฟังก์ชันในการแปลงจำนวนเดือนให้ออกมาว่าเป็นกี่ปี กับอีกกี่เดือน\n"
   ]
  },
  {
   "cell_type": "code",
   "execution_count": 43,
   "metadata": {},
   "outputs": [
    {
     "name": "stdout",
     "output_type": "stream",
     "text": [
      "month_to_year_month(100) = (8, 4)\n"
     ]
    }
   ],
   "source": [
    "def month_to_year_month(months):\n",
    "    \"\"\"\n",
    "    แปลงจำนวนเดือนเป็นกี่ปี กับอีกกี่เดือน\n",
    "\n",
    "    Args:\n",
    "        months (int): จำนวนเดือนที่ต้องการแปลง\n",
    "\n",
    "    Returns:\n",
    "        tuple: ปี (year) และเดือน (month)\n",
    "    \"\"\"\n",
    "    year = months // 12\n",
    "    month = months % 12\n",
    "    return year, month\n",
    "\n",
    "# ตัวอย่างการใช้งาน\n",
    "print(f'month_to_year_month(100) = {month_to_year_month(100)}')    "
   ]
  },
  {
   "cell_type": "markdown",
   "metadata": {},
   "source": [
    "## ฟังก์ชันในการแปลงพื้นที่จากตารางวาให้เป็น ไร่-งาน-วา\n"
   ]
  },
  {
   "cell_type": "code",
   "execution_count": 44,
   "metadata": {},
   "outputs": [
    {
     "name": "stdout",
     "output_type": "stream",
     "text": [
      "(1, 3, 80)\n"
     ]
    }
   ],
   "source": [
    "def to_rai_ngan_wah(square_wah: float):\n",
    "    \"\"\"\n",
    "    แปลงหน่วยตารางวาเป็นหน่วยไร่-งาน-ตารางวา\n",
    "\n",
    "    Args:\n",
    "        square_wah (float): พื้นที่ตารางวาที่ต้องการแปลง\n",
    "\n",
    "    Returns:\n",
    "        tuple: จำนวนไร่ (rai), จำนวนงาน (ngan), จำนวนตารางวา (wah)\n",
    "    \"\"\"\n",
    "    rai = square_wah // 400  # 1 ไร่ เท่ากับ 400 ตารางวา\n",
    "    ngan = (square_wah - (rai * 400)) // 100  # 1 งาน เท่ากับ 100 ตารางวา\n",
    "    wah = square_wah % 100\n",
    "    return rai, ngan, wah  # ส่งค่ากลับไปเป็น `tuple`\n",
    "\n",
    "sq_wah_area = 780\n",
    "thai_area = to_rai_ngan_wah(sq_wah_area)\n",
    "print(thai_area) # ผลลัพธ์: (1, 3, 80)"
   ]
  },
  {
   "cell_type": "markdown",
   "metadata": {},
   "source": [
    "## ฟังก์ชันคำนวณระยะห่างระหว่างจุดสองจุด\n"
   ]
  },
  {
   "cell_type": "code",
   "execution_count": 45,
   "metadata": {},
   "outputs": [
    {
     "name": "stdout",
     "output_type": "stream",
     "text": [
      "5.0\n"
     ]
    }
   ],
   "source": [
    "def calculate_distance(point1: tuple[float, float], point2: tuple[float, float]) -> float:\n",
    "    \"\"\"\n",
    "    คำนวณระยะห่างระหว่างจุดสองจุดที่กำหนด\n",
    "\n",
    "    Args:\n",
    "        point1 (tuple): พิกัดของจุดแรก (x1, y1)\n",
    "        point2 (tuple): พิกัดของจุดที่สอง (x2, y2)\n",
    "\n",
    "    Returns:\n",
    "        float: ระยะห่างระหว่างจุดสองจุด\n",
    "    \"\"\"\n",
    "    x1, y1 = point1\n",
    "    x2, y2 = point2\n",
    "    distance = ((x2 - x1)**2 + (y2 - y1)**2) ** .5\n",
    "    return distance\n",
    "\n",
    "point1 = (1, 2)\n",
    "point2 = (4, 6)\n",
    "distance = calculate_distance(point1, point2)\n",
    "\n",
    "# distance = calculate_distance((1, 2), (4, 6))\n",
    "\n",
    "print(distance)  # ผลลัพธ์: 5.0"
   ]
  },
  {
   "cell_type": "markdown",
   "metadata": {},
   "source": [
    "## ฟังก์ชันแปลงสมาชิกทุกตัวใน `list` ให้เป็นตัวพิมพ์ใหญ่\n"
   ]
  },
  {
   "cell_type": "code",
   "execution_count": 46,
   "metadata": {},
   "outputs": [
    {
     "name": "stdout",
     "output_type": "stream",
     "text": [
      "['EXCEL', 'PYTHON', 'JAVASCRIPT']\n"
     ]
    }
   ],
   "source": [
    "def uppercase_list(lst: list[str]) -> list[str]:\n",
    "    return [e.upper() for e in lst]\n",
    "\n",
    "skills = ['Excel', 'Python', 'JavaScript']\n",
    "print(uppercase_list(skills))"
   ]
  },
  {
   "cell_type": "markdown",
   "metadata": {},
   "source": [
    "## ฟังก์ชันสำหรับซ่อนบางส่วนของข้อความ\n"
   ]
  },
  {
   "cell_type": "code",
   "execution_count": 47,
   "metadata": {},
   "outputs": [
    {
     "name": "stdout",
     "output_type": "stream",
     "text": [
      "09*****304\n"
     ]
    }
   ],
   "source": [
    "def partial_hide_phone_number(phone_number, start, end):\n",
    "    \"\"\"\n",
    "    ซ่อนตำแหน่งของหมายเลขโทรศัพท์บางส่วน\n",
    "\n",
    "    Args:\n",
    "        phone_number (str): เลขโทรศัพท์ที่ต้องการซ่อนบางส่วน\n",
    "        start (int): ตำแหน่งเริ่มต้นที่ต้องการซ่อน\n",
    "        end (int): ตำแหน่งสิ้นสุดที่ต้องการซ่อน\n",
    "\n",
    "    Returns:\n",
    "        str: เลขโทรศัพท์ที่ซ่อนตำแหน่งบางส่วนแล้ว\n",
    "    \"\"\"\n",
    "    hidden_digits = '*' * (end - start + 1)\n",
    "    return phone_number[:start] + hidden_digits + phone_number[end + 1:]\n",
    "\n",
    "\n",
    "# ตัวอย่างการใช้งานของฟังก์ชัน\n",
    "phone = '0953829304'\n",
    "hidden_phone = partial_hide_phone_number(phone, 2, 6)\n",
    "print(hidden_phone)  # ผลลัพธ์: 09*****304\n"
   ]
  },
  {
   "cell_type": "markdown",
   "metadata": {},
   "source": [
    "## ฟังก์ชันสำหรับคำนวณเลขตัวตรวจสอบ (check digit) ของรหัส EAN-13\n"
   ]
  },
  {
   "cell_type": "code",
   "execution_count": 48,
   "metadata": {},
   "outputs": [
    {
     "data": {
      "text/plain": [
       "9"
      ]
     },
     "execution_count": 48,
     "metadata": {},
     "output_type": "execute_result"
    }
   ],
   "source": [
    "from itertools import cycle\n",
    "\n",
    "def calc_ean13_check_digit(ean: str) -> int:\n",
    "    \"\"\"\n",
    "    คำนวณเลขตรวจสอบ (check digit) ของรหัส EAN-13\n",
    "\n",
    "    Args:\n",
    "        ean (str): รหัส EAN-13 ที่ต้องการคำนวณ\n",
    "\n",
    "    Returns:\n",
    "        int: เลขตรวจสอบ (check digit) ของรหัส EAN-13\n",
    "    \"\"\"\n",
    "    total = sum([int(n) * m for n, m in zip(ean[:12], cycle([1, 3]))])\n",
    "    return 0 if (total % 10) == 0 else 10 - (total % 10)\n",
    "\n",
    "ean13 = \"4905524977639\" # EAN13 ของ Sony Stereo Headphones MDR-1A (ใส่เต็ม 13 หลัก หรือ 12 หลักแรกของ EAN-13)\n",
    "calc_ean13_check_digit(ean13)"
   ]
  },
  {
   "cell_type": "markdown",
   "metadata": {},
   "source": [
    "## ฟังก์ชันสำหรับจำนวนนาทีรวมให้เป็นกี่วัน กี่ชั่วโมง และอีกกี่นาที\n"
   ]
  },
  {
   "cell_type": "code",
   "execution_count": 49,
   "metadata": {},
   "outputs": [
    {
     "name": "stdout",
     "output_type": "stream",
     "text": [
      "t = {'day': 3, 'hour': 6, 'minute': 31}\n",
      "t[\"day\"] = 3\n",
      "t[\"hour\"] = 6\n",
      "t[\"minute\"] = 31\n"
     ]
    }
   ],
   "source": [
    "def minutes_to_day_hour_min(minutes: int):\n",
    "    \"\"\"\n",
    "    แปลงจำนวนนาทีเป็นวัน ชั่วโมง และนาที\n",
    "\n",
    "    Args:\n",
    "        minutes (int): จำนวนนาทีที่ต้องการแปลง\n",
    "\n",
    "    Returns:\n",
    "        dict: ผลลัพธ์ที่แปลงมาเป็นวัน ชั่วโมง และนาที โดยมี key คือ 'day', 'hour', 'minute'\n",
    "    \"\"\"\n",
    "    min_per_day = 24 * 60  # 1440 จำนวนนาทีในหนึ่งวัน\n",
    "    d = minutes // min_per_day # หาจำนวนวัน\n",
    "    h = (minutes - (d * min_per_day)) // 60  # หาจำนวนชั่วโมง (หลังจากหักจำนวนวัน)\n",
    "    m = minutes - (d * min_per_day + h * 60)  # หาจำนวนนาที (หลังจากหักจำนวนวันและจำนวนชั่วโมง)\n",
    "    return {'day': d, 'hour': h, 'minute': m}\n",
    "\n",
    "mins=4711\n",
    "t = minutes_to_day_hour_min(mins) # t เป็น dict ที่ประกอบไปด้วยคีย์ 3 ตัว คือ day, hour, minute\n",
    "print(f't = {t}')\n",
    "print(f't[\"day\"] = {t[\"day\"]}')\n",
    "print(f't[\"hour\"] = {t[\"hour\"]}')\n",
    "print(f't[\"minute\"] = {t[\"minute\"]}')"
   ]
  },
  {
   "cell_type": "markdown",
   "metadata": {},
   "source": [
    "## ฟังก์ชันสำหรับแปลงตัวเลขให้สวยงามโดยใช้ emoji font\n"
   ]
  },
  {
   "cell_type": "code",
   "execution_count": 50,
   "metadata": {},
   "outputs": [
    {
     "name": "stdout",
     "output_type": "stream",
     "text": [
      "2602348 2️⃣6️⃣0️⃣2️⃣3️⃣4️⃣8️⃣\n"
     ]
    }
   ],
   "source": [
    "def prettify_number(n) -> str:\n",
    "    \"\"\"\n",
    "    ฟังก์ชันนี้ใช้สำหรับทำให้ตัวเลขดูสวยงามขึ้นโดยแปลงตัวเลขเป็นอีโมจิ\n",
    "\n",
    "    Args:\n",
    "        n: ตัวเลขที่ต้องการทำให้สวยงาม\n",
    "\n",
    "    Returns:\n",
    "        str: ตัวอักษรที่แสดงผลตัวเลขที่ทำให้สวยงาม โดยใช้อีโมจิ\n",
    "    \"\"\"\n",
    "    # p_nums = [\"0️⃣\", \"1️⃣\", \"2️⃣\", \"3️⃣\", \"4️⃣\", \"5️⃣\", \"6️⃣\", \"7️⃣\", \"8️⃣\", \"9️⃣\"]\n",
    "    p_nums = \"0️⃣ 1️⃣ 2️⃣ 3️⃣ 4️⃣ 5️⃣ 6️⃣ 7️⃣ 8️⃣ 9️⃣\".split(' ')\n",
    "    # p = \"\"\n",
    "    # for c in str(n):\n",
    "    #     p += p_nums[int(c)]\n",
    "    # return p\n",
    "    return ''.join([p_nums[int(c)] for c in str(n) ])\n",
    "\n",
    "num = 2602348\n",
    "p = prettify_number(num)\n",
    "print(num, p)"
   ]
  },
  {
   "cell_type": "markdown",
   "metadata": {},
   "source": [
    "## การผ่านพารามิเตอร์แบบแบบ `positional parameters`\n"
   ]
  },
  {
   "cell_type": "code",
   "execution_count": 51,
   "metadata": {},
   "outputs": [
    {
     "name": "stdout",
     "output_type": "stream",
     "text": [
      "Hello แพร!\n",
      "You are 25 years old.\n",
      "weight = 55 kg.\n",
      "height = 1.7 m\n"
     ]
    }
   ],
   "source": [
    "def greet(name, age, weight, height):\n",
    "    print(f\"Hello {name}!\")\n",
    "    print(f\"You are {age} years old.\")\n",
    "    print(f\"weight = {weight} kg.\")\n",
    "    print(f\"height = {height} m\")\n",
    "\n",
    "# ตัวอย่างการใช้งาน\n",
    "greet(\"แพร\", 25, 55, 1.70)"
   ]
  },
  {
   "cell_type": "markdown",
   "metadata": {},
   "source": [
    "## การผ่านพารามิเตอร์แบบ `named parameters`\n"
   ]
  },
  {
   "cell_type": "code",
   "execution_count": 52,
   "metadata": {},
   "outputs": [
    {
     "name": "stdout",
     "output_type": "stream",
     "text": [
      "Hello แพร!\n",
      "You are 25 years old.\n",
      "weight = 55 kg.\n",
      "height = 1.7 m\n"
     ]
    }
   ],
   "source": [
    "def greet(name, age, weight, height):\n",
    "    print(f\"Hello {name}!\")\n",
    "    print(f\"You are {age} years old.\")\n",
    "    print(f\"weight = {weight} kg.\")\n",
    "    print(f\"height = {height} m\")\n",
    "\n",
    "greet(age=25, weight=55, name=\"แพร\", height=1.7)"
   ]
  },
  {
   "cell_type": "markdown",
   "metadata": {},
   "source": [
    "## ฟังก์ชันที่มี `default/optional parameters`\n"
   ]
  },
  {
   "cell_type": "code",
   "execution_count": 53,
   "metadata": {},
   "outputs": [
    {
     "name": "stdout",
     "output_type": "stream",
     "text": [
      "Hello, John\n",
      "สวัสดี, แพร\n"
     ]
    }
   ],
   "source": [
    "def greet(name, greeting=\"Hello\"):\n",
    "    print(f'{greeting}, {name}')\n",
    "\n",
    "# ตัวอย่างการใช้งาน\n",
    "greet(\"John\") # ไม่มีการผ่านค่าให้กับพารามิเตอร์ greeting\n",
    "greet(\"แพร\", \"สวัสดี\") # มีการผ่านค่าให้กับพารามิเตอร์ greeting"
   ]
  },
  {
   "cell_type": "markdown",
   "metadata": {},
   "source": [
    "## ฟังก์ชันคำนวณภาษีมูลค่าเพิ่มที่มี `default/optional parameters`\n"
   ]
  },
  {
   "cell_type": "code",
   "execution_count": 54,
   "metadata": {},
   "outputs": [
    {
     "name": "stdout",
     "output_type": "stream",
     "text": [
      "vat = 35.0\n",
      "vat = 50.0\n"
     ]
    }
   ],
   "source": [
    "def calc_vat(price_before_vat, vat_rate=0.07):\n",
    "    return price_before_vat * vat_rate\n",
    "\n",
    "# ตัวอย่างที่ 1\n",
    "price_before_vat = 500\n",
    "vat = calc_vat(price_before_vat) # ไม่มีการผ่านค่าให้พารามิเตอร์ vat_rate\n",
    "print(f'vat = {vat}')\n",
    "\n",
    "# ตัวอย่างที่ 2\n",
    "vat = calc_vat(price_before_vat, .1) # มีการผ่านค่า .1 ให้พารามิเตอร์ vat_rate\n",
    "print(f'vat = {vat}')\n"
   ]
  },
  {
   "cell_type": "markdown",
   "metadata": {},
   "source": [
    "## การผ่าน `*args` เข้าในฟังก์ชัน\n"
   ]
  },
  {
   "cell_type": "code",
   "execution_count": 55,
   "metadata": {},
   "outputs": [
    {
     "name": "stdout",
     "output_type": "stream",
     "text": [
      "15\n",
      "60\n"
     ]
    }
   ],
   "source": [
    "def sum_values(*numbers):\n",
    "    # print(type(numbers))\n",
    "    total = 0\n",
    "    for num in numbers:\n",
    "        total += num\n",
    "    return total\n",
    "\n",
    "result = sum_values(1, 2, 3, 4, 5)\n",
    "print(result)  # แสดงผลลัพธ์เป็น 15\n",
    "\n",
    "result = sum_values(10, 20, 30)\n",
    "print(result)  # แสดงผลลัพธ์เป็น 60"
   ]
  },
  {
   "cell_type": "markdown",
   "metadata": {},
   "source": [
    "## การผ่าน `**kwargs` เข้าในฟังก์ชัน\n"
   ]
  },
  {
   "cell_type": "code",
   "execution_count": 56,
   "metadata": {},
   "outputs": [
    {
     "name": "stdout",
     "output_type": "stream",
     "text": [
      "kwargs['name']   = แพร\n",
      "kwargs['age']    = 33\n",
      "kwargs['weight'] = 49\n",
      "kwargs['height'] = 1.68\n",
      "name: แพร\n",
      "age: 33\n",
      "weight: 49\n",
      "height: 1.68\n",
      "BMI = 17.36\n"
     ]
    }
   ],
   "source": [
    "def print_values(**kwargs):\n",
    "    print(f\"kwargs['name']   = {kwargs['name']}\")\n",
    "    print(f\"kwargs['age']    = {kwargs['age']}\")\n",
    "    print(f\"kwargs['weight'] = {kwargs['weight']}\")\n",
    "    print(f\"kwargs['height'] = {kwargs['height']}\")\n",
    "    for key, value in kwargs.items():\n",
    "        print(f'{key}: {value}')\n",
    "    bmi = kwargs['weight'] / (kwargs['height'] ** 2)\n",
    "    print(f'BMI = {bmi:.2f}')\n",
    "\n",
    "# ตัวอย่างการใช้งาน    \n",
    "print_values(name=\"แพร\", age=33, weight=49, height=1.68)"
   ]
  },
  {
   "cell_type": "markdown",
   "metadata": {},
   "source": [
    "## โค้ดที่ไม่ได้แยกการทำงานออกเป็นฟังก์ชันย่อย ๆ\n"
   ]
  },
  {
   "cell_type": "code",
   "execution_count": 57,
   "metadata": {},
   "outputs": [
    {
     "name": "stdout",
     "output_type": "stream",
     "text": [
      "required_skills = {'SQL', 'Python'}\n",
      "qualified_applicants = [('แสงแดด', {'SQL', 'Excel', 'Python'}), ('ดาว', {'CSS', 'HTML', 'SQL', 'Python'})]\n",
      "แสงแดด: {'SQL', 'Excel', 'Python'}\n",
      "ดาว: {'CSS', 'HTML', 'SQL', 'Python'}\n"
     ]
    }
   ],
   "source": [
    "# ชื่อผู้สมัคร และทักษะต่าง ๆ ที่ผู้สมัครแต่ละคนมี\n",
    "applicants = {\n",
    "    \"ปลายฟ้า\": {\"Excel\", \"Python\", \"JavaScript\"},\n",
    "    \"สายลม\": {\"Excel\", \"PowerPoint\"},\n",
    "    \"แสงแดด\": {\"Excel\", \"Python\", \"SQL\"},\n",
    "    \"ต้นข้าว\": {\"R\", \"Python\"},\n",
    "    \"ดาว\": {\"SQL\", \"Python\", \"HTML\", \"CSS\"},\n",
    "}\n",
    "\n",
    "required_skills = {\"SQL\", \"Python\"} # ทักษะที่ผู้สมัครต้องมี\n",
    "print(f'required_skills = {required_skills}')\n",
    "# เพื่อให้การเปรียบเทียบโดยไม่สนใจตัวอักษรพิมพ์ใหญ่และพิมพ์เล็ก จึงทำการแปลง required skills ให้เป็นตัวพิมพ์เล็ก\n",
    "required_skills_lower = {e.lower() for e in required_skills}\n",
    "\n",
    "# หาว่าผู้สมัครคนใดมีทักษะตามที่ต้องการ\n",
    "qualified_applicants = [\n",
    "    (name, skills)\n",
    "    for name, skills in applicants.items()\n",
    "    if required_skills_lower.issubset({e.lower() for e in skills})\n",
    "]\n",
    "print(f'qualified_applicants = {qualified_applicants}')\n",
    "\n",
    "for applicant, skills in qualified_applicants:\n",
    "    print(f'{applicant}: {skills}')"
   ]
  },
  {
   "cell_type": "markdown",
   "metadata": {},
   "source": [
    "## โค้ดที่แยกการทำงานออกเป็นฟังก์ชันย่อย ๆ\n"
   ]
  },
  {
   "cell_type": "code",
   "execution_count": 58,
   "metadata": {},
   "outputs": [
    {
     "name": "stdout",
     "output_type": "stream",
     "text": [
      "required_skills = {'SQL', 'Python'}\n",
      "qualified_applicants = [('แสงแดด', {'SQL', 'Excel', 'Python'}), ('ดาว', {'CSS', 'HTML', 'SQL', 'Python'})]\n",
      "แสงแดด: {'SQL', 'Excel', 'Python'}\n",
      "ดาว: {'CSS', 'HTML', 'SQL', 'Python'}\n"
     ]
    }
   ],
   "source": [
    "def lowercase_set(s: set[str]) -> set[str]:\n",
    "    \"\"\"\n",
    "    ฟังก์ชันนี้ใช้สำหรับแปลงตัวอักษรในเซตให้เป็นตัวพิมพ์เล็กทั้งหมด\n",
    "\n",
    "    Args:\n",
    "        s (set[str]): เซตที่ประกอบด้วยสตริง\n",
    "\n",
    "    Returns:\n",
    "        set[str]: เซตที่ประกอบด้วยสตริงที่แปลงเป็นตัวพิมพ์เล็กทั้งหมด\n",
    "    \"\"\"\n",
    "    return {e.lower() for e in s}\n",
    "\n",
    "def issubset_ignorecase(set_a: set[str], set_b: set[str]) -> bool:\n",
    "    \"\"\"\n",
    "    ฟังก์ชันนี้ใช้สำหรับตรวจสอบว่าเซต set_a เป็น subset ของเซต set_b โดยไม่สนใจตัวอักษรพิมพ์ใหญ่-เล็ก\n",
    "    หากเซต set_a เป็น subset ของเซต set_b จะส่งค่าความจริง (True) กลับไป มิฉะนั้นจะส่งค่าเท็จ (False) กลับไป\n",
    "\n",
    "    Args:\n",
    "        set_a (set[str]): เซตที่ต้องการตรวจสอบว่าเป็น subset หรือไม่\n",
    "        set_b (set[str]): เซตที่ต้องการตรวจสอบว่าเป็น superset หรือไม่\n",
    "\n",
    "    Returns:\n",
    "        bool: สถานะที่บ่งชี้ว่า set_a เป็น subset ของ set_b (True) หรือไม่ (False)\n",
    "    \"\"\"\n",
    "    return lowercase_set(set_a).issubset(lowercase_set(set_b))\n",
    "\n",
    "applicants = {\n",
    "    \"ปลายฟ้า\": {\"Excel\", \"Python\", \"JavaScript\"},\n",
    "    \"สายลม\": {\"Excel\", \"PowerPoint\"},\n",
    "    \"แสงแดด\": {\"Excel\", \"Python\", \"SQL\"},\n",
    "    \"ต้นข้าว\": {\"R\", \"Python\"},\n",
    "    \"ดาว\": {\"SQL\", \"Python\", \"HTML\", \"CSS\"},\n",
    "}\n",
    "\n",
    "required_skills = {\"SQL\", \"Python\"}\n",
    "print(f'required_skills = {required_skills}')\n",
    "\n",
    "qualified_applicants = [\n",
    "    (name, skills)\n",
    "    for name, skills in applicants.items()\n",
    "    if issubset_ignorecase(required_skills, skills)\n",
    "]\n",
    "\n",
    "print(f'qualified_applicants = {qualified_applicants}')\n",
    "\n",
    "for applicant, skills in qualified_applicants:\n",
    "    print(f'{applicant}: {skills}')"
   ]
  },
  {
   "cell_type": "markdown",
   "metadata": {},
   "source": [
    "## ฟังก์ชันคำนวณตัวชี้วัดต่าง ๆ ทางธุรกิจ\n"
   ]
  },
  {
   "cell_type": "code",
   "execution_count": 59,
   "metadata": {},
   "outputs": [],
   "source": [
    "# หาอัตรากำไรเบื้องต้น\n",
    "def gross_margin_pct(price: float, cost: float) -> float:\n",
    "    return (price - cost) / price\n",
    "\n",
    "# หาเปอร์เซ็นต์ markup\n",
    "def markup(price: float, cost: float) -> float:\n",
    "    return (price - cost) / cost\n",
    "\n",
    "# หาอัตรากำไรสุทธิ\n",
    "def net_profit_margin(revenue: float, net_profit: float) -> float:\n",
    "    return net_profit / revenue\n",
    "\n",
    "# หา conversion rate ของ e-commerce โดยเอาจำนวนครั้งที่ซื้อหารจำนวนครั้งที่เยี่ยมชม\n",
    "def conversion_rate(n_visits: int, n_purchases: int) -> float:\n",
    "    return n_purchases / n_visits"
   ]
  },
  {
   "cell_type": "markdown",
   "metadata": {},
   "source": [
    "## ฟังก์ชันสำหรับตัดเกรดตามคะแนนในช่วงต่าง ๆ\n"
   ]
  },
  {
   "cell_type": "code",
   "execution_count": 60,
   "metadata": {},
   "outputs": [
    {
     "name": "stdout",
     "output_type": "stream",
     "text": [
      "[(80, 'B'), (75, 'B'), (90, 'A'), (65, 'C'), (48, 'F')]\n"
     ]
    }
   ],
   "source": [
    "def letter_grade(score) -> str:\n",
    "    \"\"\"\n",
    "    แปลงคะแนนให้เป็นเกรดแบบตัวอักษร\n",
    "    Args:\n",
    "        score (int or float): คะแนน 0-100\n",
    "    Returns:\n",
    "        str: เกรดแบบตัวอักษรจากคะแนนที่กำหนด\n",
    "    \"\"\"\n",
    "    if score >= 85:\n",
    "        return \"A\"\n",
    "    elif score >= 70:\n",
    "        return \"B\"\n",
    "    elif score >= 60:\n",
    "        return \"C\"\n",
    "    elif score >= 50:\n",
    "        return \"D\"\n",
    "    else:\n",
    "        return \"F\"\n",
    "\n",
    "\n",
    "# ตัวอย่างการใช้งาน\n",
    "scores = [80, 75, 90, 65, 48]\n",
    "grades = [(score, letter_grade(score)) for score in scores]\n",
    "print(grades)\n"
   ]
  },
  {
   "cell_type": "markdown",
   "metadata": {},
   "source": [
    "## ฟังก์ชันคำนวณหาค่าสูงสุดและต่ำสุด n อันดับแรก\n"
   ]
  },
  {
   "cell_type": "code",
   "execution_count": 61,
   "metadata": {},
   "outputs": [
    {
     "name": "stdout",
     "output_type": "stream",
     "text": [
      "top3    = [9.5, 9.53, 9.61]\n",
      "bottom3 = [10, 9.8, 9.74]\n"
     ]
    }
   ],
   "source": [
    "def top_n(values: list, ascending: bool = True, n: int = 3) -> list:\n",
    "    \"\"\"\n",
    "    คืนค่ารายการข้อมูลที่มีค่าสูงสุดหรือต่ำสุด n รายการ\n",
    "\n",
    "    Args:\n",
    "        values (list): รายการข้อมูลที่ต้องการค้นหาค่าสูงสุดหรือต่ำสุด\n",
    "        ascending (bool, optional): กำหนดให้เรียงลำดับเป็นน้อยไปหามากหรือไม่ (ค่าเริ่มต้นเป็น True)\n",
    "        n (int, optional): จำนวนรายการที่ต้องการคืนค่า (ค่าเริ่มต้นเป็น 3)\n",
    "\n",
    "    Returns:\n",
    "        list: รายการข้อมูลที่มีค่าสูงสุดหรือต่ำสุด n รายการ\n",
    "    \"\"\"\n",
    "    sorted_values = sorted(values, reverse=not ascending)\n",
    "    return sorted_values[:n]\n",
    "\n",
    "\n",
    "performances = [9.7, 9.5, 9.8, 10, 9.64, 9.53, 9.61, 9.74]  # สมมติเป็นเวลาในการวิ่ง 100 เมตร\n",
    "top3 = top_n(performances, True, 3)\n",
    "bottom3 = top_n(performances, False, 3)\n",
    "print(f\"top3    = {top3}\")\n",
    "print(f\"bottom3 = {bottom3}\")"
   ]
  },
  {
   "cell_type": "markdown",
   "metadata": {},
   "source": [
    "## ฟังก์ชันการโยนเหรียญหัวก้อย\n"
   ]
  },
  {
   "cell_type": "code",
   "execution_count": 62,
   "metadata": {},
   "outputs": [
    {
     "name": "stdout",
     "output_type": "stream",
     "text": [
      "T T T T T "
     ]
    }
   ],
   "source": [
    "import random\n",
    "\n",
    "def head_tail() -> str:\n",
    "    \"\"\"\n",
    "    ฟังก์ชันนี้ใช้สำหรับการสุ่มเลือกหัว (H) หรือก้อย (T)\n",
    "\n",
    "    Args:\n",
    "        None\n",
    "\n",
    "    Returns:\n",
    "        str: ผลลัพธ์ที่ได้จากการสุ่มเลือกหัว (H) หรือก้อย (T)\n",
    "    \"\"\"\n",
    "    r = random.randint(0, 1)\n",
    "    return 'H' if r == 0 else 'T'\n",
    "\n",
    "\n",
    "for _ in range(5):\n",
    "    print(head_tail(), end=' ')"
   ]
  },
  {
   "cell_type": "markdown",
   "metadata": {},
   "source": [
    "## ฟังก์ชันการทอยลูกเต๋า\n"
   ]
  },
  {
   "cell_type": "code",
   "execution_count": 63,
   "metadata": {},
   "outputs": [
    {
     "name": "stdout",
     "output_type": "stream",
     "text": [
      "4 5 5 6 1 3 6 4 2 2 "
     ]
    }
   ],
   "source": [
    "import random\n",
    "\n",
    "def roll_dice() -> int:\n",
    "    \"\"\"\n",
    "    ฟังก์ชันนี้ใช้สำหรับการสุ่มค่าที่ประกอบด้วยตัวเลข 1-6 แทนการทอยลูกเต๋า\n",
    "\n",
    "    Args:\n",
    "        None\n",
    "\n",
    "    Returns:\n",
    "        int: ผลลัพธ์ที่ได้จากการสุ่มค่าที่ประกอบด้วยตัวเลข 1-6\n",
    "    \"\"\"\n",
    "    return random.randint(1, 6)\n",
    "\n",
    "for _ in range(10):\n",
    "    print(roll_dice(), end=' ')"
   ]
  },
  {
   "cell_type": "markdown",
   "metadata": {},
   "source": [
    "## ฟังก์ชันสร้างรหัสเริ่มต้นของบัตร ATM\n"
   ]
  },
  {
   "cell_type": "code",
   "execution_count": 64,
   "metadata": {},
   "outputs": [
    {
     "name": "stdout",
     "output_type": "stream",
     "text": [
      "0124 4457 7259 1250 8526 4351 9848 0058 5410 6731 "
     ]
    }
   ],
   "source": [
    "import random\n",
    "\n",
    "def atm_pin(n_digits=6) -> str:\n",
    "    \"\"\"\n",
    "    สร้างหมายเลข PIN สำหรับเครื่อง ATM\n",
    "\n",
    "    Args:\n",
    "        n_digits (int, optional): จำนวนหลักของหมายเลข PIN (ค่าเริ่มต้นเป็น 6)\n",
    "\n",
    "    Returns:\n",
    "        str: หมายเลข PIN ที่สร้างขึ้น\n",
    "\n",
    "    \"\"\"\n",
    "    pin = f'{random.randrange(0, 10 ** n_digits):0{n_digits}}'\n",
    "    return pin\n",
    "\n",
    "for _ in range(10):\n",
    "    print(atm_pin(4), end=' ')"
   ]
  },
  {
   "cell_type": "markdown",
   "metadata": {},
   "source": [
    "## ฟังก์ชันสร้างรหัสผ่าน\n"
   ]
  },
  {
   "cell_type": "code",
   "execution_count": 65,
   "metadata": {},
   "outputs": [
    {
     "name": "stdout",
     "output_type": "stream",
     "text": [
      "0\"nkSn\n",
      "NA#-Rb\n",
      "B$mbN/\n",
      "f+Jy)P\n",
      "V9UReQ\n"
     ]
    }
   ],
   "source": [
    "import random\n",
    "\n",
    "def password_gen(length=8) -> str:\n",
    "    \"\"\"\n",
    "    สร้างรหัสผ่านที่สุ่มตัวอักษรที่มีรหัส ASCII ตั้งแต่ 33-126 ตามความยาวที่กำหนด\n",
    "\n",
    "    Args:\n",
    "        length (int, optional): ความยาวของรหัสผ่าน (ค่าเริ่มต้นเป็น 8)\n",
    "\n",
    "    Returns:\n",
    "        str: รหัสผ่านที่สร้างขึ้น\n",
    "    \"\"\"\n",
    "    return ''.join([chr(random.randint(33, 126)) for i in range(length)])\n",
    "\n",
    "for _ in range(5):\n",
    "    print(password_gen(6))\n"
   ]
  },
  {
   "cell_type": "markdown",
   "metadata": {},
   "source": [
    "## การหาค่าเฉลี่ยของตัวเลขที่เก็บใน `list`\n"
   ]
  },
  {
   "cell_type": "code",
   "execution_count": 66,
   "metadata": {},
   "outputs": [
    {
     "name": "stdout",
     "output_type": "stream",
     "text": [
      "total_revenue = 110, avg_revenue = 15.714285714285714\n"
     ]
    }
   ],
   "source": [
    "weekly_revenues = [10, 8, 12, 15, 10, 25, 30]\n",
    "total_revenue = sum(weekly_revenues)\n",
    "avg_revenue = total_revenue / len(weekly_revenues)\n",
    "print(f\"total_revenue = {total_revenue}, avg_revenue = {avg_revenue}\")\n"
   ]
  },
  {
   "cell_type": "markdown",
   "metadata": {},
   "source": [
    "## ฟังก์ชันหาค่าเฉลี่ยของตัวเลขที่เก็บใน `list`\n"
   ]
  },
  {
   "cell_type": "code",
   "execution_count": 67,
   "metadata": {},
   "outputs": [
    {
     "name": "stdout",
     "output_type": "stream",
     "text": [
      "total_revenue = 110, avg_revenue = 15.714285714285714\n"
     ]
    }
   ],
   "source": [
    "def average(numbers: list) -> float:\n",
    "    return sum(numbers) / len(numbers)\n",
    "\n",
    "# วิธีการเรียกใช้งาน\n",
    "weekly_revenues = [10, 8, 12, 15, 10, 25, 30]\n",
    "avg_revenue = average(weekly_revenues)\n",
    "print(f\"total_revenue = {total_revenue}, avg_revenue = {avg_revenue}\")\n"
   ]
  },
  {
   "cell_type": "markdown",
   "metadata": {},
   "source": [
    "## ฟังก์ชันหาส่วนลดตามปริมาณการสั่งซื้อ\n"
   ]
  },
  {
   "cell_type": "code",
   "execution_count": 68,
   "metadata": {},
   "outputs": [
    {
     "name": "stdout",
     "output_type": "stream",
     "text": [
      "price_parts([100]) = (100, 0)\n",
      "price_parts([100, 150]) = (250, 50.0)\n",
      "price_parts([100, 150, 50]) = (300, 90.0)\n",
      "price_parts([100, 150, 50, 200]) = (500, 150.0)\n"
     ]
    }
   ],
   "source": [
    "def price_parts(prices: list[float]) -> float:\n",
    "    \"\"\"\n",
    "    คำนวณราคาสินค้าและส่วนลดที่ได้รับจากการซื้อสินค้าตามรายการที่กำหนด\n",
    "\n",
    "    Args:\n",
    "        prices (list[float]): รายการราคาสินค้า\n",
    "\n",
    "    Returns:\n",
    "        tuple[float, float]: ราคารวมของสินค้าและส่วนลดที่ได้รับ\n",
    "    \"\"\"\n",
    "    discount_pct = 0\n",
    "    n_items = len(prices)\n",
    "    if n_items >= 3:\n",
    "        discount_pct = 0.3\n",
    "    elif n_items == 2:\n",
    "        discount_pct = 0.2\n",
    "    return sum(prices), sum(prices) * discount_pct\n",
    "\n",
    "# ทดสอบการใช้งาน\n",
    "print(f'price_parts([100]) = {price_parts([100])}')\n",
    "print(f'price_parts([100, 150]) = {price_parts([100, 150])}')\n",
    "print(f'price_parts([100, 150, 50]) = {price_parts([100, 150, 50])}')\n",
    "print(f'price_parts([100, 150, 50, 200]) = {price_parts([100, 150, 50, 200])}')\n"
   ]
  },
  {
   "cell_type": "markdown",
   "metadata": {},
   "source": [
    "## ฟังก์ชันในการหาว่าตัวเลขจำนวนเต็มที่ระบุเป็นเลขคู่หรือเลขคี่\n"
   ]
  },
  {
   "cell_type": "code",
   "execution_count": 69,
   "metadata": {},
   "outputs": [
    {
     "name": "stdout",
     "output_type": "stream",
     "text": [
      "False\n",
      "True\n"
     ]
    }
   ],
   "source": [
    "def is_even(n: int) -> bool:\n",
    "    return True if n % 2 == 0 else False\n",
    "\n",
    "def is_odd(n: int) -> bool:\n",
    "    # return True if n % 2 == 1 else False\n",
    "    return not is_even(n)\n",
    "\n",
    "# ตัวอย่างการใช้งาน\n",
    "print(is_even(3))\n",
    "print(is_odd(3))\n"
   ]
  },
  {
   "cell_type": "markdown",
   "metadata": {},
   "source": [
    "## ฟังก์ชันในการแยกส่วนที่เป็นชื่อและนามสกุลออกจากกัน\n"
   ]
  },
  {
   "cell_type": "code",
   "execution_count": 70,
   "metadata": {},
   "outputs": [
    {
     "name": "stdout",
     "output_type": "stream",
     "text": [
      "full_name: แพร รักชาติ\n",
      "ชื่อ: แพร\n",
      "นามสกุล: รักชาติ\n"
     ]
    }
   ],
   "source": [
    "def split_name_part(full_name):\n",
    "    \"\"\"\n",
    "    แยกชื่อและนามสกุลออกจากชื่อเต็ม\n",
    "\n",
    "    Args:\n",
    "        full_name (str): ชื่อ-นามสกุลเต็มที่ต้องการแยก\n",
    "\n",
    "    Returns:\n",
    "        tuple: ชื่อ (first_name) และนามสกุล (last_name)\n",
    "    \"\"\"\n",
    "    names = full_name.split()\n",
    "    first_name = names[0]\n",
    "    last_name = names[-1]\n",
    "    return first_name, last_name\n",
    "\n",
    "# ตัวอย่างการใช้งาน\n",
    "full_name = \"แพร รักชาติ\"\n",
    "first, last = split_name_part(full_name) # unpacking\n",
    "print(f\"full_name: {full_name}\")\n",
    "print(f\"ชื่อ: {first}\")\n",
    "print(f\"นามสกุล: {last}\")\n"
   ]
  },
  {
   "cell_type": "markdown",
   "metadata": {},
   "source": [
    "## ฟังก์ชันในการแยกราคาสินค้าและภาษีจากราคารวมที่กำหนด\n"
   ]
  },
  {
   "cell_type": "code",
   "execution_count": 71,
   "metadata": {},
   "outputs": [
    {
     "name": "stdout",
     "output_type": "stream",
     "text": [
      "ราคาสินค้า: 1116.0 บาท\n",
      "ภาษีมูลค่าเพิ่ม: 84.00000000000001 บาท\n"
     ]
    }
   ],
   "source": [
    "def separate_price(total_price, vat_rate=.07):\n",
    "    \"\"\"\n",
    "    แยกราคาสินค้าและภาษีจากราคารวมที่กำหนด\n",
    "\n",
    "    Args:\n",
    "        total_price (float): ราคารวมทั้งหมดของสินค้า\n",
    "        vat_rate (float, optional): อัตราภาษี (ค่าเริ่มต้นเป็น 0.07)\n",
    "\n",
    "    Returns:\n",
    "        tuple: ราคาสินค้า (product_price) และจำนวนเงินภาษี (tax)\n",
    "    \"\"\"\n",
    "    tax = total_price * vat_rate\n",
    "    product_price = total_price - tax\n",
    "    return product_price, tax\n",
    "\n",
    "# ตัวอย่างการใช้งาน\n",
    "total_price = 1200\n",
    "vat_rate = 0.07\n",
    "\n",
    "product_price, tax = separate_price(total_price, vat_rate)\n",
    "print(f\"ราคาสินค้า: {product_price} บาท\")\n",
    "print(f\"ภาษีมูลค่าเพิ่ม: {tax} บาท\")\n"
   ]
  },
  {
   "cell_type": "markdown",
   "metadata": {},
   "source": [
    "## ฟังก์ชันในการแปลงจำนวนเดือนให้ออกมาว่าเป็นกี่ปี กับอีกกี่เดือน\n"
   ]
  },
  {
   "cell_type": "code",
   "execution_count": 72,
   "metadata": {},
   "outputs": [
    {
     "name": "stdout",
     "output_type": "stream",
     "text": [
      "month_to_year_month(100) = (8, 4)\n"
     ]
    }
   ],
   "source": [
    "def month_to_year_month(months):\n",
    "    \"\"\"\n",
    "    แปลงจำนวนเดือนเป็นกี่ปี กับอีกกี่เดือน\n",
    "\n",
    "    Args:\n",
    "        months (int): จำนวนเดือนที่ต้องการแปลง\n",
    "\n",
    "    Returns:\n",
    "        tuple: ปี (year) และเดือน (month)\n",
    "    \"\"\"\n",
    "    year = months // 12\n",
    "    month = months % 12\n",
    "    return year, month\n",
    "\n",
    "# ตัวอย่างการใช้งาน\n",
    "print(f'month_to_year_month(100) = {month_to_year_month(100)}')    \n"
   ]
  },
  {
   "cell_type": "markdown",
   "metadata": {},
   "source": [
    "## ฟังก์ชันในการแปลงพื้นที่จากตารางวาให้เป็น ไร่-งาน-วา\n"
   ]
  },
  {
   "cell_type": "code",
   "execution_count": 73,
   "metadata": {},
   "outputs": [
    {
     "name": "stdout",
     "output_type": "stream",
     "text": [
      "(1, 3, 80)\n"
     ]
    }
   ],
   "source": [
    "def to_rai_ngan_wah(square_wah: float):\n",
    "    \"\"\"\n",
    "    แปลงหน่วยตารางวาเป็นหน่วยไร่-งาน-ตารางวา\n",
    "\n",
    "    Args:\n",
    "        square_wah (float): พื้นที่ตารางวาที่ต้องการแปลง\n",
    "\n",
    "    Returns:\n",
    "        tuple: จำนวนไร่ (rai), จำนวนงาน (ngan), จำนวนตารางวา (wah)\n",
    "    \"\"\"\n",
    "    rai = square_wah // 400  # 1 ไร่ เท่ากับ 400 ตารางวา\n",
    "    ngan = (square_wah - (rai * 400)) // 100  # 1 งาน เท่ากับ 100 ตารางวา\n",
    "    wah = square_wah % 100\n",
    "    return rai, ngan, wah  # ส่งค่ากลับไปเป็น `tuple`\n",
    "\n",
    "sq_wah_area = 780\n",
    "thai_area = to_rai_ngan_wah(sq_wah_area)\n",
    "print(thai_area) # ผลลัพธ์: (1, 3, 80)\n"
   ]
  },
  {
   "cell_type": "markdown",
   "metadata": {},
   "source": [
    "## ฟังก์ชันคำนวณระยะห่างระหว่างจุดสองจุด\n"
   ]
  },
  {
   "cell_type": "code",
   "execution_count": 74,
   "metadata": {},
   "outputs": [
    {
     "name": "stdout",
     "output_type": "stream",
     "text": [
      "5.0\n"
     ]
    }
   ],
   "source": [
    "def calculate_distance(point1: tuple[float, float], point2: tuple[float, float]) -> float:\n",
    "    \"\"\"\n",
    "    คำนวณระยะห่างระหว่างจุดสองจุดที่กำหนด\n",
    "\n",
    "    Args:\n",
    "        point1 (tuple): พิกัดของจุดแรก (x1, y1)\n",
    "        point2 (tuple): พิกัดของจุดที่สอง (x2, y2)\n",
    "\n",
    "    Returns:\n",
    "        float: ระยะห่างระหว่างจุดสองจุด\n",
    "    \"\"\"\n",
    "    x1, y1 = point1\n",
    "    x2, y2 = point2\n",
    "    distance = ((x2 - x1)**2 + (y2 - y1)**2) ** .5\n",
    "    return distance\n",
    "\n",
    "point1 = (1, 2)\n",
    "point2 = (4, 6)\n",
    "distance = calculate_distance(point1, point2)\n",
    "\n",
    "# distance = calculate_distance((1, 2), (4, 6))\n",
    "\n",
    "print(distance)  # ผลลัพธ์: 5.0\n"
   ]
  },
  {
   "cell_type": "markdown",
   "metadata": {},
   "source": [
    "## ฟังก์ชันแปลงสมาชิกทุกตัวใน `list` ให้เป็นตัวพิมพ์ใหญ่\n"
   ]
  },
  {
   "cell_type": "code",
   "execution_count": 75,
   "metadata": {},
   "outputs": [
    {
     "name": "stdout",
     "output_type": "stream",
     "text": [
      "['EXCEL', 'PYTHON', 'JAVASCRIPT']\n"
     ]
    }
   ],
   "source": [
    "def uppercase_list(lst: list[str]) -> list[str]:\n",
    "    return [e.upper() for e in lst]\n",
    "\n",
    "skills = ['Excel', 'Python', 'JavaScript']\n",
    "print(uppercase_list(skills))\n"
   ]
  },
  {
   "cell_type": "markdown",
   "metadata": {},
   "source": [
    "## ฟังก์ชันสำหรับซ่อนบางส่วนของข้อความ\n"
   ]
  },
  {
   "cell_type": "code",
   "execution_count": 76,
   "metadata": {},
   "outputs": [
    {
     "name": "stdout",
     "output_type": "stream",
     "text": [
      "09*****304\n"
     ]
    }
   ],
   "source": [
    "def partial_hide_phone_number(phone_number, start, end):\n",
    "    \"\"\"\n",
    "    ซ่อนตำแหน่งของหมายเลขโทรศัพท์บางส่วน\n",
    "\n",
    "    Args:\n",
    "        phone_number (str): เลขโทรศัพท์ที่ต้องการซ่อนบางส่วน\n",
    "        start (int): ตำแหน่งเริ่มต้นที่ต้องการซ่อน\n",
    "        end (int): ตำแหน่งสิ้นสุดที่ต้องการซ่อน\n",
    "\n",
    "    Returns:\n",
    "        str: เลขโทรศัพท์ที่ซ่อนตำแหน่งบางส่วนแล้ว\n",
    "    \"\"\"\n",
    "    hidden_digits = '*' * (end - start + 1)\n",
    "    return phone_number[:start] + hidden_digits + phone_number[end + 1:]\n",
    "\n",
    "\n",
    "# ตัวอย่างการใช้งานของฟังก์ชัน\n",
    "phone = '0953829304'\n",
    "hidden_phone = partial_hide_phone_number(phone, 2, 6)\n",
    "print(hidden_phone)  # ผลลัพธ์: 09*****304\n"
   ]
  },
  {
   "cell_type": "markdown",
   "metadata": {},
   "source": [
    "## ฟังก์ชันสำหรับคำนวณเลขตัวตรวจสอบ (check digit) ของรหัส EAN-13\n"
   ]
  },
  {
   "cell_type": "code",
   "execution_count": 77,
   "metadata": {},
   "outputs": [
    {
     "data": {
      "text/plain": [
       "9"
      ]
     },
     "execution_count": 77,
     "metadata": {},
     "output_type": "execute_result"
    }
   ],
   "source": [
    "from itertools import cycle\n",
    "\n",
    "def calc_ean13_check_digit(ean: str) -> int:\n",
    "    \"\"\"\n",
    "    คำนวณเลขตรวจสอบ (check digit) ของรหัส EAN-13\n",
    "\n",
    "    Args:\n",
    "        ean (str): รหัส EAN-13 ที่ต้องการคำนวณ\n",
    "\n",
    "    Returns:\n",
    "        int: เลขตรวจสอบ (check digit) ของรหัส EAN-13\n",
    "    \"\"\"\n",
    "    total = sum([int(n) * m for n, m in zip(ean[:12], cycle([1, 3]))])\n",
    "    return 0 if (total % 10) == 0 else 10 - (total % 10)\n",
    "\n",
    "ean13 = \"4905524977639\" # EAN13 ของ Sony Stereo Headphones MDR-1A (ใส่เต็ม 13 หลัก หรือ 12 หลักแรกของ EAN-13)\n",
    "calc_ean13_check_digit(ean13)\n"
   ]
  },
  {
   "cell_type": "markdown",
   "metadata": {},
   "source": [
    "## ฟังก์ชันสำหรับจำนวนนาทีรวมให้เป็นกี่วัน กี่ชั่วโมง และอีกกี่นาที\n"
   ]
  },
  {
   "cell_type": "code",
   "execution_count": 78,
   "metadata": {},
   "outputs": [
    {
     "name": "stdout",
     "output_type": "stream",
     "text": [
      "t = {'day': 3, 'hour': 6, 'minute': 31}\n",
      "t[\"day\"] = 3\n",
      "t[\"hour\"] = 6\n",
      "t[\"minute\"] = 31\n"
     ]
    }
   ],
   "source": [
    "def minutes_to_day_hour_min(minutes: int):\n",
    "    \"\"\"\n",
    "    แปลงจำนวนนาทีเป็นวัน ชั่วโมง และนาที\n",
    "\n",
    "    Args:\n",
    "        minutes (int): จำนวนนาทีที่ต้องการแปลง\n",
    "\n",
    "    Returns:\n",
    "        dict: ผลลัพธ์ที่แปลงมาเป็นวัน ชั่วโมง และนาที โดยมี key คือ 'day', 'hour', 'minute'\n",
    "    \"\"\"\n",
    "    min_per_day = 24 * 60  # 1440 จำนวนนาทีในหนึ่งวัน\n",
    "    d = minutes // min_per_day # หาจำนวนวัน\n",
    "    h = (minutes - (d * min_per_day)) // 60  # หาจำนวนชั่วโมง (หลังจากหักจำนวนวัน)\n",
    "    m = minutes - (d * min_per_day + h * 60)  # หาจำนวนนาที (หลังจากหักจำนวนวันและจำนวนชั่วโมง)\n",
    "    return {'day': d, 'hour': h, 'minute': m}\n",
    "\n",
    "mins=4711\n",
    "t = minutes_to_day_hour_min(mins) # t เป็น dict ที่ประกอบไปด้วยคีย์ 3 ตัว คือ day, hour, minute\n",
    "print(f't = {t}')\n",
    "print(f't[\"day\"] = {t[\"day\"]}')\n",
    "print(f't[\"hour\"] = {t[\"hour\"]}')\n",
    "print(f't[\"minute\"] = {t[\"minute\"]}')\n"
   ]
  },
  {
   "cell_type": "markdown",
   "metadata": {},
   "source": [
    "## ฟังก์ชันสำหรับแปลงตัวเลขให้สวยงามโดยใช้ emoji font\n"
   ]
  },
  {
   "cell_type": "code",
   "execution_count": 79,
   "metadata": {},
   "outputs": [
    {
     "name": "stdout",
     "output_type": "stream",
     "text": [
      "2602348 2️⃣6️⃣0️⃣2️⃣3️⃣4️⃣8️⃣\n"
     ]
    }
   ],
   "source": [
    "def prettify_number(n) -> str:\n",
    "    \"\"\"\n",
    "    ฟังก์ชันนี้ใช้สำหรับทำให้ตัวเลขดูสวยงามขึ้นโดยแปลงตัวเลขเป็นอีโมจิ\n",
    "\n",
    "    Args:\n",
    "        n: ตัวเลขที่ต้องการทำให้สวยงาม\n",
    "\n",
    "    Returns:\n",
    "        str: ตัวอักษรที่แสดงผลตัวเลขที่ทำให้สวยงาม โดยใช้อีโมจิ\n",
    "    \"\"\"\n",
    "    # p_nums = [\"0️⃣\", \"1️⃣\", \"2️⃣\", \"3️⃣\", \"4️⃣\", \"5️⃣\", \"6️⃣\", \"7️⃣\", \"8️⃣\", \"9️⃣\"]\n",
    "    p_nums = \"0️⃣ 1️⃣ 2️⃣ 3️⃣ 4️⃣ 5️⃣ 6️⃣ 7️⃣ 8️⃣ 9️⃣\".split(' ')\n",
    "    # p = \"\"\n",
    "    # for c in str(n):\n",
    "    #     p += p_nums[int(c)]\n",
    "    # return p\n",
    "    return ''.join([p_nums[int(c)] for c in str(n) ])\n",
    "\n",
    "num = 2602348\n",
    "p = prettify_number(num)\n",
    "print(num, p)"
   ]
  },
  {
   "cell_type": "markdown",
   "metadata": {},
   "source": [
    "# แบบฝึกหัด\n"
   ]
  },
  {
   "cell_type": "markdown",
   "metadata": {},
   "source": [
    "1. เขียนฟังก์ชันชื่อ `cagr` เพื่อคำนวณหา CAGR (Compound Annual Growth Rate) โดยมีพารามิเตอร์ทั้งหมด 3 ตัวคือ `initial_value` (ค่าเริ่มต้น), `final_value` (ค่าสุดท้าย) และ `num_years` (จำนวนปีที่ผ่านไป) \n",
    "\n",
    "$$\n",
    "\\text{CAGR} = \\left( \\frac{\\text{final value}}{\\text{initial value}} \\right)^{\\frac{1}{\\text{Number of Years}}} - 1\n",
    "$$\n",
    "\n"
   ]
  },
  {
   "cell_type": "code",
   "execution_count": 80,
   "metadata": {},
   "outputs": [
    {
     "name": "stdout",
     "output_type": "stream",
     "text": [
      "The CAGR is: 0.0845 or 8.45%\n"
     ]
    }
   ],
   "source": [
    "def cagr(initial_value: float, final_value: float, num_years: int) -> float:\n",
    "    \"\"\"\n",
    "    ฟังก์ชันนี้ใช้สำหรับคำนวณอัตราเพิ่มเติมต่อปีเฉลี่ย (Compound Annual Growth Rate, CAGR)\n",
    "    โดยคำนวณจากมูลค่าเริ่มต้น (initial value) และมูลค่าสุดท้าย (final value)\n",
    "    รวมถึงจำนวนปีที่ผ่านไป (num_years)\n",
    "\n",
    "    Args:\n",
    "        initial_value (float): มูลค่าเริ่มต้น\n",
    "        final_value (float): มูลค่าสุดท้าย\n",
    "        num_years (int): จำนวนปีที่ผ่านไป\n",
    "\n",
    "    Returns:\n",
    "        float: อัตราเพิ่มเติมต่อปีเฉลี่ย (CAGR) ในรูปแบบทศนิยม\n",
    "    \"\"\"\n",
    "    return (final_value / initial_value) ** (1 / num_years) - 1\n",
    "\n",
    "\n",
    "# ทดสอบการใช้งานฟังก์ชัน\n",
    "initial_value = 10000\n",
    "final_value = 15000\n",
    "num_years = 5\n",
    "\n",
    "cagr = cagr(initial_value, final_value, num_years)\n",
    "print(f\"The CAGR is: {cagr:.4f} or {cagr:.2%}\") # ผลลัพธ์ The CAGR is: 0.0845 or 8.45%\n"
   ]
  },
  {
   "cell_type": "markdown",
   "metadata": {},
   "source": [
    "2. แปลงโค้ดสำหรับการหาว่าเกิดใน gen ใดให้อยู่ในรูปฟังก์ชันที่มีชื่อว่า `born_in_generation` ที่รับพารามิเตอร์ชื่อ `born_year` เป็นปี พ.ศ. ที่เกิด\n",
    "\n",
    "```python\n",
    "born_year = 2550\n",
    "\n",
    "if born_year <= 2489:\n",
    "    gen = \"Builders\"\n",
    "elif 2490 <= born_year <= 2507:\n",
    "    gen = \"Baby Boomers\"\n",
    "elif 2508 <= born_year <= 2524:\n",
    "    gen = \"Gen. X\"\n",
    "elif 2425 <= born_year <= 2538:\n",
    "    gen = \"Gen. Y\"\n",
    "elif 2539 <= born_year <= 2552:\n",
    "    gen = \"Gen. Z\"\n",
    "else:\n",
    "    gen = \"Gen. Alpha\"\n",
    "\n",
    "print(gen)\n",
    "```\n"
   ]
  },
  {
   "cell_type": "code",
   "execution_count": 81,
   "metadata": {},
   "outputs": [
    {
     "name": "stdout",
     "output_type": "stream",
     "text": [
      "เกิด พ.ศ. 2550 เป็น Gen. Z\n"
     ]
    }
   ],
   "source": [
    "def born_in_generation(born_year: int) -> str:\n",
    "    \"\"\"\n",
    "    ฟังก์ชันนี้ใช้สำหรับตรวจสอบว่าปีที่เกิดตรงกับรุ่นใดใน Generation ที่กำหนด\n",
    "    โดยระบุปีเกิดในพารามิเตอร์ year\n",
    "\n",
    "    Args:\n",
    "        year (int): ปีที่เกิด\n",
    "\n",
    "    Returns:\n",
    "        str: ชื่อของรุ่นใน Generation ที่เกิด\n",
    "    \"\"\"\n",
    "    if born_year <= 2489:\n",
    "        result = \"Builders\"\n",
    "    elif 2490 <= born_year <= 2507:\n",
    "        result = \"Baby Boomers\"\n",
    "    elif 2508 <= born_year <= 2524:\n",
    "        result = \"Gen. X\"\n",
    "    elif 2425 <= born_year <= 2538:\n",
    "        result = \"Gen. Y\"\n",
    "    elif 2539 <= born_year <= 2552:\n",
    "        result = \"Gen. Z\"\n",
    "    else:\n",
    "        result = \"Gen. Alpha\"\n",
    "    return result\n",
    "\n",
    "\n",
    "born_year = 2550\n",
    "print(f'เกิด พ.ศ. {born_year} เป็น {born_in_generation(born_year)}')\n"
   ]
  },
  {
   "cell_type": "markdown",
   "metadata": {},
   "source": [
    "3. เขียนฟังก์ชันชื่อ `get_initials()` ที่รับข้อความ (ชื่อและนามสกุล) และคืนค่าตัวอักษรตัวแรกของแต่ละคำในรูปแบบตัวพิมพ์ใหญ่ (capitalized initials) ของชื่อและนามสกุลที่รับเข้ามา\n"
   ]
  },
  {
   "cell_type": "code",
   "execution_count": 82,
   "metadata": {},
   "outputs": [
    {
     "name": "stdout",
     "output_type": "stream",
     "text": [
      "JF\n"
     ]
    }
   ],
   "source": [
    "def get_initials(name: str) -> str:\n",
    "    \"\"\"\n",
    "    ฟังก์ชันนี้ใช้สำหรับรับชื่อและสร้างตัวย่อจากชื่อที่กำหนด\n",
    "    โดยแบ่งชื่อเป็นคำและสร้างตัวย่อจากตัวอักษรแรกของแต่ละคำ\n",
    "\n",
    "    Args:\n",
    "        name (str): ชื่อที่ต้องการสร้างตัวย่อ\n",
    "\n",
    "    Returns:\n",
    "        str: ตัวย่อที่สร้างจากชื่อที่กำหนด\n",
    "    \"\"\"\n",
    "    words = name.split()\n",
    "    return ''.join([word[0].upper() for word in words])\n",
    "\n",
    "\n",
    "# ตัวอย่างการใช้งาน:\n",
    "initials = get_initials(\"Jane Foster\")\n",
    "print(initials)  # ผลลัพธ์: \"JF\"\n"
   ]
  },
  {
   "cell_type": "markdown",
   "metadata": {},
   "source": [
    "4. ออกแบบและเขียนฟังก์ชันสำหรับแทนที่ตัวอักษรในตำแหน่งที่กำหนดด้วยตัวอักษรอื่น โดยให้มีการรับค่าพารามิเตอร์ที่เหมาะสม เช่น หากมีข้อความว่า `make` แล้วต้องการแทนที่ตัวอักษรตัวแรกด้วยตัว 'F' ฟังก์ชันจะต้องส่งค่ากลับมาเป็น 'Fake'\n"
   ]
  },
  {
   "cell_type": "code",
   "execution_count": 83,
   "metadata": {},
   "outputs": [
    {
     "name": "stdout",
     "output_type": "stream",
     "text": [
      "Fake\n"
     ]
    }
   ],
   "source": [
    "def str_replace_pos(s: str, pos: int, new_char: str) -> str:\n",
    "    \"\"\"\n",
    "    ฟังก์ชันนี้ใช้สำหรับแทนที่ตัวอักษรในสตริงที่กำหนดตำแหน่งด้วยตัวอักษรใหม่\n",
    "\n",
    "    Args:\n",
    "        s (str): สตริงต้นฉบับ\n",
    "        pos (int): ตำแหน่งที่ต้องการแทนที่ (นับเริ่มต้นจาก 0)\n",
    "        new_char (str): ตัวอักษรใหม่ที่จะแทนที่\n",
    "\n",
    "    Returns:\n",
    "        str: สตริงที่ได้หลังจากแทนที่ตัวอักษรในตำแหน่งที่กำหนดด้วยตัวอักษรใหม่\n",
    "    \"\"\"\n",
    "    list_s = list(s)\n",
    "    list_s[pos] = new_char\n",
    "    return \"\".join(list_s)\n",
    "\n",
    "\n",
    "s = \"make\"\n",
    "print(str_replace_pos(s, 0, \"F\"))\n"
   ]
  },
  {
   "cell_type": "markdown",
   "metadata": {},
   "source": [
    "5. เขียนฟังก์ชันเพื่อคำนวณหาค่าสัมประสิทธิ์สหสัมพันธ์ (Pearson's Correlation) ตามสมการที่ให้มา โดยให้มีค่า x และ y เป็น `list` ที่มีค่าดังนี้\n",
    "\n",
    "```\n",
    "x = [1.00, 5.00, 5.25, 2.00, 6.00, 3.70, 1.00, 6.00, 8.75, 7.10]\n",
    "y = [1.05, 5.20, 4.00, 2.14, 3.00, 3.81, 1.01, 2.00, 5.00, 4.90]\n",
    "```\n",
    "\n",
    "$$\n",
    "\\rho(x,y) = \\frac{{\\sum_{i=1}^{n}(x_i - \\bar{x})(y_i - \\bar{y})}}{{\\sqrt{\\sum_{i=1}^{n}(x_i - \\bar{x})^2}\\sqrt{\\sum_{i=1}^{n}(y_i - \\bar{y})^2}}}\n",
    "$$\n"
   ]
  },
  {
   "cell_type": "code",
   "execution_count": 84,
   "metadata": {},
   "outputs": [
    {
     "name": "stdout",
     "output_type": "stream",
     "text": [
      "correlation(x, y) = 0.7663\n"
     ]
    }
   ],
   "source": [
    "def correlation(x: list, y: list) -> float:\n",
    "    \"\"\"\n",
    "    ฟังก์ชันนี้ใช้สำหรับคำนวณค่าสหสัมพันธ์ (correlation) ระหว่างสองชุดข้อมูล (x และ y)\n",
    "\n",
    "    Args:\n",
    "        x (list): ชุดข้อมูล x\n",
    "        y (list): ชุดข้อมูล y\n",
    "\n",
    "    Returns:\n",
    "        float: ค่าสหสัมพันธ์ระหว่าง x และ y\n",
    "    \"\"\"\n",
    "    xbar = sum(x) / len(x)\n",
    "    ybar = sum(y) / len(y)\n",
    "    xy = zip(x, y)\n",
    "    t1 = [(xi - xbar) * (yi - ybar) for xi, yi in xy]\n",
    "    t2 = [(xi - xbar) ** 2 for xi in x]\n",
    "    t3 = [(yi - ybar) ** 2 for yi in y]\n",
    "    # print(sum(x), sum(y))\n",
    "    # print(xbar, ybar)\n",
    "    # print(\"t1 = \", t1)\n",
    "    # print(\"t2 = \", t2)\n",
    "    # print(\"t3 = \", t3)\n",
    "    return sum(t1) /(sum(t2) * sum(t3)) ** .5\n",
    "\n",
    "x = [1.00, 5.00, 5.25, 2.00, 6.00, 3.70, 1.00, 6.00, 8.75, 7.10]\n",
    "y = [1.05, 5.20, 4.00, 2.14, 3.00, 3.81, 1.01, 2.00, 5.00, 4.90]\n",
    "\n",
    "print(f'correlation(x, y) = {correlation(x, y):.4f}')"
   ]
  }
 ],
 "metadata": {
  "kernelspec": {
   "display_name": "base",
   "language": "python",
   "name": "python3"
  },
  "language_info": {
   "codemirror_mode": {
    "name": "ipython",
    "version": 3
   },
   "file_extension": ".py",
   "mimetype": "text/x-python",
   "name": "python",
   "nbconvert_exporter": "python",
   "pygments_lexer": "ipython3",
   "version": "3.11.4"
  },
  "orig_nbformat": 4
 },
 "nbformat": 4,
 "nbformat_minor": 2
}
