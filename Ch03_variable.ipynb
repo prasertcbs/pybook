{
 "cells": [
  {
   "cell_type": "markdown",
   "metadata": {},
   "source": [
    "# บทที่ 3. ตัวแปร (variable)\n",
    "- ตำรา: Python: ใคร ๆ ก็เขียนโปรแกรมได้\n",
    "- ผู้แต่ง: รศ.ดร. ประเสริฐ คณาวัฒนไชย"
   ]
  },
  {
   "cell_type": "markdown",
   "metadata": {},
   "source": [
    "## การคำนวณหาอัตรากำไรเบื้องต้น\n"
   ]
  },
  {
   "cell_type": "code",
   "execution_count": 1,
   "metadata": {},
   "outputs": [
    {
     "name": "stdout",
     "output_type": "stream",
     "text": [
      "margin =  20.0 %\n",
      "sum(sales) =  1090\n"
     ]
    }
   ],
   "source": [
    "price = 100\n",
    "cost = 80\n",
    "margin = (price - cost) / price\n",
    "print(\"margin = \", margin * 100, \"%\")\n",
    "\n",
    "sales = [100, 120, 80, 200, 175, 195, 220]\n",
    "print(\"sum(sales) = \", sum(sales))\n"
   ]
  },
  {
   "cell_type": "markdown",
   "metadata": {},
   "source": [
    "## การคำนวณหาดัชนีมวลกาย (Body Mass Index)\n"
   ]
  },
  {
   "cell_type": "code",
   "execution_count": 2,
   "metadata": {},
   "outputs": [
    {
     "name": "stdout",
     "output_type": "stream",
     "text": [
      "bmi =  24.221453287197235\n"
     ]
    }
   ],
   "source": [
    "weight = 70 # in kg.\n",
    "height = 1.7 # in meter\n",
    "bmi = weight / (height ** 2) # หาดัชนีมวลกาย\n",
    "print(\"bmi = \", bmi)\n"
   ]
  },
  {
   "cell_type": "markdown",
   "metadata": {},
   "source": [
    "## การตั้งชื่อตัวแปร\n"
   ]
  },
  {
   "cell_type": "code",
   "execution_count": 3,
   "metadata": {},
   "outputs": [],
   "source": [
    "\n",
    "# ตัวแปรที่สื่อความหมาย\n",
    "age = 25\n",
    "name = \"Peter\"\n",
    "total_amount = 1000.50\n",
    "is_member = True\n",
    "students = [\"ทอฝัน\", \"ปลายฟ้า\", \"สายน้ำ\"]\n",
    "\n",
    "# ตัวแปรที่ประกอบไปด้วยตัวเลข\n",
    "sales_2565 = 10\n",
    "sales_2566 = 20\n",
    "total_sales = sales_2565 + sales_2566\n",
    "\n",
    "# การใช้ตัวอักษรและตัวเลขร่วมกัน\n",
    "student_name = \"ทอรุ้ง\"\n",
    "score_1 = 85\n",
    "score_2 = 90\n",
    "average_score = (score_1 + score_2) / 2"
   ]
  },
  {
   "cell_type": "markdown",
   "metadata": {},
   "source": [
    "## `naming convention` ที่ใช้การตั้งชื่อเมื่อเขียนโค้ดด้วยภาษาไพทอน\n"
   ]
  },
  {
   "cell_type": "code",
   "execution_count": 4,
   "metadata": {},
   "outputs": [],
   "source": [
    "\n",
    "# ตัวแปร (snake_case)\n",
    "cost = 10\n",
    "top_3_menus = ['ต้มยำกุ้ง', 'ส้มตำ', 'ผัดไทย']\n",
    "\n",
    "# ฟังก์ชัน (snake_case)\n",
    "def calc_margin(price, cost):\n",
    "    return (price - cost) / price\n",
    "\n",
    "# คลาส (Pascal case)\n",
    "class Customer:\n",
    "    def __init__(self, first_name, last_name):\n",
    "        self.first_name = first_name\n",
    "        self.last_name = last_name\n",
    "\n",
    "class LineChart:\n",
    "    pass\n",
    "\n",
    "# ค่าคงที่ (All CAPS and _)\n",
    "MAX_VALUE = 100\n",
    "PI = 3.14159"
   ]
  },
  {
   "cell_type": "markdown",
   "metadata": {},
   "source": [
    "## การใช้ `type()` ตรวจสอบประเภทของตัวแปร\n"
   ]
  },
  {
   "cell_type": "code",
   "execution_count": 5,
   "metadata": {},
   "outputs": [
    {
     "name": "stdout",
     "output_type": "stream",
     "text": [
      "type(x) = <class 'int'>\n",
      "type(y) = <class 'str'>\n",
      "type(z) = <class 'list'>\n"
     ]
    }
   ],
   "source": [
    "x = 5\n",
    "y = \"Hello\"\n",
    "z = [1, 2, 3]\n",
    "print(f'type(x) = {type(x)}')  # ผลลัพธ์: <class 'int'>\n",
    "print(f'type(y) = {type(y)}')  # ผลลัพธ์: <class 'str'>\n",
    "print(f'type(z) = {type(z)}')  # ผลลัพธ์: <class 'list'>"
   ]
  },
  {
   "cell_type": "markdown",
   "metadata": {},
   "source": [
    "## การใช้ `int()` แปลงเลขแบบมีทศนิยมให้เป็นจำนวนเต็ม\"\n"
   ]
  },
  {
   "cell_type": "code",
   "execution_count": 6,
   "metadata": {},
   "outputs": [
    {
     "name": "stdout",
     "output_type": "stream",
     "text": [
      "a = 3.5, type = <class 'float'>\n",
      "b = 3, type = <class 'int'>\n"
     ]
    }
   ],
   "source": [
    "a = 3.5\n",
    "print(f\"a = {a}, type = {type(a)}\")\n",
    "b = int(a)\n",
    "print(f\"b = {b}, type = {type(b)}\")"
   ]
  },
  {
   "cell_type": "markdown",
   "metadata": {},
   "source": [
    "## การใช้ `int()` แปลงสตริงที่เก็บอักขระตัวเลขให้เป็นจำนวนเต็ม\n"
   ]
  },
  {
   "cell_type": "code",
   "execution_count": 7,
   "metadata": {},
   "outputs": [
    {
     "name": "stdout",
     "output_type": "stream",
     "text": [
      "s  = 3, type = <class 'str'>\n",
      "a  = 3, type = <class 'int'>\n",
      "s2 = -7, type = <class 'str'>\n",
      "b  = -7, type = <class 'int'>\n",
      "a = 3.0, type = <class 'float'>\n",
      "b = 3.14159, type = <class 'float'>\n",
      "c = -17.5, type = <class 'float'>\n"
     ]
    }
   ],
   "source": [
    "s = \"3\"\n",
    "print(f\"s  = {s}, type = {type(s)}\")\n",
    "a = int(s)\n",
    "print(f\"a  = {a}, type = {type(a)}\")\n",
    "\n",
    "s2 = \"-7\"\n",
    "print(f\"s2 = {s2}, type = {type(s2)}\")\n",
    "b = int(s2)\n",
    "print(f\"b  = {b}, type = {type(b)}\")\n",
    "\n",
    "## การใช้ `float()` แปลงสตริงให้เป็นเลขแบบมีทศนิยม\n",
    "a = float(\"3\")\n",
    "print(f\"a = {a}, type = {type(a)}\")\n",
    "\n",
    "b = float(\"3.14159\")\n",
    "print(f\"b = {b}, type = {type(b)}\")\n",
    "\n",
    "c = float(\"-17.5\")\n",
    "print(f\"c = {c}, type = {type(c)}\")"
   ]
  },
  {
   "cell_type": "markdown",
   "metadata": {},
   "source": [
    "## การใช้ `str()` แปลงตัวเลขให้เป็นสตริง\n"
   ]
  },
  {
   "cell_type": "code",
   "execution_count": 8,
   "metadata": {},
   "outputs": [
    {
     "name": "stdout",
     "output_type": "stream",
     "text": [
      "a = 3, type = <class 'str'>\n",
      "a * 5 = 33333\n",
      "b = 3.14159, type = <class 'str'>\n",
      "1 + b = 73.14159\n",
      "c = -17, type = <class 'str'>\n",
      "1 + c = 1-17\n"
     ]
    }
   ],
   "source": [
    "a = str(3)\n",
    "print(f\"a = {a}, type = {type(a)}\")\n",
    "print(f\"a * 5 = {a * 5}\")\n",
    "\n",
    "b = str(3.14159)\n",
    "print(f\"b = {b}, type = {type(b)}\")\n",
    "print(f\"1 + b = {'7' + b}\")\n",
    "\n",
    "c = str(-17)\n",
    "print(f\"c = {c}, type = {type(c)}\")\n",
    "print(f\"1 + c = {'1' + c}\")"
   ]
  },
  {
   "cell_type": "markdown",
   "metadata": {},
   "source": [
    "## การทำงานของ dynamic typing\n"
   ]
  },
  {
   "cell_type": "code",
   "execution_count": 9,
   "metadata": {},
   "outputs": [
    {
     "name": "stdout",
     "output_type": "stream",
     "text": [
      "5\n",
      "4.17\n",
      "mango\n"
     ]
    }
   ],
   "source": [
    "def find_max(a, b):\n",
    "    return a if a > b else b\n",
    "\n",
    "print(find_max(3, 5))\n",
    "print(find_max(4.17, 2))\n",
    "print(find_max(\"coconut\", \"mango\"))"
   ]
  },
  {
   "cell_type": "markdown",
   "metadata": {},
   "source": [
    "## ปัญหาของการเปลี่ยนแปลงประเภทตัวแปรในระหว่างการทำงานของโปรแกรม\n"
   ]
  },
  {
   "cell_type": "code",
   "execution_count": 10,
   "metadata": {},
   "outputs": [
    {
     "name": "stdout",
     "output_type": "stream",
     "text": [
      "15\n",
      "510\n"
     ]
    }
   ],
   "source": [
    "a = 5\n",
    "b = 10\n",
    "print(a + b)\n",
    "a = '5'\n",
    "b = '10'\n",
    "print(a + b)\n"
   ]
  },
  {
   "cell_type": "markdown",
   "metadata": {},
   "source": [
    "## ข้อเสียของ dynamic typing\n"
   ]
  },
  {
   "cell_type": "code",
   "execution_count": 11,
   "metadata": {},
   "outputs": [
    {
     "name": "stdout",
     "output_type": "stream",
     "text": [
      "rectangle_area(3, 5)   = 15\n",
      "rectangle_area('3', 5) = 33333\n"
     ]
    }
   ],
   "source": [
    "def rectangle_area(w, h):\n",
    "    return w * h\n",
    "\n",
    "print(f\"rectangle_area(3, 5)   = {rectangle_area(3, 5)}\")\n",
    "print(f\"rectangle_area('3', 5) = {rectangle_area('3', 5)}\")\n"
   ]
  },
  {
   "cell_type": "markdown",
   "metadata": {},
   "source": [
    "## การทำงานของตัวแปรแบบ global (1)\n"
   ]
  },
  {
   "cell_type": "code",
   "execution_count": 12,
   "metadata": {},
   "outputs": [
    {
     "name": "stdout",
     "output_type": "stream",
     "text": [
      "VAT = 0.07\n",
      "(140.18691588785046, 9.813084112149534)\n"
     ]
    }
   ],
   "source": [
    "VAT = .07\n",
    "\n",
    "def price_part(amount):\n",
    "    tax = amount * VAT / (1 + VAT)\n",
    "    price = amount - tax\n",
    "    return price, tax\n",
    "\n",
    "print(f\"VAT = {VAT}\")\n",
    "print(price_part(150))\n"
   ]
  },
  {
   "cell_type": "markdown",
   "metadata": {},
   "source": [
    "## การทำงานของตัวแปรแบบ global (2)\n"
   ]
  },
  {
   "cell_type": "code",
   "execution_count": 13,
   "metadata": {},
   "outputs": [
    {
     "name": "stdout",
     "output_type": "stream",
     "text": [
      "outside access_global_var(): VAT = 0.07\n",
      "outside access_global_var(): member_discount = 0.15\n",
      "inside access_global_var():  VAT = 0.07\n",
      "inside access_global_var():  member_discount = 0.15\n",
      "coffee_price (before discount) = 50\n",
      "coffee_price (after membership discount) = 42.5\n"
     ]
    }
   ],
   "source": [
    "VAT = .07 # # เพิ่ม global keyword เพื่อขอใช้และแก้ไขค่าใน VAT ภายในฟังก์ชัน\n",
    "member_discount = .15 \n",
    "coffee_price = 50 \n",
    "\n",
    "def access_global_var():\n",
    "    global VAT\n",
    "    print(f\"inside access_global_var():  VAT = {VAT}\") \n",
    "    print(f\"inside access_global_var():  member_discount = {member_discount}\") \n",
    "\n",
    "print(f\"outside access_global_var(): VAT = {VAT}\") \n",
    "print(f\"outside access_global_var(): member_discount = {member_discount}\") \n",
    "access_global_var()\n",
    "print(f\"coffee_price (before discount) = {coffee_price}\")\n",
    "print(f\"coffee_price (after membership discount) = {coffee_price * (1 - member_discount)}\")\n"
   ]
  },
  {
   "cell_type": "markdown",
   "metadata": {},
   "source": [
    "## เมื่อไรต้องใช้คำสงวน global\n"
   ]
  },
  {
   "cell_type": "code",
   "execution_count": 14,
   "metadata": {},
   "outputs": [
    {
     "name": "stdout",
     "output_type": "stream",
     "text": [
      "outside access_global_var(): VAT = 0.07\n",
      "outside access_global_var(): member_discount = 0.15\n",
      "inside access_global_var():  VAT = 0.07\n"
     ]
    },
    {
     "ename": "UnboundLocalError",
     "evalue": "cannot access local variable 'member_discount' where it is not associated with a value",
     "output_type": "error",
     "traceback": [
      "\u001b[1;31m---------------------------------------------------------------------------\u001b[0m",
      "\u001b[1;31mUnboundLocalError\u001b[0m                         Traceback (most recent call last)",
      "Cell \u001b[1;32mIn[14], line 16\u001b[0m\n\u001b[0;32m     14\u001b[0m \u001b[39mprint\u001b[39m(\u001b[39mf\u001b[39m\u001b[39m\"\u001b[39m\u001b[39moutside access_global_var(): VAT = \u001b[39m\u001b[39m{\u001b[39;00mVAT\u001b[39m}\u001b[39;00m\u001b[39m\"\u001b[39m) \n\u001b[0;32m     15\u001b[0m \u001b[39mprint\u001b[39m(\u001b[39mf\u001b[39m\u001b[39m\"\u001b[39m\u001b[39moutside access_global_var(): member_discount = \u001b[39m\u001b[39m{\u001b[39;00mmember_discount\u001b[39m}\u001b[39;00m\u001b[39m\"\u001b[39m) \n\u001b[1;32m---> 16\u001b[0m access_global_var()\n\u001b[0;32m     17\u001b[0m \u001b[39mprint\u001b[39m(\u001b[39mf\u001b[39m\u001b[39m\"\u001b[39m\u001b[39mcoffee_price (before discount) = \u001b[39m\u001b[39m{\u001b[39;00mcoffee_price\u001b[39m}\u001b[39;00m\u001b[39m\"\u001b[39m)\n\u001b[0;32m     18\u001b[0m \u001b[39mprint\u001b[39m(\u001b[39mf\u001b[39m\u001b[39m\"\u001b[39m\u001b[39mcoffee_price (after membership discount) = \u001b[39m\u001b[39m{\u001b[39;00mcoffee_price\u001b[39m \u001b[39m\u001b[39m*\u001b[39m\u001b[39m \u001b[39m(\u001b[39m1\u001b[39m\u001b[39m \u001b[39m\u001b[39m-\u001b[39m\u001b[39m \u001b[39mmember_discount)\u001b[39m}\u001b[39;00m\u001b[39m\"\u001b[39m)\n",
      "Cell \u001b[1;32mIn[14], line 8\u001b[0m, in \u001b[0;36maccess_global_var\u001b[1;34m()\u001b[0m\n\u001b[0;32m      6\u001b[0m \u001b[39mglobal\u001b[39;00m VAT \u001b[39m# เพิ่ม global keyword เพื่อขอใช้และแก้ไขค่าใน VAT ภายในฟังก์ชัน\u001b[39;00m\n\u001b[0;32m      7\u001b[0m \u001b[39mprint\u001b[39m(\u001b[39mf\u001b[39m\u001b[39m\"\u001b[39m\u001b[39minside access_global_var():  VAT = \u001b[39m\u001b[39m{\u001b[39;00mVAT\u001b[39m}\u001b[39;00m\u001b[39m\"\u001b[39m) \n\u001b[1;32m----> 8\u001b[0m \u001b[39mprint\u001b[39m(\u001b[39mf\u001b[39m\u001b[39m\"\u001b[39m\u001b[39minside access_global_var():  member_discount = \u001b[39m\u001b[39m{\u001b[39;00mmember_discount\u001b[39m}\u001b[39;00m\u001b[39m\"\u001b[39m) \u001b[39m# UnboundLocalError: local variable 'member_discount' referenced before assignment\u001b[39;00m\n\u001b[0;32m     10\u001b[0m \u001b[39mprint\u001b[39m(\u001b[39m\"\u001b[39m\u001b[39mupdate value\u001b[39m\u001b[39m\"\u001b[39m)\n\u001b[0;32m     11\u001b[0m VAT \u001b[39m=\u001b[39m \u001b[39m.1\u001b[39m \u001b[39m# <3>\u001b[39;00m\n",
      "\u001b[1;31mUnboundLocalError\u001b[0m: cannot access local variable 'member_discount' where it is not associated with a value"
     ]
    }
   ],
   "source": [
    "VAT = .07 # <1>\n",
    "member_discount = .15 # <2>\n",
    "coffee_price = 50 # <3>\n",
    "\n",
    "def access_global_var():\n",
    "    global VAT # เพิ่ม global keyword เพื่อขอใช้และแก้ไขค่าใน VAT ภายในฟังก์ชัน\n",
    "    print(f\"inside access_global_var():  VAT = {VAT}\") \n",
    "    print(f\"inside access_global_var():  member_discount = {member_discount}\") # UnboundLocalError: local variable 'member_discount' referenced before assignment\n",
    "\n",
    "    print(\"update value\")\n",
    "    VAT = .1 # <3>\n",
    "    member_discount = .20 # <2>\n",
    "\n",
    "print(f\"outside access_global_var(): VAT = {VAT}\") \n",
    "print(f\"outside access_global_var(): member_discount = {member_discount}\") \n",
    "access_global_var()\n",
    "print(f\"coffee_price (before discount) = {coffee_price}\")\n",
    "print(f\"coffee_price (after membership discount) = {coffee_price * (1 - member_discount)}\")\n"
   ]
  },
  {
   "cell_type": "markdown",
   "metadata": {},
   "source": [
    "## การใช้คำสงวน global\n"
   ]
  },
  {
   "cell_type": "code",
   "execution_count": 15,
   "metadata": {},
   "outputs": [
    {
     "name": "stdout",
     "output_type": "stream",
     "text": [
      "inside access_global_var(): VAT = 0.07\n",
      "inside access_global_var(): member_discount = 0.15\n",
      "update value\n",
      "outside access_global_var() after updating value: VAT = 0.1\n",
      "outside access_global_var() after updating value: member_discount = 0.2\n",
      "coffee_price (before discount) = 50\n",
      "coffee_price (after membership discount) = 40.0\n"
     ]
    }
   ],
   "source": [
    "VAT = .07\n",
    "member_discount = .15\n",
    "\n",
    "def access_global_var():\n",
    "    global VAT \n",
    "    global member_discount # เพิ่ม global keyword เพื่อขอใช้และแก้ไขค่าใน member_discount ภายในฟังก์ชัน\n",
    "    print(f\"inside access_global_var(): VAT = {VAT}\") \n",
    "    print(f\"inside access_global_var(): member_discount = {member_discount}\")\n",
    "\n",
    "    print(\"update value\")\n",
    "    VAT = .1\n",
    "    member_discount = .20\n",
    "\n",
    "access_global_var()\n",
    "print(f\"outside access_global_var() after updating value: VAT = {VAT}\") \n",
    "print(f\"outside access_global_var() after updating value: member_discount = {member_discount}\") \n",
    "print(f\"coffee_price (before discount) = {coffee_price}\")\n",
    "print(f\"coffee_price (after membership discount) = {coffee_price * (1 - member_discount)}\")\n"
   ]
  },
  {
   "cell_type": "markdown",
   "metadata": {},
   "source": [
    "## การประยุกต์ใช้ตัวแปร global scope\n"
   ]
  },
  {
   "cell_type": "code",
   "execution_count": 16,
   "metadata": {},
   "outputs": [
    {
     "name": "stdout",
     "output_type": "stream",
     "text": [
      "inside show_counter(): counter = 0\n",
      "inside show_counter(): male_counter = 0\n",
      "inside show_counter(): female_counter = 0\n",
      "outside functions: counter = 0\n",
      "outside functions: male_counter = 0\n",
      "outside functions: female_counter = 0\n",
      "inside add_counter(): counter = 1\n",
      "inside add_counter(): male_counter = 1\n",
      "inside add_counter(): female_counter = 0\n",
      "--------------------------------------------------\n",
      "outside functions: counter = 1\n",
      "inside add_counter(): counter = 2\n",
      "inside add_counter(): male_counter = 1\n",
      "inside add_counter(): female_counter = 1\n",
      "--------------------------------------------------\n",
      "outside functions: counter = 2\n",
      "inside add_counter(): counter = 3\n",
      "inside add_counter(): male_counter = 2\n",
      "inside add_counter(): female_counter = 1\n",
      "--------------------------------------------------\n",
      "outside functions: counter = 3\n",
      "outside functions: male_counter = 2\n",
      "outside functions: female_counter = 1\n"
     ]
    }
   ],
   "source": [
    "counter = 0 # counter ถูกสร้างอยู่ภายนอกฟังก์ชันจึงถูกเข้าถึงได้จากทุกที่ในโปรแกรม\n",
    "male_counter = 0\n",
    "female_counter = 0\n",
    "\n",
    "def show_counter():\n",
    "    print(f\"inside show_counter(): counter = {counter}\")\n",
    "    print(f\"inside show_counter(): male_counter = {male_counter}\")\n",
    "    print(f\"inside show_counter(): female_counter = {female_counter}\")\n",
    "\n",
    "def add_counter(gender):\n",
    "    global counter\n",
    "    global male_counter, female_counter\n",
    "    counter = counter + 1 # เข้าถึงตัวแปร counter ใน global scope\n",
    "    if gender.lower() == 'm':\n",
    "        male_counter = male_counter + 1 # เข้าถึงตัวแปร male_counter ใน global scope\n",
    "    else:\n",
    "        female_counter = female_counter + 1 # เข้าถึงตัวแปร female_counter ใน global scope\n",
    "\n",
    "    print(f\"inside add_counter(): counter = {counter}\")\n",
    "    print(f\"inside add_counter(): male_counter = {male_counter}\")\n",
    "    print(f\"inside add_counter(): female_counter = {female_counter}\")\n",
    "    print('-' * 50)\n",
    "\n",
    "show_counter()\n",
    "print(f\"outside functions: counter = {counter}\") # ผลลัพธ์: 0\n",
    "print(f\"outside functions: male_counter = {male_counter}\") # ผลลัพธ์: 0\n",
    "print(f\"outside functions: female_counter = {female_counter}\") # ผลลัพธ์: 0\n",
    "add_counter(\"m\")  \n",
    "print(f\"outside functions: counter = {counter}\") # ผลลัพธ์: 1\n",
    "add_counter(\"f\")  \n",
    "print(f\"outside functions: counter = {counter}\") # ผลลัพธ์: 2\n",
    "add_counter(\"m\")  \n",
    "print(f\"outside functions: counter = {counter}\") # ผลลัพธ์: 2\n",
    "print(f\"outside functions: male_counter = {male_counter}\") # ผลลัพธ์: 0\n",
    "print(f\"outside functions: female_counter = {female_counter}\") # ผลลัพธ์: 0"
   ]
  },
  {
   "cell_type": "markdown",
   "metadata": {},
   "source": [
    "## เข้าใจตัวแปรแบบ local\n"
   ]
  },
  {
   "cell_type": "code",
   "execution_count": 17,
   "metadata": {},
   "outputs": [
    {
     "name": "stdout",
     "output_type": "stream",
     "text": [
      "price in drink() = 20\n",
      "price in burger() = 69\n"
     ]
    }
   ],
   "source": [
    "def drink():\n",
    "    price = 20 \n",
    "    print(f\"price in drink() = {price}\") \n",
    "\n",
    "def burger():\n",
    "    price = 69\n",
    "    print(f\"price in burger() = {price}\")\n",
    "\n",
    "drink()\n",
    "burger()"
   ]
  },
  {
   "cell_type": "markdown",
   "metadata": {},
   "source": [
    "## ขอบเขตและอายุการใช้งานของตัวแปรแบบ local\n"
   ]
  },
  {
   "cell_type": "code",
   "execution_count": 18,
   "metadata": {},
   "outputs": [
    {
     "name": "stdout",
     "output_type": "stream",
     "text": [
      "20\n",
      "Hello\n"
     ]
    }
   ],
   "source": [
    "def my_function():\n",
    "    y = 20  # ตัวแปร y อยู่ใน local scope ของ my_function\n",
    "    print(y)\n",
    "\n",
    "my_function()  # ผลลัพธ์: 20\n",
    "\n",
    "print(y)  # NameError: name 'y' is not defined"
   ]
  },
  {
   "cell_type": "markdown",
   "metadata": {},
   "source": [
    "# แบบฝึกหัด\n"
   ]
  },
  {
   "cell_type": "markdown",
   "metadata": {},
   "source": [
    "1. เขียนโปรแกรมเพื่อคำนวณพื้นที่ของสี่เหลี่ยมผืนผ้า โดยรับความยาวและความกว้างจากผู้ใช้ และนำผลลัพธ์ที่ได้แสดงออกทางหน้าจอ"
   ]
  },
  {
   "cell_type": "code",
   "execution_count": 19,
   "metadata": {},
   "outputs": [
    {
     "name": "stdout",
     "output_type": "stream",
     "text": [
      "ความยาว: 5.0\n",
      "ความกว้าง: 10.0\n",
      "พื้นที่ของสี่เหลี่ยมผืนผ้าคือ: 50.0\n"
     ]
    }
   ],
   "source": [
    "length = float(input(\"กรุณาใส่ความยาว: \"))\n",
    "width = float(input(\"กรุณาใส่ความกว้าง: \"))\n",
    "area = length * width\n",
    "\n",
    "print(\"ความยาว:\", length)\n",
    "print(\"ความกว้าง:\", width)\n",
    "print(\"พื้นที่ของสี่เหลี่ยมผืนผ้าคือ:\", area)\n"
   ]
  },
  {
   "cell_type": "markdown",
   "metadata": {},
   "source": [
    "2. เขียนโปรแกรมเพื่อแปลงอุณหภูมิจากเซลเซียสเป็นฟาเรนไฮต์ โดยรับอุณหภูมิเซลเซียสจากผู้ใช้ และแสดงผลลัพธ์ออกทางหน้าจอ"
   ]
  },
  {
   "cell_type": "code",
   "execution_count": 20,
   "metadata": {},
   "outputs": [
    {
     "name": "stdout",
     "output_type": "stream",
     "text": [
      "อุณหภูมิในหน่วยเซลเซียสคือ: 36.0\n",
      "อุณหภูมิในหน่วยฟาเรนไฮต์คือ: 96.8\n"
     ]
    }
   ],
   "source": [
    "celsius = float(input(\"กรุณาใส่อุณหภูมิในหน่วยเซลเซียส: \"))\n",
    "fahrenheit = (celsius * 9/5) + 32\n",
    "print(\"อุณหภูมิในหน่วยเซลเซียสคือ:\", celsius)\n",
    "print(\"อุณหภูมิในหน่วยฟาเรนไฮต์คือ:\", fahrenheit)"
   ]
  },
  {
   "cell_type": "markdown",
   "metadata": {},
   "source": [
    "3. สร้างตัวแปรประเภท `tuple` สำหรับเก็บเมนูเครื่องดื่มชาอันประกอบไปด้วย `'ชาเชียว'`, `'ชามะลิ'` และ `'ชาอู่หลง'`\n"
   ]
  },
  {
   "cell_type": "code",
   "execution_count": 21,
   "metadata": {},
   "outputs": [
    {
     "name": "stdout",
     "output_type": "stream",
     "text": [
      "('ชาเชียว', 'ชามะลิ', 'ชาอู่หลง')\n"
     ]
    }
   ],
   "source": [
    "tea_menus = ('ชาเชียว', 'ชามะลิ', 'ชาอู่หลง')\n",
    "print(tea_menus)"
   ]
  }
 ],
 "metadata": {
  "kernelspec": {
   "display_name": "base",
   "language": "python",
   "name": "python3"
  },
  "language_info": {
   "codemirror_mode": {
    "name": "ipython",
    "version": 3
   },
   "file_extension": ".py",
   "mimetype": "text/x-python",
   "name": "python",
   "nbconvert_exporter": "python",
   "pygments_lexer": "ipython3",
   "version": "3.11.4"
  },
  "orig_nbformat": 4
 },
 "nbformat": 4,
 "nbformat_minor": 2
}
