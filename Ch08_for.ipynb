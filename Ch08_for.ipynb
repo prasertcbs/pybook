{
 "cells": [
  {
   "cell_type": "markdown",
   "metadata": {},
   "source": [
    "# บทที่ 8. การวนซ้ำแบบลูป `for`\n",
    "- ตำรา: Python: ใคร ๆ ก็เขียนโปรแกรมได้\n",
    "- ผู้แต่ง: รศ.ดร. ประเสริฐ คณาวัฒนไชย"
   ]
  },
  {
   "cell_type": "markdown",
   "metadata": {},
   "source": [
    "## การคำนวณเปอร์เซ็นต์การเปลี่ยนแปลงในยอดขายของแต่ละวันเทียบกับวันก่อนหน้า\n"
   ]
  },
  {
   "cell_type": "code",
   "execution_count": 38,
   "metadata": {},
   "outputs": [
    {
     "name": "stdout",
     "output_type": "stream",
     "text": [
      "    t |   t-1 | % change |\n",
      "-----:|------:|---------:|\n",
      "   80 |   100 |  -20.00% |\n",
      "   72 |    80 |  -10.00% |\n",
      "   90 |    72 |   25.00% |\n",
      "   95 |    90 |    5.56% |\n",
      "  130 |    95 |   36.84% |\n",
      "  100 |   130 |  -23.08% |\n"
     ]
    }
   ],
   "source": [
    "sales = [100, 80, 72, 90, 95, 130, 100] # ยอดขายเครื่องดื่ม (จำนวนแก้ว) ในรอบ 7 วันที่ผ่านมา\n",
    "print(\"    t |   t-1 | % change |\")\n",
    "print(\"-----:|------:|---------:|\")\n",
    "for i in range(1, len(sales)):\n",
    "    print(f\"{sales[i]:5.0f} | {sales[i - 1]:5.0f} | {(sales[i] - sales[i - 1]) / sales[i - 1]:>8.2%} |\")"
   ]
  },
  {
   "cell_type": "markdown",
   "metadata": {},
   "source": [
    "## การใช้ลูป `for` ในการเข้าถึงข้อมูลใน `list`\n"
   ]
  },
  {
   "cell_type": "code",
   "execution_count": 39,
   "metadata": {},
   "outputs": [
    {
     "name": "stdout",
     "output_type": "stream",
     "text": [
      "มะพร้าว\n",
      "ส้มโอ\n",
      "แตงโม\n",
      "ทุเรียน\n",
      "len(fruits) = 4\n"
     ]
    }
   ],
   "source": [
    "fruits = ['มะพร้าว', 'ส้มโอ', 'แตงโม', 'ทุเรียน']\n",
    "for fruit in fruits:\n",
    "    print(fruit)\n",
    "print(f\"len(fruits) = {len(fruits)}\")"
   ]
  },
  {
   "cell_type": "markdown",
   "metadata": {},
   "source": [
    "## การใช้ลูป `for` ในการหาผลรวมของทุกสมาชิกใน `list`"
   ]
  },
  {
   "cell_type": "code",
   "execution_count": 40,
   "metadata": {},
   "outputs": [
    {
     "name": "stdout",
     "output_type": "stream",
     "text": [
      "25\n"
     ]
    }
   ],
   "source": [
    "sales = [10, 5, 8, 2]\n",
    "total = 0\n",
    "for num in sales:\n",
    "    total += num\n",
    "print(total)"
   ]
  },
  {
   "cell_type": "markdown",
   "metadata": {},
   "source": [
    "## การเข้าถึงทีละตัวอักษรของสตริง\n"
   ]
  },
  {
   "cell_type": "code",
   "execution_count": 41,
   "metadata": {},
   "outputs": [
    {
     "name": "stdout",
     "output_type": "stream",
     "text": [
      "R A I N B O W "
     ]
    }
   ],
   "source": [
    "s = \"rainbow\"\n",
    "for c in s: # เข้าถึงทีละตัวอักษรที่อยู่ในสตริง\n",
    "    print(c.upper(), end = ' ')"
   ]
  },
  {
   "cell_type": "markdown",
   "metadata": {},
   "source": [
    "## การเขียนโปรแกรมเข้ารหัสข้อความเบื้องต้น\n"
   ]
  },
  {
   "cell_type": "code",
   "execution_count": 42,
   "metadata": {},
   "outputs": [
    {
     "name": "stdout",
     "output_type": "stream",
     "text": [
      "plain_text   = 'rainbow'\n",
      "encoded_text = 'sbjocpx'\n"
     ]
    }
   ],
   "source": [
    "plain_text = \"rainbow\"\n",
    "encoded_text = \"\" # สำหรับเก็บสตริงที่ถูกเข้ารหัสแล้ว\n",
    "for c in plain_text: # เข้าถึงทีละตัวอักษรที่อยู่ในสตริง\n",
    "    encoded_text += chr(ord(c) + 1)\n",
    "print(f\"plain_text   = {plain_text!a}\") # !a จะแสดงผลสตริงโดยมี single quote ปิดหัวท้าย\n",
    "print(f\"encoded_text = {encoded_text!a}\")"
   ]
  },
  {
   "cell_type": "markdown",
   "metadata": {},
   "source": [
    "## การเขียนโปรแกรมถอดรหัสข้อความเบื้องต้น\n"
   ]
  },
  {
   "cell_type": "code",
   "execution_count": 43,
   "metadata": {},
   "outputs": [
    {
     "name": "stdout",
     "output_type": "stream",
     "text": [
      "encoded_text = 'sbjocpx'\n",
      "plain_text   = 'rainbow'\n"
     ]
    }
   ],
   "source": [
    "encoded_text = \"sbjocpx\"\n",
    "plain_text = \"\"\n",
    "for c in encoded_text:\n",
    "    plain_text += chr(ord(c) - 1)\n",
    "print(f\"encoded_text = {encoded_text!a}\")\n",
    "print(f\"plain_text   = {plain_text!a}\") # !a จะแสดงผลสตริงโดยมี single quote ปิดหัวท้าย"
   ]
  },
  {
   "cell_type": "markdown",
   "metadata": {},
   "source": [
    "## การใช้ลูป `for` ในการเข้าถึงข้อมูลใน `tuple`\n"
   ]
  },
  {
   "cell_type": "code",
   "execution_count": 44,
   "metadata": {},
   "outputs": [
    {
     "name": "stdout",
     "output_type": "stream",
     "text": [
      "WORD\n",
      "EXCEL\n",
      "POWERPOINT\n",
      "OUTLOOK\n"
     ]
    }
   ],
   "source": [
    "skills = ('Word', 'Excel', 'PowerPoint', 'Outlook')\n",
    "for skill in skills:\n",
    "    print(skill.upper())"
   ]
  },
  {
   "cell_type": "markdown",
   "metadata": {},
   "source": [
    "## การใช้ลูป `for` ในการเข้าถึงข้อมูลใน `dict`\n"
   ]
  },
  {
   "cell_type": "code",
   "execution_count": 45,
   "metadata": {},
   "outputs": [
    {
     "name": "stdout",
     "output_type": "stream",
     "text": [
      "k = 'th', v = 'Thailand'\n",
      "k = 'jp', v = 'Japan'\n",
      "k = 'cn', v = 'China'\n"
     ]
    }
   ],
   "source": [
    "countries = {'th': 'Thailand', 'jp': 'Japan', 'cn': 'China'}\n",
    "for k, v in countries.items():\n",
    "    print(f\"k = {k!a}, v = {v!a}\")"
   ]
  },
  {
   "cell_type": "markdown",
   "metadata": {},
   "source": [
    "## การใช้ลูป `for` ในการเข้าถึงข้อมูลใน `set`\n"
   ]
  },
  {
   "cell_type": "code",
   "execution_count": 46,
   "metadata": {},
   "outputs": [
    {
     "name": "stdout",
     "output_type": "stream",
     "text": [
      "espresso\n",
      "latte\n",
      "mocha\n"
     ]
    }
   ],
   "source": [
    "orders = {'mocha', 'latte', 'espresso', 'latte', 'mocha', 'latte'}\n",
    "for order in orders:\n",
    "    print(order)"
   ]
  },
  {
   "cell_type": "markdown",
   "metadata": {},
   "source": [
    "## การทำ `nested loop`\n"
   ]
  },
  {
   "cell_type": "code",
   "execution_count": 47,
   "metadata": {},
   "outputs": [
    {
     "name": "stdout",
     "output_type": "stream",
     "text": [
      "A1 B1 C1 \n",
      "A2 B2 C2 \n",
      "A3 B3 C3 \n",
      "A4 B4 C4 \n",
      "A5 B5 C5 \n"
     ]
    }
   ],
   "source": [
    "for row in range(1, 6):\n",
    "    for col in 'ABC':\n",
    "        print(f\"{col}{row}\", end = ' ')\n",
    "    print()"
   ]
  },
  {
   "cell_type": "markdown",
   "metadata": {},
   "source": [
    "## การสร้างตารางสูตรคูณด้วย nested loop\n"
   ]
  },
  {
   "cell_type": "code",
   "execution_count": 48,
   "metadata": {},
   "outputs": [
    {
     "name": "stdout",
     "output_type": "stream",
     "text": [
      " 2 x  1 =   2 |  3 x  1 =   3 |  4 x  1 =   4 |  5 x  1 =   5 | \n",
      " 2 x  2 =   4 |  3 x  2 =   6 |  4 x  2 =   8 |  5 x  2 =  10 | \n",
      " 2 x  3 =   6 |  3 x  3 =   9 |  4 x  3 =  12 |  5 x  3 =  15 | \n",
      " 2 x  4 =   8 |  3 x  4 =  12 |  4 x  4 =  16 |  5 x  4 =  20 | \n",
      " 2 x  5 =  10 |  3 x  5 =  15 |  4 x  5 =  20 |  5 x  5 =  25 | \n",
      " 2 x  6 =  12 |  3 x  6 =  18 |  4 x  6 =  24 |  5 x  6 =  30 | \n",
      " 2 x  7 =  14 |  3 x  7 =  21 |  4 x  7 =  28 |  5 x  7 =  35 | \n",
      " 2 x  8 =  16 |  3 x  8 =  24 |  4 x  8 =  32 |  5 x  8 =  40 | \n",
      " 2 x  9 =  18 |  3 x  9 =  27 |  4 x  9 =  36 |  5 x  9 =  45 | \n",
      " 2 x 10 =  20 |  3 x 10 =  30 |  4 x 10 =  40 |  5 x 10 =  50 | \n",
      " 2 x 11 =  22 |  3 x 11 =  33 |  4 x 11 =  44 |  5 x 11 =  55 | \n",
      " 2 x 12 =  24 |  3 x 12 =  36 |  4 x 12 =  48 |  5 x 12 =  60 | \n"
     ]
    }
   ],
   "source": [
    "for row in range(1, 13):\n",
    "    for col in range(2, 6):\n",
    "        print(f\"{col:2} x {row:2} = {col * row:3} | \", end = '')\n",
    "    print()"
   ]
  },
  {
   "cell_type": "markdown",
   "metadata": {},
   "source": [
    "## การทำ `nested loop` ด้วย `list`\n"
   ]
  },
  {
   "cell_type": "code",
   "execution_count": 49,
   "metadata": {},
   "outputs": [
    {
     "name": "stdout",
     "output_type": "stream",
     "text": [
      "Margherita pizza (S)\n",
      "Margherita pizza (M)\n",
      "Margherita pizza (L)\n",
      "Pepperoni pizza (S)\n",
      "Pepperoni pizza (M)\n",
      "Pepperoni pizza (L)\n",
      "Hawaiian pizza (S)\n",
      "Hawaiian pizza (M)\n",
      "Hawaiian pizza (L)\n",
      "Cheese pizza (S)\n",
      "Cheese pizza (M)\n",
      "Cheese pizza (L)\n"
     ]
    }
   ],
   "source": [
    "for flavor in ['Margherita', 'Pepperoni', 'Hawaiian', 'Cheese']:\n",
    "    for size in ['S', 'M', 'L']:\n",
    "        print(f\"{flavor} pizza ({size})\")"
   ]
  },
  {
   "cell_type": "markdown",
   "metadata": {},
   "source": [
    "## การทำ `nested loop` เพื่อวันที่ที่ตรงกับหมายเลขเดือน\n"
   ]
  },
  {
   "cell_type": "code",
   "execution_count": 50,
   "metadata": {},
   "outputs": [
    {
     "name": "stdout",
     "output_type": "stream",
     "text": [
      "2023-01-01 Sun\n",
      "2023-02-02 Thu\n",
      "2023-03-03 Fri\n",
      "2023-04-04 Tue\n",
      "2023-05-05 Fri\n",
      "2023-06-06 Tue\n",
      "2023-07-07 Fri\n",
      "2023-08-08 Tue\n",
      "2023-09-09 Sat\n",
      "2023-10-10 Tue\n",
      "2023-11-11 Sat\n",
      "2023-12-12 Tue\n",
      "--------------------\n",
      "2024-01-01 Mon\n",
      "2024-02-02 Fri\n",
      "2024-03-03 Sun\n",
      "2024-04-04 Thu\n",
      "2024-05-05 Sun\n",
      "2024-06-06 Thu\n",
      "2024-07-07 Sun\n",
      "2024-08-08 Thu\n",
      "2024-09-09 Mon\n",
      "2024-10-10 Thu\n",
      "2024-11-11 Mon\n",
      "2024-12-12 Thu\n",
      "--------------------\n"
     ]
    }
   ],
   "source": [
    "from datetime import datetime\n",
    "\n",
    "for year in range(2023, 2025):\n",
    "    for month in range(1, 13):\n",
    "        print(datetime(year, month, month).strftime(\"%Y-%m-%d %a\"))\n",
    "    print('-' * 20)"
   ]
  },
  {
   "cell_type": "markdown",
   "metadata": {},
   "source": [
    "## การใช้ `break` เพื่อออกจากลูป\n"
   ]
  },
  {
   "cell_type": "code",
   "execution_count": 51,
   "metadata": {},
   "outputs": [
    {
     "name": "stdout",
     "output_type": "stream",
     "text": [
      "shoes\n",
      "chocolate\n",
      "power bank is not allowed in loaded baggage!!\n",
      "--->>> outside for loop\n"
     ]
    }
   ],
   "source": [
    "load_items = [\"shoes\", \"chocolate\", \"power bank\", \"perfume 30 ml.\"]\n",
    "for item in load_items:\n",
    "    if item.lower() == \"power bank\":\n",
    "        print(\"power bank is not allowed in loaded baggage!!\")\n",
    "        break\n",
    "    print(item)\n",
    "\n",
    "print('--->>> outside for loop')"
   ]
  },
  {
   "cell_type": "markdown",
   "metadata": {},
   "source": [
    "## การใช้ `continue` เพื่อเริ่มรอบถัดไปทันที\n"
   ]
  },
  {
   "cell_type": "code",
   "execution_count": 52,
   "metadata": {},
   "outputs": [
    {
     "name": "stdout",
     "output_type": "stream",
     "text": [
      "ช้าวผัด ปลาทอด ไข่เจียว ไก่ย่าง "
     ]
    }
   ],
   "source": [
    "menus = [\"ช้าวผัด\", \"ปลาทอด\", \"ต้มยำกุ้ง\", \"ไข่เจียว\", \"กุ้งทอดกระเทียม\", \"ไก่ย่าง\"]\n",
    "\n",
    "for menu in menus:\n",
    "    if \"กุ้ง\" in menu: # ข้ามเมนูที่มีคำว่า \"กุ้ง\"\n",
    "        continue\n",
    "    print(menu, end = ' ')"
   ]
  },
  {
   "cell_type": "markdown",
   "metadata": {},
   "source": [
    "## การใช้ `continue` ในการข้ามชั้นที่ 13 ของอาคาร\n"
   ]
  },
  {
   "cell_type": "code",
   "execution_count": 53,
   "metadata": {},
   "outputs": [
    {
     "name": "stdout",
     "output_type": "stream",
     "text": [
      "current floor = 1\n",
      "current floor = 2\n",
      "current floor = 3\n",
      "current floor = 4\n",
      "current floor = 5\n",
      "current floor = 6\n",
      "current floor = 7\n",
      "current floor = 8\n",
      "current floor = 9\n",
      "current floor = 10\n",
      "current floor = 11\n",
      "current floor = 12\n",
      "current floor = 14\n",
      "current floor = 15\n",
      "current floor = 16\n",
      "current floor = 17\n"
     ]
    }
   ],
   "source": [
    "for floor in range(1, 18):\n",
    "    if floor == 13:\n",
    "        continue\n",
    "    print(f\"current floor = {floor}\")"
   ]
  },
  {
   "cell_type": "markdown",
   "metadata": {},
   "source": [
    "## การแสดงข้อมูลใน `list` ด้วยลูป `for` ร่วมกับ `range()`\n"
   ]
  },
  {
   "cell_type": "code",
   "execution_count": 54,
   "metadata": {},
   "outputs": [
    {
     "name": "stdout",
     "output_type": "stream",
     "text": [
      "กาแฟ ชา โกโก้ น้ำผลไม้ "
     ]
    }
   ],
   "source": [
    "menus = [\"กาแฟ\", \"ชา\", \"โกโก้\", \"น้ำผลไม้\"]\n",
    "for index in range(len(menus)):\n",
    "    print(menus[index], end = ' ')"
   ]
  },
  {
   "cell_type": "markdown",
   "metadata": {},
   "source": [
    "## การแสดงข้อมูลใน `list` ด้วยลูป `for` ด้วยการ iterate\n"
   ]
  },
  {
   "cell_type": "code",
   "execution_count": 55,
   "metadata": {},
   "outputs": [
    {
     "name": "stdout",
     "output_type": "stream",
     "text": [
      "กาแฟ ชา โกโก้ น้ำผลไม้ "
     ]
    }
   ],
   "source": [
    "menus = [\"กาแฟ\", \"ชา\", \"โกโก้\", \"น้ำผลไม้\"]\n",
    "for item in menus:\n",
    "    print(item, end = ' ')"
   ]
  },
  {
   "cell_type": "markdown",
   "metadata": {},
   "source": [
    "## การแสดงข้อมูลใน `list` ด้วยลูป `while`\n"
   ]
  },
  {
   "cell_type": "code",
   "execution_count": 56,
   "metadata": {},
   "outputs": [
    {
     "name": "stdout",
     "output_type": "stream",
     "text": [
      "กาแฟ ชา โกโก้ น้ำผลไม้ "
     ]
    }
   ],
   "source": [
    "menus = [\"กาแฟ\", \"ชา\", \"โกโก้\", \"น้ำผลไม้\"]\n",
    "index = 0\n",
    "while index < len(menus):\n",
    "    print(menus[index], end = ' ')\n",
    "    index += 1"
   ]
  },
  {
   "cell_type": "markdown",
   "metadata": {},
   "source": [
    "## การแสดงข้อมูลใน `list` พร้อมลำดับ\n"
   ]
  },
  {
   "cell_type": "code",
   "execution_count": 57,
   "metadata": {},
   "outputs": [
    {
     "name": "stdout",
     "output_type": "stream",
     "text": [
      "1. ข้าวผัด\n",
      "2. ก๋วยเตี๋ยว\n",
      "3. ผัดไทย\n",
      "4. ข้าวมันไก่\n"
     ]
    }
   ],
   "source": [
    "menus = ['ข้าวผัด', 'ก๋วยเตี๋ยว', 'ผัดไทย', 'ข้าวมันไก่']\n",
    "seq = 1\n",
    "for menu in menus:\n",
    "    print(f\"{seq}. {menu}\")\n",
    "    seq += 1"
   ]
  },
  {
   "cell_type": "markdown",
   "metadata": {},
   "source": [
    "## เข้าใจการทำงานของ `enumerate()`\n"
   ]
  },
  {
   "cell_type": "code",
   "execution_count": 58,
   "metadata": {},
   "outputs": [
    {
     "name": "stdout",
     "output_type": "stream",
     "text": [
      "<enumerate object at 0x0000014EAFF204F0>\n",
      "[(0, 'ข้าวผัด'), (1, 'ก๋วยเตี๋ยว'), (2, 'ผัดไทย'), (3, 'ข้าวมันไก่')]\n"
     ]
    }
   ],
   "source": [
    "menus = ['ข้าวผัด', 'ก๋วยเตี๋ยว', 'ผัดไทย', 'ข้าวมันไก่']\n",
    "print(enumerate(menus))\n",
    "print(list(enumerate(menus)))"
   ]
  },
  {
   "cell_type": "markdown",
   "metadata": {},
   "source": [
    "## การแสดงข้อมูลใน `list` พร้อมลำดับด้วย `enumerate()`\n"
   ]
  },
  {
   "cell_type": "code",
   "execution_count": 59,
   "metadata": {},
   "outputs": [
    {
     "name": "stdout",
     "output_type": "stream",
     "text": [
      "1. ข้าวผัด\n",
      "2. ก๋วยเตี๋ยว\n",
      "3. ผัดไทย\n",
      "4. ข้าวมันไก่\n"
     ]
    }
   ],
   "source": [
    "menus = ['ข้าวผัด', 'ก๋วยเตี๋ยว', 'ผัดไทย', 'ข้าวมันไก่']\n",
    "for seq, menu in enumerate(menus): # เหมือนกับเขียน enumerate(menus, start=0)\n",
    "    print(f\"{seq + 1}. {menu}\")"
   ]
  },
  {
   "cell_type": "markdown",
   "metadata": {},
   "source": [
    "## การใช้พารามิเตอร์ `start` ของ `enumerate()`\n"
   ]
  },
  {
   "cell_type": "code",
   "execution_count": 60,
   "metadata": {},
   "outputs": [
    {
     "name": "stdout",
     "output_type": "stream",
     "text": [
      "1. ข้าวผัด\n",
      "2. ก๋วยเตี๋ยว\n",
      "3. ผัดไทย\n",
      "4. ข้าวมันไก่\n"
     ]
    }
   ],
   "source": [
    "menus = [\"ข้าวผัด\", \"ก๋วยเตี๋ยว\", \"ผัดไทย\", \"ข้าวมันไก่\"]\n",
    "for seq, menu in enumerate(menus, start=1):\n",
    "    print(f\"{seq}. {menu}\")"
   ]
  },
  {
   "cell_type": "markdown",
   "metadata": {},
   "source": [
    "## การคำนวณตัวเลขตรวจสอบของรหัสแบบ EAN-13\n"
   ]
  },
  {
   "cell_type": "code",
   "execution_count": 61,
   "metadata": {},
   "outputs": [
    {
     "name": "stdout",
     "output_type": "stream",
     "text": [
      "Check Digit: 9\n"
     ]
    }
   ],
   "source": [
    "ean = \"4905524977639\"\n",
    "check_sum = 0\n",
    "for i, digit in enumerate(ean[:12]): # เอาแค่ 12 หลักแรกของรหัสมาใช้การหาตัวเลขตรวจสอบ\n",
    "    if i % 2 == 0:\n",
    "        check_sum += int(digit)\n",
    "    else:\n",
    "        check_sum += int(digit) * 3\n",
    "r = 10 - (check_sum % 10)\n",
    "check_digit = r if r < 10 else 0\n",
    "print(f\"Check Digit: {check_digit}\")"
   ]
  },
  {
   "cell_type": "markdown",
   "metadata": {},
   "source": [
    "## การ `zip()` ตัวแปรแบบ `list` 2 ตัวเข้าด้วยกัน\n"
   ]
  },
  {
   "cell_type": "code",
   "execution_count": 62,
   "metadata": {},
   "outputs": [
    {
     "name": "stdout",
     "output_type": "stream",
     "text": [
      "[('น้ำส้ม', 10), ('กาแฟ', 5), ('ชาเขียว', 8)]\n",
      "น้ำส้ม 10\n",
      "กาแฟ 5\n",
      "ชาเขียว 8\n"
     ]
    }
   ],
   "source": [
    "drinks = ['น้ำส้ม', 'กาแฟ', 'ชาเขียว']\n",
    "quantities = [10, 5, 8]\n",
    "\n",
    "print(list(zip(drinks, quantities)))\n",
    "\n",
    "for drink, quantify in zip(drinks, quantities):\n",
    "    print(drink, quantify)"
   ]
  },
  {
   "cell_type": "markdown",
   "metadata": {},
   "source": [
    "## การใช้ `itertools.cycle()`\n"
   ]
  },
  {
   "cell_type": "code",
   "execution_count": 63,
   "metadata": {},
   "outputs": [
    {
     "name": "stdout",
     "output_type": "stream",
     "text": [
      "no cycle  : [('สมชาย', 1), ('สมศรี', 2), ('วรรณี', 3)]\n",
      "with cycle: [('สมชาย', 1), ('สมศรี', 2), ('วรรณี', 3), ('ทิพย์', 1), ('ธนา', 2), ('อภิรดี', 3), ('สุชาติ', 1), ('เอกชัย', 2), ('รักษ์', 3), ('สุรชัย', 1), ('มานะ', 2)]\n"
     ]
    }
   ],
   "source": [
    "from itertools import cycle\n",
    "names = ['สมชาย', 'สมศรี', 'วรรณี', 'ทิพย์', 'ธนา', 'อภิรดี', 'สุชาติ', 'เอกชัย', 'รักษ์', 'สุรชัย', 'มานะ']\n",
    "teams = [1, 2, 3]\n",
    "# teams = [\"แดง\", \"เขียว\", \"น้ำเงิน\"]\n",
    "\n",
    "print(f'no cycle  : {list(zip(names, teams))}')\n",
    "print(f'with cycle: {list(zip(names, cycle(teams)))}')"
   ]
  },
  {
   "cell_type": "markdown",
   "metadata": {},
   "source": [
    "## การคำนวณตัวเลขตรวจสอบของรหัสแบบ EAN-13 ด้วย `zip()`\n"
   ]
  },
  {
   "cell_type": "code",
   "execution_count": 64,
   "metadata": {},
   "outputs": [
    {
     "name": "stdout",
     "output_type": "stream",
     "text": [
      "Check Digit: 9\n"
     ]
    }
   ],
   "source": [
    "ean = \"4905524977639\"\n",
    "check_sum = 0\n",
    "for digit, m in zip(ean[:12], [1, 3] * 6): # เอาแค่ 12 หลักแรกของรหัสมาใช้การหาตัวเลขตรวจสอบ\n",
    "    check_sum += int(digit) * m\n",
    "r = 10 - (check_sum % 10)\n",
    "check_digit = r if r < 10 else 0\n",
    "print(f\"Check Digit: {check_digit}\")"
   ]
  },
  {
   "cell_type": "markdown",
   "metadata": {},
   "source": [
    "## การคำนวณตัวเลขตรวจสอบของรหัสแบบ EAN-13 ด้วย `zip()` และ `itertools.cycle()`\n"
   ]
  },
  {
   "cell_type": "code",
   "execution_count": 65,
   "metadata": {},
   "outputs": [
    {
     "name": "stdout",
     "output_type": "stream",
     "text": [
      "Check Digit: 9\n"
     ]
    }
   ],
   "source": [
    "from itertools import cycle\n",
    "\n",
    "ean = \"4905524977639\"\n",
    "check_sum = 0\n",
    "for digit, m in zip(ean[:12], cycle([1, 3])): # เอาแค่ 12 หลักแรกของรหัสมาใช้การหาตัวเลขตรวจสอบ\n",
    "    check_sum += int(digit) * m\n",
    "r = 10 - (check_sum % 10)\n",
    "check_digit = r if r < 10 else 0\n",
    "print(f\"Check Digit: {check_digit}\")"
   ]
  },
  {
   "cell_type": "markdown",
   "metadata": {},
   "source": [
    "## การใช้ `enumerate()` ร่วมกับ `zip()`\n"
   ]
  },
  {
   "cell_type": "code",
   "execution_count": 66,
   "metadata": {},
   "outputs": [
    {
     "name": "stdout",
     "output_type": "stream",
     "text": [
      "[('น้ำส้ม', 25, 10), ('กาแฟ', 30, 5), ('ชาเขียว', 20, 8)]\n",
      "1. น้ำส้ม: 10 แก้ว @25 ราคาทั้งหมด 250 บาท\n",
      "2. กาแฟ: 5 แก้ว @30 ราคาทั้งหมด 150 บาท\n",
      "3. ชาเขียว: 8 แก้ว @20 ราคาทั้งหมด 160 บาท\n"
     ]
    }
   ],
   "source": [
    "drinks = ['น้ำส้ม', 'กาแฟ', 'ชาเขียว']\n",
    "prices = [25, 30, 20]\n",
    "quantities = [10, 5, 8]\n",
    "\n",
    "print(list(zip(drinks, prices, quantities)))\n",
    "\n",
    "for seq, item in enumerate(zip(drinks, prices, quantities), start = 1):\n",
    "    drink, price, quantity = item\n",
    "    total_amount = price * quantity\n",
    "    print(f\"{seq}. {drink}: {quantity} แก้ว @{price} ราคาทั้งหมด {total_amount} บาท\")"
   ]
  },
  {
   "cell_type": "markdown",
   "metadata": {},
   "source": [
    "# แบบฝึกหัด\n"
   ]
  },
  {
   "cell_type": "markdown",
   "metadata": {},
   "source": [
    "1. เขียนโปรแกรมแสดงว่าจากปี 2026 ถึง 2050 มีปีใดบ้างที่จะมีการแข่งขัน FIFA World Cup\n"
   ]
  },
  {
   "cell_type": "code",
   "execution_count": 67,
   "metadata": {},
   "outputs": [
    {
     "name": "stdout",
     "output_type": "stream",
     "text": [
      "2026 2030 2034 2038 2042 2046 2050 "
     ]
    }
   ],
   "source": [
    "for i in range(2026, 2051, 4):\n",
    "    print(i, end = ' ')\n"
   ]
  },
  {
   "cell_type": "markdown",
   "metadata": {},
   "source": [
    "2. เขียนลูป `for` เพื่อทำการหาว่าตัวเลข 1000-1100 มีเลขใดบ้างที่ผลรวมแต่ละหลักรวมกันได้ 9 พร้อมแสดงว่ามีตัวเลขที่เข้าเงื่อนไขทั้งสิ้นกี่ตัว\n"
   ]
  },
  {
   "cell_type": "code",
   "execution_count": 68,
   "metadata": {},
   "outputs": [
    {
     "name": "stdout",
     "output_type": "stream",
     "text": [
      "1008 1017 1026 1035 1044 1053 1062 1071 1080 \n",
      "count = 9\n"
     ]
    }
   ],
   "source": [
    "count = 0\n",
    "for i in range(1000, 1101):\n",
    "    total = 0\n",
    "    for c in str(i):\n",
    "        total = total + int(c)\n",
    "    if total == 9:\n",
    "        print(i, end = ' ')\n",
    "        count += 1\n",
    "print(f\"\\ncount = {count}\")        \n"
   ]
  },
  {
   "cell_type": "markdown",
   "metadata": {},
   "source": [
    "3. เขียนโปรแกรมเพื่อคำนวณมูลค่าเงินในอนาคต (Future Value: FV) โดยรับค่าเงินต้น (principal) และอัตราดอกเบี้ยต่อปี (interest rate) จากนั้นให้ใช้ชุดคำสั่งลูป `for` เพื่อคำนวณและพิมพ์ค่า FV ตลอดระยะเวลา 5 ปี\n"
   ]
  },
  {
   "cell_type": "code",
   "execution_count": 69,
   "metadata": {},
   "outputs": [
    {
     "name": "stdout",
     "output_type": "stream",
     "text": [
      "สิ้นปีที่ 1: FV = 1,050.00\n",
      "สิ้นปีที่ 2: FV = 1,102.50\n",
      "สิ้นปีที่ 3: FV = 1,157.63\n",
      "สิ้นปีที่ 4: FV = 1,215.51\n",
      "สิ้นปีที่ 5: FV = 1,276.28\n"
     ]
    }
   ],
   "source": [
    "principal = 1000 # ฝากเงิน ณ ต้นปี\n",
    "interest_rate = 0.05 # อัตราดอกเบี้ยต่อปี\n",
    "for year in range(1, 6):\n",
    "    fv = principal * (1 + interest_rate) ** year\n",
    "    print(f\"สิ้นปีที่ {year}: FV = {fv:,.2f}\")\n"
   ]
  },
  {
   "cell_type": "markdown",
   "metadata": {},
   "source": [
    "4. เขียนโปรแกรมเพื่อพิมพ์รายชื่อเมืองในรายการท่องเที่ยว พร้อมอัตราค่าห้องพัก\n",
    "\n",
    "| จังหวัด     | ค่าห้องพัก |\n",
    "|-----------|-----------:|\n",
    "| กรุงเทพ    |      2,500 |\n",
    "| เชียงใหม่   |      1,800 |\n",
    "| ภูเก็ต     |      3,000 |\n",
    "| กาญจนบุรี  |      1,200 |\n",
    "| หัวหิน     |      2,200 |\n"
   ]
  },
  {
   "cell_type": "code",
   "execution_count": 70,
   "metadata": {},
   "outputs": [
    {
     "name": "stdout",
     "output_type": "stream",
     "text": [
      "กรุงเทพ ค่าห้องพัก 2,500 บาทต่อคืน\n",
      "เชียงใหม่ ค่าห้องพัก 1,800 บาทต่อคืน\n",
      "ภูเก็ต ค่าห้องพัก 3,000 บาทต่อคืน\n",
      "กาญจนบุรี ค่าห้องพัก 1,200 บาทต่อคืน\n",
      "หัวหิน ค่าห้องพัก 2,200 บาทต่อคืน\n"
     ]
    }
   ],
   "source": [
    "destinations = [\"กรุงเทพ\", \"เชียงใหม่\", \"ภูเก็ต\", \"กาญจนบุรี\", \"หัวหิน\"]\n",
    "room_rates = [2500, 1800, 3000, 1200, 2200]\n",
    "for destination, room_rate in zip(destinations, room_rates):\n",
    "    print(f\"{destination} ค่าห้องพัก {room_rate:,.0f} บาทต่อคืน\")\n"
   ]
  },
  {
   "cell_type": "markdown",
   "metadata": {},
   "source": [
    "5. จากข้อมูลยอดขายรายวันที่ให้มา\n",
    "\n",
    "```py\n",
    "sales = [120, 80, 150, 100, 80, 60, 110]  # ยอดขายรายวันของเครื่องดื่ม\n",
    "```\n",
    "ให้เขียนโปรแกรมคำนวณยอดขายรวมและยอดขายเฉลี่ยของเครื่องดื่ม\n"
   ]
  },
  {
   "cell_type": "code",
   "execution_count": 71,
   "metadata": {},
   "outputs": [
    {
     "name": "stdout",
     "output_type": "stream",
     "text": [
      "ยอดขายรวม: 700 บาท\n",
      "ยอดขายเฉลี่ย: 100.0 บาทต่อวัน\n"
     ]
    }
   ],
   "source": [
    "sales = [120, 80, 150, 100, 80, 60, 110]  # ยอดขายรายวันของเครื่องดื่ม\n",
    "total_sales = 0\n",
    "for amount in sales:\n",
    "    total_sales += amount\n",
    "print(f\"ยอดขายรวม: {total_sales} บาท\")\n",
    "print(f\"ยอดขายเฉลี่ย: {total_sales / len(sales)} บาทต่อวัน\")\n"
   ]
  },
  {
   "cell_type": "markdown",
   "metadata": {},
   "source": [
    "6. จากข้อมูลรายการสินค้าคงเหลือที่ให้มา\n",
    "\n",
    "```py\n",
    "inventory = {\"กาแฟ\": 10, \"ชา\": 5, \"โกโก้\": 0, \"น้ำผลไม้\": 8, \"น้ำเปล่า\": 0}\n",
    "```\n",
    "ให้เขียนโปรแกรมทำการแสดงสินค้าที่มียอดคงเหลือเป็น 0\n"
   ]
  },
  {
   "cell_type": "code",
   "execution_count": 72,
   "metadata": {},
   "outputs": [
    {
     "name": "stdout",
     "output_type": "stream",
     "text": [
      "สินค้าที่คงเหลือเป็น 0\n",
      "- โกโก้\n",
      "- น้ำเปล่า\n"
     ]
    }
   ],
   "source": [
    "inventory = {\"กาแฟ\": 10, \"ชา\": 5, \"โกโก้\": 0, \"น้ำผลไม้\": 8, \"น้ำเปล่า\": 0}\n",
    "print(\"สินค้าที่คงเหลือเป็น 0\")\n",
    "for item, quantity in inventory.items():\n",
    "    if quantity == 0:\n",
    "        print(f'- {item}')\n"
   ]
  },
  {
   "cell_type": "markdown",
   "metadata": {},
   "source": [
    "7. เขียนโปรแกรมแสดงตารางมูลค่าเงินในอนาคต (Future Value) \n",
    "\n",
    "$$\n",
    "FV = principal \\times (1 + rate)^{period}\n",
    "$$\n",
    "\n",
    "โดยกำหนดให้ \n",
    "\n",
    "- `principal` เท่ากับ `100`\n",
    "- `rate` เริ่มจาก `1%` ไปจนถึง `7%`\n",
    "- `period` (ปี) เริ่มจาก `1` ไปจนถึง `10` ปี\n",
    "\n",
    "เพื่อให้ได้ผลลัพธ์ดังนี้\n",
    "\n",
    "```\n",
    " n |  1.00% |  2.00% |  3.00% |  4.00% |  5.00% |  6.00% |  7.00% |\n",
    "-------------------------------------------------------------------\n",
    " 1 | 101.00 | 102.00 | 103.00 | 104.00 | 105.00 | 106.00 | 107.00 | \n",
    " 2 | 102.01 | 104.04 | 106.09 | 108.16 | 110.25 | 112.36 | 114.49 | \n",
    " 3 | 103.03 | 106.12 | 109.27 | 112.49 | 115.76 | 119.10 | 122.50 | \n",
    " 4 | 104.06 | 108.24 | 112.55 | 116.99 | 121.55 | 126.25 | 131.08 | \n",
    " 5 | 105.10 | 110.41 | 115.93 | 121.67 | 127.63 | 133.82 | 140.26 | \n",
    " 6 | 106.15 | 112.62 | 119.41 | 126.53 | 134.01 | 141.85 | 150.07 | \n",
    " 7 | 107.21 | 114.87 | 122.99 | 131.59 | 140.71 | 150.36 | 160.58 | \n",
    " 8 | 108.29 | 117.17 | 126.68 | 136.86 | 147.75 | 159.38 | 171.82 | \n",
    " 9 | 109.37 | 119.51 | 130.48 | 142.33 | 155.13 | 168.95 | 183.85 | \n",
    "10 | 110.46 | 121.90 | 134.39 | 148.02 | 162.89 | 179.08 | 196.72 | \n",
    "-------------------------------------------------------------------\n",
    "```\n"
   ]
  },
  {
   "cell_type": "code",
   "execution_count": 73,
   "metadata": {},
   "outputs": [
    {
     "name": "stdout",
     "output_type": "stream",
     "text": [
      " n |  1.00% |  2.00% |  3.00% |  4.00% |  5.00% |  6.00% |  7.00% |\n",
      "-------------------------------------------------------------------\n",
      " 1 | 101.00 | 102.00 | 103.00 | 104.00 | 105.00 | 106.00 | 107.00 | \n",
      " 2 | 102.01 | 104.04 | 106.09 | 108.16 | 110.25 | 112.36 | 114.49 | \n",
      " 3 | 103.03 | 106.12 | 109.27 | 112.49 | 115.76 | 119.10 | 122.50 | \n",
      " 4 | 104.06 | 108.24 | 112.55 | 116.99 | 121.55 | 126.25 | 131.08 | \n",
      " 5 | 105.10 | 110.41 | 115.93 | 121.67 | 127.63 | 133.82 | 140.26 | \n",
      " 6 | 106.15 | 112.62 | 119.41 | 126.53 | 134.01 | 141.85 | 150.07 | \n",
      " 7 | 107.21 | 114.87 | 122.99 | 131.59 | 140.71 | 150.36 | 160.58 | \n",
      " 8 | 108.29 | 117.17 | 126.68 | 136.86 | 147.75 | 159.38 | 171.82 | \n",
      " 9 | 109.37 | 119.51 | 130.48 | 142.33 | 155.13 | 168.95 | 183.85 | \n",
      "10 | 110.46 | 121.90 | 134.39 | 148.02 | 162.89 | 179.08 | 196.72 | \n",
      "-------------------------------------------------------------------\n"
     ]
    }
   ],
   "source": [
    "principal = 100\n",
    "print(\" n |\", end = '')\n",
    "for rate in range(1, 8):\n",
    "    print(f\"{rate / 100 :>7.2%} |\", end = '')\n",
    "print()    \n",
    "print('-' * 67)\n",
    "for year in range(1, 11):\n",
    "    print(f\"{year:2} | \", end = '')\n",
    "    for rate in range(1, 8):\n",
    "        fv = principal * (1 + rate / 100) ** year\n",
    "        print(f\"{fv:>.2f} | \", end = '')\n",
    "    print()\n",
    "print('-' * 67)\n"
   ]
  },
  {
   "cell_type": "markdown",
   "metadata": {},
   "source": [
    "8. เขียนลูป `for` เพื่อพิมพ์ตัวอักษร a-z โดยให้ขึ้นบรรทัดใหม่ทุก ๆ 5 ตัวอักษร\n",
    "```\n",
    "a b c d e \n",
    "f g h i j \n",
    "k l m n o \n",
    "p q r s t \n",
    "u v w x y \n",
    "z \n",
    "```\n"
   ]
  },
  {
   "cell_type": "code",
   "execution_count": 74,
   "metadata": {},
   "outputs": [
    {
     "name": "stdout",
     "output_type": "stream",
     "text": [
      "a b c d e \n",
      "f g h i j \n",
      "k l m n o \n",
      "p q r s t \n",
      "u v w x y \n",
      "z "
     ]
    }
   ],
   "source": [
    "cols = 5\n",
    "for i, c in enumerate(range(ord('a'), ord('z') + 1)):\n",
    "    if (i > 0) and (i % 5 == 0):\n",
    "        print()\n",
    "    print(chr(c), end = ' ')"
   ]
  }
 ],
 "metadata": {
  "kernelspec": {
   "display_name": "base",
   "language": "python",
   "name": "python3"
  },
  "language_info": {
   "codemirror_mode": {
    "name": "ipython",
    "version": 3
   },
   "file_extension": ".py",
   "mimetype": "text/x-python",
   "name": "python",
   "nbconvert_exporter": "python",
   "pygments_lexer": "ipython3",
   "version": "3.11.4"
  },
  "orig_nbformat": 4
 },
 "nbformat": 4,
 "nbformat_minor": 2
}
