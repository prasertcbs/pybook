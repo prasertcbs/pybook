{
 "cells": [
  {
   "cell_type": "markdown",
   "metadata": {},
   "source": [
    "# บทที่ 1. ทำไมต้องเขียนโค้ด\n",
    "- ตำรา: Python: ใคร ๆ ก็เขียนโปรแกรมได้\n",
    "- ผู้แต่ง: รศ.ดร. ประเสริฐ คณาวัฒนไชย"
   ]
  },
  {
   "cell_type": "markdown",
   "metadata": {},
   "source": [
    "## โปรแกรมแรก Hello, World! (hello.py)\n"
   ]
  },
  {
   "cell_type": "code",
   "execution_count": 1,
   "metadata": {},
   "outputs": [
    {
     "name": "stdout",
     "output_type": "stream",
     "text": [
      "Hello, World!\n",
      "เริ่มต้นวันใหม่ที่สดใส\n"
     ]
    }
   ],
   "source": [
    "print(\"Hello, World!\")\n",
    "print(\"เริ่มต้นวันใหม่ที่สดใส\")"
   ]
  },
  {
   "cell_type": "markdown",
   "metadata": {},
   "source": [
    "## การทำงานของร้านอาหารเมื่อลูกค้ามีการสั่งอาหาร"
   ]
  },
  {
   "cell_type": "code",
   "execution_count": 2,
   "metadata": {},
   "outputs": [
    {
     "name": "stdout",
     "output_type": "stream",
     "text": [
      "ส่งออร์เดอร์ไปยังครัว: ส้มตำ\n",
      "กำลังปรุงอาหาร...\n",
      "สถานะการปรุงอาหาร: กำลังปรุงอาหาร\n",
      "รอรับอาหารที่พร้อมแล้ว...\n",
      "เสิร์ฟอาหาร: อาหารพร้อมแล้ว\n",
      "ลูกค้ารับอาหารและทาน\n"
     ]
    }
   ],
   "source": [
    "def order_food():\n",
    "    # 1. รับออร์เดอร์จากลูกค้า\n",
    "    order = input(\"โปรดระบุอาหารที่ต้องการ: \")\n",
    "    # 2. ส่งออร์เดอร์ไปยังครัว\n",
    "    send_to_kitchen(order)\n",
    "    # 3. รอการปรุงอาหารจากครัว\n",
    "    cooking_status = wait_for_cooking()\n",
    "    # 4. แสดงสถานะการปรุงอาหาร\n",
    "    print(\"สถานะการปรุงอาหาร:\", cooking_status)\n",
    "    # 5. รอรับอาหารที่พร้อมแล้ว\n",
    "    food_ready = wait_for_food()\n",
    "    # 6. นำอาหารมาเสิร์ฟให้ลูกค้า\n",
    "    serve_food(food_ready)\n",
    "    # 7. ลูกค้ารับอาหารและทาน\n",
    "    print(\"ลูกค้ารับอาหารและทาน\")\n",
    "\n",
    "def send_to_kitchen(order):\n",
    "    print(\"ส่งออร์เดอร์ไปยังครัว:\", order)\n",
    "\n",
    "def wait_for_cooking():\n",
    "    print(\"กำลังปรุงอาหาร...\")\n",
    "    return \"กำลังปรุงอาหาร\"\n",
    "\n",
    "def wait_for_food():\n",
    "    print(\"รอรับอาหารที่พร้อมแล้ว...\")\n",
    "    return \"อาหารพร้อมแล้ว\"\n",
    "\n",
    "def serve_food(food):\n",
    "    print(\"เสิร์ฟอาหาร:\", food)\n",
    "\n",
    "# เรียกใช้งานฟังก์ชัน order_food()\n",
    "order_food()"
   ]
  }
 ],
 "metadata": {
  "kernelspec": {
   "display_name": "base",
   "language": "python",
   "name": "python3"
  },
  "language_info": {
   "codemirror_mode": {
    "name": "ipython",
    "version": 3
   },
   "file_extension": ".py",
   "mimetype": "text/x-python",
   "name": "python",
   "nbconvert_exporter": "python",
   "pygments_lexer": "ipython3",
   "version": "3.11.4"
  },
  "orig_nbformat": 4
 },
 "nbformat": 4,
 "nbformat_minor": 2
}
