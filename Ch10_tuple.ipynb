{
 "cells": [
  {
   "cell_type": "markdown",
   "metadata": {},
   "source": [
    "# บทที่ 10. ทูเพิล (`tuple`)\n",
    "- ตำรา: Python: ใคร ๆ ก็เขียนโปรแกรมได้\n",
    "- ผู้แต่ง: รศ.ดร. ประเสริฐ คณาวัฒนไชย"
   ]
  },
  {
   "cell_type": "markdown",
   "metadata": {},
   "source": [
    "## การสร้าง tuple\n"
   ]
  },
  {
   "cell_type": "code",
   "execution_count": 2,
   "metadata": {},
   "outputs": [
    {
     "name": "stdout",
     "output_type": "stream",
     "text": [
      "box_size[0] = 5\n",
      "box_size[1] = 10\n",
      "box_size[2] = 4\n",
      "box volume = 200\n"
     ]
    }
   ],
   "source": [
    "box_size = (5, 10, 4)\n",
    "print(f'box_size[0] = {box_size[0]}')  # ผลลัพธ์: 5\n",
    "print(f'box_size[1] = {box_size[1]}')  # ผลลัพธ์: 10\n",
    "print(f'box_size[2] = {box_size[2]}')  # ผลลัพธ์: 4\n",
    "\n",
    "vol = box_size[0] * box_size[1] * box_size[2]\n",
    "print(f'box volume = {vol}')"
   ]
  },
  {
   "cell_type": "markdown",
   "metadata": {},
   "source": [
    "## การ `unpacking tuple`\n"
   ]
  },
  {
   "cell_type": "code",
   "execution_count": 3,
   "metadata": {},
   "outputs": [
    {
     "name": "stdout",
     "output_type": "stream",
     "text": [
      "width = 5\n",
      "height = 10\n",
      "depth = 4\n",
      "box volume = 200\n"
     ]
    }
   ],
   "source": [
    "box_size = (5, 10, 4) \n",
    "width, height, depth = box_size # unpacking box_size into width, height, depth\n",
    "print(f'width = {width}')\n",
    "print(f'height = {height}')\n",
    "print(f'depth = {depth}')\n",
    "vol = width * height * depth\n",
    "print(f'box volume = {vol}')\n"
   ]
  },
  {
   "cell_type": "markdown",
   "metadata": {},
   "source": [
    "## การเก็บข้อมูลแบบต่าง ๆ\n"
   ]
  },
  {
   "cell_type": "code",
   "execution_count": 4,
   "metadata": {},
   "outputs": [
    {
     "name": "stdout",
     "output_type": "stream",
     "text": [
      "product_infos[0] = X17 running shoes\n",
      "product_infos[1] = 4000\n",
      "product_infos[2] = True\n"
     ]
    }
   ],
   "source": [
    "product_infos = ('X17 running shoes', 4000, True) # product name, price, in stock?\n",
    "print(f\"product_infos[0] = {product_infos[0]}\")  # ผลลัพธ์: X17 running shoes\n",
    "print(f\"product_infos[1] = {product_infos[1]}\")  # ผลลัพธ์: 4000\n",
    "print(f\"product_infos[2] = {product_infos[2]}\")  # ผลลัพธ์: True\n"
   ]
  },
  {
   "cell_type": "markdown",
   "metadata": {},
   "source": [
    "## การสร้าง `tuple` ที่เก็บข้อมูลเป็น `tuple`\n"
   ]
  },
  {
   "cell_type": "code",
   "execution_count": 5,
   "metadata": {},
   "outputs": [
    {
     "name": "stdout",
     "output_type": "stream",
     "text": [
      "day_of_week_color[2] = ('Wednesday', 'green')\n",
      "day_of_week_color[2][0] = Wednesday\n",
      "day_of_week_color[2][1] = green\n"
     ]
    }
   ],
   "source": [
    "day_of_week_color = (\n",
    "    (\"Monday\", \"yellow\"),\n",
    "    (\"Tuesday\", \"pink\"),\n",
    "    (\"Wednesday\", \"green\"),\n",
    "    (\"Thursday\", \"orange\"),\n",
    "    (\"Friday\", \"blue\"),\n",
    "    (\"Saturday\", \"purple\"),\n",
    "    (\"Sunday\", \"red\"),\n",
    ")\n",
    "\n",
    "print(f\"day_of_week_color[2] = {day_of_week_color[2]}\")\n",
    "print(f\"day_of_week_color[2][0] = {day_of_week_color[2][0]}\")\n",
    "print(f\"day_of_week_color[2][1] = {day_of_week_color[2][1]}\")\n"
   ]
  },
  {
   "cell_type": "markdown",
   "metadata": {},
   "source": [
    "## การสร้าง `tuple` ที่เก็บข้อมูลเป็น `list`\n"
   ]
  },
  {
   "cell_type": "code",
   "execution_count": 6,
   "metadata": {},
   "outputs": [
    {
     "name": "stdout",
     "output_type": "stream",
     "text": [
      "จังหวัด: สงขลา\n",
      "ตัวย่อ: {'abbr': {'th': 'สข', 'en': 'SKA'}}\n",
      "\n",
      "จังหวัด: เชียงใหม่\n",
      "ตัวย่อ: {'abbr': {'th': 'ชม', 'en': 'CMI'}}\n",
      "\n",
      "จังหวัด: ภูเก็ต\n",
      "ตัวย่อ: {'abbr': {'th': 'ภก', 'en': 'PKT'}}\n",
      "\n",
      "จังหวัด: กระบี่\n",
      "ตัวย่อ: {'abbr': {'th': 'กบ', 'en': 'KBI'}}\n",
      "\n"
     ]
    }
   ],
   "source": [
    "provinces = (\n",
    "    [\"สงขลา\", {\"abbr\": {\"th\": \"สข\", \"en\": \"SKA\"}}],\n",
    "    [\"เชียงใหม่\", {\"abbr\": {\"th\": \"ชม\", \"en\": \"CMI\"}}],\n",
    "    [\"ภูเก็ต\", {\"abbr\": {\"th\": \"ภก\", \"en\": \"PKT\"}}],\n",
    "    [\"กระบี่\", {\"abbr\": {\"th\": \"กบ\", \"en\": \"KBI\"}}]\n",
    ") # 1️⃣\n",
    "\n",
    "# การเข้าถึงข้อมูลใน `tuple`\n",
    "for province, abbr in provinces: # 2️⃣\n",
    "    print(f\"จังหวัด: {province}\")\n",
    "    print(f\"ตัวย่อ: {abbr}\")\n",
    "    print()\n"
   ]
  },
  {
   "cell_type": "markdown",
   "metadata": {},
   "source": [
    "## การเข้าถึงสมาชิกใน `tuple` ด้วยดัชนี\n"
   ]
  },
  {
   "cell_type": "code",
   "execution_count": 7,
   "metadata": {},
   "outputs": [
    {
     "name": "stdout",
     "output_type": "stream",
     "text": [
      "area_th[0] = 2\n",
      "area_th[1] = 1\n",
      "area_th[2] = 60\n",
      "พื้นที่รวม 960 ตารางวา\n"
     ]
    }
   ],
   "source": [
    "area_th = (2, 1, 60) # 2 ไร่ 1 งาน 60 ตารางวา\n",
    "print(f\"area_th[0] = {area_th[0]}\")  # ผลลัพธ์: 2\n",
    "print(f\"area_th[1] = {area_th[1]}\")  # ผลลัพธ์: 1\n",
    "print(f\"area_th[2] = {area_th[2]}\")  # ผลลัพธ์: 60\n",
    "\n",
    "total_area_sq_wah = (area_th[0] * 400) + (area_th[1] * 100) + area_th[2]\n",
    "print(f\"พื้นที่รวม {total_area_sq_wah} ตารางวา\")\n"
   ]
  },
  {
   "cell_type": "markdown",
   "metadata": {},
   "source": [
    "## การทำ slicing\n"
   ]
  },
  {
   "cell_type": "code",
   "execution_count": 8,
   "metadata": {},
   "outputs": [
    {
     "name": "stdout",
     "output_type": "stream",
     "text": [
      "qtr1 = (100, 150, 120)\n",
      "qtr2 = (90, 85, 120)\n",
      "qtr3 = (140, 190, 200)\n",
      "qtr4 = (205, 220, 240)\n"
     ]
    }
   ],
   "source": [
    "sales = (100, 150, 120, 90, 85, 120, 140, 190, 200, 205, 220, 240)\n",
    "\n",
    "qtr1 = sales[:3]\n",
    "print(f\"qtr1 = {qtr1}\")\n",
    "\n",
    "qtr2 = sales[3:6]\n",
    "print(f\"qtr2 = {qtr2}\")\n",
    "\n",
    "qtr3 = sales[6:9]\n",
    "print(f\"qtr3 = {qtr3}\")\n",
    "\n",
    "qtr4 = sales[-3:] # qtr4 = sales[9:]\n",
    "print(f\"qtr4 = {qtr4}\")\n"
   ]
  },
  {
   "cell_type": "markdown",
   "metadata": {},
   "source": [
    "## การเข้าถึงสมาชิกด้วยลูป for\n"
   ]
  },
  {
   "cell_type": "code",
   "execution_count": 9,
   "metadata": {},
   "outputs": [
    {
     "name": "stdout",
     "output_type": "stream",
     "text": [
      "MONDAY\n",
      "TUESDAY\n",
      "WEDNESDAY\n",
      "THURSDAY\n",
      "FRIDAY\n",
      "SATURDAY\n",
      "SUNDAY\n"
     ]
    }
   ],
   "source": [
    "days_of_week = (\"Monday\", \"Tuesday\", \"Wednesday\", \"Thursday\", \"Friday\", \"Saturday\", \"Sunday\")\n",
    "for day in days_of_week:\n",
    "    print(day.upper())\n"
   ]
  },
  {
   "cell_type": "markdown",
   "metadata": {},
   "source": [
    "## การใช้ `enumerate()` ร่วมกับลูป `for`\n"
   ]
  },
  {
   "cell_type": "code",
   "execution_count": 10,
   "metadata": {},
   "outputs": [
    {
     "name": "stdout",
     "output_type": "stream",
     "text": [
      "[0] MONDAY\n",
      "[1] TUESDAY\n",
      "[2] WEDNESDAY\n",
      "[3] THURSDAY\n",
      "[4] FRIDAY\n",
      "[5] SATURDAY\n",
      "[6] SUNDAY\n"
     ]
    }
   ],
   "source": [
    "days_of_week = (\"Monday\", \"Tuesday\", \"Wednesday\", \"Thursday\", \"Friday\", \"Saturday\", \"Sunday\")\n",
    "for i, day in enumerate(days_of_week):\n",
    "    print(f'[{i}] {day.upper()}')\n"
   ]
  },
  {
   "cell_type": "markdown",
   "metadata": {},
   "source": [
    "## การเข้าถึงสมาชิกที่เป็น `tuple` ด้วยลูป `for`\n"
   ]
  },
  {
   "cell_type": "code",
   "execution_count": 11,
   "metadata": {},
   "outputs": [
    {
     "name": "stdout",
     "output_type": "stream",
     "text": [
      "day_name = Monday, day_color = yellow\n",
      "day_name = Tuesday, day_color = pink\n",
      "day_name = Wednesday, day_color = green\n",
      "day_name = Thursday, day_color = orange\n",
      "day_name = Friday, day_color = blue\n",
      "day_name = Saturday, day_color = purple\n",
      "day_name = Sunday, day_color = red\n"
     ]
    }
   ],
   "source": [
    "day_of_week_color = (\n",
    "    (\"Monday\", \"yellow\"),\n",
    "    (\"Tuesday\", \"pink\"),\n",
    "    (\"Wednesday\", \"green\"),\n",
    "    (\"Thursday\", \"orange\"),\n",
    "    (\"Friday\", \"blue\"),\n",
    "    (\"Saturday\", \"purple\"),\n",
    "    (\"Sunday\", \"red\"),\n",
    ")\n",
    "for day_name, day_color in day_of_week_color:\n",
    "    print(f\"day_name = {day_name}, day_color = {day_color}\")\n"
   ]
  },
  {
   "cell_type": "markdown",
   "metadata": {},
   "source": [
    "## การใช้ `enumerate()` และลูป `for` เพื่อเข้าถึงสมาชิกที่เป็น `tuple`\n"
   ]
  },
  {
   "cell_type": "code",
   "execution_count": 12,
   "metadata": {},
   "outputs": [
    {
     "name": "stdout",
     "output_type": "stream",
     "text": [
      "[0] day_name = Monday, day_color = yellow\n",
      "[1] day_name = Tuesday, day_color = pink\n",
      "[2] day_name = Wednesday, day_color = green\n",
      "[3] day_name = Thursday, day_color = orange\n",
      "[4] day_name = Friday, day_color = blue\n",
      "[5] day_name = Saturday, day_color = purple\n",
      "[6] day_name = Sunday, day_color = red\n"
     ]
    }
   ],
   "source": [
    "day_of_week_color = (\n",
    "    (\"Monday\", \"yellow\"),\n",
    "    (\"Tuesday\", \"pink\"),\n",
    "    (\"Wednesday\", \"green\"),\n",
    "    (\"Thursday\", \"orange\"),\n",
    "    (\"Friday\", \"blue\"),\n",
    "    (\"Saturday\", \"purple\"),\n",
    "    (\"Sunday\", \"red\"),\n",
    ")\n",
    "for i, day in enumerate(day_of_week_color):\n",
    "    day_name, day_color = day\n",
    "    print(f\"[{i}] day_name = {day_name}, day_color = {day_color}\")\n"
   ]
  },
  {
   "cell_type": "markdown",
   "metadata": {},
   "source": [
    "## การเก็บและเข้าถึงข้อมูลลูกค้าและการสั่งซื้อ\n"
   ]
  },
  {
   "cell_type": "code",
   "execution_count": 13,
   "metadata": {},
   "outputs": [
    {
     "name": "stdout",
     "output_type": "stream",
     "text": [
      "ประวัติการใช้บริการของ [แพร]\n",
      " - ชา 2023-05-10 15:30\n",
      " - ขนมหวาน 2023-05-12 14:20\n",
      " - กาแฟ 2023-05-13 10:00\n"
     ]
    }
   ],
   "source": [
    "# ข้อมูลลูกค้าและการสั่งซื้อเครื่องดื่มและขนมหวาน\n",
    "customers = (\n",
    "    (\"แพร\", \"ชา\", \"2023-05-10\", \"15:30\"),\n",
    "    (\"ไหม\", \"กาแฟ\", \"2023-05-11\", \"08:45\"),\n",
    "    (\"แพร\", \"ขนมหวาน\", \"2023-05-12\", \"14:20\"),\n",
    "    (\"พลอย\", \"ชา\", \"2023-05-12\", \"17:10\"),\n",
    "    (\"แพร\", \"กาแฟ\", \"2023-05-13\", \"10:00\"),\n",
    "    (\"ไหม\", \"ขนมหวาน\", \"2023-05-14\", \"16:40\"),\n",
    ")\n",
    "\n",
    "customer_name = \"แพร\"\n",
    "print(f\"ประวัติการใช้บริการของ [{customer_name}]\")\n",
    "for data in customers:\n",
    "    name, product, date, time = data\n",
    "    if name == customer_name:\n",
    "        print(f\" - {product} {date} {time}\")\n"
   ]
  },
  {
   "cell_type": "markdown",
   "metadata": {},
   "source": [
    "## การแปลง `tuple` ให้เป็น `list` เพื่อแก้ไขค่าภายใน\n"
   ]
  },
  {
   "cell_type": "code",
   "execution_count": 14,
   "metadata": {},
   "outputs": [
    {
     "name": "stdout",
     "output_type": "stream",
     "text": [
      "menus = ('ผัดกะเพรา', 'ต้มยำกุ้ง', 'แกงเขียวหวาน', 'ข้าวผัด')\n",
      "list_menus = ['ผัดกะเพรา', 'ต้มยำกุ้ง', 'แกงเขียวหวาน', 'ข้าวผัด']\n",
      "list_menus = ['ข้าวกะเพราไก่', 'ต้มยำกุ้ง', 'แกงเขียวหวาน', 'ข้าวผัด', 'ปลาทอดน้ำปลา']\n"
     ]
    }
   ],
   "source": [
    "menus = (\"ผัดกะเพรา\", \"ต้มยำกุ้ง\", \"แกงเขียวหวาน\", \"ข้าวผัด\")\n",
    "print(f\"menus = {menus}\")\n",
    "list_menus = list(menus)\n",
    "print(f\"list_menus = {list_menus}\")\n",
    "list_menus[0] = \"ข้าวกะเพราไก่\"\n",
    "list_menus.append(\"ปลาทอดน้ำปลา\")\n",
    "print(f\"list_menus = {list_menus}\")\n"
   ]
  },
  {
   "cell_type": "markdown",
   "metadata": {},
   "source": [
    "## การใช้ `tuple` เพื่อเก็บข้อมูลเมนูอาหารและราคาแยกเป็นขนาดเล็ก กลาง และใหญ่\n"
   ]
  },
  {
   "cell_type": "code",
   "execution_count": 15,
   "metadata": {},
   "outputs": [
    {
     "name": "stdout",
     "output_type": "stream",
     "text": [
      "list(menus) = [('ผัดกะเพรา', 40, 50, 60), ('ต้มยำกุ้ง', 80, 100, 120), ('แกงเขียวหวาน', 70, 90, 110), ('ข้าวผัด', 50, 70, 90)]\n",
      "list_menus = [['ผัดกะเพรา', 40, 50, 60], ['ต้มยำกุ้ง', 80, 100, 120], ['แกงเขียวหวาน', 70, 90, 110], ['ข้าวผัด', 50, 70, 90]]\n",
      "[['ผัดกะเพรา', 44.0, 55.00000000000001, 66.0], ['ต้มยำกุ้ง', 88.0, 110.00000000000001, 132.0], ['แกงเขียวหวาน', 77.0, 99.00000000000001, 121.00000000000001], ['ข้าวผัด', 55.00000000000001, 77.0, 99.00000000000001]]\n"
     ]
    }
   ],
   "source": [
    "menus = (\n",
    "    (\"ผัดกะเพรา\", 40, 50, 60),\n",
    "    (\"ต้มยำกุ้ง\", 80, 100, 120),\n",
    "    (\"แกงเขียวหวาน\", 70, 90, 110),\n",
    "    (\"ข้าวผัด\", 50, 70, 90),\n",
    ")\n",
    "\n",
    "print(f\"list(menus) = {list(menus)}\")  # สมาชิกภายในยังเป็น `tuple`\n",
    "list_menus = [list(m) for m in menus] # ใช้ `list comprehension` แปลงสมาชิกทุกตัวใน `tuple` ให้เป็น list\n",
    "print(f\"list_menus = {list_menus}\")\n",
    "\n",
    "# ปรับราคาขึ้นเมนูละ 10%\n",
    "for m in list_menus:\n",
    "    for i in range(1, 4):\n",
    "        m[i] = m[i] * 1.1\n",
    "print(list_menus)\n"
   ]
  },
  {
   "cell_type": "markdown",
   "metadata": {},
   "source": [
    "## การเรียงลำดับข้อมูลใน `tuple` ด้วย `sorted()`\n"
   ]
  },
  {
   "cell_type": "code",
   "execution_count": 16,
   "metadata": {},
   "outputs": [
    {
     "name": "stdout",
     "output_type": "stream",
     "text": [
      "<class 'list'> [85, 90, 100, 120, 120, 140, 150, 190, 200, 205, 220, 240]\n",
      "<class 'list'> [240, 220, 205, 200, 190, 150, 140, 120, 120, 100, 90, 85]\n",
      "top 3 sales    = [240, 220, 205]\n",
      "bottom 3 sales = [100, 90, 85]\n"
     ]
    }
   ],
   "source": [
    "sales = (100, 150, 120, 90, 85, 120, 140, 190, 200, 205, 220, 240)\n",
    "sorted_sales_asc = sorted(sales)\n",
    "sorted_sales_desc = sorted(sales, reverse=True)\n",
    "\n",
    "print(type(sorted_sales_asc), sorted_sales_asc)\n",
    "print(type(sorted_sales_desc), sorted_sales_desc)\n",
    "\n",
    "print(f\"top 3 sales    = {sorted_sales_desc[:3]}\")\n",
    "print(f\"bottom 3 sales = {sorted_sales_desc[-3:]}\")"
   ]
  },
  {
   "cell_type": "markdown",
   "metadata": {},
   "source": [
    "# แบบฝึกหัด\n"
   ]
  },
  {
   "cell_type": "markdown",
   "metadata": {},
   "source": [
    "1. ออกแบบ `tuple` สำหรับเก็บสถานที่ท่องเที่ยวของประเทศไทยจำนวน 5 แห่ง พร้อมพิกัดทางภูมิศาสตร์ และพิมพ์ข้อมูลออกทางหน้าจอ\n"
   ]
  },
  {
   "cell_type": "code",
   "execution_count": 17,
   "metadata": {},
   "outputs": [
    {
     "name": "stdout",
     "output_type": "stream",
     "text": [
      "สถานที่ท่องเที่ยว: กรุงเทพมหานคร\n",
      "พิกัดทางภูมิศาสตร์: (13.7563, 100.5018)\n",
      "พิกัดทางภูมิศาสตร์: ละติจูด = 13.7563, ลองจิจูด = 100.5018\n",
      "https://www.google.com/maps?q=13.7563,100.5018\n",
      "https://www.google.com/maps?q=กรุงเทพมหานคร\n",
      "\n",
      "สถานที่ท่องเที่ยว: เชียงใหม่\n",
      "พิกัดทางภูมิศาสตร์: (18.7877, 98.9931)\n",
      "พิกัดทางภูมิศาสตร์: ละติจูด = 18.7877, ลองจิจูด = 98.9931\n",
      "https://www.google.com/maps?q=18.7877,98.9931\n",
      "https://www.google.com/maps?q=เชียงใหม่\n",
      "\n",
      "สถานที่ท่องเที่ยว: ภูเก็ต\n",
      "พิกัดทางภูมิศาสตร์: (7.8804, 98.3923)\n",
      "พิกัดทางภูมิศาสตร์: ละติจูด = 7.8804, ลองจิจูด = 98.3923\n",
      "https://www.google.com/maps?q=7.8804,98.3923\n",
      "https://www.google.com/maps?q=ภูเก็ต\n",
      "\n",
      "สถานที่ท่องเที่ยว: กระบี่\n",
      "พิกัดทางภูมิศาสตร์: (8.0863, 98.9063)\n",
      "พิกัดทางภูมิศาสตร์: ละติจูด = 8.0863, ลองจิจูด = 98.9063\n",
      "https://www.google.com/maps?q=8.0863,98.9063\n",
      "https://www.google.com/maps?q=กระบี่\n",
      "\n",
      "สถานที่ท่องเที่ยว: เกาะสมุย\n",
      "พิกัดทางภูมิศาสตร์: (9.5357, 100.0576)\n",
      "พิกัดทางภูมิศาสตร์: ละติจูด = 9.5357, ลองจิจูด = 100.0576\n",
      "https://www.google.com/maps?q=9.5357,100.0576\n",
      "https://www.google.com/maps?q=เกาะสมุย\n",
      "\n"
     ]
    }
   ],
   "source": [
    "# สถานที่ท่องเที่ยวที่สำคัญของประเทศไทยพร้อมพิกัดทางภูมิศาสตร์\n",
    "tourist_places = (\n",
    "    (\"กรุงเทพมหานคร\", (13.7563, 100.5018)), # สถานที่, (latitude, longitude)\n",
    "    (\"เชียงใหม่\", (18.7877, 98.9931)),\n",
    "    (\"ภูเก็ต\", (7.8804, 98.3923)),\n",
    "    (\"กระบี่\", (8.0863, 98.9063)),\n",
    "    (\"เกาะสมุย\", (9.5357, 100.0576))\n",
    ")\n",
    "\n",
    "# การแสดงสถานที่ท่องเที่ยวและพิกัดทางภูมิศาสตร์\n",
    "for place, coordinates in tourist_places:\n",
    "    print(f\"สถานที่ท่องเที่ยว: {place}\")\n",
    "    print(f\"พิกัดทางภูมิศาสตร์: {coordinates}\")\n",
    "    lat, lon = coordinates # unpacking tuple\n",
    "    print(f\"พิกัดทางภูมิศาสตร์: ละติจูด = {lat}, ลองจิจูด = {lon}\")\n",
    "    print(f\"https://www.google.com/maps?q={lat},{lon}\")\n",
    "    print(f\"https://www.google.com/maps?q={place}\")\n",
    "    print()"
   ]
  },
  {
   "cell_type": "markdown",
   "metadata": {},
   "source": [
    "2. เขียนโปรแกรมเพื่อหาความชัน (slope) จากจุด 2 จุด\n",
    "$$\n",
    "slope = \\frac{{y_2 - y_1}}{{x_2 - x_1}}\n",
    "$$\n"
   ]
  },
  {
   "cell_type": "code",
   "execution_count": 18,
   "metadata": {},
   "outputs": [
    {
     "name": "stdout",
     "output_type": "stream",
     "text": [
      "slope = -2.6666666666666665\n"
     ]
    }
   ],
   "source": [
    "x1, y1 = 5, 10\n",
    "x2, y2 = 8, 2\n",
    "\n",
    "slope = (y2 - y1) / (x2 - x1)\n",
    "print(f'slope = {slope}')\n"
   ]
  },
  {
   "cell_type": "markdown",
   "metadata": {},
   "source": [
    "3. จากข้อมูลปุ๋ย NPK (Nitrogen-Phosphorus-Potassium) ที่ให้มา\n",
    "\n",
    "|สูตรปุ๋ย NPK|\n",
    "|---:|\n",
    "|7-3-10|\n",
    "|15-15-15|\n",
    "|10-3-3|\n",
    "|16-8-8|\n",
    "|16-12-8|\n",
    "|20-4-15|\n",
    "|15-10-20|\n",
    "\n",
    "ให้เก็บข้อมูลสูตรปุ๋ยด้วย `tuple` แล้วทำการแสดงเฉพาะสูตรปุ๋ยที่มีค่า Phosphorus > 10\n"
   ]
  },
  {
   "cell_type": "code",
   "execution_count": 19,
   "metadata": {},
   "outputs": [
    {
     "name": "stdout",
     "output_type": "stream",
     "text": [
      "15-15-15\n",
      "16-12-8\n"
     ]
    }
   ],
   "source": [
    "npk_items = ('7-3-10', '15-15-15', '10-3-3', '16-8-8', '16-12-8', '20-4-15', '15-10-20')\n",
    "\n",
    "for item in npk_items:\n",
    "    n, p, k = item.split('-')\n",
    "    if int(p) > 10:\n",
    "        print(f\"{n}-{p}-{k}\")"
   ]
  }
 ],
 "metadata": {
  "kernelspec": {
   "display_name": "base",
   "language": "python",
   "name": "python3"
  },
  "language_info": {
   "codemirror_mode": {
    "name": "ipython",
    "version": 3
   },
   "file_extension": ".py",
   "mimetype": "text/x-python",
   "name": "python",
   "nbconvert_exporter": "python",
   "pygments_lexer": "ipython3",
   "version": "3.11.4"
  },
  "orig_nbformat": 4
 },
 "nbformat": 4,
 "nbformat_minor": 2
}
