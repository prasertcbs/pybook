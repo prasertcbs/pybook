{
 "cells": [
  {
   "cell_type": "markdown",
   "metadata": {},
   "source": [
    "# บทที่ 12. เซต (`set`)\n",
    "- ตำรา: Python: ใคร ๆ ก็เขียนโปรแกรมได้\n",
    "- ผู้แต่ง: รศ.ดร. ประเสริฐ คณาวัฒนไชย"
   ]
  },
  {
   "cell_type": "markdown",
   "metadata": {},
   "source": [
    "## การสร้างเซต\n"
   ]
  },
  {
   "cell_type": "code",
   "execution_count": 56,
   "metadata": {},
   "outputs": [
    {
     "name": "stdout",
     "output_type": "stream",
     "text": [
      "skills = {'SQL', 'Python', 'Git', 'Excel'}\n"
     ]
    }
   ],
   "source": [
    "skills = {\"Excel\", \"Python\", \"SQL\", \"Git\"}\n",
    "print(f\"skills = {skills}\")  # ผลลัพธ์ {'Excel', 'SQL', 'Git', 'Python'}"
   ]
  },
  {
   "cell_type": "markdown",
   "metadata": {},
   "source": [
    "## การสร้างเซตว่าง\n"
   ]
  },
  {
   "cell_type": "code",
   "execution_count": 57,
   "metadata": {},
   "outputs": [
    {
     "name": "stdout",
     "output_type": "stream",
     "text": [
      "empty_set = set()\n"
     ]
    }
   ],
   "source": [
    "empty_set = set()\n",
    "print(f\"empty_set = {empty_set}\")  # ผลลัพธ์: set()"
   ]
  },
  {
   "cell_type": "markdown",
   "metadata": {},
   "source": [
    "## การสร้างเซตจาก `list`"
   ]
  },
  {
   "cell_type": "code",
   "execution_count": 58,
   "metadata": {},
   "outputs": [
    {
     "name": "stdout",
     "output_type": "stream",
     "text": [
      "jobs_set = {'Engineer', 'Accountant', 'Developer', 'Marketer'}\n"
     ]
    }
   ],
   "source": [
    "jobs = [\"Developer\", \"Marketer\", \"Accountant\", \"Engineer\", \"Marketer\"]  # โปรดสังเกตว่ามี Marketer อยู่ 2 ตัว\n",
    "jobs_set = set(jobs)  # สมาชิกที่มีค่าซ้ำกันจะเก็บไว้เพียงตัวเดียว เช่น Marketer\n",
    "print(f\"jobs_set = {jobs_set}\")  # ผลลัพธ์: {'Accountant', 'Marketer', 'Developer', 'Engineer'}"
   ]
  },
  {
   "cell_type": "markdown",
   "metadata": {},
   "source": [
    "## การสร้างเซตจาก `tuple`\n"
   ]
  },
  {
   "cell_type": "code",
   "execution_count": 59,
   "metadata": {},
   "outputs": [
    {
     "name": "stdout",
     "output_type": "stream",
     "text": [
      "gadgets_set = {'speaker', 'camera', 'notebook', 'keyboard', 'phone'}\n"
     ]
    }
   ],
   "source": [
    "gadgets = (\"keyboard\", \"phone\", \"camera\", \"notebook\", \"speaker\")\n",
    "gadgets_set = set(gadgets)\n",
    "print(f\"gadgets_set = {gadgets_set}\")"
   ]
  },
  {
   "cell_type": "markdown",
   "metadata": {},
   "source": [
    "## การสร้างเซตจาก `tuple` ที่มีสมาชิกภายในเป็น `tuple`\n"
   ]
  },
  {
   "cell_type": "code",
   "execution_count": 60,
   "metadata": {},
   "outputs": [
    {
     "name": "stdout",
     "output_type": "stream",
     "text": [
      "players_set = {('Jane', 38), ('แพร', 33)}\n"
     ]
    }
   ],
   "source": [
    "players = ((\"แพร\", 33), (\"Jane\", 38))\n",
    "players_set = set(players)\n",
    "print(f\"players_set = {players_set}\")"
   ]
  },
  {
   "cell_type": "markdown",
   "metadata": {},
   "source": [
    "## การเพิ่มสมาชิกในเซต\n"
   ]
  },
  {
   "cell_type": "code",
   "execution_count": 61,
   "metadata": {},
   "outputs": [
    {
     "name": "stdout",
     "output_type": "stream",
     "text": [
      "fruits = {'coconut', 'banana'}\n",
      "fruits = {'coconut', 'banana', 'durian'}\n",
      "fruits = {'coconut', 'banana', 'durian', 'kiwi', 'grape'}\n",
      "fruits = {'durian', 'มังคุด', 'kiwi', 'coconut', 'banana', 'grape', 'ฝรั่ง'}\n",
      "fruits = {'watermelon', 'coconut', 'banana', 'mango', 'ฝรั่ง', 'durian', 'มังคุด', 'kiwi', 'grape'}\n"
     ]
    }
   ],
   "source": [
    "fruits = {\"coconut\", \"banana\"}\n",
    "print(f\"fruits = {fruits}\")  # ผลลัพธ์ {'banana', 'coconut'}\n",
    "\n",
    "# add()\n",
    "fruits.add(\"durian\")\n",
    "print(f\"fruits = {fruits}\")  # ผลลัพธ์ {'banana', 'coconut', 'durian'}\n",
    "\n",
    "# update()\n",
    "fruits.update([\"grape\", \"kiwi\"])\n",
    "print(f\"fruits = {fruits}\")  # ผลลัพธ์ {'kiwi', 'grape', 'durian', 'coconut', 'banana'}\n",
    "\n",
    "# union()\n",
    "fruits = fruits.union({\"ฝรั่ง\", \"มังคุด\"})\n",
    "print(f\"fruits = {fruits}\")  # ผลลัพธ์ {'kiwi', 'coconut', 'banana', 'grape', 'durian', 'ฝรั่ง', 'มังคุด'}\n",
    "\n",
    "# union operator\n",
    "fruits = fruits | {\"watermelon\", \"mango\"}\n",
    "print(f\"fruits = {fruits}\")  # ผลลัพธ์ {'kiwi', 'grape', 'durian', 'ฝรั่ง', 'coconut', 'banana', 'mango', 'watermelon', 'มังคุด'}"
   ]
  },
  {
   "cell_type": "markdown",
   "metadata": {},
   "source": [
    "## การลบสมาชิกในเซต\n"
   ]
  },
  {
   "cell_type": "code",
   "execution_count": 62,
   "metadata": {},
   "outputs": [
    {
     "name": "stdout",
     "output_type": "stream",
     "text": [
      "fruits = {'coconut', 'banana', 'durian'}\n",
      "after removing 'banana', fruits = {'coconut', 'durian'}\n",
      "fruits = {'coconut', 'durian'}\n",
      "fruits = {'coconut', 'durian'}\n"
     ]
    }
   ],
   "source": [
    "fruits = {\"coconut\", \"banana\", \"durian\"}\n",
    "print(f\"fruits = {fruits}\")  # ผลลัพธ์: {'durian', 'banana', 'coconut'}\n",
    "fruits.remove(\"banana\")\n",
    "print(f\"after removing 'banana', fruits = {fruits}\")  # ผลลัพธ์: {'coconut', 'durian'}\n",
    "fruits.discard(\"grape\")\n",
    "print(f\"fruits = {fruits}\")  # ผลลัพธ์: {'coconut', 'durian'}\n",
    "# fruits.remove('grape')  # KeyError: 'grape'\n",
    "# fruits.discard('grape')\n",
    "print(f\"fruits = {fruits}\")  # ผลลัพธ์: {'coconut', 'durian'}"
   ]
  },
  {
   "cell_type": "markdown",
   "metadata": {},
   "source": [
    "## การหาจำนวนสมาชิกในเซต\n"
   ]
  },
  {
   "cell_type": "code",
   "execution_count": 63,
   "metadata": {},
   "outputs": [
    {
     "name": "stdout",
     "output_type": "stream",
     "text": [
      "len(skills) = 4\n"
     ]
    }
   ],
   "source": [
    "skills = {\"SQL\", \"Python\", \"Excel\", \"R\"}\n",
    "print(f\"len(skills) = {len(skills)}\")"
   ]
  },
  {
   "cell_type": "markdown",
   "metadata": {},
   "source": [
    "## การหาว่ามีสมาชิกอยู่ในเซตหรือไม่\n"
   ]
  },
  {
   "cell_type": "code",
   "execution_count": 64,
   "metadata": {},
   "outputs": [
    {
     "name": "stdout",
     "output_type": "stream",
     "text": [
      "มี Excel อยู่ในเซต skills\n"
     ]
    }
   ],
   "source": [
    "skills = {\"SQL\", \"Python\", \"Excel\", \"R\"}\n",
    "if \"Excel\" in skills:\n",
    "    print(\"มี Excel อยู่ในเซต skills\")\n",
    "else:\n",
    "    print(\"ไม่มี Excel อยู่ในเซต skills\")"
   ]
  },
  {
   "cell_type": "markdown",
   "metadata": {},
   "source": [
    "## การเปรียบเทียบว่าเซต 2 ตัวเหมือนกันหรือไม่\n"
   ]
  },
  {
   "cell_type": "code",
   "execution_count": 65,
   "metadata": {},
   "outputs": [
    {
     "name": "stdout",
     "output_type": "stream",
     "text": [
      "set_a = {'mocha', 'latte', 'americano', 'espresso'}\n",
      "set_b = {'latte', 'espresso', 'americano', 'mocha'}\n",
      "set_a == set_b: True\n"
     ]
    }
   ],
   "source": [
    "set_a = {\"mocha\", \"latte\", \"espresso\", \"americano\"}\n",
    "set_b = {\"americano\", \"espresso\", \"latte\", \"mocha\"}\n",
    "print(f\"set_a = {set_a}\")\n",
    "print(f\"set_b = {set_b}\")\n",
    "print(f\"set_a == set_b: {set_a == set_b}\")"
   ]
  },
  {
   "cell_type": "markdown",
   "metadata": {},
   "source": [
    "## การเข้าถึงข้อมูลทุกตัวในเซต\n"
   ]
  },
  {
   "cell_type": "code",
   "execution_count": 66,
   "metadata": {},
   "outputs": [
    {
     "name": "stdout",
     "output_type": "stream",
     "text": [
      "salad\n",
      "pizza\n",
      "burger\n",
      "french fries\n"
     ]
    }
   ],
   "source": [
    "menus = {\"pizza\", \"salad\", \"french fries\", \"burger\"}\n",
    "for menu in menus:\n",
    "    print(menu)"
   ]
  },
  {
   "cell_type": "markdown",
   "metadata": {},
   "source": [
    "## การทำ `union` ด้วยตัวดำเนินการ `|`\n"
   ]
  },
  {
   "cell_type": "code",
   "execution_count": 67,
   "metadata": {},
   "outputs": [
    {
     "name": "stdout",
     "output_type": "stream",
     "text": [
      "union_set = {'SQL', 'Excel', 'R', 'Python', 'Docker', 'Git'}\n"
     ]
    }
   ],
   "source": [
    "set_a = {\"SQL\", \"Python\", \"Excel\", \"R\"}\n",
    "set_b = {\"Excel\", \"R\", \"Docker\", \"Git\"}\n",
    "union_set = set_a | set_b  # ใช้ตัวดำเนินการ |\n",
    "print(f\"union_set = {union_set}\")"
   ]
  },
  {
   "cell_type": "markdown",
   "metadata": {},
   "source": [
    "## การทำ `intersection` ด้วยตัวดำเนินการ `&`\n"
   ]
  },
  {
   "cell_type": "code",
   "execution_count": 68,
   "metadata": {},
   "outputs": [
    {
     "name": "stdout",
     "output_type": "stream",
     "text": [
      "intersection_set = {'R', 'Excel'}\n"
     ]
    }
   ],
   "source": [
    "set_a = {\"SQL\", \"Python\", \"Excel\", \"R\"}\n",
    "set_b = {\"Excel\", \"R\", \"Docker\", \"Git\"}\n",
    "intersection_set = set_a & set_b  # ใช้ตัวดำเนินการ &\n",
    "# intersection_set = set_a.intersection(set_b) # ใช้ .intersection()\n",
    "print(f\"intersection_set = {intersection_set}\")"
   ]
  },
  {
   "cell_type": "markdown",
   "metadata": {},
   "source": [
    "## การทำ `difference`\n"
   ]
  },
  {
   "cell_type": "code",
   "execution_count": 69,
   "metadata": {},
   "outputs": [
    {
     "name": "stdout",
     "output_type": "stream",
     "text": [
      "set_a - set_b = {'SQL', 'Python'}\n",
      "set_b - set_a = {'Docker', 'Git'}\n"
     ]
    }
   ],
   "source": [
    "set_a = {\"SQL\", \"Python\", \"Excel\", \"R\"}\n",
    "set_b = {\"Excel\", \"R\", \"Docker\", \"Git\"}\n",
    "print(f\"set_a - set_b = {set_a - set_b}\")\n",
    "print(f\"set_b - set_a = {set_b - set_a}\")"
   ]
  },
  {
   "cell_type": "markdown",
   "metadata": {},
   "source": [
    "## การทำ `symmetric difference`\n"
   ]
  },
  {
   "cell_type": "code",
   "execution_count": 70,
   "metadata": {},
   "outputs": [
    {
     "name": "stdout",
     "output_type": "stream",
     "text": [
      "set_a ^ set_b = {'SQL', 'Python', 'Docker', 'Git'}\n",
      "set_b ^ set_a = {'SQL', 'Python', 'Docker', 'Git'}\n"
     ]
    }
   ],
   "source": [
    "set_a = {\"SQL\", \"Python\", \"Excel\", \"R\"}\n",
    "set_b = {\"Excel\", \"R\", \"Docker\", \"Git\"}\n",
    "print(f\"set_a ^ set_b = {set_a ^ set_b}\")\n",
    "print(f\"set_b ^ set_a = {set_b ^ set_a}\")"
   ]
  },
  {
   "cell_type": "markdown",
   "metadata": {},
   "source": [
    "## การตรวจสอบ `subset/superset`\n"
   ]
  },
  {
   "cell_type": "code",
   "execution_count": 71,
   "metadata": {},
   "outputs": [
    {
     "name": "stdout",
     "output_type": "stream",
     "text": [
      "set_a.issubset(set_b)   = False\n",
      "set_b.issubset(set_a)   = True\n",
      "set_a.issuperset(set_b) = True\n",
      "set_b.issuperset(set_a) = False\n"
     ]
    }
   ],
   "source": [
    "set_a = {\"SQL\", \"Python\", \"Excel\", \"R\"}\n",
    "set_b = {\"Excel\", \"R\"}\n",
    "print(f'set_a.issubset(set_b)   = {set_a.issubset(set_b)}')\n",
    "print(f'set_b.issubset(set_a)   = {set_b.issubset(set_a)}')\n",
    "print(f'set_a.issuperset(set_b) = {set_a.issuperset(set_b)}')\n",
    "print(f'set_b.issuperset(set_a) = {set_b.issuperset(set_a)}')"
   ]
  },
  {
   "cell_type": "markdown",
   "metadata": {},
   "source": [
    "## การใช้ `isdisjoint()`\n"
   ]
  },
  {
   "cell_type": "code",
   "execution_count": 72,
   "metadata": {},
   "outputs": [
    {
     "name": "stdout",
     "output_type": "stream",
     "text": [
      "set_a.isdisjoint(set_b) = False\n"
     ]
    }
   ],
   "source": [
    "set_a = {\"SQL\", \"Python\", \"Excel\", \"R\"}\n",
    "set_b = {\"Excel\", \"R\", \"Docker\", \"Git\"}\n",
    "print(f'set_a.isdisjoint(set_b) = {set_a.isdisjoint(set_b)}')"
   ]
  },
  {
   "cell_type": "markdown",
   "metadata": {},
   "source": [
    "## การประยุกต์ใช้ตัวดำเนินการ `difference` (`-`)\n"
   ]
  },
  {
   "cell_type": "code",
   "execution_count": 73,
   "metadata": {},
   "outputs": [
    {
     "name": "stdout",
     "output_type": "stream",
     "text": [
      "unsold_menus = {'mocha', 'macchiato'}\n"
     ]
    }
   ],
   "source": [
    "all_menus = {'mocha', 'latte', 'espresso', 'americano', 'macchiato'}\n",
    "sold_menus = {'latte', 'espresso', 'americano'}\n",
    "unsold_menus = all_menus - sold_menus\n",
    "print(f'unsold_menus = {unsold_menus}')"
   ]
  },
  {
   "cell_type": "markdown",
   "metadata": {},
   "source": [
    "## การประยุกต์ใช้เมธอด `issubset()`\n"
   ]
  },
  {
   "cell_type": "code",
   "execution_count": 74,
   "metadata": {},
   "outputs": [
    {
     "name": "stdout",
     "output_type": "stream",
     "text": [
      "โต๊ะที่มีการสั่งทุกเมนูโปรดของทางร้าน ({'french fries', 'burger'})\n",
      "1. ['french fries', 'coke', 'burger']\n",
      "2. ['french fries', 'muffin', 'burger']\n"
     ]
    }
   ],
   "source": [
    "recommended_menus = {'burger', 'french fries'}\n",
    "orders = [\n",
    "    ['salad', 'pie'],\n",
    "    ['salad', 'burger'],\n",
    "    ['french fries', 'coke'],\n",
    "    ['french fries', 'coke', 'burger'],\n",
    "    ['french fries', 'coke', 'nugget'],\n",
    "    ['french fries', 'muffin', 'nugget'],\n",
    "    ['french fries', 'muffin', 'burger'],\n",
    "    ['french fries', 'muffin', 'salad'],\n",
    "]\n",
    "print(f\"โต๊ะที่มีการสั่งทุกเมนูโปรดของทางร้าน ({recommended_menus})\")\n",
    "cnt = 0\n",
    "for order in orders:\n",
    "    order_set = set(order)\n",
    "    if recommended_menus.issubset(order_set):\n",
    "        cnt += 1\n",
    "        print(f\"{cnt}. {order}\")"
   ]
  },
  {
   "cell_type": "markdown",
   "metadata": {},
   "source": [
    "## การประยุกต์ใช้ตัวดำเนินการ `union` (`|`)\n"
   ]
  },
  {
   "cell_type": "code",
   "execution_count": 75,
   "metadata": {},
   "outputs": [
    {
     "name": "stdout",
     "output_type": "stream",
     "text": [
      "all_skills (9) = {'SQL', 'HTML', 'TypeScript', 'Excel', 'R', 'PowerPoint', 'JavaScript', 'Python', 'CSS'}\n",
      "sorted_skills  = ['CSS', 'Excel', 'HTML', 'JavaScript', 'PowerPoint', 'Python', 'R', 'SQL', 'TypeScript']\n"
     ]
    }
   ],
   "source": [
    "applicants = {\n",
    "    \"ปลายฟ้า\": {\"Excel\", \"JavaScript\"},\n",
    "    \"สายลม\": {\"Excel\", \"PowerPoint\"},\n",
    "    \"แสงแดด\": {\"Excel\", \"Python\", \"SQL\"},\n",
    "    \"ต้นข้าว\": {\"R\", \"Python\", \"Excel\"},\n",
    "    \"ดาว\": {\"SQL\", \"Python\", \"HTML\", \"CSS\", \"TypeScript\"},\n",
    "}\n",
    "all_skills = set()\n",
    "for applicant_skills in applicants.values():\n",
    "    all_skills = all_skills | applicant_skills\n",
    "print(f\"all_skills ({len(all_skills)}) = {all_skills}\")\n",
    "sorted_skills = sorted(list(all_skills))\n",
    "print(f\"sorted_skills  = {sorted_skills}\")"
   ]
  },
  {
   "cell_type": "markdown",
   "metadata": {},
   "source": [
    "## การนับจำนวนสมาชิกที่เกิดจากการทำ `intersection` (`&`)\n"
   ]
  },
  {
   "cell_type": "code",
   "execution_count": 76,
   "metadata": {},
   "outputs": [
    {
     "name": "stdout",
     "output_type": "stream",
     "text": [
      "แสงแดด {'SQL', 'Python', 'Excel'}\n",
      "ต้นข้าว {'R', 'Python', 'Excel'}\n",
      "ดาว {'SQL', 'Python', 'HTML', 'TypeScript', 'CSS'}\n"
     ]
    }
   ],
   "source": [
    "required_skills = {'Excel', 'SQL', 'Python'}\n",
    "applicants = {\n",
    "    \"ปลายฟ้า\": {\"Excel\", \"JavaScript\"},\n",
    "    \"สายลม\": {\"Excel\", \"PowerPoint\"},\n",
    "    \"แสงแดด\": {\"Excel\", \"Python\", \"SQL\"},\n",
    "    \"ต้นข้าว\": {\"R\", \"Python\", \"Excel\"},\n",
    "    \"ดาว\": {\"SQL\", \"Python\", \"HTML\", \"CSS\", \"TypeScript\"},\n",
    "}\n",
    "for name, applicant_skills in applicants.items():\n",
    "    if len(applicant_skills & required_skills) >= 2:\n",
    "        print(name, applicant_skills)\n"
   ]
  },
  {
   "cell_type": "markdown",
   "metadata": {},
   "source": [
    "## การใช้ `set comprehension` ทำงานกับ `list`\n"
   ]
  },
  {
   "cell_type": "code",
   "execution_count": 77,
   "metadata": {},
   "outputs": [
    {
     "name": "stdout",
     "output_type": "stream",
     "text": [
      "tea_menus = {'Green Tea', 'Oolong Tea', 'Black Tea'}\n"
     ]
    }
   ],
   "source": [
    "# รายการเครื่องดื่ม\n",
    "drinks = [\"Coke\", \"Green Tea\", \"Sprite\", \"Oolong Tea\", \"Water\", \"Green Tea\", \"Coffee\", \"Black Tea\"]\n",
    "\n",
    "# สร้างเซตเครื่องดื่มชา\n",
    "tea_menus = {drink for drink in drinks if \"tea\" in drink.lower()}\n",
    "\n",
    "print(f'tea_menus = {tea_menus}')\n"
   ]
  },
  {
   "cell_type": "markdown",
   "metadata": {},
   "source": [
    "## การใช้ `set comprehension` ทำงานกับ `dict`\n"
   ]
  },
  {
   "cell_type": "code",
   "execution_count": 78,
   "metadata": {},
   "outputs": [
    {
     "name": "stdout",
     "output_type": "stream",
     "text": [
      "top_applicants = {'ป่าน', 'ฝ้าย'}\n"
     ]
    }
   ],
   "source": [
    "applicants = {\n",
    "    \"แพร\": 85,\n",
    "    \"ไหม\": 75,\n",
    "    \"ปราง\": 82,\n",
    "    \"ฝ้าย\": 90,\n",
    "    \"นุ่น\": 70,\n",
    "    \"ป่าน\": 95,\n",
    "}\n",
    "top_applicants = {k for k, v in applicants.items() if v >= 90}\n",
    "print(f\"top_applicants = {top_applicants}\")"
   ]
  },
  {
   "cell_type": "markdown",
   "metadata": {},
   "source": [
    "# แบบฝึกหัด\n"
   ]
  },
  {
   "cell_type": "markdown",
   "metadata": {},
   "source": [
    "1. จากข้อมูลรายการเมนูแนะนำ (`recommended_menus`) และรายการสั่งอาหารของแต่ละโต๊ะ (`orders`) ให้หาว่ามีโต๊ะใดบ้างที่ไม่ได้สั่งอาหารที่อยู่ในเมนูแนะนำเลย\n",
    "\n",
    "```python\n",
    "recommended_menus = {\"หมูแดดเดียว\", \"ไก่ทอด\", \"ส้มตำไทย\"}\n",
    "orders = [\n",
    "    [\"ไก่ย่าง\", \"เสือร้องไห้\", \"ส้มตำปู\"],\n",
    "    [\"ข้าวเหนียว\", \"เนื้อแดดเดียว\", \"ส้มตำไทย\"],\n",
    "    [\"ลาบหมู\", \"น้ำตก\", \"ข้าวเหนียว\", \"ไก่ย่าง\"],\n",
    "    [\"ลาบไก่\", \"ไก่ทอด\", \"ข้าวเหนียว\"],\n",
    "    [\"ข้าวเหนียว\", \"เนื้อแดดเดียว\", \"น้ำตกหมู\"],\n",
    "    [\"ข้าวเหนียว\", \"หมูแดดเดียว\", \"น้ำตกหมู\", \"เสือร้องไห้\"],\n",
    "]\n",
    "```\n"
   ]
  },
  {
   "cell_type": "code",
   "execution_count": 79,
   "metadata": {},
   "outputs": [
    {
     "name": "stdout",
     "output_type": "stream",
     "text": [
      "โต๊ะที่ไม่มีการสั่งอาหารที่อยู่ในเมนูแนะนำเลย\n",
      "['salad', 'pie']\n"
     ]
    }
   ],
   "source": [
    "print('โต๊ะที่ไม่มีการสั่งอาหารที่อยู่ในเมนูแนะนำเลย')\n",
    "for order in orders:\n",
    "    set_orders = set(order)\n",
    "    if recommended_menus.isdisjoint(set_orders):\n",
    "        print(order)\n"
   ]
  },
  {
   "cell_type": "markdown",
   "metadata": {},
   "source": [
    "2. จากข้อมูลผู้สมัคร (`applicants`) ที่ให้มา ให้สร้างเซตเพื่อเก็บทักษะทั้งหมดที่ผู้สมัครมีโดยไม่สนใจว่าจะเป็นตัวพิมพ์ใหญ่เล็ก เช่น `excel` กับ `Excel` ถือว่าเป็นทักษะเดียวกัน\n",
    "```python\n",
    "applicants = {\n",
    "    \"ปลายฟ้า\": {\"excel\", \"Python\", \"Javascript\"},\n",
    "    \"สายลม\": {\"Excel\", \"powerPoint\"},\n",
    "    \"แสงแดด\": {\"Excel\", \"python\", \"Sql\"},\n",
    "    \"ต้นข้าว\": {\"R\", \"python\"},\n",
    "    \"ดาว\": {\"SQL\", \"Python\", \"HTML\", \"CSS\"},\n",
    "}\n",
    "```\n"
   ]
  },
  {
   "cell_type": "code",
   "execution_count": 80,
   "metadata": {},
   "outputs": [
    {
     "name": "stdout",
     "output_type": "stream",
     "text": [
      "all_skills (8) = {'sql', 'powerpoint', 'python', 'r', 'css', 'javascript', 'excel', 'html'}\n"
     ]
    }
   ],
   "source": [
    "applicants = {\n",
    "    \"ปลายฟ้า\": {\"excel\", \"Python\", \"Javascript\"},\n",
    "    \"สายลม\": {\"Excel\", \"powerPoint\"},\n",
    "    \"แสงแดด\": {\"Excel\", \"python\", \"Sql\"},\n",
    "    \"ต้นข้าว\": {\"R\", \"python\"},\n",
    "    \"ดาว\": {\"SQL\", \"Python\", \"HTML\", \"CSS\"},\n",
    "}\n",
    "all_skills = set()\n",
    "for k, v in applicants.items():\n",
    "    lower_case_skills = {skill.lower() for skill in v}\n",
    "    all_skills = all_skills | lower_case_skills\n",
    "print(f\"all_skills ({len(all_skills)}) = {all_skills}\")\n"
   ]
  },
  {
   "cell_type": "markdown",
   "metadata": {},
   "source": [
    "3. จากข้อมูลเมนูเครื่องดื่ม `drinks` ที่ให้มา\n",
    "```python\n",
    "# รายการเครื่องดื่ม\n",
    "drinks = {\"coke\", \"green tea\", \"sprite\", \"oolong tea\", \"water\", \"coffee\", \"black tea\"}\n",
    "```\n",
    "ให้สร้างเซตใหม่ที่ไม่มีคำว่า `'tea'` อยู่ในเมนู\n"
   ]
  },
  {
   "cell_type": "code",
   "execution_count": 81,
   "metadata": {},
   "outputs": [
    {
     "name": "stdout",
     "output_type": "stream",
     "text": [
      "non_tea_drinks = {'coke', 'water', 'coffee', 'sprite'}\n"
     ]
    }
   ],
   "source": [
    "drinks = {\"coke\", \"green tea\", \"sprite\", \"oolong tea\", \"water\", \"coffee\", \"black tea\"}\n",
    "tea_drinks = {drink for drink in drinks if 'tea' in drink}\n",
    "non_tea_drinks = drinks - tea_drinks\n",
    "print(f\"non_tea_drinks = {non_tea_drinks}\")"
   ]
  },
  {
   "cell_type": "markdown",
   "metadata": {},
   "source": [
    "4. จากข้อมูลนักท่องเที่ยว (`tourists`) ที่ไปยังสถานที่ท่องเที่ยวต่าง ๆ ให้เขียนโปรแกรมเพื่อหาว่ามีสถานที่ใดบ้างที่นักท่องเที่ยวทุกคนได้ไปแวะชม\n",
    "```python\n",
    "tourists = {\n",
    "    \"ไหม\": {\"ภูเก็ต\", \"พัทยา\", \"เกาะช้าง\"},\n",
    "    \"แพร\": {\"ตรัง\", \"เกาะช้าง\", \"เกาะสีชัง\", \"หัวหิน\"},\n",
    "    \"ฝ้าย\": {\"กระบี่\", \"เกาะช้าง\", \"พังงา\", \"เกาะสมุย\", \"เกาะพีพี\"},\n",
    "    \"ป่าน\": {\"เกาะกูด\", \"เกาะสมุย\", \"เกาะช้าง\", \"หัวหิน\"},\n",
    "}\n",
    "```\n"
   ]
  },
  {
   "cell_type": "code",
   "execution_count": 82,
   "metadata": {},
   "outputs": [
    {
     "name": "stdout",
     "output_type": "stream",
     "text": [
      "popular_destinations = {'เกาะช้าง'}\n"
     ]
    }
   ],
   "source": [
    "tourists = {\n",
    "    \"ไหม\": {\"ภูเก็ต\", \"พัทยา\", \"เกาะช้าง\"},\n",
    "    \"แพร\": {\"ตรัง\", \"เกาะช้าง\", \"เกาะสีชัง\", \"หัวหิน\"},\n",
    "    \"ฝ้าย\": {\"กระบี่\", \"เกาะช้าง\", \"พังงา\", \"เกาะสมุย\", \"เกาะพีพี\"},\n",
    "    \"ป่าน\": {\"เกาะกูด\", \"เกาะสมุย\", \"เกาะช้าง\", \"หัวหิน\"},\n",
    "}\n",
    "popular_destinations = set()\n",
    "for v in tourists.values():\n",
    "    if len(popular_destinations) == 0:\n",
    "        popular_destinations = v\n",
    "    else:\n",
    "        popular_destinations = popular_destinations & v\n",
    "print(f\"popular_destinations = {popular_destinations}\")"
   ]
  },
  {
   "cell_type": "markdown",
   "metadata": {},
   "source": [
    "5. จากข้อมูลรายชื่อแขกที่จะเข้าพัก และแขกที่มา check-in แล้ว ให้หารายชื่อผู้แขกที่ยังไม่มา check-in\n",
    "\n",
    "| แขก   | check-in แล้ว |\n",
    "|-------|---------------|\n",
    "| แพร   | ไหม           |\n",
    "| ไหม   | ปอ            |\n",
    "| ป่าน  | ลินิน         |\n",
    "| ปอ    | แพร           |\n",
    "| ฝ้าย  | &nbsp;        |\n",
    "| ลินิน | &nbsp;        |\n"
   ]
  },
  {
   "cell_type": "code",
   "execution_count": 83,
   "metadata": {},
   "outputs": [
    {
     "name": "stdout",
     "output_type": "stream",
     "text": [
      "not_check_in_guests = {'ฝ้าย', 'ป่าน'}\n"
     ]
    }
   ],
   "source": [
    "guests = {\"แพร\", \"ไหม\", \"ป่าน\", \"ปอ\", \"ฝ้าย\", \"ลินิน\"}\n",
    "check_in_guests = {\"ไหม\", \"ปอ\", \"ลินิน\", \"แพร\"}\n",
    "\n",
    "not_check_in_guests = guests - check_in_guests\n",
    "print(f'not_check_in_guests = {not_check_in_guests}')"
   ]
  }
 ],
 "metadata": {
  "kernelspec": {
   "display_name": "base",
   "language": "python",
   "name": "python3"
  },
  "language_info": {
   "codemirror_mode": {
    "name": "ipython",
    "version": 3
   },
   "file_extension": ".py",
   "mimetype": "text/x-python",
   "name": "python",
   "nbconvert_exporter": "python",
   "pygments_lexer": "ipython3",
   "version": "3.11.4"
  },
  "orig_nbformat": 4
 },
 "nbformat": 4,
 "nbformat_minor": 2
}
