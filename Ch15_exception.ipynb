{
 "cells": [
  {
   "cell_type": "markdown",
   "metadata": {},
   "source": [
    "# บทที่ 15. การดักจับข้อผิดพลาดด้วย `try...except`\n",
    "- ตำรา: Python: ใคร ๆ ก็เขียนโปรแกรมได้\n",
    "- ผู้แต่ง: รศ.ดร. ประเสริฐ คณาวัฒนไชย"
   ]
  },
  {
   "cell_type": "markdown",
   "metadata": {},
   "source": [
    "## การใช้ `try...except` ในการดักจับการหารด้วย 0\n"
   ]
  },
  {
   "cell_type": "code",
   "execution_count": 1,
   "metadata": {},
   "outputs": [
    {
     "name": "stdout",
     "output_type": "stream",
     "text": [
      "ไม่สามารถหารด้วยศูนย์ได้\n"
     ]
    }
   ],
   "source": [
    "try:\n",
    "    a = 10\n",
    "    x = a / 0  # การหารด้วยศูนย์เป็นข้อผิดพลาด ZeroDivisionError\n",
    "except ZeroDivisionError:\n",
    "    print(\"ไม่สามารถหารด้วยศูนย์ได้\")"
   ]
  },
  {
   "cell_type": "markdown",
   "metadata": {},
   "source": [
    "## การใช้ `try...except` แบบไม่ระบุประเภทของข้อผิดพลาด\n"
   ]
  },
  {
   "cell_type": "code",
   "execution_count": 2,
   "metadata": {},
   "outputs": [
    {
     "name": "stdout",
     "output_type": "stream",
     "text": [
      "[Errno 2] No such file or directory: 'data.txt'\n"
     ]
    }
   ],
   "source": [
    "try:\n",
    "    file_name = \"data.txt\"\n",
    "    with open(file_name, \"r\", encoding='utf-8') as f: # เปิดไฟล์สำหรับอ่าน\n",
    "        data = f.read()  # อ่านข้อมูลจากไฟล์\n",
    "    print(data)  # แสดงข้อมูลที่อ่านได้\n",
    "except Exception as e:\n",
    "    print(e)"
   ]
  },
  {
   "cell_type": "markdown",
   "metadata": {},
   "source": [
    "## การใช้ `try...except` แบบระบุประเภทของข้อผิดพลาด\n"
   ]
  },
  {
   "cell_type": "code",
   "execution_count": 3,
   "metadata": {},
   "outputs": [
    {
     "name": "stdout",
     "output_type": "stream",
     "text": [
      "ไม่พบไฟล์ data.txt\n"
     ]
    }
   ],
   "source": [
    "try:\n",
    "    file_name = \"data.txt\"\n",
    "    with open(file_name, \"r\", encoding='utf-8') as f: # เปิดไฟล์สำหรับอ่าน\n",
    "        data = f.read()  # อ่านข้อมูลจากไฟล์\n",
    "    print(data)  # แสดงข้อมูลที่อ่านได้\n",
    "except FileNotFoundError:\n",
    "    print(f\"ไม่พบไฟล์ {file_name}\")"
   ]
  },
  {
   "cell_type": "markdown",
   "metadata": {},
   "source": [
    "## การใช้ `try...except...finally`\n"
   ]
  },
  {
   "cell_type": "code",
   "execution_count": 4,
   "metadata": {},
   "outputs": [
    {
     "name": "stdout",
     "output_type": "stream",
     "text": [
      "ไม่พบไฟล์ data.txt\n",
      "จบการทำงาน\n",
      "<><><><><><><><><><>\n"
     ]
    }
   ],
   "source": [
    "try:\n",
    "    file_name = \"data.txt\"\n",
    "    with open(file_name, \"r\", encoding='utf-8') as f: # เปิดไฟล์สำหรับอ่าน\n",
    "        data = f.read()  # อ่านข้อมูลจากไฟล์\n",
    "    print(data)  # แสดงข้อมูลที่อ่านได้\n",
    "except FileNotFoundError:\n",
    "    print(f\"ไม่พบไฟล์ {file_name}\")\n",
    "finally:\n",
    "    print('จบการทำงาน')\n",
    "print('<>' * 10)"
   ]
  },
  {
   "cell_type": "markdown",
   "metadata": {},
   "source": [
    "## การใช้ `try...except`\n"
   ]
  },
  {
   "cell_type": "code",
   "execution_count": 5,
   "metadata": {},
   "outputs": [
    {
     "name": "stdout",
     "output_type": "stream",
     "text": [
      "เกิดข้อผิดพลาด: หารด้วยศูนย์\n"
     ]
    }
   ],
   "source": [
    "try:\n",
    "    # โค้ดที่อาจเกิดข้อผิดพลาด\n",
    "    result = 10 / 0\n",
    "except ZeroDivisionError:\n",
    "    # จัดการข้อผิดพลาดเมื่อหารด้วยศูนย์\n",
    "    print(\"เกิดข้อผิดพลาด: หารด้วยศูนย์\")"
   ]
  },
  {
   "cell_type": "markdown",
   "metadata": {},
   "source": [
    "## การใช้ `raise`\n"
   ]
  },
  {
   "cell_type": "code",
   "execution_count": 6,
   "metadata": {},
   "outputs": [
    {
     "ename": "ZeroDivisionError",
     "evalue": "ไม่สามารถหารด้วยศูนย์ได้",
     "output_type": "error",
     "traceback": [
      "\u001b[1;31m---------------------------------------------------------------------------\u001b[0m",
      "\u001b[1;31mZeroDivisionError\u001b[0m                         Traceback (most recent call last)",
      "Cell \u001b[1;32mIn[6], line 6\u001b[0m\n\u001b[0;32m      3\u001b[0m         \u001b[39mraise\u001b[39;00m \u001b[39mZeroDivisionError\u001b[39;00m(\u001b[39m\"\u001b[39m\u001b[39mไม่สามารถหารด้วยศูนย์ได้\u001b[39m\u001b[39m\"\u001b[39m)\n\u001b[0;32m      4\u001b[0m     \u001b[39mreturn\u001b[39;00m x \u001b[39m/\u001b[39m y\n\u001b[1;32m----> 6\u001b[0m result \u001b[39m=\u001b[39m divide(\u001b[39m10\u001b[39m, \u001b[39m0\u001b[39m)\n",
      "Cell \u001b[1;32mIn[6], line 3\u001b[0m, in \u001b[0;36mdivide\u001b[1;34m(x, y)\u001b[0m\n\u001b[0;32m      1\u001b[0m \u001b[39mdef\u001b[39;00m \u001b[39mdivide\u001b[39m(x, y):\n\u001b[0;32m      2\u001b[0m     \u001b[39mif\u001b[39;00m y \u001b[39m==\u001b[39m \u001b[39m0\u001b[39m:\n\u001b[1;32m----> 3\u001b[0m         \u001b[39mraise\u001b[39;00m \u001b[39mZeroDivisionError\u001b[39;00m(\u001b[39m\"\u001b[39m\u001b[39mไม่สามารถหารด้วยศูนย์ได้\u001b[39m\u001b[39m\"\u001b[39m)\n\u001b[0;32m      4\u001b[0m     \u001b[39mreturn\u001b[39;00m x \u001b[39m/\u001b[39m y\n",
      "\u001b[1;31mZeroDivisionError\u001b[0m: ไม่สามารถหารด้วยศูนย์ได้"
     ]
    }
   ],
   "source": [
    "def divide(x, y):\n",
    "    if y == 0:\n",
    "        raise ZeroDivisionError(\"ไม่สามารถหารด้วยศูนย์ได้\")\n",
    "    return x / y\n",
    "\n",
    "result = divide(10, 0)"
   ]
  },
  {
   "cell_type": "markdown",
   "metadata": {},
   "source": [
    "# แบบฝึกหัด\n"
   ]
  },
  {
   "cell_type": "markdown",
   "metadata": {},
   "source": [
    "1. จากโค้ดที่ให้มา ให้เพิ่มส่วนการดักจับข้อผิดพลาดเข้าไป\n",
    "\n",
    "```python\n",
    "file_name = 'c:/data/revenue.txt'\n",
    "with open(file_name, 'r', encoding='utf-8') as f:\n",
    "    rows = f.read().split('\\n')\n",
    "for row in rows:\n",
    "    date, month, sales = row\n",
    "    print(date, month, sales)\n",
    "```\n"
   ]
  },
  {
   "cell_type": "code",
   "execution_count": 7,
   "metadata": {},
   "outputs": [
    {
     "name": "stdout",
     "output_type": "stream",
     "text": [
      "[Errno 2] No such file or directory: 'c:/data/revenue.txt'\n",
      "name 'rows' is not defined\n"
     ]
    }
   ],
   "source": [
    "file_name = 'c:/data/revenue.txt'\n",
    "try:\n",
    "    with open(file_name, 'r', encoding='utf-8') as f:\n",
    "        rows = f.read().split('\\n')\n",
    "except FileNotFoundError as e:\n",
    "    print(e)\n",
    "\n",
    "try:\n",
    "    for row in rows:\n",
    "        date, month, sales = row\n",
    "        print(date, month, sales)\n",
    "except Exception as e:\n",
    "    print(e)\n"
   ]
  },
  {
   "cell_type": "markdown",
   "metadata": {},
   "source": [
    "2. เขียนโปรแกรมที่รับค่าเป็นตัวเลขจำนวนเต็มจากผู้ใช้และแสดงรากที่สองของจำนวนนั้น โดยใช้ `try...except` เพื่อจัดการกับข้อผิดพลาดในกรณีที่จำนวนที่รับมาเป็นค่าลบ และแสดงข้อความ \"ไม่สามารถหารากที่สองของเลขลบได้\" หากเกิดข้อผิดพลาด\n"
   ]
  },
  {
   "cell_type": "code",
   "execution_count": 8,
   "metadata": {},
   "outputs": [
    {
     "name": "stdout",
     "output_type": "stream",
     "text": [
      "รากที่สองของจำนวน: 2.6457513110645907\n"
     ]
    }
   ],
   "source": [
    "import math\n",
    "\n",
    "try:\n",
    "    number = int(input(\"ป้อนจำนวนเต็มบวก: \"))\n",
    "    result = math.sqrt(number)\n",
    "    print(\"รากที่สองของจำนวน:\", result)\n",
    "except ValueError:\n",
    "    print(\"ไม่สามารถหารากที่สองของจำนวนลบได้\")"
   ]
  },
  {
   "cell_type": "markdown",
   "metadata": {},
   "source": [
    "3. ให้สร้างฟังก์ชันชื่อ safe_divide ที่รับค่าสองพารามิเตอร์ a และ b แล้วทำการหาร a ด้วย b ฟังก์ชันนี้ควรจัดการกับข้อผิดพลาดที่เป็นไปได้ ซึ่งคือ ZeroDivisionError และ TypeError\n",
    "\n",
    "- ถ้าหารด้วยศูนย์ ให้คืนค่า \"Cannot divide by zero\"\n",
    "- ถ้าตัวแปรที่รับเข้ามาไม่ใช่ตัวเลข ให้คืนค่า \"Invalid input type\"\n",
    "- ถ้าไม่มีข้อผิดพลาดเกิดขึ้น ให้คืนค่าผลลัพธ์ของการหาร\n"
   ]
  },
  {
   "cell_type": "code",
   "execution_count": 2,
   "metadata": {},
   "outputs": [
    {
     "name": "stdout",
     "output_type": "stream",
     "text": [
      "5.0\n",
      "Cannot divide by zero\n",
      "Invalid input type\n"
     ]
    }
   ],
   "source": [
    "def safe_divide(a, b):\n",
    "    try:\n",
    "        result = a / b\n",
    "    except ZeroDivisionError:\n",
    "        return \"Cannot divide by zero\"\n",
    "    except TypeError:\n",
    "        return \"Invalid input type\"\n",
    "    else:\n",
    "        return result\n",
    "\n",
    "# ทดสอบฟังก์ชัน\n",
    "print(safe_divide(10, 2))  # ควรแสดง 5.0\n",
    "print(safe_divide(10, 0))  # ควรแสดง \"Cannot divide by zero\"\n",
    "print(safe_divide(10, 'a'))  # ควรแสดง \"Invalid input type\"\n"
   ]
  },
  {
   "cell_type": "markdown",
   "metadata": {},
   "source": [
    "4. เขียนฟังก์ชันสำหรับอ่านไฟล์จาก URL เช่น https://raw.githubusercontent.com/prasertcbs/basic-dataset/master/food_menu.txt โดยให้มีการใช้ try...except หรือ raise เพื่อดักจับและแสดงข้อผิดพลาดที่อาจเกิดขึ้น เช่น ไม่พบไฟล์ ไม่สามารถเชื่อมต่อกับอินเทอร์เน็ตได้\n"
   ]
  },
  {
   "cell_type": "code",
   "execution_count": 1,
   "metadata": {},
   "outputs": [
    {
     "name": "stdout",
     "output_type": "stream",
     "text": [
      "ขนมจีน\n",
      "ลาบ\n",
      "แกงบอน\n",
      "ข้าวคลุกกะปิ\n",
      "ราดหน้า\n",
      "แกงป่า\n",
      "ข้าวผัดสับปะรด\n",
      "ห่อหมก\n",
      "แกงเขียวหวาน\n",
      "ข้าวมันไก่\n",
      "ปลาร้าทรงเครื่อง\n",
      "แกงไตปลา\n",
      "ข้าวยำ\n",
      "ปลาราดพริก\n",
      "แกงส้ม\n",
      "ข้าวห่อใบบัว\n",
      "พะแนงไก่\n",
      "แกงเผ็ดเป็ดย่าง\n",
      "ไข่ต้ม\n",
      "ยำใหญ่\n",
      "แกงมัสมั่น\n",
      "ไข่ลูกเขย\n",
      "ยำทวาย\n",
      "แกงเหลือง\n",
      "ไข่พะโล้\n",
      "แหนม\n",
      "แกงเทโพ\n",
      "ไข่ปาม\n",
      "ปูจ๋า\n",
      "แกงจืด\n",
      "ข้าวแช่\n",
      "ปูนิ่มผัดพริกไทดำ\n",
      "แกงโฮะ\n",
      "กุ้งพริกไทย\n",
      "ตำผลไม้\n",
      "กุนเชียง\n",
      "กุ้งชุบแป้งทอด\n",
      "บะหมี่หมูแดง\n",
      "ไข่เจียวปู\n",
      "กุ้งแช่น้ำปลา\n"
     ]
    }
   ],
   "source": [
    "import requests\n",
    "\n",
    "def fetch_file_from_internet(url):\n",
    "    try:\n",
    "        # ตรวจสอบการเชื่อมต่อเครือข่าย\n",
    "        response = requests.get('https://www.google.com')\n",
    "        if response.status_code != 200:\n",
    "            raise ConnectionError(\"Cannot connect to the network\")\n",
    "\n",
    "        # อ่านไฟล์จากอินเทอร์เน็ต\n",
    "        response = requests.get(url)\n",
    "        if response.status_code != 200:\n",
    "            raise FileNotFoundError(\"File not found\")\n",
    "    except ConnectionError:\n",
    "        return \"Network is not available, please check your connection.\"\n",
    "    except FileNotFoundError:\n",
    "        return \"Requested file was not found.\"\n",
    "    except Exception as e:\n",
    "        return f\"An unexpected error occurred: {e}\"\n",
    "    else:\n",
    "        return response.text\n",
    "\n",
    "# ตัวอย่างการใช้\n",
    "url = 'https://raw.githubusercontent.com/prasertcbs/basic-dataset/master/food_menu.txt'\n",
    "result = fetch_file_from_internet(url)\n",
    "print(result)"
   ]
  }
 ],
 "metadata": {
  "kernelspec": {
   "display_name": "base",
   "language": "python",
   "name": "python3"
  },
  "language_info": {
   "codemirror_mode": {
    "name": "ipython",
    "version": 3
   },
   "file_extension": ".py",
   "mimetype": "text/x-python",
   "name": "python",
   "nbconvert_exporter": "python",
   "pygments_lexer": "ipython3",
   "version": "3.11.4"
  },
  "orig_nbformat": 4
 },
 "nbformat": 4,
 "nbformat_minor": 2
}
